{
 "cells": [
  {
   "cell_type": "markdown",
   "metadata": {},
   "source": [
    "## Building a Stock Candlestick Chart Using Python\n",
    "\n",
    "The purpose of this notebook is to use python to build a candlestick stock chart. In the script, we will pull historical stock data from the Yahoo Finance API and use several python libraries to organize and visualize the data. \n",
    "\n",
    "This is based on a Medium article you can view here: https://levelup.gitconnected.com/creating-candlestick-plots-for-stocks-50c35b1573aa"
   ]
  },
  {
   "cell_type": "code",
   "execution_count": 92,
   "metadata": {},
   "outputs": [],
   "source": [
    "# imports\n",
    "\n",
    "import time\n",
    "from datetime import datetime\n",
    "import pandas as pd"
   ]
  },
  {
   "cell_type": "code",
   "execution_count": 93,
   "metadata": {},
   "outputs": [],
   "source": [
    "# initialize date values\n",
    "\n",
    "# jan 1, 2022\n",
    "dt = datetime(2022, 1, 1)\n",
    "start_date = int(round(dt.timestamp()))\n",
    "\n",
    "# mar 31, 2022\n",
    "dt = datetime(2022, 6, 30)\n",
    "end_date = int(round(dt.timestamp()))\n",
    "\n",
    "# go with Google stock ticker\n",
    "stock = 'GOOG'"
   ]
  },
  {
   "cell_type": "code",
   "execution_count": 94,
   "metadata": {},
   "outputs": [
    {
     "data": {
      "text/html": [
       "<div>\n",
       "<style scoped>\n",
       "    .dataframe tbody tr th:only-of-type {\n",
       "        vertical-align: middle;\n",
       "    }\n",
       "\n",
       "    .dataframe tbody tr th {\n",
       "        vertical-align: top;\n",
       "    }\n",
       "\n",
       "    .dataframe thead th {\n",
       "        text-align: right;\n",
       "    }\n",
       "</style>\n",
       "<table border=\"1\" class=\"dataframe\">\n",
       "  <thead>\n",
       "    <tr style=\"text-align: right;\">\n",
       "      <th></th>\n",
       "      <th>Open</th>\n",
       "      <th>High</th>\n",
       "      <th>Low</th>\n",
       "      <th>Close</th>\n",
       "      <th>Adj Close</th>\n",
       "      <th>Volume</th>\n",
       "    </tr>\n",
       "    <tr>\n",
       "      <th>Date</th>\n",
       "      <th></th>\n",
       "      <th></th>\n",
       "      <th></th>\n",
       "      <th></th>\n",
       "      <th></th>\n",
       "      <th></th>\n",
       "    </tr>\n",
       "  </thead>\n",
       "  <tbody>\n",
       "    <tr>\n",
       "      <th>2022-01-03</th>\n",
       "      <td>2889.510010</td>\n",
       "      <td>2911.000000</td>\n",
       "      <td>2870.050049</td>\n",
       "      <td>2901.489990</td>\n",
       "      <td>2901.489990</td>\n",
       "      <td>1260700</td>\n",
       "    </tr>\n",
       "    <tr>\n",
       "      <th>2022-01-04</th>\n",
       "      <td>2911.010010</td>\n",
       "      <td>2932.199951</td>\n",
       "      <td>2876.322998</td>\n",
       "      <td>2888.330078</td>\n",
       "      <td>2888.330078</td>\n",
       "      <td>1146400</td>\n",
       "    </tr>\n",
       "    <tr>\n",
       "      <th>2022-01-05</th>\n",
       "      <td>2883.620117</td>\n",
       "      <td>2885.959961</td>\n",
       "      <td>2750.469971</td>\n",
       "      <td>2753.070068</td>\n",
       "      <td>2753.070068</td>\n",
       "      <td>2482100</td>\n",
       "    </tr>\n",
       "    <tr>\n",
       "      <th>2022-01-06</th>\n",
       "      <td>2749.949951</td>\n",
       "      <td>2793.719971</td>\n",
       "      <td>2735.270020</td>\n",
       "      <td>2751.020020</td>\n",
       "      <td>2751.020020</td>\n",
       "      <td>1452500</td>\n",
       "    </tr>\n",
       "    <tr>\n",
       "      <th>2022-01-07</th>\n",
       "      <td>2758.100098</td>\n",
       "      <td>2765.094971</td>\n",
       "      <td>2715.780029</td>\n",
       "      <td>2740.090088</td>\n",
       "      <td>2740.090088</td>\n",
       "      <td>970400</td>\n",
       "    </tr>\n",
       "  </tbody>\n",
       "</table>\n",
       "</div>"
      ],
      "text/plain": [
       "                   Open         High          Low        Close    Adj Close  \\\n",
       "Date                                                                          \n",
       "2022-01-03  2889.510010  2911.000000  2870.050049  2901.489990  2901.489990   \n",
       "2022-01-04  2911.010010  2932.199951  2876.322998  2888.330078  2888.330078   \n",
       "2022-01-05  2883.620117  2885.959961  2750.469971  2753.070068  2753.070068   \n",
       "2022-01-06  2749.949951  2793.719971  2735.270020  2751.020020  2751.020020   \n",
       "2022-01-07  2758.100098  2765.094971  2715.780029  2740.090088  2740.090088   \n",
       "\n",
       "             Volume  \n",
       "Date                 \n",
       "2022-01-03  1260700  \n",
       "2022-01-04  1146400  \n",
       "2022-01-05  2482100  \n",
       "2022-01-06  1452500  \n",
       "2022-01-07   970400  "
      ]
     },
     "execution_count": 94,
     "metadata": {},
     "output_type": "execute_result"
    }
   ],
   "source": [
    "# pull the data from yahoo finance's api\n",
    "\n",
    "df = \\\n",
    "pd.read_csv(f\"https://query1.finance.yahoo.com/v7/finance/download/{stock}?period1={start_date}&period2={end_date}&interval=1d&events=history&includeAdjustedClose=true\",\n",
    "           parse_dates = ['Date'], index_col = ['Date'])\n",
    "\n",
    "# inspect the df head\n",
    "df.head()"
   ]
  },
  {
   "cell_type": "code",
   "execution_count": 95,
   "metadata": {},
   "outputs": [
    {
     "name": "stdout",
     "output_type": "stream",
     "text": [
      "<class 'pandas.core.frame.DataFrame'>\n",
      "DatetimeIndex: 123 entries, 2022-01-03 to 2022-06-29\n",
      "Data columns (total 6 columns):\n",
      " #   Column     Non-Null Count  Dtype  \n",
      "---  ------     --------------  -----  \n",
      " 0   Open       123 non-null    float64\n",
      " 1   High       123 non-null    float64\n",
      " 2   Low        123 non-null    float64\n",
      " 3   Close      123 non-null    float64\n",
      " 4   Adj Close  123 non-null    float64\n",
      " 5   Volume     123 non-null    int64  \n",
      "dtypes: float64(5), int64(1)\n",
      "memory usage: 6.7 KB\n"
     ]
    }
   ],
   "source": [
    "# check out the size of the df and the column data types\n",
    "\n",
    "df.info()"
   ]
  },
  {
   "cell_type": "code",
   "execution_count": 96,
   "metadata": {},
   "outputs": [
    {
     "data": {
      "text/html": [
       "<div>\n",
       "<style scoped>\n",
       "    .dataframe tbody tr th:only-of-type {\n",
       "        vertical-align: middle;\n",
       "    }\n",
       "\n",
       "    .dataframe tbody tr th {\n",
       "        vertical-align: top;\n",
       "    }\n",
       "\n",
       "    .dataframe thead th {\n",
       "        text-align: right;\n",
       "    }\n",
       "</style>\n",
       "<table border=\"1\" class=\"dataframe\">\n",
       "  <thead>\n",
       "    <tr style=\"text-align: right;\">\n",
       "      <th></th>\n",
       "      <th>Open</th>\n",
       "      <th>High</th>\n",
       "      <th>Low</th>\n",
       "      <th>Close</th>\n",
       "      <th>Adj Close</th>\n",
       "      <th>Volume</th>\n",
       "    </tr>\n",
       "  </thead>\n",
       "  <tbody>\n",
       "    <tr>\n",
       "      <th>count</th>\n",
       "      <td>123.000000</td>\n",
       "      <td>123.000000</td>\n",
       "      <td>123.000000</td>\n",
       "      <td>123.000000</td>\n",
       "      <td>123.000000</td>\n",
       "      <td>1.230000e+02</td>\n",
       "    </tr>\n",
       "    <tr>\n",
       "      <th>mean</th>\n",
       "      <td>2548.835209</td>\n",
       "      <td>2583.632050</td>\n",
       "      <td>2510.308152</td>\n",
       "      <td>2543.949437</td>\n",
       "      <td>2543.949437</td>\n",
       "      <td>1.567812e+06</td>\n",
       "    </tr>\n",
       "    <tr>\n",
       "      <th>std</th>\n",
       "      <td>237.649119</td>\n",
       "      <td>231.649885</td>\n",
       "      <td>232.167535</td>\n",
       "      <td>231.096267</td>\n",
       "      <td>231.096267</td>\n",
       "      <td>5.401082e+05</td>\n",
       "    </tr>\n",
       "    <tr>\n",
       "      <th>min</th>\n",
       "      <td>2102.840088</td>\n",
       "      <td>2127.899902</td>\n",
       "      <td>2044.160034</td>\n",
       "      <td>2116.790039</td>\n",
       "      <td>2116.790039</td>\n",
       "      <td>7.459000e+05</td>\n",
       "    </tr>\n",
       "    <tr>\n",
       "      <th>25%</th>\n",
       "      <td>2316.405029</td>\n",
       "      <td>2356.051392</td>\n",
       "      <td>2281.430054</td>\n",
       "      <td>2321.755005</td>\n",
       "      <td>2321.755005</td>\n",
       "      <td>1.193700e+06</td>\n",
       "    </tr>\n",
       "    <tr>\n",
       "      <th>50%</th>\n",
       "      <td>2620.000000</td>\n",
       "      <td>2648.469971</td>\n",
       "      <td>2554.820068</td>\n",
       "      <td>2595.929932</td>\n",
       "      <td>2595.929932</td>\n",
       "      <td>1.475800e+06</td>\n",
       "    </tr>\n",
       "    <tr>\n",
       "      <th>75%</th>\n",
       "      <td>2737.859986</td>\n",
       "      <td>2764.547486</td>\n",
       "      <td>2703.572510</td>\n",
       "      <td>2738.060059</td>\n",
       "      <td>2738.060059</td>\n",
       "      <td>1.765600e+06</td>\n",
       "    </tr>\n",
       "    <tr>\n",
       "      <th>max</th>\n",
       "      <td>3037.270020</td>\n",
       "      <td>3042.000000</td>\n",
       "      <td>2911.149902</td>\n",
       "      <td>2960.729980</td>\n",
       "      <td>2960.729980</td>\n",
       "      <td>4.487500e+06</td>\n",
       "    </tr>\n",
       "  </tbody>\n",
       "</table>\n",
       "</div>"
      ],
      "text/plain": [
       "              Open         High          Low        Close    Adj Close  \\\n",
       "count   123.000000   123.000000   123.000000   123.000000   123.000000   \n",
       "mean   2548.835209  2583.632050  2510.308152  2543.949437  2543.949437   \n",
       "std     237.649119   231.649885   232.167535   231.096267   231.096267   \n",
       "min    2102.840088  2127.899902  2044.160034  2116.790039  2116.790039   \n",
       "25%    2316.405029  2356.051392  2281.430054  2321.755005  2321.755005   \n",
       "50%    2620.000000  2648.469971  2554.820068  2595.929932  2595.929932   \n",
       "75%    2737.859986  2764.547486  2703.572510  2738.060059  2738.060059   \n",
       "max    3037.270020  3042.000000  2911.149902  2960.729980  2960.729980   \n",
       "\n",
       "             Volume  \n",
       "count  1.230000e+02  \n",
       "mean   1.567812e+06  \n",
       "std    5.401082e+05  \n",
       "min    7.459000e+05  \n",
       "25%    1.193700e+06  \n",
       "50%    1.475800e+06  \n",
       "75%    1.765600e+06  \n",
       "max    4.487500e+06  "
      ]
     },
     "execution_count": 96,
     "metadata": {},
     "output_type": "execute_result"
    }
   ],
   "source": [
    "# review simple descriptive stats\n",
    "\n",
    "df.describe()"
   ]
  },
  {
   "cell_type": "markdown",
   "metadata": {},
   "source": [
    "## Simple Price Plot\n",
    "\n",
    "Build a simple plot of the historical stock price using matplotlib."
   ]
  },
  {
   "cell_type": "code",
   "execution_count": 97,
   "metadata": {},
   "outputs": [],
   "source": [
    "import matplotlib.pyplot as plt"
   ]
  },
  {
   "cell_type": "code",
   "execution_count": 98,
   "metadata": {},
   "outputs": [
    {
     "data": {
      "image/png": "[encoded data removed]",
      "text/plain": [
       "<Figure size 1080x720 with 1 Axes>"
      ]
     },
     "metadata": {},
     "output_type": "display_data"
    }
   ],
   "source": [
    "fig, ax = plt.subplots(figsize=(15,10))\n",
    "ax.plot(df.index, df['Close'], '-o')\n",
    "ax.grid(True)"
   ]
  },
  {
   "cell_type": "markdown",
   "metadata": {},
   "source": [
    "## Gridlines\n",
    "\n",
    "Note that the x-axis plots the 1st and 15th of each month, which is not based on actual trading days. Let's try to modify this simple chart so the x-axis is formatted based on actual trading days."
   ]
  },
  {
   "cell_type": "code",
   "execution_count": 99,
   "metadata": {},
   "outputs": [
    {
     "data": {
      "image/png": "[encoded data removed]",
      "text/plain": [
       "<Figure size 1080x720 with 1 Axes>"
      ]
     },
     "metadata": {},
     "output_type": "display_data"
    }
   ],
   "source": [
    "from matplotlib.ticker import Formatter\n",
    "from matplotlib.dates import num2date\n",
    "import numpy as np\n",
    "\n",
    "rows = len(df)\n",
    "indices = np.arange(rows)\n",
    "\n",
    "# create a helper function to format the date\n",
    "def format_date(x, pos = None):\n",
    "    i = np.clip(int(x + 0.5), 0, rows - 1)\n",
    "    return df.index[i].strftime('%Y-%m-%d')\n",
    "\n",
    "# per the pandas dox, strftime() converts to Index using specified date_format\n",
    "\n",
    "fig, ax = plt.subplots(figsize=(15,10))\n",
    "ax.plot(indices, df['Close'], '-o')\n",
    "ax.xaxis.set_major_formatter(format_date)\n",
    "ax.grid(True)"
   ]
  },
  {
   "cell_type": "markdown",
   "metadata": {},
   "source": [
    "## Plotting Candlestick Chart using matplotlib\n",
    "\n",
    "There are number of libraries that you can use to plot a candlestick plot. But let’s start with the basics — plotting one using matplotlib. \n",
    "\n",
    "Here are the steps:\n",
    "* From the dataframe, get all the rows that are bullish (where their closing price is greater than or equal to the opening price)\n",
    "\n",
    "* Get all the rows that are bearish (where their closing price is lesser than the opening price)\n",
    "\n",
    "* Plot the real body of the bullish and bearish rows\n",
    "\n",
    "* Plot the wicks of the bullish and bearish rows"
   ]
  },
  {
   "cell_type": "markdown",
   "metadata": {},
   "source": [
    "The candlestick chart consists of the open, close, high, low for the day where:\n",
    "\n",
    "* Real body — the rectangle showing the movements of the price from open to close. Typically green is used to represent an upward movement of price (bullish) and red is used to represent a downward movement in price (bearish).\n",
    "* Wicks — the sticks above and below the open and close prices. These sticks represent the high and low prices of the stock during the particular trading day. The lengths of the sticks are called upper shadow and lower shadow."
   ]
  },
  {
   "cell_type": "code",
   "execution_count": 100,
   "metadata": {},
   "outputs": [],
   "source": [
    "# find the rows that are bullish\n",
    "dfup = df[df.Close>=df.Open]\n",
    "\n",
    "# find the rows that are bearish\n",
    "dfdown = df[df.Close < df.Open]"
   ]
  },
  {
   "cell_type": "code",
   "execution_count": 101,
   "metadata": {},
   "outputs": [
    {
     "data": {
      "image/png": "[encoded data removed]",
      "text/plain": [
       "<Figure size 1080x720 with 1 Axes>"
      ]
     },
     "metadata": {},
     "output_type": "display_data"
    }
   ],
   "source": [
    "width  = 0.9   # width of real body\n",
    "width2 = 0.05  # width of shadow\n",
    "fig, ax = plt.subplots(figsize=(15,10))\n",
    "\n",
    "#ax.plot(df.index, df['Close'], '-x')\n",
    "\n",
    "# plot the bullish candle stick\n",
    "ax.bar(dfup.index, dfup.Close - dfup.Open, width,\n",
    "      bottom = dfup.Open, edgecolor='g', color='green')\n",
    "ax.bar(dfup.index, dfup.High - dfup.Close, width2,\n",
    "      bottom = dfup.Close, edgecolor='g', color='green')\n",
    "ax.bar(dfup.index, dfup.Low - dfup.Open, width2,\n",
    "      bottom = dfup.Open, edgecolor='g', color='green')\n",
    "\n",
    "# plot the bearish candle stick\n",
    "ax.bar(dfdown.index, dfdown.Close - dfdown.Open, width,\n",
    "      bottom = dfdown.Open, edgecolor='r', color='red')\n",
    "ax.bar(dfdown.index, dfdown.High - dfdown.Open, width2,\n",
    "      bottom = dfdown.Open, edgecolor='r', color='red')\n",
    "ax.bar(dfdown.index, dfdown.Low - dfdown.Close, width2,\n",
    "      bottom = dfdown.Close, edgecolor='r', color='red')\n",
    "\n",
    "ax.grid(color='gray')"
   ]
  },
  {
   "cell_type": "markdown",
   "metadata": {},
   "source": [
    "Next:\n",
    "Update to cast the x-axis values as trading days AND to use dark background"
   ]
  },
  {
   "cell_type": "code",
   "execution_count": 102,
   "metadata": {},
   "outputs": [
    {
     "data": {
      "image/png": "[encoded data removed]",
      "text/plain": [
       "<Figure size 1080x720 with 1 Axes>"
      ]
     },
     "metadata": {},
     "output_type": "display_data"
    }
   ],
   "source": [
    "# trying the dark background theme\n",
    "plt.style.use(\"dark_background\")\n",
    "\n",
    "width  = 0.9   # width of real body\n",
    "width2 = 0.05  # width of shadow\n",
    "\n",
    "# add a row to df containing the numrical indix of each row\n",
    "df['indices'] = range(len(df))\n",
    "\n",
    "# find the rows that are bullish; redine after adding df['indices']\n",
    "dfup = df[df.Close>=df.Open]\n",
    "\n",
    "# find the rows that are bearish\n",
    "dfdown = df[df.Close < df.Open]\n",
    "\n",
    "fig, ax = plt.subplots(figsize=(15,10))\n",
    "\n",
    "# plot the bullish candle stick\n",
    "ax.bar(dfup['indices'], dfup.Close - dfup.Open, width,\n",
    "      bottom = dfup.Open, edgecolor='g', color='green')\n",
    "ax.bar(dfup['indices'], dfup.High - dfup.Close, width2,\n",
    "      bottom = dfup.Close, edgecolor='g', color='green')\n",
    "ax.bar(dfup['indices'], dfup.Low - dfup.Open, width2,\n",
    "      bottom = dfup.Open, edgecolor='g', color='green')\n",
    "\n",
    "# plot the bearish candle stick\n",
    "ax.bar(dfdown['indices'], dfdown.Close - dfdown.Open, width,\n",
    "      bottom = dfdown.Open, edgecolor='r', color='red')\n",
    "ax.bar(dfdown['indices'], dfdown.High - dfdown.Open, width2,\n",
    "      bottom = dfdown.Open, edgecolor='r', color='red')\n",
    "ax.bar(dfdown['indices'], dfdown.Low - dfdown.Close, width2,\n",
    "      bottom = dfdown.Close, edgecolor='r', color='red')\n",
    "\n",
    "ax.plot(df['indices'], df.Close, color='yellow')  \n",
    "\n",
    "ax.grid(color='gray')\n",
    "\n",
    "# set the ticks on the x-axis\n",
    "ax.set_xticks(df[::5]['indices'])\n",
    "# display the date for each x-tick\n",
    "_ = ax.set_xticklabels(labels = \n",
    "        df[::5].index.strftime('%Y-%b-%d'), \n",
    "        rotation=45, ha='right')"
   ]
  },
  {
   "cell_type": "markdown",
   "metadata": {},
   "source": [
    "## Plotting Candlestick Chart using Plotly\n",
    "We will use the next section to import plotly to try this library for building a candlestick chart with less code than with matplotlib."
   ]
  },
  {
   "cell_type": "code",
   "execution_count": 103,
   "metadata": {},
   "outputs": [],
   "source": [
    "import plotly.graph_objects as go"
   ]
  },
  {
   "cell_type": "code",
   "execution_count": 104,
   "metadata": {},
   "outputs": [],
   "source": [
    "fig = go.Figure(data=[go.Candlestick(x = df.index,\n",
    "                                    open = df['Open'],\n",
    "                                    high = df['High'],\n",
    "                                    low = df['Low'],\n",
    "                                    close = df['Close'])])"
   ]
  },
  {
   "cell_type": "code",
   "execution_count": 105,
   "metadata": {},
   "outputs": [
    {
     "data": {
      "application/vnd.plotly.v1+json": {
       "config": {
        "plotlyServerURL": "https://plot.ly"
       },
       "data": [
        {
         "close": [
          2901.48999,
          2888.330078,
          2753.070068,
          2751.02002,
          2740.090088,
          2771.47998,
          2800.350098,
          2832.959961,
          2782.6201170000004,
          2795.72998,
          2725.810059,
          2713.040039,
          2670.1298829999996,
          2601.840088,
          2607.439941,
          2534.709961,
          2584.800049,
          2582.419922,
          2665.790039,
          2713.969971,
          2757.570068,
          2960.72998,
          2853.01001,
          2860.320068,
          2778.76001,
          2784.26001,
          2829.060059,
          2772.050049,
          2682.600098,
          2706,
          2728.51001,
          2749.75,
          2646.169922,
          2609.350098,
          2588.050049,
          2551.699951,
          2653.469971,
          2690.389893,
          2697.820068,
          2683.360107,
          2695.030029,
          2686.159912,
          2642.439941,
          2529.290039,
          2545.570068,
          2677.320068,
          2653.639893,
          2609.51001,
          2534.820068,
          2593.209961,
          2673.810059,
          2692.01001,
          2736.030029,
          2729.570068,
          2805.550049,
          2770.070068,
          2826.23999,
          2830.429932,
          2839,
          2865,
          2852.889893,
          2792.98999,
          2814,
          2872.850098,
          2821.26001,
          2743.52002,
          2729.300049,
          2680.209961,
          2595.929932,
          2567.48999,
          2605.719971,
          2545.060059,
          2559.219971,
          2610.6201170000004,
          2564.909912,
          2498.75,
          2392.280029,
          2465,
          2390.1201170000004,
          2300.409912,
          2388.22998,
          2299.330078,
          2343.139893,
          2362.590088,
          2451.5,
          2334.929932,
          2313.199951,
          2261.679932,
          2291.689941,
          2279.219971,
          2263.219971,
          2330.310059,
          2295.850098,
          2334.030029,
          2248.02002,
          2214.909912,
          2186.26001,
          2233.330078,
          2118.52002,
          2116.790039,
          2165.919922,
          2255.97998,
          2280.780029,
          2282.73999,
          2354.919922,
          2291.280029,
          2340.209961,
          2344.590088,
          2344.76001,
          2298.360107,
          2228.550049,
          2137.530029,
          2143.8798829999996,
          2207.810059,
          2132.719971,
          2157.310059,
          2240.300049,
          2240.679932,
          2253.689941,
          2370.76001,
          2332.449951,
          2251.429932,
          2245.1298829999996
         ],
         "high": [
          2911,
          2932.199951,
          2885.959961,
          2793.719971,
          2765.094971,
          2772.800049,
          2806.590088,
          2856.284912,
          2863.709961,
          2824.01001,
          2747.830078,
          2767.98999,
          2758.23999,
          2695.209961,
          2615.570068,
          2586.77002,
          2656.149902,
          2652.198975,
          2667.409912,
          2716.8701170000004,
          2764,
          3042,
          2982.354004,
          2890.705078,
          2876.929932,
          2796.741943,
          2843.51001,
          2828.6201170000004,
          2785.665039,
          2723.330078,
          2758,
          2758.919922,
          2736.790039,
          2676.47998,
          2638.014893,
          2634.97998,
          2660.73999,
          2707.780029,
          2712.810059,
          2722.219971,
          2712.310059,
          2734.275879,
          2683.97998,
          2638.080078,
          2624.929932,
          2683.969971,
          2670.77002,
          2684,
          2620.52002,
          2610.344971,
          2675.419922,
          2694.790039,
          2738.27002,
          2751.649902,
          2830,
          2800.5,
          2827.929932,
          2839.189941,
          2839.530029,
          2883.25,
          2869.610107,
          2852.889893,
          2819,
          2880.875,
          2871.800049,
          2796.969971,
          2754.030029,
          2725,
          2658.783936,
          2648.469971,
          2613.11499,
          2614.205078,
          2574.23999,
          2618.074951,
          2638.469971,
          2606.149902,
          2509.040039,
          2465.560059,
          2455,
          2350,
          2408.77002,
          2379.199951,
          2346.790039,
          2386,
          2462.860107,
          2424.665039,
          2349.969971,
          2311.258057,
          2333.820068,
          2333.419922,
          2297.1298829999996,
          2361.699951,
          2332.149902,
          2344.550049,
          2313.913086,
          2271.75,
          2251,
          2240.110107,
          2127.899902,
          2130.894043,
          2179.10498,
          2257.360107,
          2328.669922,
          2347.97998,
          2357.959961,
          2327.290039,
          2387.969971,
          2354.9729,
          2372.919922,
          2367,
          2269.939941,
          2184.3701170000004,
          2169.149902,
          2241.26001,
          2185.810059,
          2184.98999,
          2253.459961,
          2275.389893,
          2263.929932,
          2372.75,
          2385,
          2357.1298829999996,
          2273.290039
         ],
         "low": [
          2870.050049,
          2876.322998,
          2750.469971,
          2735.27002,
          2715.780029,
          2662.810059,
          2736.27002,
          2822.23999,
          2778.280029,
          2750,
          2712.340088,
          2710,
          2662.889893,
          2600.02002,
          2492.839111,
          2527.560059,
          2543.070068,
          2578.899902,
          2573.889893,
          2645.47998,
          2691.36499,
          2911.149902,
          2844.100098,
          2796.350098,
          2773.97998,
          2737.459961,
          2807.540039,
          2761,
          2665.77002,
          2666.040039,
          2710.790039,
          2696.4729,
          2644.040039,
          2606.1411129999997,
          2554.820068,
          2550.070068,
          2495.290039,
          2635.300049,
          2656.5048829999996,
          2667.570068,
          2668.649902,
          2668.6201170000004,
          2608.169922,
          2528.199951,
          2517.215088,
          2601.76001,
          2628.02002,
          2605.929932,
          2528.26001,
          2531.360107,
          2584.02002,
          2654.3798829999996,
          2658.639893,
          2692.22998,
          2730,
          2763.330078,
          2760.788086,
          2793.98999,
          2796.5629879999997,
          2849.679932,
          2843.360107,
          2792.3798829999996,
          2775.939941,
          2816.48999,
          2818.8701170000004,
          2728.362061,
          2697.14502,
          2675.050049,
          2592.350098,
          2551.52002,
          2568.771973,
          2542.22998,
          2531.569092,
          2549.030029,
          2557.881104,
          2493,
          2382.810059,
          2375.38501,
          2383.237061,
          2262.485107,
          2302.87793,
          2293.8798829999996,
          2267.98999,
          2332.540039,
          2314.77002,
          2303.649902,
          2282.860107,
          2251.030029,
          2267.666016,
          2273,
          2202.27002,
          2280,
          2286.699951,
          2306.75,
          2242.840088,
          2209.360107,
          2127.459961,
          2183.084961,
          2044.160034,
          2084.225098,
          2109.76001,
          2191,
          2251.449951,
          2271.01001,
          2266.159912,
          2273.360107,
          2330.565918,
          2302.51001,
          2333.935059,
          2297.340088,
          2217.219971,
          2131.760986,
          2127.040039,
          2162.375,
          2115.850098,
          2112.571045,
          2185.8701170000004,
          2214.486084,
          2220.580078,
          2272.060059,
          2320.014893,
          2248.8798829999996,
          2231.080078
         ],
         "open": [
          2889.51001,
          2911.01001,
          2883.6201170000004,
          2749.949951,
          2758.100098,
          2701.97998,
          2763.610107,
          2831.090088,
          2836.810059,
          2750,
          2732,
          2738.77002,
          2730.280029,
          2660.23999,
          2520.550049,
          2568.709961,
          2611.850098,
          2627.219971,
          2600,
          2683.959961,
          2756.699951,
          3037.27002,
          2905.899902,
          2860.340088,
          2874.179932,
          2779.824951,
          2816.9951170000004,
          2790,
          2775,
          2667.310059,
          2749.429932,
          2728.610107,
          2723,
          2660.75,
          2599.699951,
          2621.570068,
          2500,
          2670.51001,
          2665.689941,
          2689.600098,
          2692.165039,
          2719.570068,
          2667.649902,
          2638.080078,
          2525.01001,
          2628,
          2629.25,
          2679.98999,
          2611.459961,
          2554.830078,
          2620,
          2666.419922,
          2677.679932,
          2736.949951,
          2730,
          2782.77002,
          2785.449951,
          2835.080078,
          2813.689941,
          2863.209961,
          2857.399902,
          2848.969971,
          2800.199951,
          2816.48999,
          2867.98999,
          2783.22998,
          2732.360107,
          2725,
          2658,
          2648.469971,
          2572.530029,
          2612.98999,
          2548.199951,
          2561.540039,
          2625.679932,
          2587,
          2500,
          2388.590088,
          2455,
          2287.459961,
          2342.300049,
          2351.560059,
          2278.1298829999996,
          2335.300049,
          2360.070068,
          2404.409912,
          2310.3798829999996,
          2266.070068,
          2320.810059,
          2274.209961,
          2238.76001,
          2296.909912,
          2307.679932,
          2344.550049,
          2304.75,
          2236.820068,
          2241.709961,
          2202.080078,
          2127.550049,
          2102.840088,
          2121.01001,
          2195.77002,
          2261.580078,
          2298.6298829999996,
          2283.76001,
          2319.850098,
          2334.850098,
          2312.959961,
          2337.530029,
          2326.830078,
          2255.625,
          2148.919922,
          2137.800049,
          2177.98999,
          2162.98999,
          2130.699951,
          2194.040039,
          2223.26001,
          2259,
          2272.060059,
          2378.699951,
          2327.02002,
          2242.969971
         ],
         "type": "candlestick",
         "x": [
          "2022-01-03T00:00:00",
          "2022-01-04T00:00:00",
          "2022-01-05T00:00:00",
          "2022-01-06T00:00:00",
          "2022-01-07T00:00:00",
          "2022-01-10T00:00:00",
          "2022-01-11T00:00:00",
          "2022-01-12T00:00:00",
          "2022-01-13T00:00:00",
          "2022-01-14T00:00:00",
          "2022-01-18T00:00:00",
          "2022-01-19T00:00:00",
          "2022-01-20T00:00:00",
          "2022-01-21T00:00:00",
          "2022-01-24T00:00:00",
          "2022-01-25T00:00:00",
          "2022-01-26T00:00:00",
          "2022-01-27T00:00:00",
          "2022-01-28T00:00:00",
          "2022-01-31T00:00:00",
          "2022-02-01T00:00:00",
          "2022-02-02T00:00:00",
          "2022-02-03T00:00:00",
          "2022-02-04T00:00:00",
          "2022-02-07T00:00:00",
          "2022-02-08T00:00:00",
          "2022-02-09T00:00:00",
          "2022-02-10T00:00:00",
          "2022-02-11T00:00:00",
          "2022-02-14T00:00:00",
          "2022-02-15T00:00:00",
          "2022-02-16T00:00:00",
          "2022-02-17T00:00:00",
          "2022-02-18T00:00:00",
          "2022-02-22T00:00:00",
          "2022-02-23T00:00:00",
          "2022-02-24T00:00:00",
          "2022-02-25T00:00:00",
          "2022-02-28T00:00:00",
          "2022-03-01T00:00:00",
          "2022-03-02T00:00:00",
          "2022-03-03T00:00:00",
          "2022-03-04T00:00:00",
          "2022-03-07T00:00:00",
          "2022-03-08T00:00:00",
          "2022-03-09T00:00:00",
          "2022-03-10T00:00:00",
          "2022-03-11T00:00:00",
          "2022-03-14T00:00:00",
          "2022-03-15T00:00:00",
          "2022-03-16T00:00:00",
          "2022-03-17T00:00:00",
          "2022-03-18T00:00:00",
          "2022-03-21T00:00:00",
          "2022-03-22T00:00:00",
          "2022-03-23T00:00:00",
          "2022-03-24T00:00:00",
          "2022-03-25T00:00:00",
          "2022-03-28T00:00:00",
          "2022-03-29T00:00:00",
          "2022-03-30T00:00:00",
          "2022-03-31T00:00:00",
          "2022-04-01T00:00:00",
          "2022-04-04T00:00:00",
          "2022-04-05T00:00:00",
          "2022-04-06T00:00:00",
          "2022-04-07T00:00:00",
          "2022-04-08T00:00:00",
          "2022-04-11T00:00:00",
          "2022-04-12T00:00:00",
          "2022-04-13T00:00:00",
          "2022-04-14T00:00:00",
          "2022-04-18T00:00:00",
          "2022-04-19T00:00:00",
          "2022-04-20T00:00:00",
          "2022-04-21T00:00:00",
          "2022-04-22T00:00:00",
          "2022-04-25T00:00:00",
          "2022-04-26T00:00:00",
          "2022-04-27T00:00:00",
          "2022-04-28T00:00:00",
          "2022-04-29T00:00:00",
          "2022-05-02T00:00:00",
          "2022-05-03T00:00:00",
          "2022-05-04T00:00:00",
          "2022-05-05T00:00:00",
          "2022-05-06T00:00:00",
          "2022-05-09T00:00:00",
          "2022-05-10T00:00:00",
          "2022-05-11T00:00:00",
          "2022-05-12T00:00:00",
          "2022-05-13T00:00:00",
          "2022-05-16T00:00:00",
          "2022-05-17T00:00:00",
          "2022-05-18T00:00:00",
          "2022-05-19T00:00:00",
          "2022-05-20T00:00:00",
          "2022-05-23T00:00:00",
          "2022-05-24T00:00:00",
          "2022-05-25T00:00:00",
          "2022-05-26T00:00:00",
          "2022-05-27T00:00:00",
          "2022-05-31T00:00:00",
          "2022-06-01T00:00:00",
          "2022-06-02T00:00:00",
          "2022-06-03T00:00:00",
          "2022-06-06T00:00:00",
          "2022-06-07T00:00:00",
          "2022-06-08T00:00:00",
          "2022-06-09T00:00:00",
          "2022-06-10T00:00:00",
          "2022-06-13T00:00:00",
          "2022-06-14T00:00:00",
          "2022-06-15T00:00:00",
          "2022-06-16T00:00:00",
          "2022-06-17T00:00:00",
          "2022-06-21T00:00:00",
          "2022-06-22T00:00:00",
          "2022-06-23T00:00:00",
          "2022-06-24T00:00:00",
          "2022-06-27T00:00:00",
          "2022-06-28T00:00:00",
          "2022-06-29T00:00:00"
         ]
        }
       ],
       "layout": {
        "template": {
         "data": {
          "bar": [
           {
            "error_x": {
             "color": "#2a3f5f"
            },
            "error_y": {
             "color": "#2a3f5f"
            },
            "marker": {
             "line": {
              "color": "#E5ECF6",
              "width": 0.5
             },
             "pattern": {
              "fillmode": "overlay",
              "size": 10,
              "solidity": 0.2
             }
            },
            "type": "bar"
           }
          ],
          "barpolar": [
           {
            "marker": {
             "line": {
              "color": "#E5ECF6",
              "width": 0.5
             },
             "pattern": {
              "fillmode": "overlay",
              "size": 10,
              "solidity": 0.2
             }
            },
            "type": "barpolar"
           }
          ],
          "carpet": [
           {
            "aaxis": {
             "endlinecolor": "#2a3f5f",
             "gridcolor": "white",
             "linecolor": "white",
             "minorgridcolor": "white",
             "startlinecolor": "#2a3f5f"
            },
            "baxis": {
             "endlinecolor": "#2a3f5f",
             "gridcolor": "white",
             "linecolor": "white",
             "minorgridcolor": "white",
             "startlinecolor": "#2a3f5f"
            },
            "type": "carpet"
           }
          ],
          "choropleth": [
           {
            "colorbar": {
             "outlinewidth": 0,
             "ticks": ""
            },
            "type": "choropleth"
           }
          ],
          "contour": [
           {
            "colorbar": {
             "outlinewidth": 0,
             "ticks": ""
            },
            "colorscale": [
             [
              0,
              "#0d0887"
             ],
             [
              0.1111111111111111,
              "#46039f"
             ],
             [
              0.2222222222222222,
              "#7201a8"
             ],
             [
              0.3333333333333333,
              "#9c179e"
             ],
             [
              0.4444444444444444,
              "#bd3786"
             ],
             [
              0.5555555555555556,
              "#d8576b"
             ],
             [
              0.6666666666666666,
              "#ed7953"
             ],
             [
              0.7777777777777778,
              "#fb9f3a"
             ],
             [
              0.8888888888888888,
              "#fdca26"
             ],
             [
              1,
              "#f0f921"
             ]
            ],
            "type": "contour"
           }
          ],
          "contourcarpet": [
           {
            "colorbar": {
             "outlinewidth": 0,
             "ticks": ""
            },
            "type": "contourcarpet"
           }
          ],
          "heatmap": [
           {
            "colorbar": {
             "outlinewidth": 0,
             "ticks": ""
            },
            "colorscale": [
             [
              0,
              "#0d0887"
             ],
             [
              0.1111111111111111,
              "#46039f"
             ],
             [
              0.2222222222222222,
              "#7201a8"
             ],
             [
              0.3333333333333333,
              "#9c179e"
             ],
             [
              0.4444444444444444,
              "#bd3786"
             ],
             [
              0.5555555555555556,
              "#d8576b"
             ],
             [
              0.6666666666666666,
              "#ed7953"
             ],
             [
              0.7777777777777778,
              "#fb9f3a"
             ],
             [
              0.8888888888888888,
              "#fdca26"
             ],
             [
              1,
              "#f0f921"
             ]
            ],
            "type": "heatmap"
           }
          ],
          "heatmapgl": [
           {
            "colorbar": {
             "outlinewidth": 0,
             "ticks": ""
            },
            "colorscale": [
             [
              0,
              "#0d0887"
             ],
             [
              0.1111111111111111,
              "#46039f"
             ],
             [
              0.2222222222222222,
              "#7201a8"
             ],
             [
              0.3333333333333333,
              "#9c179e"
             ],
             [
              0.4444444444444444,
              "#bd3786"
             ],
             [
              0.5555555555555556,
              "#d8576b"
             ],
             [
              0.6666666666666666,
              "#ed7953"
             ],
             [
              0.7777777777777778,
              "#fb9f3a"
             ],
             [
              0.8888888888888888,
              "#fdca26"
             ],
             [
              1,
              "#f0f921"
             ]
            ],
            "type": "heatmapgl"
           }
          ],
          "histogram": [
           {
            "marker": {
             "pattern": {
              "fillmode": "overlay",
              "size": 10,
              "solidity": 0.2
             }
            },
            "type": "histogram"
           }
          ],
          "histogram2d": [
           {
            "colorbar": {
             "outlinewidth": 0,
             "ticks": ""
            },
            "colorscale": [
             [
              0,
              "#0d0887"
             ],
             [
              0.1111111111111111,
              "#46039f"
             ],
             [
              0.2222222222222222,
              "#7201a8"
             ],
             [
              0.3333333333333333,
              "#9c179e"
             ],
             [
              0.4444444444444444,
              "#bd3786"
             ],
             [
              0.5555555555555556,
              "#d8576b"
             ],
             [
              0.6666666666666666,
              "#ed7953"
             ],
             [
              0.7777777777777778,
              "#fb9f3a"
             ],
             [
              0.8888888888888888,
              "#fdca26"
             ],
             [
              1,
              "#f0f921"
             ]
            ],
            "type": "histogram2d"
           }
          ],
          "histogram2dcontour": [
           {
            "colorbar": {
             "outlinewidth": 0,
             "ticks": ""
            },
            "colorscale": [
             [
              0,
              "#0d0887"
             ],
             [
              0.1111111111111111,
              "#46039f"
             ],
             [
              0.2222222222222222,
              "#7201a8"
             ],
             [
              0.3333333333333333,
              "#9c179e"
             ],
             [
              0.4444444444444444,
              "#bd3786"
             ],
             [
              0.5555555555555556,
              "#d8576b"
             ],
             [
              0.6666666666666666,
              "#ed7953"
             ],
             [
              0.7777777777777778,
              "#fb9f3a"
             ],
             [
              0.8888888888888888,
              "#fdca26"
             ],
             [
              1,
              "#f0f921"
             ]
            ],
            "type": "histogram2dcontour"
           }
          ],
          "mesh3d": [
           {
            "colorbar": {
             "outlinewidth": 0,
             "ticks": ""
            },
            "type": "mesh3d"
           }
          ],
          "parcoords": [
           {
            "line": {
             "colorbar": {
              "outlinewidth": 0,
              "ticks": ""
             }
            },
            "type": "parcoords"
           }
          ],
          "pie": [
           {
            "automargin": true,
            "type": "pie"
           }
          ],
          "scatter": [
           {
            "fillpattern": {
             "fillmode": "overlay",
             "size": 10,
             "solidity": 0.2
            },
            "type": "scatter"
           }
          ],
          "scatter3d": [
           {
            "line": {
             "colorbar": {
              "outlinewidth": 0,
              "ticks": ""
             }
            },
            "marker": {
             "colorbar": {
              "outlinewidth": 0,
              "ticks": ""
             }
            },
            "type": "scatter3d"
           }
          ],
          "scattercarpet": [
           {
            "marker": {
             "colorbar": {
              "outlinewidth": 0,
              "ticks": ""
             }
            },
            "type": "scattercarpet"
           }
          ],
          "scattergeo": [
           {
            "marker": {
             "colorbar": {
              "outlinewidth": 0,
              "ticks": ""
             }
            },
            "type": "scattergeo"
           }
          ],
          "scattergl": [
           {
            "marker": {
             "colorbar": {
              "outlinewidth": 0,
              "ticks": ""
             }
            },
            "type": "scattergl"
           }
          ],
          "scattermapbox": [
           {
            "marker": {
             "colorbar": {
              "outlinewidth": 0,
              "ticks": ""
             }
            },
            "type": "scattermapbox"
           }
          ],
          "scatterpolar": [
           {
            "marker": {
             "colorbar": {
              "outlinewidth": 0,
              "ticks": ""
             }
            },
            "type": "scatterpolar"
           }
          ],
          "scatterpolargl": [
           {
            "marker": {
             "colorbar": {
              "outlinewidth": 0,
              "ticks": ""
             }
            },
            "type": "scatterpolargl"
           }
          ],
          "scatterternary": [
           {
            "marker": {
             "colorbar": {
              "outlinewidth": 0,
              "ticks": ""
             }
            },
            "type": "scatterternary"
           }
          ],
          "surface": [
           {
            "colorbar": {
             "outlinewidth": 0,
             "ticks": ""
            },
            "colorscale": [
             [
              0,
              "#0d0887"
             ],
             [
              0.1111111111111111,
              "#46039f"
             ],
             [
              0.2222222222222222,
              "#7201a8"
             ],
             [
              0.3333333333333333,
              "#9c179e"
             ],
             [
              0.4444444444444444,
              "#bd3786"
             ],
             [
              0.5555555555555556,
              "#d8576b"
             ],
             [
              0.6666666666666666,
              "#ed7953"
             ],
             [
              0.7777777777777778,
              "#fb9f3a"
             ],
             [
              0.8888888888888888,
              "#fdca26"
             ],
             [
              1,
              "#f0f921"
             ]
            ],
            "type": "surface"
           }
          ],
          "table": [
           {
            "cells": {
             "fill": {
              "color": "#EBF0F8"
             },
             "line": {
              "color": "white"
             }
            },
            "header": {
             "fill": {
              "color": "#C8D4E3"
             },
             "line": {
              "color": "white"
             }
            },
            "type": "table"
           }
          ]
         },
         "layout": {
          "annotationdefaults": {
           "arrowcolor": "#2a3f5f",
           "arrowhead": 0,
           "arrowwidth": 1
          },
          "autotypenumbers": "strict",
          "coloraxis": {
           "colorbar": {
            "outlinewidth": 0,
            "ticks": ""
           }
          },
          "colorscale": {
           "diverging": [
            [
             0,
             "#8e0152"
            ],
            [
             0.1,
             "#c51b7d"
            ],
            [
             0.2,
             "#de77ae"
            ],
            [
             0.3,
             "#f1b6da"
            ],
            [
             0.4,
             "#fde0ef"
            ],
            [
             0.5,
             "#f7f7f7"
            ],
            [
             0.6,
             "#e6f5d0"
            ],
            [
             0.7,
             "#b8e186"
            ],
            [
             0.8,
             "#7fbc41"
            ],
            [
             0.9,
             "#4d9221"
            ],
            [
             1,
             "#276419"
            ]
           ],
           "sequential": [
            [
             0,
             "#0d0887"
            ],
            [
             0.1111111111111111,
             "#46039f"
            ],
            [
             0.2222222222222222,
             "#7201a8"
            ],
            [
             0.3333333333333333,
             "#9c179e"
            ],
            [
             0.4444444444444444,
             "#bd3786"
            ],
            [
             0.5555555555555556,
             "#d8576b"
            ],
            [
             0.6666666666666666,
             "#ed7953"
            ],
            [
             0.7777777777777778,
             "#fb9f3a"
            ],
            [
             0.8888888888888888,
             "#fdca26"
            ],
            [
             1,
             "#f0f921"
            ]
           ],
           "sequentialminus": [
            [
             0,
             "#0d0887"
            ],
            [
             0.1111111111111111,
             "#46039f"
            ],
            [
             0.2222222222222222,
             "#7201a8"
            ],
            [
             0.3333333333333333,
             "#9c179e"
            ],
            [
             0.4444444444444444,
             "#bd3786"
            ],
            [
             0.5555555555555556,
             "#d8576b"
            ],
            [
             0.6666666666666666,
             "#ed7953"
            ],
            [
             0.7777777777777778,
             "#fb9f3a"
            ],
            [
             0.8888888888888888,
             "#fdca26"
            ],
            [
             1,
             "#f0f921"
            ]
           ]
          },
          "colorway": [
           "#636efa",
           "#EF553B",
           "#00cc96",
           "#ab63fa",
           "#FFA15A",
           "#19d3f3",
           "#FF6692",
           "#B6E880",
           "#FF97FF",
           "#FECB52"
          ],
          "font": {
           "color": "#2a3f5f"
          },
          "geo": {
           "bgcolor": "white",
           "lakecolor": "white",
           "landcolor": "#E5ECF6",
           "showlakes": true,
           "showland": true,
           "subunitcolor": "white"
          },
          "hoverlabel": {
           "align": "left"
          },
          "hovermode": "closest",
          "mapbox": {
           "style": "light"
          },
          "paper_bgcolor": "white",
          "plot_bgcolor": "#E5ECF6",
          "polar": {
           "angularaxis": {
            "gridcolor": "white",
            "linecolor": "white",
            "ticks": ""
           },
           "bgcolor": "#E5ECF6",
           "radialaxis": {
            "gridcolor": "white",
            "linecolor": "white",
            "ticks": ""
           }
          },
          "scene": {
           "xaxis": {
            "backgroundcolor": "#E5ECF6",
            "gridcolor": "white",
            "gridwidth": 2,
            "linecolor": "white",
            "showbackground": true,
            "ticks": "",
            "zerolinecolor": "white"
           },
           "yaxis": {
            "backgroundcolor": "#E5ECF6",
            "gridcolor": "white",
            "gridwidth": 2,
            "linecolor": "white",
            "showbackground": true,
            "ticks": "",
            "zerolinecolor": "white"
           },
           "zaxis": {
            "backgroundcolor": "#E5ECF6",
            "gridcolor": "white",
            "gridwidth": 2,
            "linecolor": "white",
            "showbackground": true,
            "ticks": "",
            "zerolinecolor": "white"
           }
          },
          "shapedefaults": {
           "line": {
            "color": "#2a3f5f"
           }
          },
          "ternary": {
           "aaxis": {
            "gridcolor": "white",
            "linecolor": "white",
            "ticks": ""
           },
           "baxis": {
            "gridcolor": "white",
            "linecolor": "white",
            "ticks": ""
           },
           "bgcolor": "#E5ECF6",
           "caxis": {
            "gridcolor": "white",
            "linecolor": "white",
            "ticks": ""
           }
          },
          "title": {
           "x": 0.05
          },
          "xaxis": {
           "automargin": true,
           "gridcolor": "white",
           "linecolor": "white",
           "ticks": "",
           "title": {
            "standoff": 15
           },
           "zerolinecolor": "white",
           "zerolinewidth": 2
          },
          "yaxis": {
           "automargin": true,
           "gridcolor": "white",
           "linecolor": "white",
           "ticks": "",
           "title": {
            "standoff": 15
           },
           "zerolinecolor": "white",
           "zerolinewidth": 2
          }
         }
        },
        "title": {
         "text": "GOOG Stock Price 2022"
        },
        "yaxis": {
         "title": {
          "text": "Price ($)"
         }
        }
       }
      },
      "text/html": [
       "<div>                            <div id=\"c53e2850-fb38-4694-899f-042bb5213418\" class=\"plotly-graph-div\" style=\"height:525px; width:100%;\"></div>            <script type=\"text/javascript\">                require([\"plotly\"], function(Plotly) {                    window.PLOTLYENV=window.PLOTLYENV || {};                                    if (document.getElementById(\"c53e2850-fb38-4694-899f-042bb5213418\")) {                    Plotly.newPlot(                        \"c53e2850-fb38-4694-899f-042bb5213418\",                        [{\"close\":[2901.48999,2888.330078,2753.070068,2751.02002,2740.090088,2771.47998,2800.350098,2832.959961,2782.6201170000004,2795.72998,2725.810059,2713.040039,2670.1298829999996,2601.840088,2607.439941,2534.709961,2584.800049,2582.419922,2665.790039,2713.969971,2757.570068,2960.72998,2853.01001,2860.320068,2778.76001,2784.26001,2829.060059,2772.050049,2682.600098,2706.0,2728.51001,2749.75,2646.169922,2609.350098,2588.050049,2551.699951,2653.469971,2690.389893,2697.820068,2683.360107,2695.030029,2686.159912,2642.439941,2529.290039,2545.570068,2677.320068,2653.639893,2609.51001,2534.820068,2593.209961,2673.810059,2692.01001,2736.030029,2729.570068,2805.550049,2770.070068,2826.23999,2830.429932,2839.0,2865.0,2852.889893,2792.98999,2814.0,2872.850098,2821.26001,2743.52002,2729.300049,2680.209961,2595.929932,2567.48999,2605.719971,2545.060059,2559.219971,2610.6201170000004,2564.909912,2498.75,2392.280029,2465.0,2390.1201170000004,2300.409912,2388.22998,2299.330078,2343.139893,2362.590088,2451.5,2334.929932,2313.199951,2261.679932,2291.689941,2279.219971,2263.219971,2330.310059,2295.850098,2334.030029,2248.02002,2214.909912,2186.26001,2233.330078,2118.52002,2116.790039,2165.919922,2255.97998,2280.780029,2282.73999,2354.919922,2291.280029,2340.209961,2344.590088,2344.76001,2298.360107,2228.550049,2137.530029,2143.8798829999996,2207.810059,2132.719971,2157.310059,2240.300049,2240.679932,2253.689941,2370.76001,2332.449951,2251.429932,2245.1298829999996],\"high\":[2911.0,2932.199951,2885.959961,2793.719971,2765.094971,2772.800049,2806.590088,2856.284912,2863.709961,2824.01001,2747.830078,2767.98999,2758.23999,2695.209961,2615.570068,2586.77002,2656.149902,2652.198975,2667.409912,2716.8701170000004,2764.0,3042.0,2982.354004,2890.705078,2876.929932,2796.741943,2843.51001,2828.6201170000004,2785.665039,2723.330078,2758.0,2758.919922,2736.790039,2676.47998,2638.014893,2634.97998,2660.73999,2707.780029,2712.810059,2722.219971,2712.310059,2734.275879,2683.97998,2638.080078,2624.929932,2683.969971,2670.77002,2684.0,2620.52002,2610.344971,2675.419922,2694.790039,2738.27002,2751.649902,2830.0,2800.5,2827.929932,2839.189941,2839.530029,2883.25,2869.610107,2852.889893,2819.0,2880.875,2871.800049,2796.969971,2754.030029,2725.0,2658.783936,2648.469971,2613.11499,2614.205078,2574.23999,2618.074951,2638.469971,2606.149902,2509.040039,2465.560059,2455.0,2350.0,2408.77002,2379.199951,2346.790039,2386.0,2462.860107,2424.665039,2349.969971,2311.258057,2333.820068,2333.419922,2297.1298829999996,2361.699951,2332.149902,2344.550049,2313.913086,2271.75,2251.0,2240.110107,2127.899902,2130.894043,2179.10498,2257.360107,2328.669922,2347.97998,2357.959961,2327.290039,2387.969971,2354.9729,2372.919922,2367.0,2269.939941,2184.3701170000004,2169.149902,2241.26001,2185.810059,2184.98999,2253.459961,2275.389893,2263.929932,2372.75,2385.0,2357.1298829999996,2273.290039],\"low\":[2870.050049,2876.322998,2750.469971,2735.27002,2715.780029,2662.810059,2736.27002,2822.23999,2778.280029,2750.0,2712.340088,2710.0,2662.889893,2600.02002,2492.839111,2527.560059,2543.070068,2578.899902,2573.889893,2645.47998,2691.36499,2911.149902,2844.100098,2796.350098,2773.97998,2737.459961,2807.540039,2761.0,2665.77002,2666.040039,2710.790039,2696.4729,2644.040039,2606.1411129999997,2554.820068,2550.070068,2495.290039,2635.300049,2656.5048829999996,2667.570068,2668.649902,2668.6201170000004,2608.169922,2528.199951,2517.215088,2601.76001,2628.02002,2605.929932,2528.26001,2531.360107,2584.02002,2654.3798829999996,2658.639893,2692.22998,2730.0,2763.330078,2760.788086,2793.98999,2796.5629879999997,2849.679932,2843.360107,2792.3798829999996,2775.939941,2816.48999,2818.8701170000004,2728.362061,2697.14502,2675.050049,2592.350098,2551.52002,2568.771973,2542.22998,2531.569092,2549.030029,2557.881104,2493.0,2382.810059,2375.38501,2383.237061,2262.485107,2302.87793,2293.8798829999996,2267.98999,2332.540039,2314.77002,2303.649902,2282.860107,2251.030029,2267.666016,2273.0,2202.27002,2280.0,2286.699951,2306.75,2242.840088,2209.360107,2127.459961,2183.084961,2044.160034,2084.225098,2109.76001,2191.0,2251.449951,2271.01001,2266.159912,2273.360107,2330.565918,2302.51001,2333.935059,2297.340088,2217.219971,2131.760986,2127.040039,2162.375,2115.850098,2112.571045,2185.8701170000004,2214.486084,2220.580078,2272.060059,2320.014893,2248.8798829999996,2231.080078],\"open\":[2889.51001,2911.01001,2883.6201170000004,2749.949951,2758.100098,2701.97998,2763.610107,2831.090088,2836.810059,2750.0,2732.0,2738.77002,2730.280029,2660.23999,2520.550049,2568.709961,2611.850098,2627.219971,2600.0,2683.959961,2756.699951,3037.27002,2905.899902,2860.340088,2874.179932,2779.824951,2816.9951170000004,2790.0,2775.0,2667.310059,2749.429932,2728.610107,2723.0,2660.75,2599.699951,2621.570068,2500.0,2670.51001,2665.689941,2689.600098,2692.165039,2719.570068,2667.649902,2638.080078,2525.01001,2628.0,2629.25,2679.98999,2611.459961,2554.830078,2620.0,2666.419922,2677.679932,2736.949951,2730.0,2782.77002,2785.449951,2835.080078,2813.689941,2863.209961,2857.399902,2848.969971,2800.199951,2816.48999,2867.98999,2783.22998,2732.360107,2725.0,2658.0,2648.469971,2572.530029,2612.98999,2548.199951,2561.540039,2625.679932,2587.0,2500.0,2388.590088,2455.0,2287.459961,2342.300049,2351.560059,2278.1298829999996,2335.300049,2360.070068,2404.409912,2310.3798829999996,2266.070068,2320.810059,2274.209961,2238.76001,2296.909912,2307.679932,2344.550049,2304.75,2236.820068,2241.709961,2202.080078,2127.550049,2102.840088,2121.01001,2195.77002,2261.580078,2298.6298829999996,2283.76001,2319.850098,2334.850098,2312.959961,2337.530029,2326.830078,2255.625,2148.919922,2137.800049,2177.98999,2162.98999,2130.699951,2194.040039,2223.26001,2259.0,2272.060059,2378.699951,2327.02002,2242.969971],\"x\":[\"2022-01-03T00:00:00\",\"2022-01-04T00:00:00\",\"2022-01-05T00:00:00\",\"2022-01-06T00:00:00\",\"2022-01-07T00:00:00\",\"2022-01-10T00:00:00\",\"2022-01-11T00:00:00\",\"2022-01-12T00:00:00\",\"2022-01-13T00:00:00\",\"2022-01-14T00:00:00\",\"2022-01-18T00:00:00\",\"2022-01-19T00:00:00\",\"2022-01-20T00:00:00\",\"2022-01-21T00:00:00\",\"2022-01-24T00:00:00\",\"2022-01-25T00:00:00\",\"2022-01-26T00:00:00\",\"2022-01-27T00:00:00\",\"2022-01-28T00:00:00\",\"2022-01-31T00:00:00\",\"2022-02-01T00:00:00\",\"2022-02-02T00:00:00\",\"2022-02-03T00:00:00\",\"2022-02-04T00:00:00\",\"2022-02-07T00:00:00\",\"2022-02-08T00:00:00\",\"2022-02-09T00:00:00\",\"2022-02-10T00:00:00\",\"2022-02-11T00:00:00\",\"2022-02-14T00:00:00\",\"2022-02-15T00:00:00\",\"2022-02-16T00:00:00\",\"2022-02-17T00:00:00\",\"2022-02-18T00:00:00\",\"2022-02-22T00:00:00\",\"2022-02-23T00:00:00\",\"2022-02-24T00:00:00\",\"2022-02-25T00:00:00\",\"2022-02-28T00:00:00\",\"2022-03-01T00:00:00\",\"2022-03-02T00:00:00\",\"2022-03-03T00:00:00\",\"2022-03-04T00:00:00\",\"2022-03-07T00:00:00\",\"2022-03-08T00:00:00\",\"2022-03-09T00:00:00\",\"2022-03-10T00:00:00\",\"2022-03-11T00:00:00\",\"2022-03-14T00:00:00\",\"2022-03-15T00:00:00\",\"2022-03-16T00:00:00\",\"2022-03-17T00:00:00\",\"2022-03-18T00:00:00\",\"2022-03-21T00:00:00\",\"2022-03-22T00:00:00\",\"2022-03-23T00:00:00\",\"2022-03-24T00:00:00\",\"2022-03-25T00:00:00\",\"2022-03-28T00:00:00\",\"2022-03-29T00:00:00\",\"2022-03-30T00:00:00\",\"2022-03-31T00:00:00\",\"2022-04-01T00:00:00\",\"2022-04-04T00:00:00\",\"2022-04-05T00:00:00\",\"2022-04-06T00:00:00\",\"2022-04-07T00:00:00\",\"2022-04-08T00:00:00\",\"2022-04-11T00:00:00\",\"2022-04-12T00:00:00\",\"2022-04-13T00:00:00\",\"2022-04-14T00:00:00\",\"2022-04-18T00:00:00\",\"2022-04-19T00:00:00\",\"2022-04-20T00:00:00\",\"2022-04-21T00:00:00\",\"2022-04-22T00:00:00\",\"2022-04-25T00:00:00\",\"2022-04-26T00:00:00\",\"2022-04-27T00:00:00\",\"2022-04-28T00:00:00\",\"2022-04-29T00:00:00\",\"2022-05-02T00:00:00\",\"2022-05-03T00:00:00\",\"2022-05-04T00:00:00\",\"2022-05-05T00:00:00\",\"2022-05-06T00:00:00\",\"2022-05-09T00:00:00\",\"2022-05-10T00:00:00\",\"2022-05-11T00:00:00\",\"2022-05-12T00:00:00\",\"2022-05-13T00:00:00\",\"2022-05-16T00:00:00\",\"2022-05-17T00:00:00\",\"2022-05-18T00:00:00\",\"2022-05-19T00:00:00\",\"2022-05-20T00:00:00\",\"2022-05-23T00:00:00\",\"2022-05-24T00:00:00\",\"2022-05-25T00:00:00\",\"2022-05-26T00:00:00\",\"2022-05-27T00:00:00\",\"2022-05-31T00:00:00\",\"2022-06-01T00:00:00\",\"2022-06-02T00:00:00\",\"2022-06-03T00:00:00\",\"2022-06-06T00:00:00\",\"2022-06-07T00:00:00\",\"2022-06-08T00:00:00\",\"2022-06-09T00:00:00\",\"2022-06-10T00:00:00\",\"2022-06-13T00:00:00\",\"2022-06-14T00:00:00\",\"2022-06-15T00:00:00\",\"2022-06-16T00:00:00\",\"2022-06-17T00:00:00\",\"2022-06-21T00:00:00\",\"2022-06-22T00:00:00\",\"2022-06-23T00:00:00\",\"2022-06-24T00:00:00\",\"2022-06-27T00:00:00\",\"2022-06-28T00:00:00\",\"2022-06-29T00:00:00\"],\"type\":\"candlestick\"}],                        {\"template\":{\"data\":{\"histogram2dcontour\":[{\"type\":\"histogram2dcontour\",\"colorbar\":{\"outlinewidth\":0,\"ticks\":\"\"},\"colorscale\":[[0.0,\"#0d0887\"],[0.1111111111111111,\"#46039f\"],[0.2222222222222222,\"#7201a8\"],[0.3333333333333333,\"#9c179e\"],[0.4444444444444444,\"#bd3786\"],[0.5555555555555556,\"#d8576b\"],[0.6666666666666666,\"#ed7953\"],[0.7777777777777778,\"#fb9f3a\"],[0.8888888888888888,\"#fdca26\"],[1.0,\"#f0f921\"]]}],\"choropleth\":[{\"type\":\"choropleth\",\"colorbar\":{\"outlinewidth\":0,\"ticks\":\"\"}}],\"histogram2d\":[{\"type\":\"histogram2d\",\"colorbar\":{\"outlinewidth\":0,\"ticks\":\"\"},\"colorscale\":[[0.0,\"#0d0887\"],[0.1111111111111111,\"#46039f\"],[0.2222222222222222,\"#7201a8\"],[0.3333333333333333,\"#9c179e\"],[0.4444444444444444,\"#bd3786\"],[0.5555555555555556,\"#d8576b\"],[0.6666666666666666,\"#ed7953\"],[0.7777777777777778,\"#fb9f3a\"],[0.8888888888888888,\"#fdca26\"],[1.0,\"#f0f921\"]]}],\"heatmap\":[{\"type\":\"heatmap\",\"colorbar\":{\"outlinewidth\":0,\"ticks\":\"\"},\"colorscale\":[[0.0,\"#0d0887\"],[0.1111111111111111,\"#46039f\"],[0.2222222222222222,\"#7201a8\"],[0.3333333333333333,\"#9c179e\"],[0.4444444444444444,\"#bd3786\"],[0.5555555555555556,\"#d8576b\"],[0.6666666666666666,\"#ed7953\"],[0.7777777777777778,\"#fb9f3a\"],[0.8888888888888888,\"#fdca26\"],[1.0,\"#f0f921\"]]}],\"heatmapgl\":[{\"type\":\"heatmapgl\",\"colorbar\":{\"outlinewidth\":0,\"ticks\":\"\"},\"colorscale\":[[0.0,\"#0d0887\"],[0.1111111111111111,\"#46039f\"],[0.2222222222222222,\"#7201a8\"],[0.3333333333333333,\"#9c179e\"],[0.4444444444444444,\"#bd3786\"],[0.5555555555555556,\"#d8576b\"],[0.6666666666666666,\"#ed7953\"],[0.7777777777777778,\"#fb9f3a\"],[0.8888888888888888,\"#fdca26\"],[1.0,\"#f0f921\"]]}],\"contourcarpet\":[{\"type\":\"contourcarpet\",\"colorbar\":{\"outlinewidth\":0,\"ticks\":\"\"}}],\"contour\":[{\"type\":\"contour\",\"colorbar\":{\"outlinewidth\":0,\"ticks\":\"\"},\"colorscale\":[[0.0,\"#0d0887\"],[0.1111111111111111,\"#46039f\"],[0.2222222222222222,\"#7201a8\"],[0.3333333333333333,\"#9c179e\"],[0.4444444444444444,\"#bd3786\"],[0.5555555555555556,\"#d8576b\"],[0.6666666666666666,\"#ed7953\"],[0.7777777777777778,\"#fb9f3a\"],[0.8888888888888888,\"#fdca26\"],[1.0,\"#f0f921\"]]}],\"surface\":[{\"type\":\"surface\",\"colorbar\":{\"outlinewidth\":0,\"ticks\":\"\"},\"colorscale\":[[0.0,\"#0d0887\"],[0.1111111111111111,\"#46039f\"],[0.2222222222222222,\"#7201a8\"],[0.3333333333333333,\"#9c179e\"],[0.4444444444444444,\"#bd3786\"],[0.5555555555555556,\"#d8576b\"],[0.6666666666666666,\"#ed7953\"],[0.7777777777777778,\"#fb9f3a\"],[0.8888888888888888,\"#fdca26\"],[1.0,\"#f0f921\"]]}],\"mesh3d\":[{\"type\":\"mesh3d\",\"colorbar\":{\"outlinewidth\":0,\"ticks\":\"\"}}],\"scatter\":[{\"fillpattern\":{\"fillmode\":\"overlay\",\"size\":10,\"solidity\":0.2},\"type\":\"scatter\"}],\"parcoords\":[{\"type\":\"parcoords\",\"line\":{\"colorbar\":{\"outlinewidth\":0,\"ticks\":\"\"}}}],\"scatterpolargl\":[{\"type\":\"scatterpolargl\",\"marker\":{\"colorbar\":{\"outlinewidth\":0,\"ticks\":\"\"}}}],\"bar\":[{\"error_x\":{\"color\":\"#2a3f5f\"},\"error_y\":{\"color\":\"#2a3f5f\"},\"marker\":{\"line\":{\"color\":\"#E5ECF6\",\"width\":0.5},\"pattern\":{\"fillmode\":\"overlay\",\"size\":10,\"solidity\":0.2}},\"type\":\"bar\"}],\"scattergeo\":[{\"type\":\"scattergeo\",\"marker\":{\"colorbar\":{\"outlinewidth\":0,\"ticks\":\"\"}}}],\"scatterpolar\":[{\"type\":\"scatterpolar\",\"marker\":{\"colorbar\":{\"outlinewidth\":0,\"ticks\":\"\"}}}],\"histogram\":[{\"marker\":{\"pattern\":{\"fillmode\":\"overlay\",\"size\":10,\"solidity\":0.2}},\"type\":\"histogram\"}],\"scattergl\":[{\"type\":\"scattergl\",\"marker\":{\"colorbar\":{\"outlinewidth\":0,\"ticks\":\"\"}}}],\"scatter3d\":[{\"type\":\"scatter3d\",\"line\":{\"colorbar\":{\"outlinewidth\":0,\"ticks\":\"\"}},\"marker\":{\"colorbar\":{\"outlinewidth\":0,\"ticks\":\"\"}}}],\"scattermapbox\":[{\"type\":\"scattermapbox\",\"marker\":{\"colorbar\":{\"outlinewidth\":0,\"ticks\":\"\"}}}],\"scatterternary\":[{\"type\":\"scatterternary\",\"marker\":{\"colorbar\":{\"outlinewidth\":0,\"ticks\":\"\"}}}],\"scattercarpet\":[{\"type\":\"scattercarpet\",\"marker\":{\"colorbar\":{\"outlinewidth\":0,\"ticks\":\"\"}}}],\"carpet\":[{\"aaxis\":{\"endlinecolor\":\"#2a3f5f\",\"gridcolor\":\"white\",\"linecolor\":\"white\",\"minorgridcolor\":\"white\",\"startlinecolor\":\"#2a3f5f\"},\"baxis\":{\"endlinecolor\":\"#2a3f5f\",\"gridcolor\":\"white\",\"linecolor\":\"white\",\"minorgridcolor\":\"white\",\"startlinecolor\":\"#2a3f5f\"},\"type\":\"carpet\"}],\"table\":[{\"cells\":{\"fill\":{\"color\":\"#EBF0F8\"},\"line\":{\"color\":\"white\"}},\"header\":{\"fill\":{\"color\":\"#C8D4E3\"},\"line\":{\"color\":\"white\"}},\"type\":\"table\"}],\"barpolar\":[{\"marker\":{\"line\":{\"color\":\"#E5ECF6\",\"width\":0.5},\"pattern\":{\"fillmode\":\"overlay\",\"size\":10,\"solidity\":0.2}},\"type\":\"barpolar\"}],\"pie\":[{\"automargin\":true,\"type\":\"pie\"}]},\"layout\":{\"autotypenumbers\":\"strict\",\"colorway\":[\"#636efa\",\"#EF553B\",\"#00cc96\",\"#ab63fa\",\"#FFA15A\",\"#19d3f3\",\"#FF6692\",\"#B6E880\",\"#FF97FF\",\"#FECB52\"],\"font\":{\"color\":\"#2a3f5f\"},\"hovermode\":\"closest\",\"hoverlabel\":{\"align\":\"left\"},\"paper_bgcolor\":\"white\",\"plot_bgcolor\":\"#E5ECF6\",\"polar\":{\"bgcolor\":\"#E5ECF6\",\"angularaxis\":{\"gridcolor\":\"white\",\"linecolor\":\"white\",\"ticks\":\"\"},\"radialaxis\":{\"gridcolor\":\"white\",\"linecolor\":\"white\",\"ticks\":\"\"}},\"ternary\":{\"bgcolor\":\"#E5ECF6\",\"aaxis\":{\"gridcolor\":\"white\",\"linecolor\":\"white\",\"ticks\":\"\"},\"baxis\":{\"gridcolor\":\"white\",\"linecolor\":\"white\",\"ticks\":\"\"},\"caxis\":{\"gridcolor\":\"white\",\"linecolor\":\"white\",\"ticks\":\"\"}},\"coloraxis\":{\"colorbar\":{\"outlinewidth\":0,\"ticks\":\"\"}},\"colorscale\":{\"sequential\":[[0.0,\"#0d0887\"],[0.1111111111111111,\"#46039f\"],[0.2222222222222222,\"#7201a8\"],[0.3333333333333333,\"#9c179e\"],[0.4444444444444444,\"#bd3786\"],[0.5555555555555556,\"#d8576b\"],[0.6666666666666666,\"#ed7953\"],[0.7777777777777778,\"#fb9f3a\"],[0.8888888888888888,\"#fdca26\"],[1.0,\"#f0f921\"]],\"sequentialminus\":[[0.0,\"#0d0887\"],[0.1111111111111111,\"#46039f\"],[0.2222222222222222,\"#7201a8\"],[0.3333333333333333,\"#9c179e\"],[0.4444444444444444,\"#bd3786\"],[0.5555555555555556,\"#d8576b\"],[0.6666666666666666,\"#ed7953\"],[0.7777777777777778,\"#fb9f3a\"],[0.8888888888888888,\"#fdca26\"],[1.0,\"#f0f921\"]],\"diverging\":[[0,\"#8e0152\"],[0.1,\"#c51b7d\"],[0.2,\"#de77ae\"],[0.3,\"#f1b6da\"],[0.4,\"#fde0ef\"],[0.5,\"#f7f7f7\"],[0.6,\"#e6f5d0\"],[0.7,\"#b8e186\"],[0.8,\"#7fbc41\"],[0.9,\"#4d9221\"],[1,\"#276419\"]]},\"xaxis\":{\"gridcolor\":\"white\",\"linecolor\":\"white\",\"ticks\":\"\",\"title\":{\"standoff\":15},\"zerolinecolor\":\"white\",\"automargin\":true,\"zerolinewidth\":2},\"yaxis\":{\"gridcolor\":\"white\",\"linecolor\":\"white\",\"ticks\":\"\",\"title\":{\"standoff\":15},\"zerolinecolor\":\"white\",\"automargin\":true,\"zerolinewidth\":2},\"scene\":{\"xaxis\":{\"backgroundcolor\":\"#E5ECF6\",\"gridcolor\":\"white\",\"linecolor\":\"white\",\"showbackground\":true,\"ticks\":\"\",\"zerolinecolor\":\"white\",\"gridwidth\":2},\"yaxis\":{\"backgroundcolor\":\"#E5ECF6\",\"gridcolor\":\"white\",\"linecolor\":\"white\",\"showbackground\":true,\"ticks\":\"\",\"zerolinecolor\":\"white\",\"gridwidth\":2},\"zaxis\":{\"backgroundcolor\":\"#E5ECF6\",\"gridcolor\":\"white\",\"linecolor\":\"white\",\"showbackground\":true,\"ticks\":\"\",\"zerolinecolor\":\"white\",\"gridwidth\":2}},\"shapedefaults\":{\"line\":{\"color\":\"#2a3f5f\"}},\"annotationdefaults\":{\"arrowcolor\":\"#2a3f5f\",\"arrowhead\":0,\"arrowwidth\":1},\"geo\":{\"bgcolor\":\"white\",\"landcolor\":\"#E5ECF6\",\"subunitcolor\":\"white\",\"showland\":true,\"showlakes\":true,\"lakecolor\":\"white\"},\"title\":{\"x\":0.05},\"mapbox\":{\"style\":\"light\"}}},\"title\":{\"text\":\"GOOG Stock Price 2022\"},\"yaxis\":{\"title\":{\"text\":\"Price ($)\"}}},                        {\"responsive\": true}                    ).then(function(){\n",
       "                            \n",
       "var gd = document.getElementById('c53e2850-fb38-4694-899f-042bb5213418');\n",
       "var x = new MutationObserver(function (mutations, observer) {{\n",
       "        var display = window.getComputedStyle(gd).display;\n",
       "        if (!display || display === 'none') {{\n",
       "            console.log([gd, 'removed!']);\n",
       "            Plotly.purge(gd);\n",
       "            observer.disconnect();\n",
       "        }}\n",
       "}});\n",
       "\n",
       "// Listen for the removal of the full notebook cells\n",
       "var notebookContainer = gd.closest('#notebook-container');\n",
       "if (notebookContainer) {{\n",
       "    x.observe(notebookContainer, {childList: true});\n",
       "}}\n",
       "\n",
       "// Listen for the clearing of the current output cell\n",
       "var outputEl = gd.closest('.output');\n",
       "if (outputEl) {{\n",
       "    x.observe(outputEl, {childList: true});\n",
       "}}\n",
       "\n",
       "                        })                };                });            </script>        </div>"
      ]
     },
     "metadata": {},
     "output_type": "display_data"
    }
   ],
   "source": [
    "fig.update_layout(title='GOOG Stock Price 2022',\n",
    "                 yaxis_title='Price ($)')\n",
    "fig.show()"
   ]
  },
  {
   "cell_type": "markdown",
   "metadata": {},
   "source": [
    "We see that the candlestick plot is a lot easier to implement & format using plotly. In addition to needed less code, the plotly istance includes sweet features like the range slider and the ability to hover over the data points to see the details for that trading day. "
   ]
  },
  {
   "cell_type": "markdown",
   "metadata": {},
   "source": [
    "## Plotting Candlestick Chart using Cufflinks\n",
    "The next library that you can use to plot candlestick plots is Cufflinks.\n",
    "Cufflinks is a Python library that connects directly with Pandas so that you can directly plot from Pandas DataFrames."
   ]
  },
  {
   "cell_type": "markdown",
   "metadata": {},
   "source": [
    "Cufflinks makes it very easy to create a candlestick plot, plus the ability to add additional charts to the current plot very easily."
   ]
  },
  {
   "cell_type": "code",
   "execution_count": 106,
   "metadata": {},
   "outputs": [],
   "source": [
    "import cufflinks as cf"
   ]
  },
  {
   "cell_type": "code",
   "execution_count": 107,
   "metadata": {},
   "outputs": [
    {
     "data": {
      "text/html": [
       "        <script type=\"text/javascript\">\n",
       "        window.PlotlyConfig = {MathJaxConfig: 'local'};\n",
       "        if (window.MathJax && window.MathJax.Hub && window.MathJax.Hub.Config) {window.MathJax.Hub.Config({SVG: {font: \"STIX-Web\"}});}\n",
       "        if (typeof require !== 'undefined') {\n",
       "        require.undef(\"plotly\");\n",
       "        requirejs.config({\n",
       "            paths: {\n",
       "                'plotly': ['https://cdn.plot.ly/plotly-2.12.1.min']\n",
       "            }\n",
       "        });\n",
       "        require(['plotly'], function(Plotly) {\n",
       "            window._Plotly = Plotly;\n",
       "        });\n",
       "        }\n",
       "        </script>\n",
       "        "
      ]
     },
     "metadata": {},
     "output_type": "display_data"
    }
   ],
   "source": [
    "cf.go_offline()"
   ]
  },
  {
   "cell_type": "code",
   "execution_count": 108,
   "metadata": {},
   "outputs": [
    {
     "data": {
      "application/vnd.plotly.v1+json": {
       "config": {
        "linkText": "Export to plot.ly",
        "plotlyServerURL": "https://plot.ly",
        "showLink": true
       },
       "data": [
        {
         "close": [
          2901.48999,
          2888.330078,
          2753.070068,
          2751.02002,
          2740.090088,
          2771.47998,
          2800.350098,
          2832.959961,
          2782.6201170000004,
          2795.72998,
          2725.810059,
          2713.040039,
          2670.1298829999996,
          2601.840088,
          2607.439941,
          2534.709961,
          2584.800049,
          2582.419922,
          2665.790039,
          2713.969971,
          2757.570068,
          2960.72998,
          2853.01001,
          2860.320068,
          2778.76001,
          2784.26001,
          2829.060059,
          2772.050049,
          2682.600098,
          2706,
          2728.51001,
          2749.75,
          2646.169922,
          2609.350098,
          2588.050049,
          2551.699951,
          2653.469971,
          2690.389893,
          2697.820068,
          2683.360107,
          2695.030029,
          2686.159912,
          2642.439941,
          2529.290039,
          2545.570068,
          2677.320068,
          2653.639893,
          2609.51001,
          2534.820068,
          2593.209961,
          2673.810059,
          2692.01001,
          2736.030029,
          2729.570068,
          2805.550049,
          2770.070068,
          2826.23999,
          2830.429932,
          2839,
          2865,
          2852.889893,
          2792.98999,
          2814,
          2872.850098,
          2821.26001,
          2743.52002,
          2729.300049,
          2680.209961,
          2595.929932,
          2567.48999,
          2605.719971,
          2545.060059,
          2559.219971,
          2610.6201170000004,
          2564.909912,
          2498.75,
          2392.280029,
          2465,
          2390.1201170000004,
          2300.409912,
          2388.22998,
          2299.330078,
          2343.139893,
          2362.590088,
          2451.5,
          2334.929932,
          2313.199951,
          2261.679932,
          2291.689941,
          2279.219971,
          2263.219971,
          2330.310059,
          2295.850098,
          2334.030029,
          2248.02002,
          2214.909912,
          2186.26001,
          2233.330078,
          2118.52002,
          2116.790039,
          2165.919922,
          2255.97998,
          2280.780029,
          2282.73999,
          2354.919922,
          2291.280029,
          2340.209961,
          2344.590088,
          2344.76001,
          2298.360107,
          2228.550049,
          2137.530029,
          2143.8798829999996,
          2207.810059,
          2132.719971,
          2157.310059,
          2240.300049,
          2240.679932,
          2253.689941,
          2370.76001,
          2332.449951,
          2251.429932,
          2245.1298829999996
         ],
         "decreasing": {
          "line": {
           "color": "#808080"
          }
         },
         "high": [
          2911,
          2932.199951,
          2885.959961,
          2793.719971,
          2765.094971,
          2772.800049,
          2806.590088,
          2856.284912,
          2863.709961,
          2824.01001,
          2747.830078,
          2767.98999,
          2758.23999,
          2695.209961,
          2615.570068,
          2586.77002,
          2656.149902,
          2652.198975,
          2667.409912,
          2716.8701170000004,
          2764,
          3042,
          2982.354004,
          2890.705078,
          2876.929932,
          2796.741943,
          2843.51001,
          2828.6201170000004,
          2785.665039,
          2723.330078,
          2758,
          2758.919922,
          2736.790039,
          2676.47998,
          2638.014893,
          2634.97998,
          2660.73999,
          2707.780029,
          2712.810059,
          2722.219971,
          2712.310059,
          2734.275879,
          2683.97998,
          2638.080078,
          2624.929932,
          2683.969971,
          2670.77002,
          2684,
          2620.52002,
          2610.344971,
          2675.419922,
          2694.790039,
          2738.27002,
          2751.649902,
          2830,
          2800.5,
          2827.929932,
          2839.189941,
          2839.530029,
          2883.25,
          2869.610107,
          2852.889893,
          2819,
          2880.875,
          2871.800049,
          2796.969971,
          2754.030029,
          2725,
          2658.783936,
          2648.469971,
          2613.11499,
          2614.205078,
          2574.23999,
          2618.074951,
          2638.469971,
          2606.149902,
          2509.040039,
          2465.560059,
          2455,
          2350,
          2408.77002,
          2379.199951,
          2346.790039,
          2386,
          2462.860107,
          2424.665039,
          2349.969971,
          2311.258057,
          2333.820068,
          2333.419922,
          2297.1298829999996,
          2361.699951,
          2332.149902,
          2344.550049,
          2313.913086,
          2271.75,
          2251,
          2240.110107,
          2127.899902,
          2130.894043,
          2179.10498,
          2257.360107,
          2328.669922,
          2347.97998,
          2357.959961,
          2327.290039,
          2387.969971,
          2354.9729,
          2372.919922,
          2367,
          2269.939941,
          2184.3701170000004,
          2169.149902,
          2241.26001,
          2185.810059,
          2184.98999,
          2253.459961,
          2275.389893,
          2263.929932,
          2372.75,
          2385,
          2357.1298829999996,
          2273.290039
         ],
         "increasing": {
          "line": {
           "color": "#17BECF"
          }
         },
         "low": [
          2870.050049,
          2876.322998,
          2750.469971,
          2735.27002,
          2715.780029,
          2662.810059,
          2736.27002,
          2822.23999,
          2778.280029,
          2750,
          2712.340088,
          2710,
          2662.889893,
          2600.02002,
          2492.839111,
          2527.560059,
          2543.070068,
          2578.899902,
          2573.889893,
          2645.47998,
          2691.36499,
          2911.149902,
          2844.100098,
          2796.350098,
          2773.97998,
          2737.459961,
          2807.540039,
          2761,
          2665.77002,
          2666.040039,
          2710.790039,
          2696.4729,
          2644.040039,
          2606.1411129999997,
          2554.820068,
          2550.070068,
          2495.290039,
          2635.300049,
          2656.5048829999996,
          2667.570068,
          2668.649902,
          2668.6201170000004,
          2608.169922,
          2528.199951,
          2517.215088,
          2601.76001,
          2628.02002,
          2605.929932,
          2528.26001,
          2531.360107,
          2584.02002,
          2654.3798829999996,
          2658.639893,
          2692.22998,
          2730,
          2763.330078,
          2760.788086,
          2793.98999,
          2796.5629879999997,
          2849.679932,
          2843.360107,
          2792.3798829999996,
          2775.939941,
          2816.48999,
          2818.8701170000004,
          2728.362061,
          2697.14502,
          2675.050049,
          2592.350098,
          2551.52002,
          2568.771973,
          2542.22998,
          2531.569092,
          2549.030029,
          2557.881104,
          2493,
          2382.810059,
          2375.38501,
          2383.237061,
          2262.485107,
          2302.87793,
          2293.8798829999996,
          2267.98999,
          2332.540039,
          2314.77002,
          2303.649902,
          2282.860107,
          2251.030029,
          2267.666016,
          2273,
          2202.27002,
          2280,
          2286.699951,
          2306.75,
          2242.840088,
          2209.360107,
          2127.459961,
          2183.084961,
          2044.160034,
          2084.225098,
          2109.76001,
          2191,
          2251.449951,
          2271.01001,
          2266.159912,
          2273.360107,
          2330.565918,
          2302.51001,
          2333.935059,
          2297.340088,
          2217.219971,
          2131.760986,
          2127.040039,
          2162.375,
          2115.850098,
          2112.571045,
          2185.8701170000004,
          2214.486084,
          2220.580078,
          2272.060059,
          2320.014893,
          2248.8798829999996,
          2231.080078
         ],
         "name": "GOOG",
         "open": [
          2889.51001,
          2911.01001,
          2883.6201170000004,
          2749.949951,
          2758.100098,
          2701.97998,
          2763.610107,
          2831.090088,
          2836.810059,
          2750,
          2732,
          2738.77002,
          2730.280029,
          2660.23999,
          2520.550049,
          2568.709961,
          2611.850098,
          2627.219971,
          2600,
          2683.959961,
          2756.699951,
          3037.27002,
          2905.899902,
          2860.340088,
          2874.179932,
          2779.824951,
          2816.9951170000004,
          2790,
          2775,
          2667.310059,
          2749.429932,
          2728.610107,
          2723,
          2660.75,
          2599.699951,
          2621.570068,
          2500,
          2670.51001,
          2665.689941,
          2689.600098,
          2692.165039,
          2719.570068,
          2667.649902,
          2638.080078,
          2525.01001,
          2628,
          2629.25,
          2679.98999,
          2611.459961,
          2554.830078,
          2620,
          2666.419922,
          2677.679932,
          2736.949951,
          2730,
          2782.77002,
          2785.449951,
          2835.080078,
          2813.689941,
          2863.209961,
          2857.399902,
          2848.969971,
          2800.199951,
          2816.48999,
          2867.98999,
          2783.22998,
          2732.360107,
          2725,
          2658,
          2648.469971,
          2572.530029,
          2612.98999,
          2548.199951,
          2561.540039,
          2625.679932,
          2587,
          2500,
          2388.590088,
          2455,
          2287.459961,
          2342.300049,
          2351.560059,
          2278.1298829999996,
          2335.300049,
          2360.070068,
          2404.409912,
          2310.3798829999996,
          2266.070068,
          2320.810059,
          2274.209961,
          2238.76001,
          2296.909912,
          2307.679932,
          2344.550049,
          2304.75,
          2236.820068,
          2241.709961,
          2202.080078,
          2127.550049,
          2102.840088,
          2121.01001,
          2195.77002,
          2261.580078,
          2298.6298829999996,
          2283.76001,
          2319.850098,
          2334.850098,
          2312.959961,
          2337.530029,
          2326.830078,
          2255.625,
          2148.919922,
          2137.800049,
          2177.98999,
          2162.98999,
          2130.699951,
          2194.040039,
          2223.26001,
          2259,
          2272.060059,
          2378.699951,
          2327.02002,
          2242.969971
         ],
         "showlegend": true,
         "type": "candlestick",
         "x": [
          "2022-01-03",
          "2022-01-04",
          "2022-01-05",
          "2022-01-06",
          "2022-01-07",
          "2022-01-10",
          "2022-01-11",
          "2022-01-12",
          "2022-01-13",
          "2022-01-14",
          "2022-01-18",
          "2022-01-19",
          "2022-01-20",
          "2022-01-21",
          "2022-01-24",
          "2022-01-25",
          "2022-01-26",
          "2022-01-27",
          "2022-01-28",
          "2022-01-31",
          "2022-02-01",
          "2022-02-02",
          "2022-02-03",
          "2022-02-04",
          "2022-02-07",
          "2022-02-08",
          "2022-02-09",
          "2022-02-10",
          "2022-02-11",
          "2022-02-14",
          "2022-02-15",
          "2022-02-16",
          "2022-02-17",
          "2022-02-18",
          "2022-02-22",
          "2022-02-23",
          "2022-02-24",
          "2022-02-25",
          "2022-02-28",
          "2022-03-01",
          "2022-03-02",
          "2022-03-03",
          "2022-03-04",
          "2022-03-07",
          "2022-03-08",
          "2022-03-09",
          "2022-03-10",
          "2022-03-11",
          "2022-03-14",
          "2022-03-15",
          "2022-03-16",
          "2022-03-17",
          "2022-03-18",
          "2022-03-21",
          "2022-03-22",
          "2022-03-23",
          "2022-03-24",
          "2022-03-25",
          "2022-03-28",
          "2022-03-29",
          "2022-03-30",
          "2022-03-31",
          "2022-04-01",
          "2022-04-04",
          "2022-04-05",
          "2022-04-06",
          "2022-04-07",
          "2022-04-08",
          "2022-04-11",
          "2022-04-12",
          "2022-04-13",
          "2022-04-14",
          "2022-04-18",
          "2022-04-19",
          "2022-04-20",
          "2022-04-21",
          "2022-04-22",
          "2022-04-25",
          "2022-04-26",
          "2022-04-27",
          "2022-04-28",
          "2022-04-29",
          "2022-05-02",
          "2022-05-03",
          "2022-05-04",
          "2022-05-05",
          "2022-05-06",
          "2022-05-09",
          "2022-05-10",
          "2022-05-11",
          "2022-05-12",
          "2022-05-13",
          "2022-05-16",
          "2022-05-17",
          "2022-05-18",
          "2022-05-19",
          "2022-05-20",
          "2022-05-23",
          "2022-05-24",
          "2022-05-25",
          "2022-05-26",
          "2022-05-27",
          "2022-05-31",
          "2022-06-01",
          "2022-06-02",
          "2022-06-03",
          "2022-06-06",
          "2022-06-07",
          "2022-06-08",
          "2022-06-09",
          "2022-06-10",
          "2022-06-13",
          "2022-06-14",
          "2022-06-15",
          "2022-06-16",
          "2022-06-17",
          "2022-06-21",
          "2022-06-22",
          "2022-06-23",
          "2022-06-24",
          "2022-06-27",
          "2022-06-28",
          "2022-06-29"
         ],
         "yaxis": "y2"
        }
       ],
       "layout": {
        "legend": {
         "bgcolor": "#F5F6F9",
         "font": {
          "color": "#4D5663"
         }
        },
        "margin": {
         "b": 30,
         "l": 30,
         "r": 30,
         "t": 30
        },
        "paper_bgcolor": "#F5F6F9",
        "plot_bgcolor": "#F5F6F9",
        "showlegend": true,
        "template": {
         "data": {
          "bar": [
           {
            "error_x": {
             "color": "#2a3f5f"
            },
            "error_y": {
             "color": "#2a3f5f"
            },
            "marker": {
             "line": {
              "color": "#E5ECF6",
              "width": 0.5
             },
             "pattern": {
              "fillmode": "overlay",
              "size": 10,
              "solidity": 0.2
             }
            },
            "type": "bar"
           }
          ],
          "barpolar": [
           {
            "marker": {
             "line": {
              "color": "#E5ECF6",
              "width": 0.5
             },
             "pattern": {
              "fillmode": "overlay",
              "size": 10,
              "solidity": 0.2
             }
            },
            "type": "barpolar"
           }
          ],
          "carpet": [
           {
            "aaxis": {
             "endlinecolor": "#2a3f5f",
             "gridcolor": "white",
             "linecolor": "white",
             "minorgridcolor": "white",
             "startlinecolor": "#2a3f5f"
            },
            "baxis": {
             "endlinecolor": "#2a3f5f",
             "gridcolor": "white",
             "linecolor": "white",
             "minorgridcolor": "white",
             "startlinecolor": "#2a3f5f"
            },
            "type": "carpet"
           }
          ],
          "choropleth": [
           {
            "colorbar": {
             "outlinewidth": 0,
             "ticks": ""
            },
            "type": "choropleth"
           }
          ],
          "contour": [
           {
            "colorbar": {
             "outlinewidth": 0,
             "ticks": ""
            },
            "colorscale": [
             [
              0,
              "#0d0887"
             ],
             [
              0.1111111111111111,
              "#46039f"
             ],
             [
              0.2222222222222222,
              "#7201a8"
             ],
             [
              0.3333333333333333,
              "#9c179e"
             ],
             [
              0.4444444444444444,
              "#bd3786"
             ],
             [
              0.5555555555555556,
              "#d8576b"
             ],
             [
              0.6666666666666666,
              "#ed7953"
             ],
             [
              0.7777777777777778,
              "#fb9f3a"
             ],
             [
              0.8888888888888888,
              "#fdca26"
             ],
             [
              1,
              "#f0f921"
             ]
            ],
            "type": "contour"
           }
          ],
          "contourcarpet": [
           {
            "colorbar": {
             "outlinewidth": 0,
             "ticks": ""
            },
            "type": "contourcarpet"
           }
          ],
          "heatmap": [
           {
            "colorbar": {
             "outlinewidth": 0,
             "ticks": ""
            },
            "colorscale": [
             [
              0,
              "#0d0887"
             ],
             [
              0.1111111111111111,
              "#46039f"
             ],
             [
              0.2222222222222222,
              "#7201a8"
             ],
             [
              0.3333333333333333,
              "#9c179e"
             ],
             [
              0.4444444444444444,
              "#bd3786"
             ],
             [
              0.5555555555555556,
              "#d8576b"
             ],
             [
              0.6666666666666666,
              "#ed7953"
             ],
             [
              0.7777777777777778,
              "#fb9f3a"
             ],
             [
              0.8888888888888888,
              "#fdca26"
             ],
             [
              1,
              "#f0f921"
             ]
            ],
            "type": "heatmap"
           }
          ],
          "heatmapgl": [
           {
            "colorbar": {
             "outlinewidth": 0,
             "ticks": ""
            },
            "colorscale": [
             [
              0,
              "#0d0887"
             ],
             [
              0.1111111111111111,
              "#46039f"
             ],
             [
              0.2222222222222222,
              "#7201a8"
             ],
             [
              0.3333333333333333,
              "#9c179e"
             ],
             [
              0.4444444444444444,
              "#bd3786"
             ],
             [
              0.5555555555555556,
              "#d8576b"
             ],
             [
              0.6666666666666666,
              "#ed7953"
             ],
             [
              0.7777777777777778,
              "#fb9f3a"
             ],
             [
              0.8888888888888888,
              "#fdca26"
             ],
             [
              1,
              "#f0f921"
             ]
            ],
            "type": "heatmapgl"
           }
          ],
          "histogram": [
           {
            "marker": {
             "pattern": {
              "fillmode": "overlay",
              "size": 10,
              "solidity": 0.2
             }
            },
            "type": "histogram"
           }
          ],
          "histogram2d": [
           {
            "colorbar": {
             "outlinewidth": 0,
             "ticks": ""
            },
            "colorscale": [
             [
              0,
              "#0d0887"
             ],
             [
              0.1111111111111111,
              "#46039f"
             ],
             [
              0.2222222222222222,
              "#7201a8"
             ],
             [
              0.3333333333333333,
              "#9c179e"
             ],
             [
              0.4444444444444444,
              "#bd3786"
             ],
             [
              0.5555555555555556,
              "#d8576b"
             ],
             [
              0.6666666666666666,
              "#ed7953"
             ],
             [
              0.7777777777777778,
              "#fb9f3a"
             ],
             [
              0.8888888888888888,
              "#fdca26"
             ],
             [
              1,
              "#f0f921"
             ]
            ],
            "type": "histogram2d"
           }
          ],
          "histogram2dcontour": [
           {
            "colorbar": {
             "outlinewidth": 0,
             "ticks": ""
            },
            "colorscale": [
             [
              0,
              "#0d0887"
             ],
             [
              0.1111111111111111,
              "#46039f"
             ],
             [
              0.2222222222222222,
              "#7201a8"
             ],
             [
              0.3333333333333333,
              "#9c179e"
             ],
             [
              0.4444444444444444,
              "#bd3786"
             ],
             [
              0.5555555555555556,
              "#d8576b"
             ],
             [
              0.6666666666666666,
              "#ed7953"
             ],
             [
              0.7777777777777778,
              "#fb9f3a"
             ],
             [
              0.8888888888888888,
              "#fdca26"
             ],
             [
              1,
              "#f0f921"
             ]
            ],
            "type": "histogram2dcontour"
           }
          ],
          "mesh3d": [
           {
            "colorbar": {
             "outlinewidth": 0,
             "ticks": ""
            },
            "type": "mesh3d"
           }
          ],
          "parcoords": [
           {
            "line": {
             "colorbar": {
              "outlinewidth": 0,
              "ticks": ""
             }
            },
            "type": "parcoords"
           }
          ],
          "pie": [
           {
            "automargin": true,
            "type": "pie"
           }
          ],
          "scatter": [
           {
            "fillpattern": {
             "fillmode": "overlay",
             "size": 10,
             "solidity": 0.2
            },
            "type": "scatter"
           }
          ],
          "scatter3d": [
           {
            "line": {
             "colorbar": {
              "outlinewidth": 0,
              "ticks": ""
             }
            },
            "marker": {
             "colorbar": {
              "outlinewidth": 0,
              "ticks": ""
             }
            },
            "type": "scatter3d"
           }
          ],
          "scattercarpet": [
           {
            "marker": {
             "colorbar": {
              "outlinewidth": 0,
              "ticks": ""
             }
            },
            "type": "scattercarpet"
           }
          ],
          "scattergeo": [
           {
            "marker": {
             "colorbar": {
              "outlinewidth": 0,
              "ticks": ""
             }
            },
            "type": "scattergeo"
           }
          ],
          "scattergl": [
           {
            "marker": {
             "colorbar": {
              "outlinewidth": 0,
              "ticks": ""
             }
            },
            "type": "scattergl"
           }
          ],
          "scattermapbox": [
           {
            "marker": {
             "colorbar": {
              "outlinewidth": 0,
              "ticks": ""
             }
            },
            "type": "scattermapbox"
           }
          ],
          "scatterpolar": [
           {
            "marker": {
             "colorbar": {
              "outlinewidth": 0,
              "ticks": ""
             }
            },
            "type": "scatterpolar"
           }
          ],
          "scatterpolargl": [
           {
            "marker": {
             "colorbar": {
              "outlinewidth": 0,
              "ticks": ""
             }
            },
            "type": "scatterpolargl"
           }
          ],
          "scatterternary": [
           {
            "marker": {
             "colorbar": {
              "outlinewidth": 0,
              "ticks": ""
             }
            },
            "type": "scatterternary"
           }
          ],
          "surface": [
           {
            "colorbar": {
             "outlinewidth": 0,
             "ticks": ""
            },
            "colorscale": [
             [
              0,
              "#0d0887"
             ],
             [
              0.1111111111111111,
              "#46039f"
             ],
             [
              0.2222222222222222,
              "#7201a8"
             ],
             [
              0.3333333333333333,
              "#9c179e"
             ],
             [
              0.4444444444444444,
              "#bd3786"
             ],
             [
              0.5555555555555556,
              "#d8576b"
             ],
             [
              0.6666666666666666,
              "#ed7953"
             ],
             [
              0.7777777777777778,
              "#fb9f3a"
             ],
             [
              0.8888888888888888,
              "#fdca26"
             ],
             [
              1,
              "#f0f921"
             ]
            ],
            "type": "surface"
           }
          ],
          "table": [
           {
            "cells": {
             "fill": {
              "color": "#EBF0F8"
             },
             "line": {
              "color": "white"
             }
            },
            "header": {
             "fill": {
              "color": "#C8D4E3"
             },
             "line": {
              "color": "white"
             }
            },
            "type": "table"
           }
          ]
         },
         "layout": {
          "annotationdefaults": {
           "arrowcolor": "#2a3f5f",
           "arrowhead": 0,
           "arrowwidth": 1
          },
          "autotypenumbers": "strict",
          "coloraxis": {
           "colorbar": {
            "outlinewidth": 0,
            "ticks": ""
           }
          },
          "colorscale": {
           "diverging": [
            [
             0,
             "#8e0152"
            ],
            [
             0.1,
             "#c51b7d"
            ],
            [
             0.2,
             "#de77ae"
            ],
            [
             0.3,
             "#f1b6da"
            ],
            [
             0.4,
             "#fde0ef"
            ],
            [
             0.5,
             "#f7f7f7"
            ],
            [
             0.6,
             "#e6f5d0"
            ],
            [
             0.7,
             "#b8e186"
            ],
            [
             0.8,
             "#7fbc41"
            ],
            [
             0.9,
             "#4d9221"
            ],
            [
             1,
             "#276419"
            ]
           ],
           "sequential": [
            [
             0,
             "#0d0887"
            ],
            [
             0.1111111111111111,
             "#46039f"
            ],
            [
             0.2222222222222222,
             "#7201a8"
            ],
            [
             0.3333333333333333,
             "#9c179e"
            ],
            [
             0.4444444444444444,
             "#bd3786"
            ],
            [
             0.5555555555555556,
             "#d8576b"
            ],
            [
             0.6666666666666666,
             "#ed7953"
            ],
            [
             0.7777777777777778,
             "#fb9f3a"
            ],
            [
             0.8888888888888888,
             "#fdca26"
            ],
            [
             1,
             "#f0f921"
            ]
           ],
           "sequentialminus": [
            [
             0,
             "#0d0887"
            ],
            [
             0.1111111111111111,
             "#46039f"
            ],
            [
             0.2222222222222222,
             "#7201a8"
            ],
            [
             0.3333333333333333,
             "#9c179e"
            ],
            [
             0.4444444444444444,
             "#bd3786"
            ],
            [
             0.5555555555555556,
             "#d8576b"
            ],
            [
             0.6666666666666666,
             "#ed7953"
            ],
            [
             0.7777777777777778,
             "#fb9f3a"
            ],
            [
             0.8888888888888888,
             "#fdca26"
            ],
            [
             1,
             "#f0f921"
            ]
           ]
          },
          "colorway": [
           "#636efa",
           "#EF553B",
           "#00cc96",
           "#ab63fa",
           "#FFA15A",
           "#19d3f3",
           "#FF6692",
           "#B6E880",
           "#FF97FF",
           "#FECB52"
          ],
          "font": {
           "color": "#2a3f5f"
          },
          "geo": {
           "bgcolor": "white",
           "lakecolor": "white",
           "landcolor": "#E5ECF6",
           "showlakes": true,
           "showland": true,
           "subunitcolor": "white"
          },
          "hoverlabel": {
           "align": "left"
          },
          "hovermode": "closest",
          "mapbox": {
           "style": "light"
          },
          "paper_bgcolor": "white",
          "plot_bgcolor": "#E5ECF6",
          "polar": {
           "angularaxis": {
            "gridcolor": "white",
            "linecolor": "white",
            "ticks": ""
           },
           "bgcolor": "#E5ECF6",
           "radialaxis": {
            "gridcolor": "white",
            "linecolor": "white",
            "ticks": ""
           }
          },
          "scene": {
           "xaxis": {
            "backgroundcolor": "#E5ECF6",
            "gridcolor": "white",
            "gridwidth": 2,
            "linecolor": "white",
            "showbackground": true,
            "ticks": "",
            "zerolinecolor": "white"
           },
           "yaxis": {
            "backgroundcolor": "#E5ECF6",
            "gridcolor": "white",
            "gridwidth": 2,
            "linecolor": "white",
            "showbackground": true,
            "ticks": "",
            "zerolinecolor": "white"
           },
           "zaxis": {
            "backgroundcolor": "#E5ECF6",
            "gridcolor": "white",
            "gridwidth": 2,
            "linecolor": "white",
            "showbackground": true,
            "ticks": "",
            "zerolinecolor": "white"
           }
          },
          "shapedefaults": {
           "line": {
            "color": "#2a3f5f"
           }
          },
          "ternary": {
           "aaxis": {
            "gridcolor": "white",
            "linecolor": "white",
            "ticks": ""
           },
           "baxis": {
            "gridcolor": "white",
            "linecolor": "white",
            "ticks": ""
           },
           "bgcolor": "#E5ECF6",
           "caxis": {
            "gridcolor": "white",
            "linecolor": "white",
            "ticks": ""
           }
          },
          "title": {
           "x": 0.05
          },
          "xaxis": {
           "automargin": true,
           "gridcolor": "white",
           "linecolor": "white",
           "ticks": "",
           "title": {
            "standoff": 15
           },
           "zerolinecolor": "white",
           "zerolinewidth": 2
          },
          "yaxis": {
           "automargin": true,
           "gridcolor": "white",
           "linecolor": "white",
           "ticks": "",
           "title": {
            "standoff": 15
           },
           "zerolinecolor": "white",
           "zerolinewidth": 2
          }
         }
        },
        "title": {
         "font": {
          "color": "#4D5663"
         },
         "text": "GOOG 2022"
        },
        "xaxis": {
         "anchor": "y2",
         "gridcolor": "#E1E5ED",
         "rangeselector": {
          "bgcolor": "rgba(150, 200, 250, 1)",
          "buttons": [
           {
            "count": 1,
            "label": "1m",
            "step": "month",
            "stepmode": "backward"
           },
           {
            "count": 1,
            "label": "1y",
            "step": "year",
            "stepmode": "backward"
           }
          ],
          "font": {
           "size": 13
          },
          "visible": false,
          "x": 0,
          "y": 0.9
         },
         "rangeslider": {
          "visible": false
         },
         "showgrid": true,
         "tickfont": {
          "color": "#4D5663"
         },
         "title": {
          "font": {
           "color": "#4D5663"
          },
          "text": ""
         },
         "zerolinecolor": "#E1E5ED"
        },
        "yaxis": {
         "gridcolor": "#E1E5ED",
         "showgrid": true,
         "showticklabels": false,
         "tickfont": {
          "color": "#4D5663"
         },
         "title": {
          "font": {
           "color": "#4D5663"
          },
          "text": ""
         },
         "zerolinecolor": "#E1E5ED"
        },
        "yaxis2": {
         "domain": [
          0,
          0.9
         ],
         "gridcolor": "#E1E5ED",
         "showgrid": true,
         "tickfont": {
          "color": "#4D5663"
         },
         "title": {
          "font": {
           "color": "#4D5663"
          },
          "text": ""
         },
         "zerolinecolor": "#E1E5ED"
        }
       }
      },
      "text/html": [
       "<div>                            <div id=\"a18b1c51-3d39-470a-8810-98859c4aa2b1\" class=\"plotly-graph-div\" style=\"height:525px; width:100%;\"></div>            <script type=\"text/javascript\">                require([\"plotly\"], function(Plotly) {                    window.PLOTLYENV=window.PLOTLYENV || {};\n",
       "                    window.PLOTLYENV.BASE_URL='https://plot.ly';                                    if (document.getElementById(\"a18b1c51-3d39-470a-8810-98859c4aa2b1\")) {                    Plotly.newPlot(                        \"a18b1c51-3d39-470a-8810-98859c4aa2b1\",                        [{\"close\":[2901.48999,2888.330078,2753.070068,2751.02002,2740.090088,2771.47998,2800.350098,2832.959961,2782.6201170000004,2795.72998,2725.810059,2713.040039,2670.1298829999996,2601.840088,2607.439941,2534.709961,2584.800049,2582.419922,2665.790039,2713.969971,2757.570068,2960.72998,2853.01001,2860.320068,2778.76001,2784.26001,2829.060059,2772.050049,2682.600098,2706.0,2728.51001,2749.75,2646.169922,2609.350098,2588.050049,2551.699951,2653.469971,2690.389893,2697.820068,2683.360107,2695.030029,2686.159912,2642.439941,2529.290039,2545.570068,2677.320068,2653.639893,2609.51001,2534.820068,2593.209961,2673.810059,2692.01001,2736.030029,2729.570068,2805.550049,2770.070068,2826.23999,2830.429932,2839.0,2865.0,2852.889893,2792.98999,2814.0,2872.850098,2821.26001,2743.52002,2729.300049,2680.209961,2595.929932,2567.48999,2605.719971,2545.060059,2559.219971,2610.6201170000004,2564.909912,2498.75,2392.280029,2465.0,2390.1201170000004,2300.409912,2388.22998,2299.330078,2343.139893,2362.590088,2451.5,2334.929932,2313.199951,2261.679932,2291.689941,2279.219971,2263.219971,2330.310059,2295.850098,2334.030029,2248.02002,2214.909912,2186.26001,2233.330078,2118.52002,2116.790039,2165.919922,2255.97998,2280.780029,2282.73999,2354.919922,2291.280029,2340.209961,2344.590088,2344.76001,2298.360107,2228.550049,2137.530029,2143.8798829999996,2207.810059,2132.719971,2157.310059,2240.300049,2240.679932,2253.689941,2370.76001,2332.449951,2251.429932,2245.1298829999996],\"decreasing\":{\"line\":{\"color\":\"#808080\"}},\"high\":[2911.0,2932.199951,2885.959961,2793.719971,2765.094971,2772.800049,2806.590088,2856.284912,2863.709961,2824.01001,2747.830078,2767.98999,2758.23999,2695.209961,2615.570068,2586.77002,2656.149902,2652.198975,2667.409912,2716.8701170000004,2764.0,3042.0,2982.354004,2890.705078,2876.929932,2796.741943,2843.51001,2828.6201170000004,2785.665039,2723.330078,2758.0,2758.919922,2736.790039,2676.47998,2638.014893,2634.97998,2660.73999,2707.780029,2712.810059,2722.219971,2712.310059,2734.275879,2683.97998,2638.080078,2624.929932,2683.969971,2670.77002,2684.0,2620.52002,2610.344971,2675.419922,2694.790039,2738.27002,2751.649902,2830.0,2800.5,2827.929932,2839.189941,2839.530029,2883.25,2869.610107,2852.889893,2819.0,2880.875,2871.800049,2796.969971,2754.030029,2725.0,2658.783936,2648.469971,2613.11499,2614.205078,2574.23999,2618.074951,2638.469971,2606.149902,2509.040039,2465.560059,2455.0,2350.0,2408.77002,2379.199951,2346.790039,2386.0,2462.860107,2424.665039,2349.969971,2311.258057,2333.820068,2333.419922,2297.1298829999996,2361.699951,2332.149902,2344.550049,2313.913086,2271.75,2251.0,2240.110107,2127.899902,2130.894043,2179.10498,2257.360107,2328.669922,2347.97998,2357.959961,2327.290039,2387.969971,2354.9729,2372.919922,2367.0,2269.939941,2184.3701170000004,2169.149902,2241.26001,2185.810059,2184.98999,2253.459961,2275.389893,2263.929932,2372.75,2385.0,2357.1298829999996,2273.290039],\"increasing\":{\"line\":{\"color\":\"#17BECF\"}},\"low\":[2870.050049,2876.322998,2750.469971,2735.27002,2715.780029,2662.810059,2736.27002,2822.23999,2778.280029,2750.0,2712.340088,2710.0,2662.889893,2600.02002,2492.839111,2527.560059,2543.070068,2578.899902,2573.889893,2645.47998,2691.36499,2911.149902,2844.100098,2796.350098,2773.97998,2737.459961,2807.540039,2761.0,2665.77002,2666.040039,2710.790039,2696.4729,2644.040039,2606.1411129999997,2554.820068,2550.070068,2495.290039,2635.300049,2656.5048829999996,2667.570068,2668.649902,2668.6201170000004,2608.169922,2528.199951,2517.215088,2601.76001,2628.02002,2605.929932,2528.26001,2531.360107,2584.02002,2654.3798829999996,2658.639893,2692.22998,2730.0,2763.330078,2760.788086,2793.98999,2796.5629879999997,2849.679932,2843.360107,2792.3798829999996,2775.939941,2816.48999,2818.8701170000004,2728.362061,2697.14502,2675.050049,2592.350098,2551.52002,2568.771973,2542.22998,2531.569092,2549.030029,2557.881104,2493.0,2382.810059,2375.38501,2383.237061,2262.485107,2302.87793,2293.8798829999996,2267.98999,2332.540039,2314.77002,2303.649902,2282.860107,2251.030029,2267.666016,2273.0,2202.27002,2280.0,2286.699951,2306.75,2242.840088,2209.360107,2127.459961,2183.084961,2044.160034,2084.225098,2109.76001,2191.0,2251.449951,2271.01001,2266.159912,2273.360107,2330.565918,2302.51001,2333.935059,2297.340088,2217.219971,2131.760986,2127.040039,2162.375,2115.850098,2112.571045,2185.8701170000004,2214.486084,2220.580078,2272.060059,2320.014893,2248.8798829999996,2231.080078],\"name\":\"GOOG\",\"open\":[2889.51001,2911.01001,2883.6201170000004,2749.949951,2758.100098,2701.97998,2763.610107,2831.090088,2836.810059,2750.0,2732.0,2738.77002,2730.280029,2660.23999,2520.550049,2568.709961,2611.850098,2627.219971,2600.0,2683.959961,2756.699951,3037.27002,2905.899902,2860.340088,2874.179932,2779.824951,2816.9951170000004,2790.0,2775.0,2667.310059,2749.429932,2728.610107,2723.0,2660.75,2599.699951,2621.570068,2500.0,2670.51001,2665.689941,2689.600098,2692.165039,2719.570068,2667.649902,2638.080078,2525.01001,2628.0,2629.25,2679.98999,2611.459961,2554.830078,2620.0,2666.419922,2677.679932,2736.949951,2730.0,2782.77002,2785.449951,2835.080078,2813.689941,2863.209961,2857.399902,2848.969971,2800.199951,2816.48999,2867.98999,2783.22998,2732.360107,2725.0,2658.0,2648.469971,2572.530029,2612.98999,2548.199951,2561.540039,2625.679932,2587.0,2500.0,2388.590088,2455.0,2287.459961,2342.300049,2351.560059,2278.1298829999996,2335.300049,2360.070068,2404.409912,2310.3798829999996,2266.070068,2320.810059,2274.209961,2238.76001,2296.909912,2307.679932,2344.550049,2304.75,2236.820068,2241.709961,2202.080078,2127.550049,2102.840088,2121.01001,2195.77002,2261.580078,2298.6298829999996,2283.76001,2319.850098,2334.850098,2312.959961,2337.530029,2326.830078,2255.625,2148.919922,2137.800049,2177.98999,2162.98999,2130.699951,2194.040039,2223.26001,2259.0,2272.060059,2378.699951,2327.02002,2242.969971],\"showlegend\":true,\"x\":[\"2022-01-03\",\"2022-01-04\",\"2022-01-05\",\"2022-01-06\",\"2022-01-07\",\"2022-01-10\",\"2022-01-11\",\"2022-01-12\",\"2022-01-13\",\"2022-01-14\",\"2022-01-18\",\"2022-01-19\",\"2022-01-20\",\"2022-01-21\",\"2022-01-24\",\"2022-01-25\",\"2022-01-26\",\"2022-01-27\",\"2022-01-28\",\"2022-01-31\",\"2022-02-01\",\"2022-02-02\",\"2022-02-03\",\"2022-02-04\",\"2022-02-07\",\"2022-02-08\",\"2022-02-09\",\"2022-02-10\",\"2022-02-11\",\"2022-02-14\",\"2022-02-15\",\"2022-02-16\",\"2022-02-17\",\"2022-02-18\",\"2022-02-22\",\"2022-02-23\",\"2022-02-24\",\"2022-02-25\",\"2022-02-28\",\"2022-03-01\",\"2022-03-02\",\"2022-03-03\",\"2022-03-04\",\"2022-03-07\",\"2022-03-08\",\"2022-03-09\",\"2022-03-10\",\"2022-03-11\",\"2022-03-14\",\"2022-03-15\",\"2022-03-16\",\"2022-03-17\",\"2022-03-18\",\"2022-03-21\",\"2022-03-22\",\"2022-03-23\",\"2022-03-24\",\"2022-03-25\",\"2022-03-28\",\"2022-03-29\",\"2022-03-30\",\"2022-03-31\",\"2022-04-01\",\"2022-04-04\",\"2022-04-05\",\"2022-04-06\",\"2022-04-07\",\"2022-04-08\",\"2022-04-11\",\"2022-04-12\",\"2022-04-13\",\"2022-04-14\",\"2022-04-18\",\"2022-04-19\",\"2022-04-20\",\"2022-04-21\",\"2022-04-22\",\"2022-04-25\",\"2022-04-26\",\"2022-04-27\",\"2022-04-28\",\"2022-04-29\",\"2022-05-02\",\"2022-05-03\",\"2022-05-04\",\"2022-05-05\",\"2022-05-06\",\"2022-05-09\",\"2022-05-10\",\"2022-05-11\",\"2022-05-12\",\"2022-05-13\",\"2022-05-16\",\"2022-05-17\",\"2022-05-18\",\"2022-05-19\",\"2022-05-20\",\"2022-05-23\",\"2022-05-24\",\"2022-05-25\",\"2022-05-26\",\"2022-05-27\",\"2022-05-31\",\"2022-06-01\",\"2022-06-02\",\"2022-06-03\",\"2022-06-06\",\"2022-06-07\",\"2022-06-08\",\"2022-06-09\",\"2022-06-10\",\"2022-06-13\",\"2022-06-14\",\"2022-06-15\",\"2022-06-16\",\"2022-06-17\",\"2022-06-21\",\"2022-06-22\",\"2022-06-23\",\"2022-06-24\",\"2022-06-27\",\"2022-06-28\",\"2022-06-29\"],\"yaxis\":\"y2\",\"type\":\"candlestick\"}],                        {\"legend\":{\"bgcolor\":\"#F5F6F9\",\"font\":{\"color\":\"#4D5663\"}},\"margin\":{\"b\":30,\"l\":30,\"r\":30,\"t\":30},\"paper_bgcolor\":\"#F5F6F9\",\"plot_bgcolor\":\"#F5F6F9\",\"showlegend\":true,\"template\":{\"data\":{\"barpolar\":[{\"marker\":{\"line\":{\"color\":\"#E5ECF6\",\"width\":0.5},\"pattern\":{\"fillmode\":\"overlay\",\"size\":10,\"solidity\":0.2}},\"type\":\"barpolar\"}],\"bar\":[{\"error_x\":{\"color\":\"#2a3f5f\"},\"error_y\":{\"color\":\"#2a3f5f\"},\"marker\":{\"line\":{\"color\":\"#E5ECF6\",\"width\":0.5},\"pattern\":{\"fillmode\":\"overlay\",\"size\":10,\"solidity\":0.2}},\"type\":\"bar\"}],\"carpet\":[{\"aaxis\":{\"endlinecolor\":\"#2a3f5f\",\"gridcolor\":\"white\",\"linecolor\":\"white\",\"minorgridcolor\":\"white\",\"startlinecolor\":\"#2a3f5f\"},\"baxis\":{\"endlinecolor\":\"#2a3f5f\",\"gridcolor\":\"white\",\"linecolor\":\"white\",\"minorgridcolor\":\"white\",\"startlinecolor\":\"#2a3f5f\"},\"type\":\"carpet\"}],\"choropleth\":[{\"colorbar\":{\"outlinewidth\":0,\"ticks\":\"\"},\"type\":\"choropleth\"}],\"contourcarpet\":[{\"colorbar\":{\"outlinewidth\":0,\"ticks\":\"\"},\"type\":\"contourcarpet\"}],\"contour\":[{\"colorbar\":{\"outlinewidth\":0,\"ticks\":\"\"},\"colorscale\":[[0.0,\"#0d0887\"],[0.1111111111111111,\"#46039f\"],[0.2222222222222222,\"#7201a8\"],[0.3333333333333333,\"#9c179e\"],[0.4444444444444444,\"#bd3786\"],[0.5555555555555556,\"#d8576b\"],[0.6666666666666666,\"#ed7953\"],[0.7777777777777778,\"#fb9f3a\"],[0.8888888888888888,\"#fdca26\"],[1.0,\"#f0f921\"]],\"type\":\"contour\"}],\"heatmapgl\":[{\"colorbar\":{\"outlinewidth\":0,\"ticks\":\"\"},\"colorscale\":[[0.0,\"#0d0887\"],[0.1111111111111111,\"#46039f\"],[0.2222222222222222,\"#7201a8\"],[0.3333333333333333,\"#9c179e\"],[0.4444444444444444,\"#bd3786\"],[0.5555555555555556,\"#d8576b\"],[0.6666666666666666,\"#ed7953\"],[0.7777777777777778,\"#fb9f3a\"],[0.8888888888888888,\"#fdca26\"],[1.0,\"#f0f921\"]],\"type\":\"heatmapgl\"}],\"heatmap\":[{\"colorbar\":{\"outlinewidth\":0,\"ticks\":\"\"},\"colorscale\":[[0.0,\"#0d0887\"],[0.1111111111111111,\"#46039f\"],[0.2222222222222222,\"#7201a8\"],[0.3333333333333333,\"#9c179e\"],[0.4444444444444444,\"#bd3786\"],[0.5555555555555556,\"#d8576b\"],[0.6666666666666666,\"#ed7953\"],[0.7777777777777778,\"#fb9f3a\"],[0.8888888888888888,\"#fdca26\"],[1.0,\"#f0f921\"]],\"type\":\"heatmap\"}],\"histogram2dcontour\":[{\"colorbar\":{\"outlinewidth\":0,\"ticks\":\"\"},\"colorscale\":[[0.0,\"#0d0887\"],[0.1111111111111111,\"#46039f\"],[0.2222222222222222,\"#7201a8\"],[0.3333333333333333,\"#9c179e\"],[0.4444444444444444,\"#bd3786\"],[0.5555555555555556,\"#d8576b\"],[0.6666666666666666,\"#ed7953\"],[0.7777777777777778,\"#fb9f3a\"],[0.8888888888888888,\"#fdca26\"],[1.0,\"#f0f921\"]],\"type\":\"histogram2dcontour\"}],\"histogram2d\":[{\"colorbar\":{\"outlinewidth\":0,\"ticks\":\"\"},\"colorscale\":[[0.0,\"#0d0887\"],[0.1111111111111111,\"#46039f\"],[0.2222222222222222,\"#7201a8\"],[0.3333333333333333,\"#9c179e\"],[0.4444444444444444,\"#bd3786\"],[0.5555555555555556,\"#d8576b\"],[0.6666666666666666,\"#ed7953\"],[0.7777777777777778,\"#fb9f3a\"],[0.8888888888888888,\"#fdca26\"],[1.0,\"#f0f921\"]],\"type\":\"histogram2d\"}],\"histogram\":[{\"marker\":{\"pattern\":{\"fillmode\":\"overlay\",\"size\":10,\"solidity\":0.2}},\"type\":\"histogram\"}],\"mesh3d\":[{\"colorbar\":{\"outlinewidth\":0,\"ticks\":\"\"},\"type\":\"mesh3d\"}],\"parcoords\":[{\"line\":{\"colorbar\":{\"outlinewidth\":0,\"ticks\":\"\"}},\"type\":\"parcoords\"}],\"pie\":[{\"automargin\":true,\"type\":\"pie\"}],\"scatter3d\":[{\"line\":{\"colorbar\":{\"outlinewidth\":0,\"ticks\":\"\"}},\"marker\":{\"colorbar\":{\"outlinewidth\":0,\"ticks\":\"\"}},\"type\":\"scatter3d\"}],\"scattercarpet\":[{\"marker\":{\"colorbar\":{\"outlinewidth\":0,\"ticks\":\"\"}},\"type\":\"scattercarpet\"}],\"scattergeo\":[{\"marker\":{\"colorbar\":{\"outlinewidth\":0,\"ticks\":\"\"}},\"type\":\"scattergeo\"}],\"scattergl\":[{\"marker\":{\"colorbar\":{\"outlinewidth\":0,\"ticks\":\"\"}},\"type\":\"scattergl\"}],\"scattermapbox\":[{\"marker\":{\"colorbar\":{\"outlinewidth\":0,\"ticks\":\"\"}},\"type\":\"scattermapbox\"}],\"scatterpolargl\":[{\"marker\":{\"colorbar\":{\"outlinewidth\":0,\"ticks\":\"\"}},\"type\":\"scatterpolargl\"}],\"scatterpolar\":[{\"marker\":{\"colorbar\":{\"outlinewidth\":0,\"ticks\":\"\"}},\"type\":\"scatterpolar\"}],\"scatter\":[{\"fillpattern\":{\"fillmode\":\"overlay\",\"size\":10,\"solidity\":0.2},\"type\":\"scatter\"}],\"scatterternary\":[{\"marker\":{\"colorbar\":{\"outlinewidth\":0,\"ticks\":\"\"}},\"type\":\"scatterternary\"}],\"surface\":[{\"colorbar\":{\"outlinewidth\":0,\"ticks\":\"\"},\"colorscale\":[[0.0,\"#0d0887\"],[0.1111111111111111,\"#46039f\"],[0.2222222222222222,\"#7201a8\"],[0.3333333333333333,\"#9c179e\"],[0.4444444444444444,\"#bd3786\"],[0.5555555555555556,\"#d8576b\"],[0.6666666666666666,\"#ed7953\"],[0.7777777777777778,\"#fb9f3a\"],[0.8888888888888888,\"#fdca26\"],[1.0,\"#f0f921\"]],\"type\":\"surface\"}],\"table\":[{\"cells\":{\"fill\":{\"color\":\"#EBF0F8\"},\"line\":{\"color\":\"white\"}},\"header\":{\"fill\":{\"color\":\"#C8D4E3\"},\"line\":{\"color\":\"white\"}},\"type\":\"table\"}]},\"layout\":{\"annotationdefaults\":{\"arrowcolor\":\"#2a3f5f\",\"arrowhead\":0,\"arrowwidth\":1},\"autotypenumbers\":\"strict\",\"coloraxis\":{\"colorbar\":{\"outlinewidth\":0,\"ticks\":\"\"}},\"colorscale\":{\"diverging\":[[0,\"#8e0152\"],[0.1,\"#c51b7d\"],[0.2,\"#de77ae\"],[0.3,\"#f1b6da\"],[0.4,\"#fde0ef\"],[0.5,\"#f7f7f7\"],[0.6,\"#e6f5d0\"],[0.7,\"#b8e186\"],[0.8,\"#7fbc41\"],[0.9,\"#4d9221\"],[1,\"#276419\"]],\"sequential\":[[0.0,\"#0d0887\"],[0.1111111111111111,\"#46039f\"],[0.2222222222222222,\"#7201a8\"],[0.3333333333333333,\"#9c179e\"],[0.4444444444444444,\"#bd3786\"],[0.5555555555555556,\"#d8576b\"],[0.6666666666666666,\"#ed7953\"],[0.7777777777777778,\"#fb9f3a\"],[0.8888888888888888,\"#fdca26\"],[1.0,\"#f0f921\"]],\"sequentialminus\":[[0.0,\"#0d0887\"],[0.1111111111111111,\"#46039f\"],[0.2222222222222222,\"#7201a8\"],[0.3333333333333333,\"#9c179e\"],[0.4444444444444444,\"#bd3786\"],[0.5555555555555556,\"#d8576b\"],[0.6666666666666666,\"#ed7953\"],[0.7777777777777778,\"#fb9f3a\"],[0.8888888888888888,\"#fdca26\"],[1.0,\"#f0f921\"]]},\"colorway\":[\"#636efa\",\"#EF553B\",\"#00cc96\",\"#ab63fa\",\"#FFA15A\",\"#19d3f3\",\"#FF6692\",\"#B6E880\",\"#FF97FF\",\"#FECB52\"],\"font\":{\"color\":\"#2a3f5f\"},\"geo\":{\"bgcolor\":\"white\",\"lakecolor\":\"white\",\"landcolor\":\"#E5ECF6\",\"showlakes\":true,\"showland\":true,\"subunitcolor\":\"white\"},\"hoverlabel\":{\"align\":\"left\"},\"hovermode\":\"closest\",\"mapbox\":{\"style\":\"light\"},\"paper_bgcolor\":\"white\",\"plot_bgcolor\":\"#E5ECF6\",\"polar\":{\"angularaxis\":{\"gridcolor\":\"white\",\"linecolor\":\"white\",\"ticks\":\"\"},\"bgcolor\":\"#E5ECF6\",\"radialaxis\":{\"gridcolor\":\"white\",\"linecolor\":\"white\",\"ticks\":\"\"}},\"scene\":{\"xaxis\":{\"backgroundcolor\":\"#E5ECF6\",\"gridcolor\":\"white\",\"gridwidth\":2,\"linecolor\":\"white\",\"showbackground\":true,\"ticks\":\"\",\"zerolinecolor\":\"white\"},\"yaxis\":{\"backgroundcolor\":\"#E5ECF6\",\"gridcolor\":\"white\",\"gridwidth\":2,\"linecolor\":\"white\",\"showbackground\":true,\"ticks\":\"\",\"zerolinecolor\":\"white\"},\"zaxis\":{\"backgroundcolor\":\"#E5ECF6\",\"gridcolor\":\"white\",\"gridwidth\":2,\"linecolor\":\"white\",\"showbackground\":true,\"ticks\":\"\",\"zerolinecolor\":\"white\"}},\"shapedefaults\":{\"line\":{\"color\":\"#2a3f5f\"}},\"ternary\":{\"aaxis\":{\"gridcolor\":\"white\",\"linecolor\":\"white\",\"ticks\":\"\"},\"baxis\":{\"gridcolor\":\"white\",\"linecolor\":\"white\",\"ticks\":\"\"},\"bgcolor\":\"#E5ECF6\",\"caxis\":{\"gridcolor\":\"white\",\"linecolor\":\"white\",\"ticks\":\"\"}},\"title\":{\"x\":0.05},\"xaxis\":{\"automargin\":true,\"gridcolor\":\"white\",\"linecolor\":\"white\",\"ticks\":\"\",\"title\":{\"standoff\":15},\"zerolinecolor\":\"white\",\"zerolinewidth\":2},\"yaxis\":{\"automargin\":true,\"gridcolor\":\"white\",\"linecolor\":\"white\",\"ticks\":\"\",\"title\":{\"standoff\":15},\"zerolinecolor\":\"white\",\"zerolinewidth\":2}}},\"title\":{\"font\":{\"color\":\"#4D5663\"},\"text\":\"GOOG 2022\"},\"xaxis\":{\"anchor\":\"y2\",\"gridcolor\":\"#E1E5ED\",\"rangeselector\":{\"bgcolor\":\"rgba(150, 200, 250, 1)\",\"buttons\":[{\"count\":1,\"label\":\"1m\",\"step\":\"month\",\"stepmode\":\"backward\"},{\"count\":1,\"label\":\"1y\",\"step\":\"year\",\"stepmode\":\"backward\"}],\"font\":{\"size\":13},\"visible\":false,\"x\":0,\"y\":0.9},\"rangeslider\":{\"visible\":false},\"showgrid\":true,\"tickfont\":{\"color\":\"#4D5663\"},\"title\":{\"font\":{\"color\":\"#4D5663\"},\"text\":\"\"},\"zerolinecolor\":\"#E1E5ED\"},\"yaxis\":{\"gridcolor\":\"#E1E5ED\",\"showgrid\":true,\"showticklabels\":false,\"tickfont\":{\"color\":\"#4D5663\"},\"title\":{\"font\":{\"color\":\"#4D5663\"},\"text\":\"\"},\"zerolinecolor\":\"#E1E5ED\"},\"yaxis2\":{\"domain\":[0.0,0.9],\"gridcolor\":\"#E1E5ED\",\"showgrid\":true,\"tickfont\":{\"color\":\"#4D5663\"},\"title\":{\"font\":{\"color\":\"#4D5663\"},\"text\":\"\"},\"zerolinecolor\":\"#E1E5ED\"}},                        {\"showLink\": true, \"linkText\": \"Export to plot.ly\", \"plotlyServerURL\": \"https://plot.ly\", \"responsive\": true}                    ).then(function(){\n",
       "                            \n",
       "var gd = document.getElementById('a18b1c51-3d39-470a-8810-98859c4aa2b1');\n",
       "var x = new MutationObserver(function (mutations, observer) {{\n",
       "        var display = window.getComputedStyle(gd).display;\n",
       "        if (!display || display === 'none') {{\n",
       "            console.log([gd, 'removed!']);\n",
       "            Plotly.purge(gd);\n",
       "            observer.disconnect();\n",
       "        }}\n",
       "}});\n",
       "\n",
       "// Listen for the removal of the full notebook cells\n",
       "var notebookContainer = gd.closest('#notebook-container');\n",
       "if (notebookContainer) {{\n",
       "    x.observe(notebookContainer, {childList: true});\n",
       "}}\n",
       "\n",
       "// Listen for the clearing of the current output cell\n",
       "var outputEl = gd.closest('.output');\n",
       "if (outputEl) {{\n",
       "    x.observe(outputEl, {childList: true});\n",
       "}}\n",
       "\n",
       "                        })                };                });            </script>        </div>"
      ]
     },
     "metadata": {},
     "output_type": "display_data"
    }
   ],
   "source": [
    "# To plot a candlestick plot, use the QuantFig class \n",
    "# and pass it the dataframe that contains your stock data. \n",
    "# Then, call the iplot() function of the QuantFig object:\n",
    "\n",
    "qf = cf.QuantFig(df, title='GOOG 2022', name='GOOG')\n",
    "\n",
    "qf.iplot()"
   ]
  },
  {
   "cell_type": "markdown",
   "metadata": {},
   "source": [
    "Like Plotly, the plot created by Cufflinks is interactive — you can zoom into parts of the plot that you want to focus on and hovering over a particular candlestick will display the trading details."
   ]
  },
  {
   "cell_type": "code",
   "execution_count": 109,
   "metadata": {},
   "outputs": [
    {
     "data": {
      "application/vnd.plotly.v1+json": {
       "config": {
        "linkText": "Export to plot.ly",
        "plotlyServerURL": "https://plot.ly",
        "showLink": true
       },
       "data": [
        {
         "close": [
          2901.48999,
          2888.330078,
          2753.070068,
          2751.02002,
          2740.090088,
          2771.47998,
          2800.350098,
          2832.959961,
          2782.6201170000004,
          2795.72998,
          2725.810059,
          2713.040039,
          2670.1298829999996,
          2601.840088,
          2607.439941,
          2534.709961,
          2584.800049,
          2582.419922,
          2665.790039,
          2713.969971,
          2757.570068,
          2960.72998,
          2853.01001,
          2860.320068,
          2778.76001,
          2784.26001,
          2829.060059,
          2772.050049,
          2682.600098,
          2706,
          2728.51001,
          2749.75,
          2646.169922,
          2609.350098,
          2588.050049,
          2551.699951,
          2653.469971,
          2690.389893,
          2697.820068,
          2683.360107,
          2695.030029,
          2686.159912,
          2642.439941,
          2529.290039,
          2545.570068,
          2677.320068,
          2653.639893,
          2609.51001,
          2534.820068,
          2593.209961,
          2673.810059,
          2692.01001,
          2736.030029,
          2729.570068,
          2805.550049,
          2770.070068,
          2826.23999,
          2830.429932,
          2839,
          2865,
          2852.889893,
          2792.98999,
          2814,
          2872.850098,
          2821.26001,
          2743.52002,
          2729.300049,
          2680.209961,
          2595.929932,
          2567.48999,
          2605.719971,
          2545.060059,
          2559.219971,
          2610.6201170000004,
          2564.909912,
          2498.75,
          2392.280029,
          2465,
          2390.1201170000004,
          2300.409912,
          2388.22998,
          2299.330078,
          2343.139893,
          2362.590088,
          2451.5,
          2334.929932,
          2313.199951,
          2261.679932,
          2291.689941,
          2279.219971,
          2263.219971,
          2330.310059,
          2295.850098,
          2334.030029,
          2248.02002,
          2214.909912,
          2186.26001,
          2233.330078,
          2118.52002,
          2116.790039,
          2165.919922,
          2255.97998,
          2280.780029,
          2282.73999,
          2354.919922,
          2291.280029,
          2340.209961,
          2344.590088,
          2344.76001,
          2298.360107,
          2228.550049,
          2137.530029,
          2143.8798829999996,
          2207.810059,
          2132.719971,
          2157.310059,
          2240.300049,
          2240.679932,
          2253.689941,
          2370.76001,
          2332.449951,
          2251.429932,
          2245.1298829999996
         ],
         "decreasing": {
          "line": {
           "color": "#db4052"
          }
         },
         "high": [
          2911,
          2932.199951,
          2885.959961,
          2793.719971,
          2765.094971,
          2772.800049,
          2806.590088,
          2856.284912,
          2863.709961,
          2824.01001,
          2747.830078,
          2767.98999,
          2758.23999,
          2695.209961,
          2615.570068,
          2586.77002,
          2656.149902,
          2652.198975,
          2667.409912,
          2716.8701170000004,
          2764,
          3042,
          2982.354004,
          2890.705078,
          2876.929932,
          2796.741943,
          2843.51001,
          2828.6201170000004,
          2785.665039,
          2723.330078,
          2758,
          2758.919922,
          2736.790039,
          2676.47998,
          2638.014893,
          2634.97998,
          2660.73999,
          2707.780029,
          2712.810059,
          2722.219971,
          2712.310059,
          2734.275879,
          2683.97998,
          2638.080078,
          2624.929932,
          2683.969971,
          2670.77002,
          2684,
          2620.52002,
          2610.344971,
          2675.419922,
          2694.790039,
          2738.27002,
          2751.649902,
          2830,
          2800.5,
          2827.929932,
          2839.189941,
          2839.530029,
          2883.25,
          2869.610107,
          2852.889893,
          2819,
          2880.875,
          2871.800049,
          2796.969971,
          2754.030029,
          2725,
          2658.783936,
          2648.469971,
          2613.11499,
          2614.205078,
          2574.23999,
          2618.074951,
          2638.469971,
          2606.149902,
          2509.040039,
          2465.560059,
          2455,
          2350,
          2408.77002,
          2379.199951,
          2346.790039,
          2386,
          2462.860107,
          2424.665039,
          2349.969971,
          2311.258057,
          2333.820068,
          2333.419922,
          2297.1298829999996,
          2361.699951,
          2332.149902,
          2344.550049,
          2313.913086,
          2271.75,
          2251,
          2240.110107,
          2127.899902,
          2130.894043,
          2179.10498,
          2257.360107,
          2328.669922,
          2347.97998,
          2357.959961,
          2327.290039,
          2387.969971,
          2354.9729,
          2372.919922,
          2367,
          2269.939941,
          2184.3701170000004,
          2169.149902,
          2241.26001,
          2185.810059,
          2184.98999,
          2253.459961,
          2275.389893,
          2263.929932,
          2372.75,
          2385,
          2357.1298829999996,
          2273.290039
         ],
         "increasing": {
          "line": {
           "color": "#008000"
          }
         },
         "low": [
          2870.050049,
          2876.322998,
          2750.469971,
          2735.27002,
          2715.780029,
          2662.810059,
          2736.27002,
          2822.23999,
          2778.280029,
          2750,
          2712.340088,
          2710,
          2662.889893,
          2600.02002,
          2492.839111,
          2527.560059,
          2543.070068,
          2578.899902,
          2573.889893,
          2645.47998,
          2691.36499,
          2911.149902,
          2844.100098,
          2796.350098,
          2773.97998,
          2737.459961,
          2807.540039,
          2761,
          2665.77002,
          2666.040039,
          2710.790039,
          2696.4729,
          2644.040039,
          2606.1411129999997,
          2554.820068,
          2550.070068,
          2495.290039,
          2635.300049,
          2656.5048829999996,
          2667.570068,
          2668.649902,
          2668.6201170000004,
          2608.169922,
          2528.199951,
          2517.215088,
          2601.76001,
          2628.02002,
          2605.929932,
          2528.26001,
          2531.360107,
          2584.02002,
          2654.3798829999996,
          2658.639893,
          2692.22998,
          2730,
          2763.330078,
          2760.788086,
          2793.98999,
          2796.5629879999997,
          2849.679932,
          2843.360107,
          2792.3798829999996,
          2775.939941,
          2816.48999,
          2818.8701170000004,
          2728.362061,
          2697.14502,
          2675.050049,
          2592.350098,
          2551.52002,
          2568.771973,
          2542.22998,
          2531.569092,
          2549.030029,
          2557.881104,
          2493,
          2382.810059,
          2375.38501,
          2383.237061,
          2262.485107,
          2302.87793,
          2293.8798829999996,
          2267.98999,
          2332.540039,
          2314.77002,
          2303.649902,
          2282.860107,
          2251.030029,
          2267.666016,
          2273,
          2202.27002,
          2280,
          2286.699951,
          2306.75,
          2242.840088,
          2209.360107,
          2127.459961,
          2183.084961,
          2044.160034,
          2084.225098,
          2109.76001,
          2191,
          2251.449951,
          2271.01001,
          2266.159912,
          2273.360107,
          2330.565918,
          2302.51001,
          2333.935059,
          2297.340088,
          2217.219971,
          2131.760986,
          2127.040039,
          2162.375,
          2115.850098,
          2112.571045,
          2185.8701170000004,
          2214.486084,
          2220.580078,
          2272.060059,
          2320.014893,
          2248.8798829999996,
          2231.080078
         ],
         "name": "GOOG",
         "open": [
          2889.51001,
          2911.01001,
          2883.6201170000004,
          2749.949951,
          2758.100098,
          2701.97998,
          2763.610107,
          2831.090088,
          2836.810059,
          2750,
          2732,
          2738.77002,
          2730.280029,
          2660.23999,
          2520.550049,
          2568.709961,
          2611.850098,
          2627.219971,
          2600,
          2683.959961,
          2756.699951,
          3037.27002,
          2905.899902,
          2860.340088,
          2874.179932,
          2779.824951,
          2816.9951170000004,
          2790,
          2775,
          2667.310059,
          2749.429932,
          2728.610107,
          2723,
          2660.75,
          2599.699951,
          2621.570068,
          2500,
          2670.51001,
          2665.689941,
          2689.600098,
          2692.165039,
          2719.570068,
          2667.649902,
          2638.080078,
          2525.01001,
          2628,
          2629.25,
          2679.98999,
          2611.459961,
          2554.830078,
          2620,
          2666.419922,
          2677.679932,
          2736.949951,
          2730,
          2782.77002,
          2785.449951,
          2835.080078,
          2813.689941,
          2863.209961,
          2857.399902,
          2848.969971,
          2800.199951,
          2816.48999,
          2867.98999,
          2783.22998,
          2732.360107,
          2725,
          2658,
          2648.469971,
          2572.530029,
          2612.98999,
          2548.199951,
          2561.540039,
          2625.679932,
          2587,
          2500,
          2388.590088,
          2455,
          2287.459961,
          2342.300049,
          2351.560059,
          2278.1298829999996,
          2335.300049,
          2360.070068,
          2404.409912,
          2310.3798829999996,
          2266.070068,
          2320.810059,
          2274.209961,
          2238.76001,
          2296.909912,
          2307.679932,
          2344.550049,
          2304.75,
          2236.820068,
          2241.709961,
          2202.080078,
          2127.550049,
          2102.840088,
          2121.01001,
          2195.77002,
          2261.580078,
          2298.6298829999996,
          2283.76001,
          2319.850098,
          2334.850098,
          2312.959961,
          2337.530029,
          2326.830078,
          2255.625,
          2148.919922,
          2137.800049,
          2177.98999,
          2162.98999,
          2130.699951,
          2194.040039,
          2223.26001,
          2259,
          2272.060059,
          2378.699951,
          2327.02002,
          2242.969971
         ],
         "showlegend": true,
         "type": "candlestick",
         "x": [
          "2022-01-03",
          "2022-01-04",
          "2022-01-05",
          "2022-01-06",
          "2022-01-07",
          "2022-01-10",
          "2022-01-11",
          "2022-01-12",
          "2022-01-13",
          "2022-01-14",
          "2022-01-18",
          "2022-01-19",
          "2022-01-20",
          "2022-01-21",
          "2022-01-24",
          "2022-01-25",
          "2022-01-26",
          "2022-01-27",
          "2022-01-28",
          "2022-01-31",
          "2022-02-01",
          "2022-02-02",
          "2022-02-03",
          "2022-02-04",
          "2022-02-07",
          "2022-02-08",
          "2022-02-09",
          "2022-02-10",
          "2022-02-11",
          "2022-02-14",
          "2022-02-15",
          "2022-02-16",
          "2022-02-17",
          "2022-02-18",
          "2022-02-22",
          "2022-02-23",
          "2022-02-24",
          "2022-02-25",
          "2022-02-28",
          "2022-03-01",
          "2022-03-02",
          "2022-03-03",
          "2022-03-04",
          "2022-03-07",
          "2022-03-08",
          "2022-03-09",
          "2022-03-10",
          "2022-03-11",
          "2022-03-14",
          "2022-03-15",
          "2022-03-16",
          "2022-03-17",
          "2022-03-18",
          "2022-03-21",
          "2022-03-22",
          "2022-03-23",
          "2022-03-24",
          "2022-03-25",
          "2022-03-28",
          "2022-03-29",
          "2022-03-30",
          "2022-03-31",
          "2022-04-01",
          "2022-04-04",
          "2022-04-05",
          "2022-04-06",
          "2022-04-07",
          "2022-04-08",
          "2022-04-11",
          "2022-04-12",
          "2022-04-13",
          "2022-04-14",
          "2022-04-18",
          "2022-04-19",
          "2022-04-20",
          "2022-04-21",
          "2022-04-22",
          "2022-04-25",
          "2022-04-26",
          "2022-04-27",
          "2022-04-28",
          "2022-04-29",
          "2022-05-02",
          "2022-05-03",
          "2022-05-04",
          "2022-05-05",
          "2022-05-06",
          "2022-05-09",
          "2022-05-10",
          "2022-05-11",
          "2022-05-12",
          "2022-05-13",
          "2022-05-16",
          "2022-05-17",
          "2022-05-18",
          "2022-05-19",
          "2022-05-20",
          "2022-05-23",
          "2022-05-24",
          "2022-05-25",
          "2022-05-26",
          "2022-05-27",
          "2022-05-31",
          "2022-06-01",
          "2022-06-02",
          "2022-06-03",
          "2022-06-06",
          "2022-06-07",
          "2022-06-08",
          "2022-06-09",
          "2022-06-10",
          "2022-06-13",
          "2022-06-14",
          "2022-06-15",
          "2022-06-16",
          "2022-06-17",
          "2022-06-21",
          "2022-06-22",
          "2022-06-23",
          "2022-06-24",
          "2022-06-27",
          "2022-06-28",
          "2022-06-29"
         ],
         "yaxis": "y2"
        }
       ],
       "layout": {
        "legend": {
         "bgcolor": "#F5F6F9",
         "font": {
          "color": "#4D5663"
         }
        },
        "margin": {
         "b": 30,
         "l": 30,
         "r": 30,
         "t": 30
        },
        "paper_bgcolor": "#F5F6F9",
        "plot_bgcolor": "#F5F6F9",
        "showlegend": true,
        "template": {
         "data": {
          "bar": [
           {
            "error_x": {
             "color": "#2a3f5f"
            },
            "error_y": {
             "color": "#2a3f5f"
            },
            "marker": {
             "line": {
              "color": "#E5ECF6",
              "width": 0.5
             },
             "pattern": {
              "fillmode": "overlay",
              "size": 10,
              "solidity": 0.2
             }
            },
            "type": "bar"
           }
          ],
          "barpolar": [
           {
            "marker": {
             "line": {
              "color": "#E5ECF6",
              "width": 0.5
             },
             "pattern": {
              "fillmode": "overlay",
              "size": 10,
              "solidity": 0.2
             }
            },
            "type": "barpolar"
           }
          ],
          "carpet": [
           {
            "aaxis": {
             "endlinecolor": "#2a3f5f",
             "gridcolor": "white",
             "linecolor": "white",
             "minorgridcolor": "white",
             "startlinecolor": "#2a3f5f"
            },
            "baxis": {
             "endlinecolor": "#2a3f5f",
             "gridcolor": "white",
             "linecolor": "white",
             "minorgridcolor": "white",
             "startlinecolor": "#2a3f5f"
            },
            "type": "carpet"
           }
          ],
          "choropleth": [
           {
            "colorbar": {
             "outlinewidth": 0,
             "ticks": ""
            },
            "type": "choropleth"
           }
          ],
          "contour": [
           {
            "colorbar": {
             "outlinewidth": 0,
             "ticks": ""
            },
            "colorscale": [
             [
              0,
              "#0d0887"
             ],
             [
              0.1111111111111111,
              "#46039f"
             ],
             [
              0.2222222222222222,
              "#7201a8"
             ],
             [
              0.3333333333333333,
              "#9c179e"
             ],
             [
              0.4444444444444444,
              "#bd3786"
             ],
             [
              0.5555555555555556,
              "#d8576b"
             ],
             [
              0.6666666666666666,
              "#ed7953"
             ],
             [
              0.7777777777777778,
              "#fb9f3a"
             ],
             [
              0.8888888888888888,
              "#fdca26"
             ],
             [
              1,
              "#f0f921"
             ]
            ],
            "type": "contour"
           }
          ],
          "contourcarpet": [
           {
            "colorbar": {
             "outlinewidth": 0,
             "ticks": ""
            },
            "type": "contourcarpet"
           }
          ],
          "heatmap": [
           {
            "colorbar": {
             "outlinewidth": 0,
             "ticks": ""
            },
            "colorscale": [
             [
              0,
              "#0d0887"
             ],
             [
              0.1111111111111111,
              "#46039f"
             ],
             [
              0.2222222222222222,
              "#7201a8"
             ],
             [
              0.3333333333333333,
              "#9c179e"
             ],
             [
              0.4444444444444444,
              "#bd3786"
             ],
             [
              0.5555555555555556,
              "#d8576b"
             ],
             [
              0.6666666666666666,
              "#ed7953"
             ],
             [
              0.7777777777777778,
              "#fb9f3a"
             ],
             [
              0.8888888888888888,
              "#fdca26"
             ],
             [
              1,
              "#f0f921"
             ]
            ],
            "type": "heatmap"
           }
          ],
          "heatmapgl": [
           {
            "colorbar": {
             "outlinewidth": 0,
             "ticks": ""
            },
            "colorscale": [
             [
              0,
              "#0d0887"
             ],
             [
              0.1111111111111111,
              "#46039f"
             ],
             [
              0.2222222222222222,
              "#7201a8"
             ],
             [
              0.3333333333333333,
              "#9c179e"
             ],
             [
              0.4444444444444444,
              "#bd3786"
             ],
             [
              0.5555555555555556,
              "#d8576b"
             ],
             [
              0.6666666666666666,
              "#ed7953"
             ],
             [
              0.7777777777777778,
              "#fb9f3a"
             ],
             [
              0.8888888888888888,
              "#fdca26"
             ],
             [
              1,
              "#f0f921"
             ]
            ],
            "type": "heatmapgl"
           }
          ],
          "histogram": [
           {
            "marker": {
             "pattern": {
              "fillmode": "overlay",
              "size": 10,
              "solidity": 0.2
             }
            },
            "type": "histogram"
           }
          ],
          "histogram2d": [
           {
            "colorbar": {
             "outlinewidth": 0,
             "ticks": ""
            },
            "colorscale": [
             [
              0,
              "#0d0887"
             ],
             [
              0.1111111111111111,
              "#46039f"
             ],
             [
              0.2222222222222222,
              "#7201a8"
             ],
             [
              0.3333333333333333,
              "#9c179e"
             ],
             [
              0.4444444444444444,
              "#bd3786"
             ],
             [
              0.5555555555555556,
              "#d8576b"
             ],
             [
              0.6666666666666666,
              "#ed7953"
             ],
             [
              0.7777777777777778,
              "#fb9f3a"
             ],
             [
              0.8888888888888888,
              "#fdca26"
             ],
             [
              1,
              "#f0f921"
             ]
            ],
            "type": "histogram2d"
           }
          ],
          "histogram2dcontour": [
           {
            "colorbar": {
             "outlinewidth": 0,
             "ticks": ""
            },
            "colorscale": [
             [
              0,
              "#0d0887"
             ],
             [
              0.1111111111111111,
              "#46039f"
             ],
             [
              0.2222222222222222,
              "#7201a8"
             ],
             [
              0.3333333333333333,
              "#9c179e"
             ],
             [
              0.4444444444444444,
              "#bd3786"
             ],
             [
              0.5555555555555556,
              "#d8576b"
             ],
             [
              0.6666666666666666,
              "#ed7953"
             ],
             [
              0.7777777777777778,
              "#fb9f3a"
             ],
             [
              0.8888888888888888,
              "#fdca26"
             ],
             [
              1,
              "#f0f921"
             ]
            ],
            "type": "histogram2dcontour"
           }
          ],
          "mesh3d": [
           {
            "colorbar": {
             "outlinewidth": 0,
             "ticks": ""
            },
            "type": "mesh3d"
           }
          ],
          "parcoords": [
           {
            "line": {
             "colorbar": {
              "outlinewidth": 0,
              "ticks": ""
             }
            },
            "type": "parcoords"
           }
          ],
          "pie": [
           {
            "automargin": true,
            "type": "pie"
           }
          ],
          "scatter": [
           {
            "fillpattern": {
             "fillmode": "overlay",
             "size": 10,
             "solidity": 0.2
            },
            "type": "scatter"
           }
          ],
          "scatter3d": [
           {
            "line": {
             "colorbar": {
              "outlinewidth": 0,
              "ticks": ""
             }
            },
            "marker": {
             "colorbar": {
              "outlinewidth": 0,
              "ticks": ""
             }
            },
            "type": "scatter3d"
           }
          ],
          "scattercarpet": [
           {
            "marker": {
             "colorbar": {
              "outlinewidth": 0,
              "ticks": ""
             }
            },
            "type": "scattercarpet"
           }
          ],
          "scattergeo": [
           {
            "marker": {
             "colorbar": {
              "outlinewidth": 0,
              "ticks": ""
             }
            },
            "type": "scattergeo"
           }
          ],
          "scattergl": [
           {
            "marker": {
             "colorbar": {
              "outlinewidth": 0,
              "ticks": ""
             }
            },
            "type": "scattergl"
           }
          ],
          "scattermapbox": [
           {
            "marker": {
             "colorbar": {
              "outlinewidth": 0,
              "ticks": ""
             }
            },
            "type": "scattermapbox"
           }
          ],
          "scatterpolar": [
           {
            "marker": {
             "colorbar": {
              "outlinewidth": 0,
              "ticks": ""
             }
            },
            "type": "scatterpolar"
           }
          ],
          "scatterpolargl": [
           {
            "marker": {
             "colorbar": {
              "outlinewidth": 0,
              "ticks": ""
             }
            },
            "type": "scatterpolargl"
           }
          ],
          "scatterternary": [
           {
            "marker": {
             "colorbar": {
              "outlinewidth": 0,
              "ticks": ""
             }
            },
            "type": "scatterternary"
           }
          ],
          "surface": [
           {
            "colorbar": {
             "outlinewidth": 0,
             "ticks": ""
            },
            "colorscale": [
             [
              0,
              "#0d0887"
             ],
             [
              0.1111111111111111,
              "#46039f"
             ],
             [
              0.2222222222222222,
              "#7201a8"
             ],
             [
              0.3333333333333333,
              "#9c179e"
             ],
             [
              0.4444444444444444,
              "#bd3786"
             ],
             [
              0.5555555555555556,
              "#d8576b"
             ],
             [
              0.6666666666666666,
              "#ed7953"
             ],
             [
              0.7777777777777778,
              "#fb9f3a"
             ],
             [
              0.8888888888888888,
              "#fdca26"
             ],
             [
              1,
              "#f0f921"
             ]
            ],
            "type": "surface"
           }
          ],
          "table": [
           {
            "cells": {
             "fill": {
              "color": "#EBF0F8"
             },
             "line": {
              "color": "white"
             }
            },
            "header": {
             "fill": {
              "color": "#C8D4E3"
             },
             "line": {
              "color": "white"
             }
            },
            "type": "table"
           }
          ]
         },
         "layout": {
          "annotationdefaults": {
           "arrowcolor": "#2a3f5f",
           "arrowhead": 0,
           "arrowwidth": 1
          },
          "autotypenumbers": "strict",
          "coloraxis": {
           "colorbar": {
            "outlinewidth": 0,
            "ticks": ""
           }
          },
          "colorscale": {
           "diverging": [
            [
             0,
             "#8e0152"
            ],
            [
             0.1,
             "#c51b7d"
            ],
            [
             0.2,
             "#de77ae"
            ],
            [
             0.3,
             "#f1b6da"
            ],
            [
             0.4,
             "#fde0ef"
            ],
            [
             0.5,
             "#f7f7f7"
            ],
            [
             0.6,
             "#e6f5d0"
            ],
            [
             0.7,
             "#b8e186"
            ],
            [
             0.8,
             "#7fbc41"
            ],
            [
             0.9,
             "#4d9221"
            ],
            [
             1,
             "#276419"
            ]
           ],
           "sequential": [
            [
             0,
             "#0d0887"
            ],
            [
             0.1111111111111111,
             "#46039f"
            ],
            [
             0.2222222222222222,
             "#7201a8"
            ],
            [
             0.3333333333333333,
             "#9c179e"
            ],
            [
             0.4444444444444444,
             "#bd3786"
            ],
            [
             0.5555555555555556,
             "#d8576b"
            ],
            [
             0.6666666666666666,
             "#ed7953"
            ],
            [
             0.7777777777777778,
             "#fb9f3a"
            ],
            [
             0.8888888888888888,
             "#fdca26"
            ],
            [
             1,
             "#f0f921"
            ]
           ],
           "sequentialminus": [
            [
             0,
             "#0d0887"
            ],
            [
             0.1111111111111111,
             "#46039f"
            ],
            [
             0.2222222222222222,
             "#7201a8"
            ],
            [
             0.3333333333333333,
             "#9c179e"
            ],
            [
             0.4444444444444444,
             "#bd3786"
            ],
            [
             0.5555555555555556,
             "#d8576b"
            ],
            [
             0.6666666666666666,
             "#ed7953"
            ],
            [
             0.7777777777777778,
             "#fb9f3a"
            ],
            [
             0.8888888888888888,
             "#fdca26"
            ],
            [
             1,
             "#f0f921"
            ]
           ]
          },
          "colorway": [
           "#636efa",
           "#EF553B",
           "#00cc96",
           "#ab63fa",
           "#FFA15A",
           "#19d3f3",
           "#FF6692",
           "#B6E880",
           "#FF97FF",
           "#FECB52"
          ],
          "font": {
           "color": "#2a3f5f"
          },
          "geo": {
           "bgcolor": "white",
           "lakecolor": "white",
           "landcolor": "#E5ECF6",
           "showlakes": true,
           "showland": true,
           "subunitcolor": "white"
          },
          "hoverlabel": {
           "align": "left"
          },
          "hovermode": "closest",
          "mapbox": {
           "style": "light"
          },
          "paper_bgcolor": "white",
          "plot_bgcolor": "#E5ECF6",
          "polar": {
           "angularaxis": {
            "gridcolor": "white",
            "linecolor": "white",
            "ticks": ""
           },
           "bgcolor": "#E5ECF6",
           "radialaxis": {
            "gridcolor": "white",
            "linecolor": "white",
            "ticks": ""
           }
          },
          "scene": {
           "xaxis": {
            "backgroundcolor": "#E5ECF6",
            "gridcolor": "white",
            "gridwidth": 2,
            "linecolor": "white",
            "showbackground": true,
            "ticks": "",
            "zerolinecolor": "white"
           },
           "yaxis": {
            "backgroundcolor": "#E5ECF6",
            "gridcolor": "white",
            "gridwidth": 2,
            "linecolor": "white",
            "showbackground": true,
            "ticks": "",
            "zerolinecolor": "white"
           },
           "zaxis": {
            "backgroundcolor": "#E5ECF6",
            "gridcolor": "white",
            "gridwidth": 2,
            "linecolor": "white",
            "showbackground": true,
            "ticks": "",
            "zerolinecolor": "white"
           }
          },
          "shapedefaults": {
           "line": {
            "color": "#2a3f5f"
           }
          },
          "ternary": {
           "aaxis": {
            "gridcolor": "white",
            "linecolor": "white",
            "ticks": ""
           },
           "baxis": {
            "gridcolor": "white",
            "linecolor": "white",
            "ticks": ""
           },
           "bgcolor": "#E5ECF6",
           "caxis": {
            "gridcolor": "white",
            "linecolor": "white",
            "ticks": ""
           }
          },
          "title": {
           "x": 0.05
          },
          "xaxis": {
           "automargin": true,
           "gridcolor": "white",
           "linecolor": "white",
           "ticks": "",
           "title": {
            "standoff": 15
           },
           "zerolinecolor": "white",
           "zerolinewidth": 2
          },
          "yaxis": {
           "automargin": true,
           "gridcolor": "white",
           "linecolor": "white",
           "ticks": "",
           "title": {
            "standoff": 15
           },
           "zerolinecolor": "white",
           "zerolinewidth": 2
          }
         }
        },
        "title": {
         "font": {
          "color": "#4D5663"
         },
         "text": "GOOG 2022"
        },
        "xaxis": {
         "anchor": "y2",
         "gridcolor": "#E1E5ED",
         "rangeselector": {
          "bgcolor": "rgba(150, 200, 250, 1)",
          "buttons": [
           {
            "count": 1,
            "label": "1m",
            "step": "month",
            "stepmode": "backward"
           },
           {
            "count": 1,
            "label": "1y",
            "step": "year",
            "stepmode": "backward"
           }
          ],
          "font": {
           "size": 13
          },
          "visible": false,
          "x": 0,
          "y": 0.9
         },
         "rangeslider": {
          "visible": false
         },
         "showgrid": true,
         "tickfont": {
          "color": "#4D5663"
         },
         "title": {
          "font": {
           "color": "#4D5663"
          },
          "text": ""
         },
         "zerolinecolor": "#E1E5ED"
        },
        "yaxis": {
         "gridcolor": "#E1E5ED",
         "showgrid": true,
         "showticklabels": false,
         "tickfont": {
          "color": "#4D5663"
         },
         "title": {
          "font": {
           "color": "#4D5663"
          },
          "text": ""
         },
         "zerolinecolor": "#E1E5ED"
        },
        "yaxis2": {
         "domain": [
          0,
          0.9
         ],
         "gridcolor": "#E1E5ED",
         "showgrid": true,
         "tickfont": {
          "color": "#4D5663"
         },
         "title": {
          "font": {
           "color": "#4D5663"
          },
          "text": ""
         },
         "zerolinecolor": "#E1E5ED"
        }
       }
      },
      "text/html": [
       "<div>                            <div id=\"3c1c6bb9-d101-4f5e-952f-0154d0d4bf51\" class=\"plotly-graph-div\" style=\"height:525px; width:100%;\"></div>            <script type=\"text/javascript\">                require([\"plotly\"], function(Plotly) {                    window.PLOTLYENV=window.PLOTLYENV || {};\n",
       "                    window.PLOTLYENV.BASE_URL='https://plot.ly';                                    if (document.getElementById(\"3c1c6bb9-d101-4f5e-952f-0154d0d4bf51\")) {                    Plotly.newPlot(                        \"3c1c6bb9-d101-4f5e-952f-0154d0d4bf51\",                        [{\"close\":[2901.48999,2888.330078,2753.070068,2751.02002,2740.090088,2771.47998,2800.350098,2832.959961,2782.6201170000004,2795.72998,2725.810059,2713.040039,2670.1298829999996,2601.840088,2607.439941,2534.709961,2584.800049,2582.419922,2665.790039,2713.969971,2757.570068,2960.72998,2853.01001,2860.320068,2778.76001,2784.26001,2829.060059,2772.050049,2682.600098,2706.0,2728.51001,2749.75,2646.169922,2609.350098,2588.050049,2551.699951,2653.469971,2690.389893,2697.820068,2683.360107,2695.030029,2686.159912,2642.439941,2529.290039,2545.570068,2677.320068,2653.639893,2609.51001,2534.820068,2593.209961,2673.810059,2692.01001,2736.030029,2729.570068,2805.550049,2770.070068,2826.23999,2830.429932,2839.0,2865.0,2852.889893,2792.98999,2814.0,2872.850098,2821.26001,2743.52002,2729.300049,2680.209961,2595.929932,2567.48999,2605.719971,2545.060059,2559.219971,2610.6201170000004,2564.909912,2498.75,2392.280029,2465.0,2390.1201170000004,2300.409912,2388.22998,2299.330078,2343.139893,2362.590088,2451.5,2334.929932,2313.199951,2261.679932,2291.689941,2279.219971,2263.219971,2330.310059,2295.850098,2334.030029,2248.02002,2214.909912,2186.26001,2233.330078,2118.52002,2116.790039,2165.919922,2255.97998,2280.780029,2282.73999,2354.919922,2291.280029,2340.209961,2344.590088,2344.76001,2298.360107,2228.550049,2137.530029,2143.8798829999996,2207.810059,2132.719971,2157.310059,2240.300049,2240.679932,2253.689941,2370.76001,2332.449951,2251.429932,2245.1298829999996],\"decreasing\":{\"line\":{\"color\":\"#db4052\"}},\"high\":[2911.0,2932.199951,2885.959961,2793.719971,2765.094971,2772.800049,2806.590088,2856.284912,2863.709961,2824.01001,2747.830078,2767.98999,2758.23999,2695.209961,2615.570068,2586.77002,2656.149902,2652.198975,2667.409912,2716.8701170000004,2764.0,3042.0,2982.354004,2890.705078,2876.929932,2796.741943,2843.51001,2828.6201170000004,2785.665039,2723.330078,2758.0,2758.919922,2736.790039,2676.47998,2638.014893,2634.97998,2660.73999,2707.780029,2712.810059,2722.219971,2712.310059,2734.275879,2683.97998,2638.080078,2624.929932,2683.969971,2670.77002,2684.0,2620.52002,2610.344971,2675.419922,2694.790039,2738.27002,2751.649902,2830.0,2800.5,2827.929932,2839.189941,2839.530029,2883.25,2869.610107,2852.889893,2819.0,2880.875,2871.800049,2796.969971,2754.030029,2725.0,2658.783936,2648.469971,2613.11499,2614.205078,2574.23999,2618.074951,2638.469971,2606.149902,2509.040039,2465.560059,2455.0,2350.0,2408.77002,2379.199951,2346.790039,2386.0,2462.860107,2424.665039,2349.969971,2311.258057,2333.820068,2333.419922,2297.1298829999996,2361.699951,2332.149902,2344.550049,2313.913086,2271.75,2251.0,2240.110107,2127.899902,2130.894043,2179.10498,2257.360107,2328.669922,2347.97998,2357.959961,2327.290039,2387.969971,2354.9729,2372.919922,2367.0,2269.939941,2184.3701170000004,2169.149902,2241.26001,2185.810059,2184.98999,2253.459961,2275.389893,2263.929932,2372.75,2385.0,2357.1298829999996,2273.290039],\"increasing\":{\"line\":{\"color\":\"#008000\"}},\"low\":[2870.050049,2876.322998,2750.469971,2735.27002,2715.780029,2662.810059,2736.27002,2822.23999,2778.280029,2750.0,2712.340088,2710.0,2662.889893,2600.02002,2492.839111,2527.560059,2543.070068,2578.899902,2573.889893,2645.47998,2691.36499,2911.149902,2844.100098,2796.350098,2773.97998,2737.459961,2807.540039,2761.0,2665.77002,2666.040039,2710.790039,2696.4729,2644.040039,2606.1411129999997,2554.820068,2550.070068,2495.290039,2635.300049,2656.5048829999996,2667.570068,2668.649902,2668.6201170000004,2608.169922,2528.199951,2517.215088,2601.76001,2628.02002,2605.929932,2528.26001,2531.360107,2584.02002,2654.3798829999996,2658.639893,2692.22998,2730.0,2763.330078,2760.788086,2793.98999,2796.5629879999997,2849.679932,2843.360107,2792.3798829999996,2775.939941,2816.48999,2818.8701170000004,2728.362061,2697.14502,2675.050049,2592.350098,2551.52002,2568.771973,2542.22998,2531.569092,2549.030029,2557.881104,2493.0,2382.810059,2375.38501,2383.237061,2262.485107,2302.87793,2293.8798829999996,2267.98999,2332.540039,2314.77002,2303.649902,2282.860107,2251.030029,2267.666016,2273.0,2202.27002,2280.0,2286.699951,2306.75,2242.840088,2209.360107,2127.459961,2183.084961,2044.160034,2084.225098,2109.76001,2191.0,2251.449951,2271.01001,2266.159912,2273.360107,2330.565918,2302.51001,2333.935059,2297.340088,2217.219971,2131.760986,2127.040039,2162.375,2115.850098,2112.571045,2185.8701170000004,2214.486084,2220.580078,2272.060059,2320.014893,2248.8798829999996,2231.080078],\"name\":\"GOOG\",\"open\":[2889.51001,2911.01001,2883.6201170000004,2749.949951,2758.100098,2701.97998,2763.610107,2831.090088,2836.810059,2750.0,2732.0,2738.77002,2730.280029,2660.23999,2520.550049,2568.709961,2611.850098,2627.219971,2600.0,2683.959961,2756.699951,3037.27002,2905.899902,2860.340088,2874.179932,2779.824951,2816.9951170000004,2790.0,2775.0,2667.310059,2749.429932,2728.610107,2723.0,2660.75,2599.699951,2621.570068,2500.0,2670.51001,2665.689941,2689.600098,2692.165039,2719.570068,2667.649902,2638.080078,2525.01001,2628.0,2629.25,2679.98999,2611.459961,2554.830078,2620.0,2666.419922,2677.679932,2736.949951,2730.0,2782.77002,2785.449951,2835.080078,2813.689941,2863.209961,2857.399902,2848.969971,2800.199951,2816.48999,2867.98999,2783.22998,2732.360107,2725.0,2658.0,2648.469971,2572.530029,2612.98999,2548.199951,2561.540039,2625.679932,2587.0,2500.0,2388.590088,2455.0,2287.459961,2342.300049,2351.560059,2278.1298829999996,2335.300049,2360.070068,2404.409912,2310.3798829999996,2266.070068,2320.810059,2274.209961,2238.76001,2296.909912,2307.679932,2344.550049,2304.75,2236.820068,2241.709961,2202.080078,2127.550049,2102.840088,2121.01001,2195.77002,2261.580078,2298.6298829999996,2283.76001,2319.850098,2334.850098,2312.959961,2337.530029,2326.830078,2255.625,2148.919922,2137.800049,2177.98999,2162.98999,2130.699951,2194.040039,2223.26001,2259.0,2272.060059,2378.699951,2327.02002,2242.969971],\"showlegend\":true,\"x\":[\"2022-01-03\",\"2022-01-04\",\"2022-01-05\",\"2022-01-06\",\"2022-01-07\",\"2022-01-10\",\"2022-01-11\",\"2022-01-12\",\"2022-01-13\",\"2022-01-14\",\"2022-01-18\",\"2022-01-19\",\"2022-01-20\",\"2022-01-21\",\"2022-01-24\",\"2022-01-25\",\"2022-01-26\",\"2022-01-27\",\"2022-01-28\",\"2022-01-31\",\"2022-02-01\",\"2022-02-02\",\"2022-02-03\",\"2022-02-04\",\"2022-02-07\",\"2022-02-08\",\"2022-02-09\",\"2022-02-10\",\"2022-02-11\",\"2022-02-14\",\"2022-02-15\",\"2022-02-16\",\"2022-02-17\",\"2022-02-18\",\"2022-02-22\",\"2022-02-23\",\"2022-02-24\",\"2022-02-25\",\"2022-02-28\",\"2022-03-01\",\"2022-03-02\",\"2022-03-03\",\"2022-03-04\",\"2022-03-07\",\"2022-03-08\",\"2022-03-09\",\"2022-03-10\",\"2022-03-11\",\"2022-03-14\",\"2022-03-15\",\"2022-03-16\",\"2022-03-17\",\"2022-03-18\",\"2022-03-21\",\"2022-03-22\",\"2022-03-23\",\"2022-03-24\",\"2022-03-25\",\"2022-03-28\",\"2022-03-29\",\"2022-03-30\",\"2022-03-31\",\"2022-04-01\",\"2022-04-04\",\"2022-04-05\",\"2022-04-06\",\"2022-04-07\",\"2022-04-08\",\"2022-04-11\",\"2022-04-12\",\"2022-04-13\",\"2022-04-14\",\"2022-04-18\",\"2022-04-19\",\"2022-04-20\",\"2022-04-21\",\"2022-04-22\",\"2022-04-25\",\"2022-04-26\",\"2022-04-27\",\"2022-04-28\",\"2022-04-29\",\"2022-05-02\",\"2022-05-03\",\"2022-05-04\",\"2022-05-05\",\"2022-05-06\",\"2022-05-09\",\"2022-05-10\",\"2022-05-11\",\"2022-05-12\",\"2022-05-13\",\"2022-05-16\",\"2022-05-17\",\"2022-05-18\",\"2022-05-19\",\"2022-05-20\",\"2022-05-23\",\"2022-05-24\",\"2022-05-25\",\"2022-05-26\",\"2022-05-27\",\"2022-05-31\",\"2022-06-01\",\"2022-06-02\",\"2022-06-03\",\"2022-06-06\",\"2022-06-07\",\"2022-06-08\",\"2022-06-09\",\"2022-06-10\",\"2022-06-13\",\"2022-06-14\",\"2022-06-15\",\"2022-06-16\",\"2022-06-17\",\"2022-06-21\",\"2022-06-22\",\"2022-06-23\",\"2022-06-24\",\"2022-06-27\",\"2022-06-28\",\"2022-06-29\"],\"yaxis\":\"y2\",\"type\":\"candlestick\"}],                        {\"legend\":{\"bgcolor\":\"#F5F6F9\",\"font\":{\"color\":\"#4D5663\"}},\"margin\":{\"b\":30,\"l\":30,\"r\":30,\"t\":30},\"paper_bgcolor\":\"#F5F6F9\",\"plot_bgcolor\":\"#F5F6F9\",\"showlegend\":true,\"template\":{\"data\":{\"barpolar\":[{\"marker\":{\"line\":{\"color\":\"#E5ECF6\",\"width\":0.5},\"pattern\":{\"fillmode\":\"overlay\",\"size\":10,\"solidity\":0.2}},\"type\":\"barpolar\"}],\"bar\":[{\"error_x\":{\"color\":\"#2a3f5f\"},\"error_y\":{\"color\":\"#2a3f5f\"},\"marker\":{\"line\":{\"color\":\"#E5ECF6\",\"width\":0.5},\"pattern\":{\"fillmode\":\"overlay\",\"size\":10,\"solidity\":0.2}},\"type\":\"bar\"}],\"carpet\":[{\"aaxis\":{\"endlinecolor\":\"#2a3f5f\",\"gridcolor\":\"white\",\"linecolor\":\"white\",\"minorgridcolor\":\"white\",\"startlinecolor\":\"#2a3f5f\"},\"baxis\":{\"endlinecolor\":\"#2a3f5f\",\"gridcolor\":\"white\",\"linecolor\":\"white\",\"minorgridcolor\":\"white\",\"startlinecolor\":\"#2a3f5f\"},\"type\":\"carpet\"}],\"choropleth\":[{\"colorbar\":{\"outlinewidth\":0,\"ticks\":\"\"},\"type\":\"choropleth\"}],\"contourcarpet\":[{\"colorbar\":{\"outlinewidth\":0,\"ticks\":\"\"},\"type\":\"contourcarpet\"}],\"contour\":[{\"colorbar\":{\"outlinewidth\":0,\"ticks\":\"\"},\"colorscale\":[[0.0,\"#0d0887\"],[0.1111111111111111,\"#46039f\"],[0.2222222222222222,\"#7201a8\"],[0.3333333333333333,\"#9c179e\"],[0.4444444444444444,\"#bd3786\"],[0.5555555555555556,\"#d8576b\"],[0.6666666666666666,\"#ed7953\"],[0.7777777777777778,\"#fb9f3a\"],[0.8888888888888888,\"#fdca26\"],[1.0,\"#f0f921\"]],\"type\":\"contour\"}],\"heatmapgl\":[{\"colorbar\":{\"outlinewidth\":0,\"ticks\":\"\"},\"colorscale\":[[0.0,\"#0d0887\"],[0.1111111111111111,\"#46039f\"],[0.2222222222222222,\"#7201a8\"],[0.3333333333333333,\"#9c179e\"],[0.4444444444444444,\"#bd3786\"],[0.5555555555555556,\"#d8576b\"],[0.6666666666666666,\"#ed7953\"],[0.7777777777777778,\"#fb9f3a\"],[0.8888888888888888,\"#fdca26\"],[1.0,\"#f0f921\"]],\"type\":\"heatmapgl\"}],\"heatmap\":[{\"colorbar\":{\"outlinewidth\":0,\"ticks\":\"\"},\"colorscale\":[[0.0,\"#0d0887\"],[0.1111111111111111,\"#46039f\"],[0.2222222222222222,\"#7201a8\"],[0.3333333333333333,\"#9c179e\"],[0.4444444444444444,\"#bd3786\"],[0.5555555555555556,\"#d8576b\"],[0.6666666666666666,\"#ed7953\"],[0.7777777777777778,\"#fb9f3a\"],[0.8888888888888888,\"#fdca26\"],[1.0,\"#f0f921\"]],\"type\":\"heatmap\"}],\"histogram2dcontour\":[{\"colorbar\":{\"outlinewidth\":0,\"ticks\":\"\"},\"colorscale\":[[0.0,\"#0d0887\"],[0.1111111111111111,\"#46039f\"],[0.2222222222222222,\"#7201a8\"],[0.3333333333333333,\"#9c179e\"],[0.4444444444444444,\"#bd3786\"],[0.5555555555555556,\"#d8576b\"],[0.6666666666666666,\"#ed7953\"],[0.7777777777777778,\"#fb9f3a\"],[0.8888888888888888,\"#fdca26\"],[1.0,\"#f0f921\"]],\"type\":\"histogram2dcontour\"}],\"histogram2d\":[{\"colorbar\":{\"outlinewidth\":0,\"ticks\":\"\"},\"colorscale\":[[0.0,\"#0d0887\"],[0.1111111111111111,\"#46039f\"],[0.2222222222222222,\"#7201a8\"],[0.3333333333333333,\"#9c179e\"],[0.4444444444444444,\"#bd3786\"],[0.5555555555555556,\"#d8576b\"],[0.6666666666666666,\"#ed7953\"],[0.7777777777777778,\"#fb9f3a\"],[0.8888888888888888,\"#fdca26\"],[1.0,\"#f0f921\"]],\"type\":\"histogram2d\"}],\"histogram\":[{\"marker\":{\"pattern\":{\"fillmode\":\"overlay\",\"size\":10,\"solidity\":0.2}},\"type\":\"histogram\"}],\"mesh3d\":[{\"colorbar\":{\"outlinewidth\":0,\"ticks\":\"\"},\"type\":\"mesh3d\"}],\"parcoords\":[{\"line\":{\"colorbar\":{\"outlinewidth\":0,\"ticks\":\"\"}},\"type\":\"parcoords\"}],\"pie\":[{\"automargin\":true,\"type\":\"pie\"}],\"scatter3d\":[{\"line\":{\"colorbar\":{\"outlinewidth\":0,\"ticks\":\"\"}},\"marker\":{\"colorbar\":{\"outlinewidth\":0,\"ticks\":\"\"}},\"type\":\"scatter3d\"}],\"scattercarpet\":[{\"marker\":{\"colorbar\":{\"outlinewidth\":0,\"ticks\":\"\"}},\"type\":\"scattercarpet\"}],\"scattergeo\":[{\"marker\":{\"colorbar\":{\"outlinewidth\":0,\"ticks\":\"\"}},\"type\":\"scattergeo\"}],\"scattergl\":[{\"marker\":{\"colorbar\":{\"outlinewidth\":0,\"ticks\":\"\"}},\"type\":\"scattergl\"}],\"scattermapbox\":[{\"marker\":{\"colorbar\":{\"outlinewidth\":0,\"ticks\":\"\"}},\"type\":\"scattermapbox\"}],\"scatterpolargl\":[{\"marker\":{\"colorbar\":{\"outlinewidth\":0,\"ticks\":\"\"}},\"type\":\"scatterpolargl\"}],\"scatterpolar\":[{\"marker\":{\"colorbar\":{\"outlinewidth\":0,\"ticks\":\"\"}},\"type\":\"scatterpolar\"}],\"scatter\":[{\"fillpattern\":{\"fillmode\":\"overlay\",\"size\":10,\"solidity\":0.2},\"type\":\"scatter\"}],\"scatterternary\":[{\"marker\":{\"colorbar\":{\"outlinewidth\":0,\"ticks\":\"\"}},\"type\":\"scatterternary\"}],\"surface\":[{\"colorbar\":{\"outlinewidth\":0,\"ticks\":\"\"},\"colorscale\":[[0.0,\"#0d0887\"],[0.1111111111111111,\"#46039f\"],[0.2222222222222222,\"#7201a8\"],[0.3333333333333333,\"#9c179e\"],[0.4444444444444444,\"#bd3786\"],[0.5555555555555556,\"#d8576b\"],[0.6666666666666666,\"#ed7953\"],[0.7777777777777778,\"#fb9f3a\"],[0.8888888888888888,\"#fdca26\"],[1.0,\"#f0f921\"]],\"type\":\"surface\"}],\"table\":[{\"cells\":{\"fill\":{\"color\":\"#EBF0F8\"},\"line\":{\"color\":\"white\"}},\"header\":{\"fill\":{\"color\":\"#C8D4E3\"},\"line\":{\"color\":\"white\"}},\"type\":\"table\"}]},\"layout\":{\"annotationdefaults\":{\"arrowcolor\":\"#2a3f5f\",\"arrowhead\":0,\"arrowwidth\":1},\"autotypenumbers\":\"strict\",\"coloraxis\":{\"colorbar\":{\"outlinewidth\":0,\"ticks\":\"\"}},\"colorscale\":{\"diverging\":[[0,\"#8e0152\"],[0.1,\"#c51b7d\"],[0.2,\"#de77ae\"],[0.3,\"#f1b6da\"],[0.4,\"#fde0ef\"],[0.5,\"#f7f7f7\"],[0.6,\"#e6f5d0\"],[0.7,\"#b8e186\"],[0.8,\"#7fbc41\"],[0.9,\"#4d9221\"],[1,\"#276419\"]],\"sequential\":[[0.0,\"#0d0887\"],[0.1111111111111111,\"#46039f\"],[0.2222222222222222,\"#7201a8\"],[0.3333333333333333,\"#9c179e\"],[0.4444444444444444,\"#bd3786\"],[0.5555555555555556,\"#d8576b\"],[0.6666666666666666,\"#ed7953\"],[0.7777777777777778,\"#fb9f3a\"],[0.8888888888888888,\"#fdca26\"],[1.0,\"#f0f921\"]],\"sequentialminus\":[[0.0,\"#0d0887\"],[0.1111111111111111,\"#46039f\"],[0.2222222222222222,\"#7201a8\"],[0.3333333333333333,\"#9c179e\"],[0.4444444444444444,\"#bd3786\"],[0.5555555555555556,\"#d8576b\"],[0.6666666666666666,\"#ed7953\"],[0.7777777777777778,\"#fb9f3a\"],[0.8888888888888888,\"#fdca26\"],[1.0,\"#f0f921\"]]},\"colorway\":[\"#636efa\",\"#EF553B\",\"#00cc96\",\"#ab63fa\",\"#FFA15A\",\"#19d3f3\",\"#FF6692\",\"#B6E880\",\"#FF97FF\",\"#FECB52\"],\"font\":{\"color\":\"#2a3f5f\"},\"geo\":{\"bgcolor\":\"white\",\"lakecolor\":\"white\",\"landcolor\":\"#E5ECF6\",\"showlakes\":true,\"showland\":true,\"subunitcolor\":\"white\"},\"hoverlabel\":{\"align\":\"left\"},\"hovermode\":\"closest\",\"mapbox\":{\"style\":\"light\"},\"paper_bgcolor\":\"white\",\"plot_bgcolor\":\"#E5ECF6\",\"polar\":{\"angularaxis\":{\"gridcolor\":\"white\",\"linecolor\":\"white\",\"ticks\":\"\"},\"bgcolor\":\"#E5ECF6\",\"radialaxis\":{\"gridcolor\":\"white\",\"linecolor\":\"white\",\"ticks\":\"\"}},\"scene\":{\"xaxis\":{\"backgroundcolor\":\"#E5ECF6\",\"gridcolor\":\"white\",\"gridwidth\":2,\"linecolor\":\"white\",\"showbackground\":true,\"ticks\":\"\",\"zerolinecolor\":\"white\"},\"yaxis\":{\"backgroundcolor\":\"#E5ECF6\",\"gridcolor\":\"white\",\"gridwidth\":2,\"linecolor\":\"white\",\"showbackground\":true,\"ticks\":\"\",\"zerolinecolor\":\"white\"},\"zaxis\":{\"backgroundcolor\":\"#E5ECF6\",\"gridcolor\":\"white\",\"gridwidth\":2,\"linecolor\":\"white\",\"showbackground\":true,\"ticks\":\"\",\"zerolinecolor\":\"white\"}},\"shapedefaults\":{\"line\":{\"color\":\"#2a3f5f\"}},\"ternary\":{\"aaxis\":{\"gridcolor\":\"white\",\"linecolor\":\"white\",\"ticks\":\"\"},\"baxis\":{\"gridcolor\":\"white\",\"linecolor\":\"white\",\"ticks\":\"\"},\"bgcolor\":\"#E5ECF6\",\"caxis\":{\"gridcolor\":\"white\",\"linecolor\":\"white\",\"ticks\":\"\"}},\"title\":{\"x\":0.05},\"xaxis\":{\"automargin\":true,\"gridcolor\":\"white\",\"linecolor\":\"white\",\"ticks\":\"\",\"title\":{\"standoff\":15},\"zerolinecolor\":\"white\",\"zerolinewidth\":2},\"yaxis\":{\"automargin\":true,\"gridcolor\":\"white\",\"linecolor\":\"white\",\"ticks\":\"\",\"title\":{\"standoff\":15},\"zerolinecolor\":\"white\",\"zerolinewidth\":2}}},\"title\":{\"font\":{\"color\":\"#4D5663\"},\"text\":\"GOOG 2022\"},\"xaxis\":{\"anchor\":\"y2\",\"gridcolor\":\"#E1E5ED\",\"rangeselector\":{\"bgcolor\":\"rgba(150, 200, 250, 1)\",\"buttons\":[{\"count\":1,\"label\":\"1m\",\"step\":\"month\",\"stepmode\":\"backward\"},{\"count\":1,\"label\":\"1y\",\"step\":\"year\",\"stepmode\":\"backward\"}],\"font\":{\"size\":13},\"visible\":false,\"x\":0,\"y\":0.9},\"rangeslider\":{\"visible\":false},\"showgrid\":true,\"tickfont\":{\"color\":\"#4D5663\"},\"title\":{\"font\":{\"color\":\"#4D5663\"},\"text\":\"\"},\"zerolinecolor\":\"#E1E5ED\"},\"yaxis\":{\"gridcolor\":\"#E1E5ED\",\"showgrid\":true,\"showticklabels\":false,\"tickfont\":{\"color\":\"#4D5663\"},\"title\":{\"font\":{\"color\":\"#4D5663\"},\"text\":\"\"},\"zerolinecolor\":\"#E1E5ED\"},\"yaxis2\":{\"domain\":[0.0,0.9],\"gridcolor\":\"#E1E5ED\",\"showgrid\":true,\"tickfont\":{\"color\":\"#4D5663\"},\"title\":{\"font\":{\"color\":\"#4D5663\"},\"text\":\"\"},\"zerolinecolor\":\"#E1E5ED\"}},                        {\"showLink\": true, \"linkText\": \"Export to plot.ly\", \"plotlyServerURL\": \"https://plot.ly\", \"responsive\": true}                    ).then(function(){\n",
       "                            \n",
       "var gd = document.getElementById('3c1c6bb9-d101-4f5e-952f-0154d0d4bf51');\n",
       "var x = new MutationObserver(function (mutations, observer) {{\n",
       "        var display = window.getComputedStyle(gd).display;\n",
       "        if (!display || display === 'none') {{\n",
       "            console.log([gd, 'removed!']);\n",
       "            Plotly.purge(gd);\n",
       "            observer.disconnect();\n",
       "        }}\n",
       "}});\n",
       "\n",
       "// Listen for the removal of the full notebook cells\n",
       "var notebookContainer = gd.closest('#notebook-container');\n",
       "if (notebookContainer) {{\n",
       "    x.observe(notebookContainer, {childList: true});\n",
       "}}\n",
       "\n",
       "// Listen for the clearing of the current output cell\n",
       "var outputEl = gd.closest('.output');\n",
       "if (outputEl) {{\n",
       "    x.observe(outputEl, {childList: true});\n",
       "}}\n",
       "\n",
       "                        })                };                });            </script>        </div>"
      ]
     },
     "metadata": {},
     "output_type": "display_data"
    }
   ],
   "source": [
    "# changing the colors to green and red\n",
    "\n",
    "qf = cf.QuantFig(df, title='GOOG 2022', name='GOOG',\n",
    "                up_color = 'green',\n",
    "                down_color = 'red')\n",
    "\n",
    "qf.iplot()"
   ]
  },
  {
   "cell_type": "markdown",
   "metadata": {},
   "source": [
    "## Adding Moving Averages to Cufflinks Plot\n",
    "You can also add additional charts easily to the current plot. For example, suppose you want to add a SMA (Simple Moving Average) plot using a 14-day period for the closing price. You can do this very easily using the add_sma() function."
   ]
  },
  {
   "cell_type": "code",
   "execution_count": 110,
   "metadata": {},
   "outputs": [
    {
     "data": {
      "application/vnd.plotly.v1+json": {
       "config": {
        "linkText": "Export to plot.ly",
        "plotlyServerURL": "https://plot.ly",
        "showLink": true
       },
       "data": [
        {
         "line": {
          "color": "rgba(55, 128, 191, 1.0)",
          "dash": "solid",
          "shape": "linear",
          "width": 1.3
         },
         "mode": "lines",
         "name": " SMA(14)",
         "text": "",
         "type": "scatter",
         "x": [
          "2022-01-03",
          "2022-01-04",
          "2022-01-05",
          "2022-01-06",
          "2022-01-07",
          "2022-01-10",
          "2022-01-11",
          "2022-01-12",
          "2022-01-13",
          "2022-01-14",
          "2022-01-18",
          "2022-01-19",
          "2022-01-20",
          "2022-01-21",
          "2022-01-24",
          "2022-01-25",
          "2022-01-26",
          "2022-01-27",
          "2022-01-28",
          "2022-01-31",
          "2022-02-01",
          "2022-02-02",
          "2022-02-03",
          "2022-02-04",
          "2022-02-07",
          "2022-02-08",
          "2022-02-09",
          "2022-02-10",
          "2022-02-11",
          "2022-02-14",
          "2022-02-15",
          "2022-02-16",
          "2022-02-17",
          "2022-02-18",
          "2022-02-22",
          "2022-02-23",
          "2022-02-24",
          "2022-02-25",
          "2022-02-28",
          "2022-03-01",
          "2022-03-02",
          "2022-03-03",
          "2022-03-04",
          "2022-03-07",
          "2022-03-08",
          "2022-03-09",
          "2022-03-10",
          "2022-03-11",
          "2022-03-14",
          "2022-03-15",
          "2022-03-16",
          "2022-03-17",
          "2022-03-18",
          "2022-03-21",
          "2022-03-22",
          "2022-03-23",
          "2022-03-24",
          "2022-03-25",
          "2022-03-28",
          "2022-03-29",
          "2022-03-30",
          "2022-03-31",
          "2022-04-01",
          "2022-04-04",
          "2022-04-05",
          "2022-04-06",
          "2022-04-07",
          "2022-04-08",
          "2022-04-11",
          "2022-04-12",
          "2022-04-13",
          "2022-04-14",
          "2022-04-18",
          "2022-04-19",
          "2022-04-20",
          "2022-04-21",
          "2022-04-22",
          "2022-04-25",
          "2022-04-26",
          "2022-04-27",
          "2022-04-28",
          "2022-04-29",
          "2022-05-02",
          "2022-05-03",
          "2022-05-04",
          "2022-05-05",
          "2022-05-06",
          "2022-05-09",
          "2022-05-10",
          "2022-05-11",
          "2022-05-12",
          "2022-05-13",
          "2022-05-16",
          "2022-05-17",
          "2022-05-18",
          "2022-05-19",
          "2022-05-20",
          "2022-05-23",
          "2022-05-24",
          "2022-05-25",
          "2022-05-26",
          "2022-05-27",
          "2022-05-31",
          "2022-06-01",
          "2022-06-02",
          "2022-06-03",
          "2022-06-06",
          "2022-06-07",
          "2022-06-08",
          "2022-06-09",
          "2022-06-10",
          "2022-06-13",
          "2022-06-14",
          "2022-06-15",
          "2022-06-16",
          "2022-06-17",
          "2022-06-21",
          "2022-06-22",
          "2022-06-23",
          "2022-06-24",
          "2022-06-27",
          "2022-06-28",
          "2022-06-29"
         ],
         "y": [
          "",
          "",
          "",
          "",
          "",
          "",
          "",
          "",
          "",
          "",
          "",
          "",
          "",
          2766.2828892142857,
          2745.279314285714,
          2720.0207344999994,
          2708.001447428571,
          2695.958583285714,
          2690.6514369285715,
          2686.5435791428567,
          2683.4878627142853,
          2692.614292642856,
          2697.6421421428563,
          2702.2557198571417,
          2706.0378592142843,
          2711.1249999999986,
          2722.47715542857,
          2734.635009785713,
          2740.0035924285703,
          2752.2385952142845,
          2762.5035924285703,
          2774.455740857142,
          2773.0543039285703,
          2765.5814558571424,
          2753.4728830714275,
          2724.256452428571,
          2710.0035924999997,
          2697.8657228571424,
          2692.084298428571,
          2684.8771625,
          2675.303588928571,
          2669.168579142857,
          2666.2999964999995,
          2653.677856428571,
          2640.6107177142853,
          2635.437151142857,
          2635.9707205,
          2635.9821427857137,
          2632.180001285714,
          2635.1450019999997,
          2636.5978654285714,
          2636.713588071428,
          2639.4428709999997,
          2642.7435825,
          2650.637869642857,
          2656.631452214285,
          2669.760027142857,
          2691.2700194999998,
          2712.2293003571426,
          2725.635009785714,
          2739.8671526428566,
          2752.9728655,
          2772.9142892142854,
          2792.8885847142856,
          2803.420724071428,
          2807.1000104999994,
          2806.6192976428565,
          2803.0935757142847,
          2788.120710214285,
          2773.6507046428565,
          2757.8992747142847,
          2737.515712357142,
          2717.531424571428,
          2699.3614329285706,
          2678.791434285714,
          2657.7742921428567,
          2627.651437071428,
          2598.5192872142848,
          2567.7235805714276,
          2536.0728585714282,
          2511.7107107857146,
          2484.505004857143,
          2466.4485735000003,
          2451.8128662142853,
          2440.797154,
          2425.787859214285,
          2408.215000642857,
          2383.2907017142857,
          2363.7749894999993,
          2348.0942731428563,
          2338.8756975714277,
          2329.2549874999995,
          2322.5214147142856,
          2324.922851642857,
          2314.9078544999998,
          2308.877842642857,
          2297.6721367142854,
          2288.4392788571427,
          2264.6549945714282,
          2249.073573642857,
          2238.553571571428,
          2238.146432142857,
          2237.3671527142856,
          2237.618582642857,
          2244.168579142857,
          2241.380719857143,
          2244.5492815000002,
          2245.3035714285716,
          2252.2135707142857,
          2258.1742989285713,
          2261.195016,
          2254.352155357143,
          2256.163574142857,
          2262.6650041428575,
          2260.2935790714287,
          2253.2457275714287,
          2250.3543004285716,
          2247.350010571429,
          2240.119297642857,
          2245.796439142857,
          2245.2421527142856,
          2238.5878558571426,
          2231.471418214285
         ],
         "yaxis": "y2"
        },
        {
         "close": [
          2901.48999,
          2888.330078,
          2753.070068,
          2751.02002,
          2740.090088,
          2771.47998,
          2800.350098,
          2832.959961,
          2782.6201170000004,
          2795.72998,
          2725.810059,
          2713.040039,
          2670.1298829999996,
          2601.840088,
          2607.439941,
          2534.709961,
          2584.800049,
          2582.419922,
          2665.790039,
          2713.969971,
          2757.570068,
          2960.72998,
          2853.01001,
          2860.320068,
          2778.76001,
          2784.26001,
          2829.060059,
          2772.050049,
          2682.600098,
          2706,
          2728.51001,
          2749.75,
          2646.169922,
          2609.350098,
          2588.050049,
          2551.699951,
          2653.469971,
          2690.389893,
          2697.820068,
          2683.360107,
          2695.030029,
          2686.159912,
          2642.439941,
          2529.290039,
          2545.570068,
          2677.320068,
          2653.639893,
          2609.51001,
          2534.820068,
          2593.209961,
          2673.810059,
          2692.01001,
          2736.030029,
          2729.570068,
          2805.550049,
          2770.070068,
          2826.23999,
          2830.429932,
          2839,
          2865,
          2852.889893,
          2792.98999,
          2814,
          2872.850098,
          2821.26001,
          2743.52002,
          2729.300049,
          2680.209961,
          2595.929932,
          2567.48999,
          2605.719971,
          2545.060059,
          2559.219971,
          2610.6201170000004,
          2564.909912,
          2498.75,
          2392.280029,
          2465,
          2390.1201170000004,
          2300.409912,
          2388.22998,
          2299.330078,
          2343.139893,
          2362.590088,
          2451.5,
          2334.929932,
          2313.199951,
          2261.679932,
          2291.689941,
          2279.219971,
          2263.219971,
          2330.310059,
          2295.850098,
          2334.030029,
          2248.02002,
          2214.909912,
          2186.26001,
          2233.330078,
          2118.52002,
          2116.790039,
          2165.919922,
          2255.97998,
          2280.780029,
          2282.73999,
          2354.919922,
          2291.280029,
          2340.209961,
          2344.590088,
          2344.76001,
          2298.360107,
          2228.550049,
          2137.530029,
          2143.8798829999996,
          2207.810059,
          2132.719971,
          2157.310059,
          2240.300049,
          2240.679932,
          2253.689941,
          2370.76001,
          2332.449951,
          2251.429932,
          2245.1298829999996
         ],
         "decreasing": {
          "line": {
           "color": "#db4052"
          }
         },
         "high": [
          2911,
          2932.199951,
          2885.959961,
          2793.719971,
          2765.094971,
          2772.800049,
          2806.590088,
          2856.284912,
          2863.709961,
          2824.01001,
          2747.830078,
          2767.98999,
          2758.23999,
          2695.209961,
          2615.570068,
          2586.77002,
          2656.149902,
          2652.198975,
          2667.409912,
          2716.8701170000004,
          2764,
          3042,
          2982.354004,
          2890.705078,
          2876.929932,
          2796.741943,
          2843.51001,
          2828.6201170000004,
          2785.665039,
          2723.330078,
          2758,
          2758.919922,
          2736.790039,
          2676.47998,
          2638.014893,
          2634.97998,
          2660.73999,
          2707.780029,
          2712.810059,
          2722.219971,
          2712.310059,
          2734.275879,
          2683.97998,
          2638.080078,
          2624.929932,
          2683.969971,
          2670.77002,
          2684,
          2620.52002,
          2610.344971,
          2675.419922,
          2694.790039,
          2738.27002,
          2751.649902,
          2830,
          2800.5,
          2827.929932,
          2839.189941,
          2839.530029,
          2883.25,
          2869.610107,
          2852.889893,
          2819,
          2880.875,
          2871.800049,
          2796.969971,
          2754.030029,
          2725,
          2658.783936,
          2648.469971,
          2613.11499,
          2614.205078,
          2574.23999,
          2618.074951,
          2638.469971,
          2606.149902,
          2509.040039,
          2465.560059,
          2455,
          2350,
          2408.77002,
          2379.199951,
          2346.790039,
          2386,
          2462.860107,
          2424.665039,
          2349.969971,
          2311.258057,
          2333.820068,
          2333.419922,
          2297.1298829999996,
          2361.699951,
          2332.149902,
          2344.550049,
          2313.913086,
          2271.75,
          2251,
          2240.110107,
          2127.899902,
          2130.894043,
          2179.10498,
          2257.360107,
          2328.669922,
          2347.97998,
          2357.959961,
          2327.290039,
          2387.969971,
          2354.9729,
          2372.919922,
          2367,
          2269.939941,
          2184.3701170000004,
          2169.149902,
          2241.26001,
          2185.810059,
          2184.98999,
          2253.459961,
          2275.389893,
          2263.929932,
          2372.75,
          2385,
          2357.1298829999996,
          2273.290039
         ],
         "increasing": {
          "line": {
           "color": "#008000"
          }
         },
         "low": [
          2870.050049,
          2876.322998,
          2750.469971,
          2735.27002,
          2715.780029,
          2662.810059,
          2736.27002,
          2822.23999,
          2778.280029,
          2750,
          2712.340088,
          2710,
          2662.889893,
          2600.02002,
          2492.839111,
          2527.560059,
          2543.070068,
          2578.899902,
          2573.889893,
          2645.47998,
          2691.36499,
          2911.149902,
          2844.100098,
          2796.350098,
          2773.97998,
          2737.459961,
          2807.540039,
          2761,
          2665.77002,
          2666.040039,
          2710.790039,
          2696.4729,
          2644.040039,
          2606.1411129999997,
          2554.820068,
          2550.070068,
          2495.290039,
          2635.300049,
          2656.5048829999996,
          2667.570068,
          2668.649902,
          2668.6201170000004,
          2608.169922,
          2528.199951,
          2517.215088,
          2601.76001,
          2628.02002,
          2605.929932,
          2528.26001,
          2531.360107,
          2584.02002,
          2654.3798829999996,
          2658.639893,
          2692.22998,
          2730,
          2763.330078,
          2760.788086,
          2793.98999,
          2796.5629879999997,
          2849.679932,
          2843.360107,
          2792.3798829999996,
          2775.939941,
          2816.48999,
          2818.8701170000004,
          2728.362061,
          2697.14502,
          2675.050049,
          2592.350098,
          2551.52002,
          2568.771973,
          2542.22998,
          2531.569092,
          2549.030029,
          2557.881104,
          2493,
          2382.810059,
          2375.38501,
          2383.237061,
          2262.485107,
          2302.87793,
          2293.8798829999996,
          2267.98999,
          2332.540039,
          2314.77002,
          2303.649902,
          2282.860107,
          2251.030029,
          2267.666016,
          2273,
          2202.27002,
          2280,
          2286.699951,
          2306.75,
          2242.840088,
          2209.360107,
          2127.459961,
          2183.084961,
          2044.160034,
          2084.225098,
          2109.76001,
          2191,
          2251.449951,
          2271.01001,
          2266.159912,
          2273.360107,
          2330.565918,
          2302.51001,
          2333.935059,
          2297.340088,
          2217.219971,
          2131.760986,
          2127.040039,
          2162.375,
          2115.850098,
          2112.571045,
          2185.8701170000004,
          2214.486084,
          2220.580078,
          2272.060059,
          2320.014893,
          2248.8798829999996,
          2231.080078
         ],
         "name": "GOOG",
         "open": [
          2889.51001,
          2911.01001,
          2883.6201170000004,
          2749.949951,
          2758.100098,
          2701.97998,
          2763.610107,
          2831.090088,
          2836.810059,
          2750,
          2732,
          2738.77002,
          2730.280029,
          2660.23999,
          2520.550049,
          2568.709961,
          2611.850098,
          2627.219971,
          2600,
          2683.959961,
          2756.699951,
          3037.27002,
          2905.899902,
          2860.340088,
          2874.179932,
          2779.824951,
          2816.9951170000004,
          2790,
          2775,
          2667.310059,
          2749.429932,
          2728.610107,
          2723,
          2660.75,
          2599.699951,
          2621.570068,
          2500,
          2670.51001,
          2665.689941,
          2689.600098,
          2692.165039,
          2719.570068,
          2667.649902,
          2638.080078,
          2525.01001,
          2628,
          2629.25,
          2679.98999,
          2611.459961,
          2554.830078,
          2620,
          2666.419922,
          2677.679932,
          2736.949951,
          2730,
          2782.77002,
          2785.449951,
          2835.080078,
          2813.689941,
          2863.209961,
          2857.399902,
          2848.969971,
          2800.199951,
          2816.48999,
          2867.98999,
          2783.22998,
          2732.360107,
          2725,
          2658,
          2648.469971,
          2572.530029,
          2612.98999,
          2548.199951,
          2561.540039,
          2625.679932,
          2587,
          2500,
          2388.590088,
          2455,
          2287.459961,
          2342.300049,
          2351.560059,
          2278.1298829999996,
          2335.300049,
          2360.070068,
          2404.409912,
          2310.3798829999996,
          2266.070068,
          2320.810059,
          2274.209961,
          2238.76001,
          2296.909912,
          2307.679932,
          2344.550049,
          2304.75,
          2236.820068,
          2241.709961,
          2202.080078,
          2127.550049,
          2102.840088,
          2121.01001,
          2195.77002,
          2261.580078,
          2298.6298829999996,
          2283.76001,
          2319.850098,
          2334.850098,
          2312.959961,
          2337.530029,
          2326.830078,
          2255.625,
          2148.919922,
          2137.800049,
          2177.98999,
          2162.98999,
          2130.699951,
          2194.040039,
          2223.26001,
          2259,
          2272.060059,
          2378.699951,
          2327.02002,
          2242.969971
         ],
         "showlegend": true,
         "type": "candlestick",
         "x": [
          "2022-01-03",
          "2022-01-04",
          "2022-01-05",
          "2022-01-06",
          "2022-01-07",
          "2022-01-10",
          "2022-01-11",
          "2022-01-12",
          "2022-01-13",
          "2022-01-14",
          "2022-01-18",
          "2022-01-19",
          "2022-01-20",
          "2022-01-21",
          "2022-01-24",
          "2022-01-25",
          "2022-01-26",
          "2022-01-27",
          "2022-01-28",
          "2022-01-31",
          "2022-02-01",
          "2022-02-02",
          "2022-02-03",
          "2022-02-04",
          "2022-02-07",
          "2022-02-08",
          "2022-02-09",
          "2022-02-10",
          "2022-02-11",
          "2022-02-14",
          "2022-02-15",
          "2022-02-16",
          "2022-02-17",
          "2022-02-18",
          "2022-02-22",
          "2022-02-23",
          "2022-02-24",
          "2022-02-25",
          "2022-02-28",
          "2022-03-01",
          "2022-03-02",
          "2022-03-03",
          "2022-03-04",
          "2022-03-07",
          "2022-03-08",
          "2022-03-09",
          "2022-03-10",
          "2022-03-11",
          "2022-03-14",
          "2022-03-15",
          "2022-03-16",
          "2022-03-17",
          "2022-03-18",
          "2022-03-21",
          "2022-03-22",
          "2022-03-23",
          "2022-03-24",
          "2022-03-25",
          "2022-03-28",
          "2022-03-29",
          "2022-03-30",
          "2022-03-31",
          "2022-04-01",
          "2022-04-04",
          "2022-04-05",
          "2022-04-06",
          "2022-04-07",
          "2022-04-08",
          "2022-04-11",
          "2022-04-12",
          "2022-04-13",
          "2022-04-14",
          "2022-04-18",
          "2022-04-19",
          "2022-04-20",
          "2022-04-21",
          "2022-04-22",
          "2022-04-25",
          "2022-04-26",
          "2022-04-27",
          "2022-04-28",
          "2022-04-29",
          "2022-05-02",
          "2022-05-03",
          "2022-05-04",
          "2022-05-05",
          "2022-05-06",
          "2022-05-09",
          "2022-05-10",
          "2022-05-11",
          "2022-05-12",
          "2022-05-13",
          "2022-05-16",
          "2022-05-17",
          "2022-05-18",
          "2022-05-19",
          "2022-05-20",
          "2022-05-23",
          "2022-05-24",
          "2022-05-25",
          "2022-05-26",
          "2022-05-27",
          "2022-05-31",
          "2022-06-01",
          "2022-06-02",
          "2022-06-03",
          "2022-06-06",
          "2022-06-07",
          "2022-06-08",
          "2022-06-09",
          "2022-06-10",
          "2022-06-13",
          "2022-06-14",
          "2022-06-15",
          "2022-06-16",
          "2022-06-17",
          "2022-06-21",
          "2022-06-22",
          "2022-06-23",
          "2022-06-24",
          "2022-06-27",
          "2022-06-28",
          "2022-06-29"
         ],
         "yaxis": "y2"
        }
       ],
       "layout": {
        "legend": {
         "bgcolor": "#F5F6F9",
         "font": {
          "color": "#4D5663"
         }
        },
        "margin": {
         "b": 30,
         "l": 30,
         "r": 30,
         "t": 30
        },
        "paper_bgcolor": "#F5F6F9",
        "plot_bgcolor": "#F5F6F9",
        "showlegend": true,
        "template": {
         "data": {
          "bar": [
           {
            "error_x": {
             "color": "#2a3f5f"
            },
            "error_y": {
             "color": "#2a3f5f"
            },
            "marker": {
             "line": {
              "color": "#E5ECF6",
              "width": 0.5
             },
             "pattern": {
              "fillmode": "overlay",
              "size": 10,
              "solidity": 0.2
             }
            },
            "type": "bar"
           }
          ],
          "barpolar": [
           {
            "marker": {
             "line": {
              "color": "#E5ECF6",
              "width": 0.5
             },
             "pattern": {
              "fillmode": "overlay",
              "size": 10,
              "solidity": 0.2
             }
            },
            "type": "barpolar"
           }
          ],
          "carpet": [
           {
            "aaxis": {
             "endlinecolor": "#2a3f5f",
             "gridcolor": "white",
             "linecolor": "white",
             "minorgridcolor": "white",
             "startlinecolor": "#2a3f5f"
            },
            "baxis": {
             "endlinecolor": "#2a3f5f",
             "gridcolor": "white",
             "linecolor": "white",
             "minorgridcolor": "white",
             "startlinecolor": "#2a3f5f"
            },
            "type": "carpet"
           }
          ],
          "choropleth": [
           {
            "colorbar": {
             "outlinewidth": 0,
             "ticks": ""
            },
            "type": "choropleth"
           }
          ],
          "contour": [
           {
            "colorbar": {
             "outlinewidth": 0,
             "ticks": ""
            },
            "colorscale": [
             [
              0,
              "#0d0887"
             ],
             [
              0.1111111111111111,
              "#46039f"
             ],
             [
              0.2222222222222222,
              "#7201a8"
             ],
             [
              0.3333333333333333,
              "#9c179e"
             ],
             [
              0.4444444444444444,
              "#bd3786"
             ],
             [
              0.5555555555555556,
              "#d8576b"
             ],
             [
              0.6666666666666666,
              "#ed7953"
             ],
             [
              0.7777777777777778,
              "#fb9f3a"
             ],
             [
              0.8888888888888888,
              "#fdca26"
             ],
             [
              1,
              "#f0f921"
             ]
            ],
            "type": "contour"
           }
          ],
          "contourcarpet": [
           {
            "colorbar": {
             "outlinewidth": 0,
             "ticks": ""
            },
            "type": "contourcarpet"
           }
          ],
          "heatmap": [
           {
            "colorbar": {
             "outlinewidth": 0,
             "ticks": ""
            },
            "colorscale": [
             [
              0,
              "#0d0887"
             ],
             [
              0.1111111111111111,
              "#46039f"
             ],
             [
              0.2222222222222222,
              "#7201a8"
             ],
             [
              0.3333333333333333,
              "#9c179e"
             ],
             [
              0.4444444444444444,
              "#bd3786"
             ],
             [
              0.5555555555555556,
              "#d8576b"
             ],
             [
              0.6666666666666666,
              "#ed7953"
             ],
             [
              0.7777777777777778,
              "#fb9f3a"
             ],
             [
              0.8888888888888888,
              "#fdca26"
             ],
             [
              1,
              "#f0f921"
             ]
            ],
            "type": "heatmap"
           }
          ],
          "heatmapgl": [
           {
            "colorbar": {
             "outlinewidth": 0,
             "ticks": ""
            },
            "colorscale": [
             [
              0,
              "#0d0887"
             ],
             [
              0.1111111111111111,
              "#46039f"
             ],
             [
              0.2222222222222222,
              "#7201a8"
             ],
             [
              0.3333333333333333,
              "#9c179e"
             ],
             [
              0.4444444444444444,
              "#bd3786"
             ],
             [
              0.5555555555555556,
              "#d8576b"
             ],
             [
              0.6666666666666666,
              "#ed7953"
             ],
             [
              0.7777777777777778,
              "#fb9f3a"
             ],
             [
              0.8888888888888888,
              "#fdca26"
             ],
             [
              1,
              "#f0f921"
             ]
            ],
            "type": "heatmapgl"
           }
          ],
          "histogram": [
           {
            "marker": {
             "pattern": {
              "fillmode": "overlay",
              "size": 10,
              "solidity": 0.2
             }
            },
            "type": "histogram"
           }
          ],
          "histogram2d": [
           {
            "colorbar": {
             "outlinewidth": 0,
             "ticks": ""
            },
            "colorscale": [
             [
              0,
              "#0d0887"
             ],
             [
              0.1111111111111111,
              "#46039f"
             ],
             [
              0.2222222222222222,
              "#7201a8"
             ],
             [
              0.3333333333333333,
              "#9c179e"
             ],
             [
              0.4444444444444444,
              "#bd3786"
             ],
             [
              0.5555555555555556,
              "#d8576b"
             ],
             [
              0.6666666666666666,
              "#ed7953"
             ],
             [
              0.7777777777777778,
              "#fb9f3a"
             ],
             [
              0.8888888888888888,
              "#fdca26"
             ],
             [
              1,
              "#f0f921"
             ]
            ],
            "type": "histogram2d"
           }
          ],
          "histogram2dcontour": [
           {
            "colorbar": {
             "outlinewidth": 0,
             "ticks": ""
            },
            "colorscale": [
             [
              0,
              "#0d0887"
             ],
             [
              0.1111111111111111,
              "#46039f"
             ],
             [
              0.2222222222222222,
              "#7201a8"
             ],
             [
              0.3333333333333333,
              "#9c179e"
             ],
             [
              0.4444444444444444,
              "#bd3786"
             ],
             [
              0.5555555555555556,
              "#d8576b"
             ],
             [
              0.6666666666666666,
              "#ed7953"
             ],
             [
              0.7777777777777778,
              "#fb9f3a"
             ],
             [
              0.8888888888888888,
              "#fdca26"
             ],
             [
              1,
              "#f0f921"
             ]
            ],
            "type": "histogram2dcontour"
           }
          ],
          "mesh3d": [
           {
            "colorbar": {
             "outlinewidth": 0,
             "ticks": ""
            },
            "type": "mesh3d"
           }
          ],
          "parcoords": [
           {
            "line": {
             "colorbar": {
              "outlinewidth": 0,
              "ticks": ""
             }
            },
            "type": "parcoords"
           }
          ],
          "pie": [
           {
            "automargin": true,
            "type": "pie"
           }
          ],
          "scatter": [
           {
            "fillpattern": {
             "fillmode": "overlay",
             "size": 10,
             "solidity": 0.2
            },
            "type": "scatter"
           }
          ],
          "scatter3d": [
           {
            "line": {
             "colorbar": {
              "outlinewidth": 0,
              "ticks": ""
             }
            },
            "marker": {
             "colorbar": {
              "outlinewidth": 0,
              "ticks": ""
             }
            },
            "type": "scatter3d"
           }
          ],
          "scattercarpet": [
           {
            "marker": {
             "colorbar": {
              "outlinewidth": 0,
              "ticks": ""
             }
            },
            "type": "scattercarpet"
           }
          ],
          "scattergeo": [
           {
            "marker": {
             "colorbar": {
              "outlinewidth": 0,
              "ticks": ""
             }
            },
            "type": "scattergeo"
           }
          ],
          "scattergl": [
           {
            "marker": {
             "colorbar": {
              "outlinewidth": 0,
              "ticks": ""
             }
            },
            "type": "scattergl"
           }
          ],
          "scattermapbox": [
           {
            "marker": {
             "colorbar": {
              "outlinewidth": 0,
              "ticks": ""
             }
            },
            "type": "scattermapbox"
           }
          ],
          "scatterpolar": [
           {
            "marker": {
             "colorbar": {
              "outlinewidth": 0,
              "ticks": ""
             }
            },
            "type": "scatterpolar"
           }
          ],
          "scatterpolargl": [
           {
            "marker": {
             "colorbar": {
              "outlinewidth": 0,
              "ticks": ""
             }
            },
            "type": "scatterpolargl"
           }
          ],
          "scatterternary": [
           {
            "marker": {
             "colorbar": {
              "outlinewidth": 0,
              "ticks": ""
             }
            },
            "type": "scatterternary"
           }
          ],
          "surface": [
           {
            "colorbar": {
             "outlinewidth": 0,
             "ticks": ""
            },
            "colorscale": [
             [
              0,
              "#0d0887"
             ],
             [
              0.1111111111111111,
              "#46039f"
             ],
             [
              0.2222222222222222,
              "#7201a8"
             ],
             [
              0.3333333333333333,
              "#9c179e"
             ],
             [
              0.4444444444444444,
              "#bd3786"
             ],
             [
              0.5555555555555556,
              "#d8576b"
             ],
             [
              0.6666666666666666,
              "#ed7953"
             ],
             [
              0.7777777777777778,
              "#fb9f3a"
             ],
             [
              0.8888888888888888,
              "#fdca26"
             ],
             [
              1,
              "#f0f921"
             ]
            ],
            "type": "surface"
           }
          ],
          "table": [
           {
            "cells": {
             "fill": {
              "color": "#EBF0F8"
             },
             "line": {
              "color": "white"
             }
            },
            "header": {
             "fill": {
              "color": "#C8D4E3"
             },
             "line": {
              "color": "white"
             }
            },
            "type": "table"
           }
          ]
         },
         "layout": {
          "annotationdefaults": {
           "arrowcolor": "#2a3f5f",
           "arrowhead": 0,
           "arrowwidth": 1
          },
          "autotypenumbers": "strict",
          "coloraxis": {
           "colorbar": {
            "outlinewidth": 0,
            "ticks": ""
           }
          },
          "colorscale": {
           "diverging": [
            [
             0,
             "#8e0152"
            ],
            [
             0.1,
             "#c51b7d"
            ],
            [
             0.2,
             "#de77ae"
            ],
            [
             0.3,
             "#f1b6da"
            ],
            [
             0.4,
             "#fde0ef"
            ],
            [
             0.5,
             "#f7f7f7"
            ],
            [
             0.6,
             "#e6f5d0"
            ],
            [
             0.7,
             "#b8e186"
            ],
            [
             0.8,
             "#7fbc41"
            ],
            [
             0.9,
             "#4d9221"
            ],
            [
             1,
             "#276419"
            ]
           ],
           "sequential": [
            [
             0,
             "#0d0887"
            ],
            [
             0.1111111111111111,
             "#46039f"
            ],
            [
             0.2222222222222222,
             "#7201a8"
            ],
            [
             0.3333333333333333,
             "#9c179e"
            ],
            [
             0.4444444444444444,
             "#bd3786"
            ],
            [
             0.5555555555555556,
             "#d8576b"
            ],
            [
             0.6666666666666666,
             "#ed7953"
            ],
            [
             0.7777777777777778,
             "#fb9f3a"
            ],
            [
             0.8888888888888888,
             "#fdca26"
            ],
            [
             1,
             "#f0f921"
            ]
           ],
           "sequentialminus": [
            [
             0,
             "#0d0887"
            ],
            [
             0.1111111111111111,
             "#46039f"
            ],
            [
             0.2222222222222222,
             "#7201a8"
            ],
            [
             0.3333333333333333,
             "#9c179e"
            ],
            [
             0.4444444444444444,
             "#bd3786"
            ],
            [
             0.5555555555555556,
             "#d8576b"
            ],
            [
             0.6666666666666666,
             "#ed7953"
            ],
            [
             0.7777777777777778,
             "#fb9f3a"
            ],
            [
             0.8888888888888888,
             "#fdca26"
            ],
            [
             1,
             "#f0f921"
            ]
           ]
          },
          "colorway": [
           "#636efa",
           "#EF553B",
           "#00cc96",
           "#ab63fa",
           "#FFA15A",
           "#19d3f3",
           "#FF6692",
           "#B6E880",
           "#FF97FF",
           "#FECB52"
          ],
          "font": {
           "color": "#2a3f5f"
          },
          "geo": {
           "bgcolor": "white",
           "lakecolor": "white",
           "landcolor": "#E5ECF6",
           "showlakes": true,
           "showland": true,
           "subunitcolor": "white"
          },
          "hoverlabel": {
           "align": "left"
          },
          "hovermode": "closest",
          "mapbox": {
           "style": "light"
          },
          "paper_bgcolor": "white",
          "plot_bgcolor": "#E5ECF6",
          "polar": {
           "angularaxis": {
            "gridcolor": "white",
            "linecolor": "white",
            "ticks": ""
           },
           "bgcolor": "#E5ECF6",
           "radialaxis": {
            "gridcolor": "white",
            "linecolor": "white",
            "ticks": ""
           }
          },
          "scene": {
           "xaxis": {
            "backgroundcolor": "#E5ECF6",
            "gridcolor": "white",
            "gridwidth": 2,
            "linecolor": "white",
            "showbackground": true,
            "ticks": "",
            "zerolinecolor": "white"
           },
           "yaxis": {
            "backgroundcolor": "#E5ECF6",
            "gridcolor": "white",
            "gridwidth": 2,
            "linecolor": "white",
            "showbackground": true,
            "ticks": "",
            "zerolinecolor": "white"
           },
           "zaxis": {
            "backgroundcolor": "#E5ECF6",
            "gridcolor": "white",
            "gridwidth": 2,
            "linecolor": "white",
            "showbackground": true,
            "ticks": "",
            "zerolinecolor": "white"
           }
          },
          "shapedefaults": {
           "line": {
            "color": "#2a3f5f"
           }
          },
          "ternary": {
           "aaxis": {
            "gridcolor": "white",
            "linecolor": "white",
            "ticks": ""
           },
           "baxis": {
            "gridcolor": "white",
            "linecolor": "white",
            "ticks": ""
           },
           "bgcolor": "#E5ECF6",
           "caxis": {
            "gridcolor": "white",
            "linecolor": "white",
            "ticks": ""
           }
          },
          "title": {
           "x": 0.05
          },
          "xaxis": {
           "automargin": true,
           "gridcolor": "white",
           "linecolor": "white",
           "ticks": "",
           "title": {
            "standoff": 15
           },
           "zerolinecolor": "white",
           "zerolinewidth": 2
          },
          "yaxis": {
           "automargin": true,
           "gridcolor": "white",
           "linecolor": "white",
           "ticks": "",
           "title": {
            "standoff": 15
           },
           "zerolinecolor": "white",
           "zerolinewidth": 2
          }
         }
        },
        "title": {
         "font": {
          "color": "#4D5663"
         },
         "text": "GOOG 2022"
        },
        "xaxis": {
         "anchor": "y2",
         "gridcolor": "#E1E5ED",
         "rangeselector": {
          "bgcolor": "rgba(150, 200, 250, 1)",
          "buttons": [
           {
            "count": 1,
            "label": "1m",
            "step": "month",
            "stepmode": "backward"
           },
           {
            "count": 1,
            "label": "1y",
            "step": "year",
            "stepmode": "backward"
           }
          ],
          "font": {
           "size": 13
          },
          "visible": false,
          "x": 0,
          "y": 0.9
         },
         "rangeslider": {
          "visible": false
         },
         "showgrid": true,
         "tickfont": {
          "color": "#4D5663"
         },
         "title": {
          "font": {
           "color": "#4D5663"
          },
          "text": ""
         },
         "zerolinecolor": "#E1E5ED"
        },
        "yaxis": {
         "gridcolor": "#E1E5ED",
         "showgrid": true,
         "showticklabels": false,
         "tickfont": {
          "color": "#4D5663"
         },
         "title": {
          "font": {
           "color": "#4D5663"
          },
          "text": ""
         },
         "zerolinecolor": "#E1E5ED"
        },
        "yaxis2": {
         "domain": [
          0,
          0.9
         ],
         "gridcolor": "#E1E5ED",
         "showgrid": true,
         "tickfont": {
          "color": "#4D5663"
         },
         "title": {
          "font": {
           "color": "#4D5663"
          },
          "text": ""
         },
         "zerolinecolor": "#E1E5ED"
        }
       }
      },
      "text/html": [
       "<div>                            <div id=\"6494520f-f93e-40d2-b863-d0dc9045b4bf\" class=\"plotly-graph-div\" style=\"height:525px; width:100%;\"></div>            <script type=\"text/javascript\">                require([\"plotly\"], function(Plotly) {                    window.PLOTLYENV=window.PLOTLYENV || {};\n",
       "                    window.PLOTLYENV.BASE_URL='https://plot.ly';                                    if (document.getElementById(\"6494520f-f93e-40d2-b863-d0dc9045b4bf\")) {                    Plotly.newPlot(                        \"6494520f-f93e-40d2-b863-d0dc9045b4bf\",                        [{\"line\":{\"color\":\"rgba(55, 128, 191, 1.0)\",\"dash\":\"solid\",\"shape\":\"linear\",\"width\":1.3},\"mode\":\"lines\",\"name\":\" SMA(14)\",\"text\":\"\",\"x\":[\"2022-01-03\",\"2022-01-04\",\"2022-01-05\",\"2022-01-06\",\"2022-01-07\",\"2022-01-10\",\"2022-01-11\",\"2022-01-12\",\"2022-01-13\",\"2022-01-14\",\"2022-01-18\",\"2022-01-19\",\"2022-01-20\",\"2022-01-21\",\"2022-01-24\",\"2022-01-25\",\"2022-01-26\",\"2022-01-27\",\"2022-01-28\",\"2022-01-31\",\"2022-02-01\",\"2022-02-02\",\"2022-02-03\",\"2022-02-04\",\"2022-02-07\",\"2022-02-08\",\"2022-02-09\",\"2022-02-10\",\"2022-02-11\",\"2022-02-14\",\"2022-02-15\",\"2022-02-16\",\"2022-02-17\",\"2022-02-18\",\"2022-02-22\",\"2022-02-23\",\"2022-02-24\",\"2022-02-25\",\"2022-02-28\",\"2022-03-01\",\"2022-03-02\",\"2022-03-03\",\"2022-03-04\",\"2022-03-07\",\"2022-03-08\",\"2022-03-09\",\"2022-03-10\",\"2022-03-11\",\"2022-03-14\",\"2022-03-15\",\"2022-03-16\",\"2022-03-17\",\"2022-03-18\",\"2022-03-21\",\"2022-03-22\",\"2022-03-23\",\"2022-03-24\",\"2022-03-25\",\"2022-03-28\",\"2022-03-29\",\"2022-03-30\",\"2022-03-31\",\"2022-04-01\",\"2022-04-04\",\"2022-04-05\",\"2022-04-06\",\"2022-04-07\",\"2022-04-08\",\"2022-04-11\",\"2022-04-12\",\"2022-04-13\",\"2022-04-14\",\"2022-04-18\",\"2022-04-19\",\"2022-04-20\",\"2022-04-21\",\"2022-04-22\",\"2022-04-25\",\"2022-04-26\",\"2022-04-27\",\"2022-04-28\",\"2022-04-29\",\"2022-05-02\",\"2022-05-03\",\"2022-05-04\",\"2022-05-05\",\"2022-05-06\",\"2022-05-09\",\"2022-05-10\",\"2022-05-11\",\"2022-05-12\",\"2022-05-13\",\"2022-05-16\",\"2022-05-17\",\"2022-05-18\",\"2022-05-19\",\"2022-05-20\",\"2022-05-23\",\"2022-05-24\",\"2022-05-25\",\"2022-05-26\",\"2022-05-27\",\"2022-05-31\",\"2022-06-01\",\"2022-06-02\",\"2022-06-03\",\"2022-06-06\",\"2022-06-07\",\"2022-06-08\",\"2022-06-09\",\"2022-06-10\",\"2022-06-13\",\"2022-06-14\",\"2022-06-15\",\"2022-06-16\",\"2022-06-17\",\"2022-06-21\",\"2022-06-22\",\"2022-06-23\",\"2022-06-24\",\"2022-06-27\",\"2022-06-28\",\"2022-06-29\"],\"y\":[\"\",\"\",\"\",\"\",\"\",\"\",\"\",\"\",\"\",\"\",\"\",\"\",\"\",2766.2828892142857,2745.279314285714,2720.0207344999994,2708.001447428571,2695.958583285714,2690.6514369285715,2686.5435791428567,2683.4878627142853,2692.614292642856,2697.6421421428563,2702.2557198571417,2706.0378592142843,2711.1249999999986,2722.47715542857,2734.635009785713,2740.0035924285703,2752.2385952142845,2762.5035924285703,2774.455740857142,2773.0543039285703,2765.5814558571424,2753.4728830714275,2724.256452428571,2710.0035924999997,2697.8657228571424,2692.084298428571,2684.8771625,2675.303588928571,2669.168579142857,2666.2999964999995,2653.677856428571,2640.6107177142853,2635.437151142857,2635.9707205,2635.9821427857137,2632.180001285714,2635.1450019999997,2636.5978654285714,2636.713588071428,2639.4428709999997,2642.7435825,2650.637869642857,2656.631452214285,2669.760027142857,2691.2700194999998,2712.2293003571426,2725.635009785714,2739.8671526428566,2752.9728655,2772.9142892142854,2792.8885847142856,2803.420724071428,2807.1000104999994,2806.6192976428565,2803.0935757142847,2788.120710214285,2773.6507046428565,2757.8992747142847,2737.515712357142,2717.531424571428,2699.3614329285706,2678.791434285714,2657.7742921428567,2627.651437071428,2598.5192872142848,2567.7235805714276,2536.0728585714282,2511.7107107857146,2484.505004857143,2466.4485735000003,2451.8128662142853,2440.797154,2425.787859214285,2408.215000642857,2383.2907017142857,2363.7749894999993,2348.0942731428563,2338.8756975714277,2329.2549874999995,2322.5214147142856,2324.922851642857,2314.9078544999998,2308.877842642857,2297.6721367142854,2288.4392788571427,2264.6549945714282,2249.073573642857,2238.553571571428,2238.146432142857,2237.3671527142856,2237.618582642857,2244.168579142857,2241.380719857143,2244.5492815000002,2245.3035714285716,2252.2135707142857,2258.1742989285713,2261.195016,2254.352155357143,2256.163574142857,2262.6650041428575,2260.2935790714287,2253.2457275714287,2250.3543004285716,2247.350010571429,2240.119297642857,2245.796439142857,2245.2421527142856,2238.5878558571426,2231.471418214285],\"yaxis\":\"y2\",\"type\":\"scatter\"},{\"close\":[2901.48999,2888.330078,2753.070068,2751.02002,2740.090088,2771.47998,2800.350098,2832.959961,2782.6201170000004,2795.72998,2725.810059,2713.040039,2670.1298829999996,2601.840088,2607.439941,2534.709961,2584.800049,2582.419922,2665.790039,2713.969971,2757.570068,2960.72998,2853.01001,2860.320068,2778.76001,2784.26001,2829.060059,2772.050049,2682.600098,2706.0,2728.51001,2749.75,2646.169922,2609.350098,2588.050049,2551.699951,2653.469971,2690.389893,2697.820068,2683.360107,2695.030029,2686.159912,2642.439941,2529.290039,2545.570068,2677.320068,2653.639893,2609.51001,2534.820068,2593.209961,2673.810059,2692.01001,2736.030029,2729.570068,2805.550049,2770.070068,2826.23999,2830.429932,2839.0,2865.0,2852.889893,2792.98999,2814.0,2872.850098,2821.26001,2743.52002,2729.300049,2680.209961,2595.929932,2567.48999,2605.719971,2545.060059,2559.219971,2610.6201170000004,2564.909912,2498.75,2392.280029,2465.0,2390.1201170000004,2300.409912,2388.22998,2299.330078,2343.139893,2362.590088,2451.5,2334.929932,2313.199951,2261.679932,2291.689941,2279.219971,2263.219971,2330.310059,2295.850098,2334.030029,2248.02002,2214.909912,2186.26001,2233.330078,2118.52002,2116.790039,2165.919922,2255.97998,2280.780029,2282.73999,2354.919922,2291.280029,2340.209961,2344.590088,2344.76001,2298.360107,2228.550049,2137.530029,2143.8798829999996,2207.810059,2132.719971,2157.310059,2240.300049,2240.679932,2253.689941,2370.76001,2332.449951,2251.429932,2245.1298829999996],\"decreasing\":{\"line\":{\"color\":\"#db4052\"}},\"high\":[2911.0,2932.199951,2885.959961,2793.719971,2765.094971,2772.800049,2806.590088,2856.284912,2863.709961,2824.01001,2747.830078,2767.98999,2758.23999,2695.209961,2615.570068,2586.77002,2656.149902,2652.198975,2667.409912,2716.8701170000004,2764.0,3042.0,2982.354004,2890.705078,2876.929932,2796.741943,2843.51001,2828.6201170000004,2785.665039,2723.330078,2758.0,2758.919922,2736.790039,2676.47998,2638.014893,2634.97998,2660.73999,2707.780029,2712.810059,2722.219971,2712.310059,2734.275879,2683.97998,2638.080078,2624.929932,2683.969971,2670.77002,2684.0,2620.52002,2610.344971,2675.419922,2694.790039,2738.27002,2751.649902,2830.0,2800.5,2827.929932,2839.189941,2839.530029,2883.25,2869.610107,2852.889893,2819.0,2880.875,2871.800049,2796.969971,2754.030029,2725.0,2658.783936,2648.469971,2613.11499,2614.205078,2574.23999,2618.074951,2638.469971,2606.149902,2509.040039,2465.560059,2455.0,2350.0,2408.77002,2379.199951,2346.790039,2386.0,2462.860107,2424.665039,2349.969971,2311.258057,2333.820068,2333.419922,2297.1298829999996,2361.699951,2332.149902,2344.550049,2313.913086,2271.75,2251.0,2240.110107,2127.899902,2130.894043,2179.10498,2257.360107,2328.669922,2347.97998,2357.959961,2327.290039,2387.969971,2354.9729,2372.919922,2367.0,2269.939941,2184.3701170000004,2169.149902,2241.26001,2185.810059,2184.98999,2253.459961,2275.389893,2263.929932,2372.75,2385.0,2357.1298829999996,2273.290039],\"increasing\":{\"line\":{\"color\":\"#008000\"}},\"low\":[2870.050049,2876.322998,2750.469971,2735.27002,2715.780029,2662.810059,2736.27002,2822.23999,2778.280029,2750.0,2712.340088,2710.0,2662.889893,2600.02002,2492.839111,2527.560059,2543.070068,2578.899902,2573.889893,2645.47998,2691.36499,2911.149902,2844.100098,2796.350098,2773.97998,2737.459961,2807.540039,2761.0,2665.77002,2666.040039,2710.790039,2696.4729,2644.040039,2606.1411129999997,2554.820068,2550.070068,2495.290039,2635.300049,2656.5048829999996,2667.570068,2668.649902,2668.6201170000004,2608.169922,2528.199951,2517.215088,2601.76001,2628.02002,2605.929932,2528.26001,2531.360107,2584.02002,2654.3798829999996,2658.639893,2692.22998,2730.0,2763.330078,2760.788086,2793.98999,2796.5629879999997,2849.679932,2843.360107,2792.3798829999996,2775.939941,2816.48999,2818.8701170000004,2728.362061,2697.14502,2675.050049,2592.350098,2551.52002,2568.771973,2542.22998,2531.569092,2549.030029,2557.881104,2493.0,2382.810059,2375.38501,2383.237061,2262.485107,2302.87793,2293.8798829999996,2267.98999,2332.540039,2314.77002,2303.649902,2282.860107,2251.030029,2267.666016,2273.0,2202.27002,2280.0,2286.699951,2306.75,2242.840088,2209.360107,2127.459961,2183.084961,2044.160034,2084.225098,2109.76001,2191.0,2251.449951,2271.01001,2266.159912,2273.360107,2330.565918,2302.51001,2333.935059,2297.340088,2217.219971,2131.760986,2127.040039,2162.375,2115.850098,2112.571045,2185.8701170000004,2214.486084,2220.580078,2272.060059,2320.014893,2248.8798829999996,2231.080078],\"name\":\"GOOG\",\"open\":[2889.51001,2911.01001,2883.6201170000004,2749.949951,2758.100098,2701.97998,2763.610107,2831.090088,2836.810059,2750.0,2732.0,2738.77002,2730.280029,2660.23999,2520.550049,2568.709961,2611.850098,2627.219971,2600.0,2683.959961,2756.699951,3037.27002,2905.899902,2860.340088,2874.179932,2779.824951,2816.9951170000004,2790.0,2775.0,2667.310059,2749.429932,2728.610107,2723.0,2660.75,2599.699951,2621.570068,2500.0,2670.51001,2665.689941,2689.600098,2692.165039,2719.570068,2667.649902,2638.080078,2525.01001,2628.0,2629.25,2679.98999,2611.459961,2554.830078,2620.0,2666.419922,2677.679932,2736.949951,2730.0,2782.77002,2785.449951,2835.080078,2813.689941,2863.209961,2857.399902,2848.969971,2800.199951,2816.48999,2867.98999,2783.22998,2732.360107,2725.0,2658.0,2648.469971,2572.530029,2612.98999,2548.199951,2561.540039,2625.679932,2587.0,2500.0,2388.590088,2455.0,2287.459961,2342.300049,2351.560059,2278.1298829999996,2335.300049,2360.070068,2404.409912,2310.3798829999996,2266.070068,2320.810059,2274.209961,2238.76001,2296.909912,2307.679932,2344.550049,2304.75,2236.820068,2241.709961,2202.080078,2127.550049,2102.840088,2121.01001,2195.77002,2261.580078,2298.6298829999996,2283.76001,2319.850098,2334.850098,2312.959961,2337.530029,2326.830078,2255.625,2148.919922,2137.800049,2177.98999,2162.98999,2130.699951,2194.040039,2223.26001,2259.0,2272.060059,2378.699951,2327.02002,2242.969971],\"showlegend\":true,\"x\":[\"2022-01-03\",\"2022-01-04\",\"2022-01-05\",\"2022-01-06\",\"2022-01-07\",\"2022-01-10\",\"2022-01-11\",\"2022-01-12\",\"2022-01-13\",\"2022-01-14\",\"2022-01-18\",\"2022-01-19\",\"2022-01-20\",\"2022-01-21\",\"2022-01-24\",\"2022-01-25\",\"2022-01-26\",\"2022-01-27\",\"2022-01-28\",\"2022-01-31\",\"2022-02-01\",\"2022-02-02\",\"2022-02-03\",\"2022-02-04\",\"2022-02-07\",\"2022-02-08\",\"2022-02-09\",\"2022-02-10\",\"2022-02-11\",\"2022-02-14\",\"2022-02-15\",\"2022-02-16\",\"2022-02-17\",\"2022-02-18\",\"2022-02-22\",\"2022-02-23\",\"2022-02-24\",\"2022-02-25\",\"2022-02-28\",\"2022-03-01\",\"2022-03-02\",\"2022-03-03\",\"2022-03-04\",\"2022-03-07\",\"2022-03-08\",\"2022-03-09\",\"2022-03-10\",\"2022-03-11\",\"2022-03-14\",\"2022-03-15\",\"2022-03-16\",\"2022-03-17\",\"2022-03-18\",\"2022-03-21\",\"2022-03-22\",\"2022-03-23\",\"2022-03-24\",\"2022-03-25\",\"2022-03-28\",\"2022-03-29\",\"2022-03-30\",\"2022-03-31\",\"2022-04-01\",\"2022-04-04\",\"2022-04-05\",\"2022-04-06\",\"2022-04-07\",\"2022-04-08\",\"2022-04-11\",\"2022-04-12\",\"2022-04-13\",\"2022-04-14\",\"2022-04-18\",\"2022-04-19\",\"2022-04-20\",\"2022-04-21\",\"2022-04-22\",\"2022-04-25\",\"2022-04-26\",\"2022-04-27\",\"2022-04-28\",\"2022-04-29\",\"2022-05-02\",\"2022-05-03\",\"2022-05-04\",\"2022-05-05\",\"2022-05-06\",\"2022-05-09\",\"2022-05-10\",\"2022-05-11\",\"2022-05-12\",\"2022-05-13\",\"2022-05-16\",\"2022-05-17\",\"2022-05-18\",\"2022-05-19\",\"2022-05-20\",\"2022-05-23\",\"2022-05-24\",\"2022-05-25\",\"2022-05-26\",\"2022-05-27\",\"2022-05-31\",\"2022-06-01\",\"2022-06-02\",\"2022-06-03\",\"2022-06-06\",\"2022-06-07\",\"2022-06-08\",\"2022-06-09\",\"2022-06-10\",\"2022-06-13\",\"2022-06-14\",\"2022-06-15\",\"2022-06-16\",\"2022-06-17\",\"2022-06-21\",\"2022-06-22\",\"2022-06-23\",\"2022-06-24\",\"2022-06-27\",\"2022-06-28\",\"2022-06-29\"],\"yaxis\":\"y2\",\"type\":\"candlestick\"}],                        {\"legend\":{\"bgcolor\":\"#F5F6F9\",\"font\":{\"color\":\"#4D5663\"}},\"margin\":{\"b\":30,\"l\":30,\"r\":30,\"t\":30},\"paper_bgcolor\":\"#F5F6F9\",\"plot_bgcolor\":\"#F5F6F9\",\"showlegend\":true,\"template\":{\"data\":{\"barpolar\":[{\"marker\":{\"line\":{\"color\":\"#E5ECF6\",\"width\":0.5},\"pattern\":{\"fillmode\":\"overlay\",\"size\":10,\"solidity\":0.2}},\"type\":\"barpolar\"}],\"bar\":[{\"error_x\":{\"color\":\"#2a3f5f\"},\"error_y\":{\"color\":\"#2a3f5f\"},\"marker\":{\"line\":{\"color\":\"#E5ECF6\",\"width\":0.5},\"pattern\":{\"fillmode\":\"overlay\",\"size\":10,\"solidity\":0.2}},\"type\":\"bar\"}],\"carpet\":[{\"aaxis\":{\"endlinecolor\":\"#2a3f5f\",\"gridcolor\":\"white\",\"linecolor\":\"white\",\"minorgridcolor\":\"white\",\"startlinecolor\":\"#2a3f5f\"},\"baxis\":{\"endlinecolor\":\"#2a3f5f\",\"gridcolor\":\"white\",\"linecolor\":\"white\",\"minorgridcolor\":\"white\",\"startlinecolor\":\"#2a3f5f\"},\"type\":\"carpet\"}],\"choropleth\":[{\"colorbar\":{\"outlinewidth\":0,\"ticks\":\"\"},\"type\":\"choropleth\"}],\"contourcarpet\":[{\"colorbar\":{\"outlinewidth\":0,\"ticks\":\"\"},\"type\":\"contourcarpet\"}],\"contour\":[{\"colorbar\":{\"outlinewidth\":0,\"ticks\":\"\"},\"colorscale\":[[0.0,\"#0d0887\"],[0.1111111111111111,\"#46039f\"],[0.2222222222222222,\"#7201a8\"],[0.3333333333333333,\"#9c179e\"],[0.4444444444444444,\"#bd3786\"],[0.5555555555555556,\"#d8576b\"],[0.6666666666666666,\"#ed7953\"],[0.7777777777777778,\"#fb9f3a\"],[0.8888888888888888,\"#fdca26\"],[1.0,\"#f0f921\"]],\"type\":\"contour\"}],\"heatmapgl\":[{\"colorbar\":{\"outlinewidth\":0,\"ticks\":\"\"},\"colorscale\":[[0.0,\"#0d0887\"],[0.1111111111111111,\"#46039f\"],[0.2222222222222222,\"#7201a8\"],[0.3333333333333333,\"#9c179e\"],[0.4444444444444444,\"#bd3786\"],[0.5555555555555556,\"#d8576b\"],[0.6666666666666666,\"#ed7953\"],[0.7777777777777778,\"#fb9f3a\"],[0.8888888888888888,\"#fdca26\"],[1.0,\"#f0f921\"]],\"type\":\"heatmapgl\"}],\"heatmap\":[{\"colorbar\":{\"outlinewidth\":0,\"ticks\":\"\"},\"colorscale\":[[0.0,\"#0d0887\"],[0.1111111111111111,\"#46039f\"],[0.2222222222222222,\"#7201a8\"],[0.3333333333333333,\"#9c179e\"],[0.4444444444444444,\"#bd3786\"],[0.5555555555555556,\"#d8576b\"],[0.6666666666666666,\"#ed7953\"],[0.7777777777777778,\"#fb9f3a\"],[0.8888888888888888,\"#fdca26\"],[1.0,\"#f0f921\"]],\"type\":\"heatmap\"}],\"histogram2dcontour\":[{\"colorbar\":{\"outlinewidth\":0,\"ticks\":\"\"},\"colorscale\":[[0.0,\"#0d0887\"],[0.1111111111111111,\"#46039f\"],[0.2222222222222222,\"#7201a8\"],[0.3333333333333333,\"#9c179e\"],[0.4444444444444444,\"#bd3786\"],[0.5555555555555556,\"#d8576b\"],[0.6666666666666666,\"#ed7953\"],[0.7777777777777778,\"#fb9f3a\"],[0.8888888888888888,\"#fdca26\"],[1.0,\"#f0f921\"]],\"type\":\"histogram2dcontour\"}],\"histogram2d\":[{\"colorbar\":{\"outlinewidth\":0,\"ticks\":\"\"},\"colorscale\":[[0.0,\"#0d0887\"],[0.1111111111111111,\"#46039f\"],[0.2222222222222222,\"#7201a8\"],[0.3333333333333333,\"#9c179e\"],[0.4444444444444444,\"#bd3786\"],[0.5555555555555556,\"#d8576b\"],[0.6666666666666666,\"#ed7953\"],[0.7777777777777778,\"#fb9f3a\"],[0.8888888888888888,\"#fdca26\"],[1.0,\"#f0f921\"]],\"type\":\"histogram2d\"}],\"histogram\":[{\"marker\":{\"pattern\":{\"fillmode\":\"overlay\",\"size\":10,\"solidity\":0.2}},\"type\":\"histogram\"}],\"mesh3d\":[{\"colorbar\":{\"outlinewidth\":0,\"ticks\":\"\"},\"type\":\"mesh3d\"}],\"parcoords\":[{\"line\":{\"colorbar\":{\"outlinewidth\":0,\"ticks\":\"\"}},\"type\":\"parcoords\"}],\"pie\":[{\"automargin\":true,\"type\":\"pie\"}],\"scatter3d\":[{\"line\":{\"colorbar\":{\"outlinewidth\":0,\"ticks\":\"\"}},\"marker\":{\"colorbar\":{\"outlinewidth\":0,\"ticks\":\"\"}},\"type\":\"scatter3d\"}],\"scattercarpet\":[{\"marker\":{\"colorbar\":{\"outlinewidth\":0,\"ticks\":\"\"}},\"type\":\"scattercarpet\"}],\"scattergeo\":[{\"marker\":{\"colorbar\":{\"outlinewidth\":0,\"ticks\":\"\"}},\"type\":\"scattergeo\"}],\"scattergl\":[{\"marker\":{\"colorbar\":{\"outlinewidth\":0,\"ticks\":\"\"}},\"type\":\"scattergl\"}],\"scattermapbox\":[{\"marker\":{\"colorbar\":{\"outlinewidth\":0,\"ticks\":\"\"}},\"type\":\"scattermapbox\"}],\"scatterpolargl\":[{\"marker\":{\"colorbar\":{\"outlinewidth\":0,\"ticks\":\"\"}},\"type\":\"scatterpolargl\"}],\"scatterpolar\":[{\"marker\":{\"colorbar\":{\"outlinewidth\":0,\"ticks\":\"\"}},\"type\":\"scatterpolar\"}],\"scatter\":[{\"fillpattern\":{\"fillmode\":\"overlay\",\"size\":10,\"solidity\":0.2},\"type\":\"scatter\"}],\"scatterternary\":[{\"marker\":{\"colorbar\":{\"outlinewidth\":0,\"ticks\":\"\"}},\"type\":\"scatterternary\"}],\"surface\":[{\"colorbar\":{\"outlinewidth\":0,\"ticks\":\"\"},\"colorscale\":[[0.0,\"#0d0887\"],[0.1111111111111111,\"#46039f\"],[0.2222222222222222,\"#7201a8\"],[0.3333333333333333,\"#9c179e\"],[0.4444444444444444,\"#bd3786\"],[0.5555555555555556,\"#d8576b\"],[0.6666666666666666,\"#ed7953\"],[0.7777777777777778,\"#fb9f3a\"],[0.8888888888888888,\"#fdca26\"],[1.0,\"#f0f921\"]],\"type\":\"surface\"}],\"table\":[{\"cells\":{\"fill\":{\"color\":\"#EBF0F8\"},\"line\":{\"color\":\"white\"}},\"header\":{\"fill\":{\"color\":\"#C8D4E3\"},\"line\":{\"color\":\"white\"}},\"type\":\"table\"}]},\"layout\":{\"annotationdefaults\":{\"arrowcolor\":\"#2a3f5f\",\"arrowhead\":0,\"arrowwidth\":1},\"autotypenumbers\":\"strict\",\"coloraxis\":{\"colorbar\":{\"outlinewidth\":0,\"ticks\":\"\"}},\"colorscale\":{\"diverging\":[[0,\"#8e0152\"],[0.1,\"#c51b7d\"],[0.2,\"#de77ae\"],[0.3,\"#f1b6da\"],[0.4,\"#fde0ef\"],[0.5,\"#f7f7f7\"],[0.6,\"#e6f5d0\"],[0.7,\"#b8e186\"],[0.8,\"#7fbc41\"],[0.9,\"#4d9221\"],[1,\"#276419\"]],\"sequential\":[[0.0,\"#0d0887\"],[0.1111111111111111,\"#46039f\"],[0.2222222222222222,\"#7201a8\"],[0.3333333333333333,\"#9c179e\"],[0.4444444444444444,\"#bd3786\"],[0.5555555555555556,\"#d8576b\"],[0.6666666666666666,\"#ed7953\"],[0.7777777777777778,\"#fb9f3a\"],[0.8888888888888888,\"#fdca26\"],[1.0,\"#f0f921\"]],\"sequentialminus\":[[0.0,\"#0d0887\"],[0.1111111111111111,\"#46039f\"],[0.2222222222222222,\"#7201a8\"],[0.3333333333333333,\"#9c179e\"],[0.4444444444444444,\"#bd3786\"],[0.5555555555555556,\"#d8576b\"],[0.6666666666666666,\"#ed7953\"],[0.7777777777777778,\"#fb9f3a\"],[0.8888888888888888,\"#fdca26\"],[1.0,\"#f0f921\"]]},\"colorway\":[\"#636efa\",\"#EF553B\",\"#00cc96\",\"#ab63fa\",\"#FFA15A\",\"#19d3f3\",\"#FF6692\",\"#B6E880\",\"#FF97FF\",\"#FECB52\"],\"font\":{\"color\":\"#2a3f5f\"},\"geo\":{\"bgcolor\":\"white\",\"lakecolor\":\"white\",\"landcolor\":\"#E5ECF6\",\"showlakes\":true,\"showland\":true,\"subunitcolor\":\"white\"},\"hoverlabel\":{\"align\":\"left\"},\"hovermode\":\"closest\",\"mapbox\":{\"style\":\"light\"},\"paper_bgcolor\":\"white\",\"plot_bgcolor\":\"#E5ECF6\",\"polar\":{\"angularaxis\":{\"gridcolor\":\"white\",\"linecolor\":\"white\",\"ticks\":\"\"},\"bgcolor\":\"#E5ECF6\",\"radialaxis\":{\"gridcolor\":\"white\",\"linecolor\":\"white\",\"ticks\":\"\"}},\"scene\":{\"xaxis\":{\"backgroundcolor\":\"#E5ECF6\",\"gridcolor\":\"white\",\"gridwidth\":2,\"linecolor\":\"white\",\"showbackground\":true,\"ticks\":\"\",\"zerolinecolor\":\"white\"},\"yaxis\":{\"backgroundcolor\":\"#E5ECF6\",\"gridcolor\":\"white\",\"gridwidth\":2,\"linecolor\":\"white\",\"showbackground\":true,\"ticks\":\"\",\"zerolinecolor\":\"white\"},\"zaxis\":{\"backgroundcolor\":\"#E5ECF6\",\"gridcolor\":\"white\",\"gridwidth\":2,\"linecolor\":\"white\",\"showbackground\":true,\"ticks\":\"\",\"zerolinecolor\":\"white\"}},\"shapedefaults\":{\"line\":{\"color\":\"#2a3f5f\"}},\"ternary\":{\"aaxis\":{\"gridcolor\":\"white\",\"linecolor\":\"white\",\"ticks\":\"\"},\"baxis\":{\"gridcolor\":\"white\",\"linecolor\":\"white\",\"ticks\":\"\"},\"bgcolor\":\"#E5ECF6\",\"caxis\":{\"gridcolor\":\"white\",\"linecolor\":\"white\",\"ticks\":\"\"}},\"title\":{\"x\":0.05},\"xaxis\":{\"automargin\":true,\"gridcolor\":\"white\",\"linecolor\":\"white\",\"ticks\":\"\",\"title\":{\"standoff\":15},\"zerolinecolor\":\"white\",\"zerolinewidth\":2},\"yaxis\":{\"automargin\":true,\"gridcolor\":\"white\",\"linecolor\":\"white\",\"ticks\":\"\",\"title\":{\"standoff\":15},\"zerolinecolor\":\"white\",\"zerolinewidth\":2}}},\"title\":{\"font\":{\"color\":\"#4D5663\"},\"text\":\"GOOG 2022\"},\"xaxis\":{\"anchor\":\"y2\",\"gridcolor\":\"#E1E5ED\",\"rangeselector\":{\"bgcolor\":\"rgba(150, 200, 250, 1)\",\"buttons\":[{\"count\":1,\"label\":\"1m\",\"step\":\"month\",\"stepmode\":\"backward\"},{\"count\":1,\"label\":\"1y\",\"step\":\"year\",\"stepmode\":\"backward\"}],\"font\":{\"size\":13},\"visible\":false,\"x\":0,\"y\":0.9},\"rangeslider\":{\"visible\":false},\"showgrid\":true,\"tickfont\":{\"color\":\"#4D5663\"},\"title\":{\"font\":{\"color\":\"#4D5663\"},\"text\":\"\"},\"zerolinecolor\":\"#E1E5ED\"},\"yaxis\":{\"gridcolor\":\"#E1E5ED\",\"showgrid\":true,\"showticklabels\":false,\"tickfont\":{\"color\":\"#4D5663\"},\"title\":{\"font\":{\"color\":\"#4D5663\"},\"text\":\"\"},\"zerolinecolor\":\"#E1E5ED\"},\"yaxis2\":{\"domain\":[0.0,0.9],\"gridcolor\":\"#E1E5ED\",\"showgrid\":true,\"tickfont\":{\"color\":\"#4D5663\"},\"title\":{\"font\":{\"color\":\"#4D5663\"},\"text\":\"\"},\"zerolinecolor\":\"#E1E5ED\"}},                        {\"showLink\": true, \"linkText\": \"Export to plot.ly\", \"plotlyServerURL\": \"https://plot.ly\", \"responsive\": true}                    ).then(function(){\n",
       "                            \n",
       "var gd = document.getElementById('6494520f-f93e-40d2-b863-d0dc9045b4bf');\n",
       "var x = new MutationObserver(function (mutations, observer) {{\n",
       "        var display = window.getComputedStyle(gd).display;\n",
       "        if (!display || display === 'none') {{\n",
       "            console.log([gd, 'removed!']);\n",
       "            Plotly.purge(gd);\n",
       "            observer.disconnect();\n",
       "        }}\n",
       "}});\n",
       "\n",
       "// Listen for the removal of the full notebook cells\n",
       "var notebookContainer = gd.closest('#notebook-container');\n",
       "if (notebookContainer) {{\n",
       "    x.observe(notebookContainer, {childList: true});\n",
       "}}\n",
       "\n",
       "// Listen for the clearing of the current output cell\n",
       "var outputEl = gd.closest('.output');\n",
       "if (outputEl) {{\n",
       "    x.observe(outputEl, {childList: true});\n",
       "}}\n",
       "\n",
       "                        })                };                });            </script>        </div>"
      ]
     },
     "metadata": {},
     "output_type": "display_data"
    }
   ],
   "source": [
    "qf = cf.QuantFig(df, title='GOOG 2022', name='GOOG',\n",
    "                up_color = 'green',\n",
    "                down_color = 'red')\n",
    "\n",
    "# add a 14-day moving average\n",
    "qf.add_sma(periods = 14, column = 'Close', color = 'blue' )\n",
    "\n",
    "qf.iplot()"
   ]
  },
  {
   "cell_type": "code",
   "execution_count": 111,
   "metadata": {},
   "outputs": [
    {
     "data": {
      "application/vnd.plotly.v1+json": {
       "config": {
        "linkText": "Export to plot.ly",
        "plotlyServerURL": "https://plot.ly",
        "showLink": true
       },
       "data": [
        {
         "line": {
          "color": "rgba(55, 128, 191, 1.0)",
          "dash": "solid",
          "shape": "linear",
          "width": 1.3
         },
         "mode": "lines",
         "name": " SMA(15)",
         "text": "",
         "type": "scatter",
         "x": [
          "2022-01-03",
          "2022-01-04",
          "2022-01-05",
          "2022-01-06",
          "2022-01-07",
          "2022-01-10",
          "2022-01-11",
          "2022-01-12",
          "2022-01-13",
          "2022-01-14",
          "2022-01-18",
          "2022-01-19",
          "2022-01-20",
          "2022-01-21",
          "2022-01-24",
          "2022-01-25",
          "2022-01-26",
          "2022-01-27",
          "2022-01-28",
          "2022-01-31",
          "2022-02-01",
          "2022-02-02",
          "2022-02-03",
          "2022-02-04",
          "2022-02-07",
          "2022-02-08",
          "2022-02-09",
          "2022-02-10",
          "2022-02-11",
          "2022-02-14",
          "2022-02-15",
          "2022-02-16",
          "2022-02-17",
          "2022-02-18",
          "2022-02-22",
          "2022-02-23",
          "2022-02-24",
          "2022-02-25",
          "2022-02-28",
          "2022-03-01",
          "2022-03-02",
          "2022-03-03",
          "2022-03-04",
          "2022-03-07",
          "2022-03-08",
          "2022-03-09",
          "2022-03-10",
          "2022-03-11",
          "2022-03-14",
          "2022-03-15",
          "2022-03-16",
          "2022-03-17",
          "2022-03-18",
          "2022-03-21",
          "2022-03-22",
          "2022-03-23",
          "2022-03-24",
          "2022-03-25",
          "2022-03-28",
          "2022-03-29",
          "2022-03-30",
          "2022-03-31",
          "2022-04-01",
          "2022-04-04",
          "2022-04-05",
          "2022-04-06",
          "2022-04-07",
          "2022-04-08",
          "2022-04-11",
          "2022-04-12",
          "2022-04-13",
          "2022-04-14",
          "2022-04-18",
          "2022-04-19",
          "2022-04-20",
          "2022-04-21",
          "2022-04-22",
          "2022-04-25",
          "2022-04-26",
          "2022-04-27",
          "2022-04-28",
          "2022-04-29",
          "2022-05-02",
          "2022-05-03",
          "2022-05-04",
          "2022-05-05",
          "2022-05-06",
          "2022-05-09",
          "2022-05-10",
          "2022-05-11",
          "2022-05-12",
          "2022-05-13",
          "2022-05-16",
          "2022-05-17",
          "2022-05-18",
          "2022-05-19",
          "2022-05-20",
          "2022-05-23",
          "2022-05-24",
          "2022-05-25",
          "2022-05-26",
          "2022-05-27",
          "2022-05-31",
          "2022-06-01",
          "2022-06-02",
          "2022-06-03",
          "2022-06-06",
          "2022-06-07",
          "2022-06-08",
          "2022-06-09",
          "2022-06-10",
          "2022-06-13",
          "2022-06-14",
          "2022-06-15",
          "2022-06-16",
          "2022-06-17",
          "2022-06-21",
          "2022-06-22",
          "2022-06-23",
          "2022-06-24",
          "2022-06-27",
          "2022-06-28",
          "2022-06-29"
         ],
         "y": [
          "",
          "",
          "",
          "",
          "",
          "",
          "",
          "",
          "",
          "",
          "",
          "",
          "",
          "",
          2755.693359333333,
          2731.2413573999997,
          2711.006022133333,
          2699.6293457333327,
          2693.947347,
          2692.2060058666666,
          2691.2786783999995,
          2701.970670533333,
          2703.307340466666,
          2708.4873371999997,
          2707.3560058666667,
          2711.252669266666,
          2718.9873372666666,
          2725.7820149999993,
          2731.1660156666667,
          2737.7366862666668,
          2750.656689533333,
          2761.6533529333333,
          2765.9033529333333,
          2762.1406902000003,
          2753.7460287333333,
          2740.021354266667,
          2719.537353666667,
          2708.696012533334,
          2697.8626792000005,
          2691.5026856666673,
          2685.5540202666675,
          2676.027343800001,
          2667.3866699333344,
          2657.1659993333337,
          2646.470670533334,
          2643.0580077333343,
          2636.6506672666674,
          2634.206673133334,
          2629.238004466667,
          2629.5819986000006,
          2637.7226724666675,
          2640.2920084000007,
          2643.334684133334,
          2645.451350800001,
          2653.597346933334,
          2658.6000162000005,
          2667.938688066667,
          2680.471354133334,
          2701.1186848666675,
          2722.4140136666674,
          2734.1186686666674,
          2743.408675133334,
          2757.0413411333343,
          2779.576676466668,
          2794.7800130666674,
          2799.427343800001,
          2801.913346400001,
          2798.192008533334,
          2789.282666133334,
          2773.4119955333344,
          2762.4553224000006,
          2743.7099936666677,
          2725.629329600001,
          2710.4040040666673,
          2690.397998200001,
          2666.788672000001,
          2640.074674600001,
          2616.8080079333345,
          2584.6260092000007,
          2549.9026693333344,
          2526.2166666666676,
          2497.5520019333344,
          2475.080664066668,
          2459.5246744666674,
          2451.7920084666675,
          2433.739339200001,
          2418.2819986666673,
          2398.4459960666672,
          2377.183984333334,
          2358.137988266667,
          2342.4359863333334,
          2338.3046550000004,
          2327.027994866667,
          2323.2886556666676,
          2319.7959962000004,
          2308.2413250000004,
          2300.703320466667,
          2293.3826661333337,
          2277.111328266667,
          2254.797330866667,
          2243.529996866667,
          2239.7153321333335,
          2240.988671933334,
          2240.3920085333343,
          2245.4386719333343,
          2247.3093424666677,
          2247.969335933334,
          2251.2186686000005,
          2251.934000666667,
          2255.290006466667,
          2256.199348933333,
          2252.950683533333,
          2246.9873372,
          2252.940006466667,
          2254.0020019333333,
          2253.428011066667,
          2252.382682333334,
          2249.7093425333337,
          2247.7726725999996,
          2248.828678466666,
          2251.573339933333,
          2245.6546713333328,
          2239.023991
         ],
         "yaxis": "y2"
        },
        {
         "line": {
          "color": "rgba(0, 128, 0, 1.0)",
          "dash": "solid",
          "shape": "linear",
          "width": 1.3
         },
         "mode": "lines",
         "name": " SMA(20)",
         "text": "",
         "type": "scatter",
         "x": [
          "2022-01-03",
          "2022-01-04",
          "2022-01-05",
          "2022-01-06",
          "2022-01-07",
          "2022-01-10",
          "2022-01-11",
          "2022-01-12",
          "2022-01-13",
          "2022-01-14",
          "2022-01-18",
          "2022-01-19",
          "2022-01-20",
          "2022-01-21",
          "2022-01-24",
          "2022-01-25",
          "2022-01-26",
          "2022-01-27",
          "2022-01-28",
          "2022-01-31",
          "2022-02-01",
          "2022-02-02",
          "2022-02-03",
          "2022-02-04",
          "2022-02-07",
          "2022-02-08",
          "2022-02-09",
          "2022-02-10",
          "2022-02-11",
          "2022-02-14",
          "2022-02-15",
          "2022-02-16",
          "2022-02-17",
          "2022-02-18",
          "2022-02-22",
          "2022-02-23",
          "2022-02-24",
          "2022-02-25",
          "2022-02-28",
          "2022-03-01",
          "2022-03-02",
          "2022-03-03",
          "2022-03-04",
          "2022-03-07",
          "2022-03-08",
          "2022-03-09",
          "2022-03-10",
          "2022-03-11",
          "2022-03-14",
          "2022-03-15",
          "2022-03-16",
          "2022-03-17",
          "2022-03-18",
          "2022-03-21",
          "2022-03-22",
          "2022-03-23",
          "2022-03-24",
          "2022-03-25",
          "2022-03-28",
          "2022-03-29",
          "2022-03-30",
          "2022-03-31",
          "2022-04-01",
          "2022-04-04",
          "2022-04-05",
          "2022-04-06",
          "2022-04-07",
          "2022-04-08",
          "2022-04-11",
          "2022-04-12",
          "2022-04-13",
          "2022-04-14",
          "2022-04-18",
          "2022-04-19",
          "2022-04-20",
          "2022-04-21",
          "2022-04-22",
          "2022-04-25",
          "2022-04-26",
          "2022-04-27",
          "2022-04-28",
          "2022-04-29",
          "2022-05-02",
          "2022-05-03",
          "2022-05-04",
          "2022-05-05",
          "2022-05-06",
          "2022-05-09",
          "2022-05-10",
          "2022-05-11",
          "2022-05-12",
          "2022-05-13",
          "2022-05-16",
          "2022-05-17",
          "2022-05-18",
          "2022-05-19",
          "2022-05-20",
          "2022-05-23",
          "2022-05-24",
          "2022-05-25",
          "2022-05-26",
          "2022-05-27",
          "2022-05-31",
          "2022-06-01",
          "2022-06-02",
          "2022-06-03",
          "2022-06-06",
          "2022-06-07",
          "2022-06-08",
          "2022-06-09",
          "2022-06-10",
          "2022-06-13",
          "2022-06-14",
          "2022-06-15",
          "2022-06-16",
          "2022-06-17",
          "2022-06-21",
          "2022-06-22",
          "2022-06-23",
          "2022-06-24",
          "2022-06-27",
          "2022-06-28",
          "2022-06-29"
         ],
         "y": [
          "",
          "",
          "",
          "",
          "",
          "",
          "",
          "",
          "",
          "",
          "",
          "",
          "",
          "",
          "",
          "",
          "",
          "",
          "",
          2720.8545165999994,
          2713.6585204999997,
          2717.2785156,
          2722.2755126999996,
          2727.7405151,
          2729.6740111999998,
          2730.3130126999995,
          2731.7485107499997,
          2728.7030151499994,
          2723.7020141999997,
          2719.2155152,
          2719.35051275,
          2721.1860107999996,
          2719.9880127499996,
          2720.36351325,
          2719.39401865,
          2720.24351815,
          2723.67701425,
          2729.0755128,
          2730.67701425,
          2729.14652105,
          2726.0195191000003,
          2712.2910157000006,
          2701.7625122500003,
          2685.2110108000006,
          2673.5515137000007,
          2668.2045166000007,
          2659.4335083000005,
          2651.3065063500007,
          2643.9175048500006,
          2638.2780029000005,
          2635.543005350001,
          2632.656005850001,
          2637.1490112000006,
          2643.1600097000005,
          2654.0350097000005,
          2664.9535155500007,
          2673.5920165000007,
          2680.5940184500005,
          2687.6530150500007,
          2696.735009700001,
          2704.6280029000004,
          2709.9695068000005,
          2718.5475097500007,
          2735.7255127000008,
          2749.5100098000007,
          2752.8200074000006,
          2756.6030152000008,
          2760.1380127500006,
          2763.1935059500006,
          2761.9075074000007,
          2758.5030030000007,
          2751.155505450001,
          2742.315002550001,
          2736.3675050000006,
          2724.3354981500006,
          2710.769494750001,
          2689.071496700001,
          2670.800000100001,
          2648.3560059500005,
          2620.1265015500007,
          2596.893505900001,
          2572.210510300001,
          2548.667504950001,
          2523.154504450001,
          2504.666503950001,
          2484.2369995500003,
          2463.431994650001,
          2442.5054932000007,
          2427.2934936500005,
          2412.8799927000005,
          2395.7549927000005,
          2385.0174927000003,
          2371.8489990500007,
          2358.0194946500005,
          2342.1750000500006,
          2327.9829956500007,
          2317.6819947000004,
          2306.0984986000003,
          2292.5184937500003,
          2283.3375001,
          2272.2219972,
          2270.0544923,
          2266.9364991,
          2262.9439942000004,
          2258.1149903000005,
          2255.9324951500007,
          2257.2829956500004,
          2261.4285034500003,
          2264.0820069000006,
          2265.0390137000004,
          2263.3055176000007,
          2253.6665161000005,
          2246.0680053500005,
          2239.7570068500004,
          2233.9920044000005,
          2231.1120117500004,
          2233.8140137000005,
          2234.1815064000007,
          2240.9400024500005,
          2253.6385010000004,
          2261.9650024500006,
          2261.7375000500006,
          2259.95499275
         ],
         "yaxis": "y2"
        },
        {
         "line": {
          "color": "rgba(165, 42, 42, 1.0)",
          "dash": "solid",
          "shape": "linear",
          "width": 1.3
         },
         "mode": "lines",
         "name": " SMA(30)",
         "text": "",
         "type": "scatter",
         "x": [
          "2022-01-03",
          "2022-01-04",
          "2022-01-05",
          "2022-01-06",
          "2022-01-07",
          "2022-01-10",
          "2022-01-11",
          "2022-01-12",
          "2022-01-13",
          "2022-01-14",
          "2022-01-18",
          "2022-01-19",
          "2022-01-20",
          "2022-01-21",
          "2022-01-24",
          "2022-01-25",
          "2022-01-26",
          "2022-01-27",
          "2022-01-28",
          "2022-01-31",
          "2022-02-01",
          "2022-02-02",
          "2022-02-03",
          "2022-02-04",
          "2022-02-07",
          "2022-02-08",
          "2022-02-09",
          "2022-02-10",
          "2022-02-11",
          "2022-02-14",
          "2022-02-15",
          "2022-02-16",
          "2022-02-17",
          "2022-02-18",
          "2022-02-22",
          "2022-02-23",
          "2022-02-24",
          "2022-02-25",
          "2022-02-28",
          "2022-03-01",
          "2022-03-02",
          "2022-03-03",
          "2022-03-04",
          "2022-03-07",
          "2022-03-08",
          "2022-03-09",
          "2022-03-10",
          "2022-03-11",
          "2022-03-14",
          "2022-03-15",
          "2022-03-16",
          "2022-03-17",
          "2022-03-18",
          "2022-03-21",
          "2022-03-22",
          "2022-03-23",
          "2022-03-24",
          "2022-03-25",
          "2022-03-28",
          "2022-03-29",
          "2022-03-30",
          "2022-03-31",
          "2022-04-01",
          "2022-04-04",
          "2022-04-05",
          "2022-04-06",
          "2022-04-07",
          "2022-04-08",
          "2022-04-11",
          "2022-04-12",
          "2022-04-13",
          "2022-04-14",
          "2022-04-18",
          "2022-04-19",
          "2022-04-20",
          "2022-04-21",
          "2022-04-22",
          "2022-04-25",
          "2022-04-26",
          "2022-04-27",
          "2022-04-28",
          "2022-04-29",
          "2022-05-02",
          "2022-05-03",
          "2022-05-04",
          "2022-05-05",
          "2022-05-06",
          "2022-05-09",
          "2022-05-10",
          "2022-05-11",
          "2022-05-12",
          "2022-05-13",
          "2022-05-16",
          "2022-05-17",
          "2022-05-18",
          "2022-05-19",
          "2022-05-20",
          "2022-05-23",
          "2022-05-24",
          "2022-05-25",
          "2022-05-26",
          "2022-05-27",
          "2022-05-31",
          "2022-06-01",
          "2022-06-02",
          "2022-06-03",
          "2022-06-06",
          "2022-06-07",
          "2022-06-08",
          "2022-06-09",
          "2022-06-10",
          "2022-06-13",
          "2022-06-14",
          "2022-06-15",
          "2022-06-16",
          "2022-06-17",
          "2022-06-21",
          "2022-06-22",
          "2022-06-23",
          "2022-06-24",
          "2022-06-27",
          "2022-06-28",
          "2022-06-29"
         ],
         "y": [
          "",
          "",
          "",
          "",
          "",
          "",
          "",
          "",
          "",
          "",
          "",
          "",
          "",
          "",
          "",
          "",
          "",
          "",
          "",
          "",
          "",
          "",
          "",
          "",
          "",
          "",
          "",
          "",
          "",
          2746.7150227999996,
          2740.949023466666,
          2736.3296875333326,
          2732.7663493333325,
          2728.044018599999,
          2722.976017299999,
          2715.6500163333326,
          2710.7540120999993,
          2706.001676499999,
          2703.1750081999994,
          2699.429345766666,
          2698.403344766666,
          2697.507340533333,
          2696.5843424666664,
          2694.1660074999995,
          2692.1036784,
          2696.857348633333,
          2699.1520100999996,
          2700.055013033333,
          2695.689347333333,
          2691.6640136666665,
          2688.872013366666,
          2679.9146810333327,
          2676.015348333333,
          2671.6570149999993,
          2672.5500162999992,
          2672.077018233333,
          2671.9830159333333,
          2673.929012033333,
          2679.1423421,
          2684.4423421,
          2688.5883382,
          2690.0296712,
          2695.624007133333,
          2704.4073404666665,
          2712.1810058333335,
          2718.575008133333,
          2721.1026773999997,
          2720.763346333333,
          2717.3670084666664,
          2713.5046712333333,
          2710.5276692999996,
          2705.8243408666663,
          2703.050341866666,
          2705.761344466666,
          2706.406005933333,
          2700.453670333333,
          2691.741674866666,
          2686.9246745333326,
          2682.1013428333326,
          2672.3413411999995,
          2662.822005233333,
          2649.7326741666666,
          2636.6363362999996,
          2624.4036702999997,
          2612.6020019999996,
          2598.0973308,
          2580.9959961666664,
          2562.037662833333,
          2543.7939942,
          2524.267993233333,
          2504.6123291666663,
          2489.1896647999993,
          2471.9180013999994,
          2453.957332433333,
          2434.849332766666,
          2417.228995833333,
          2399.1276611999997,
          2384.2316650999996,
          2368.318001366666,
          2353.2946696666663,
          2338.6346680333327,
          2328.9986654,
          2319.717334,
          2308.7879964333333,
          2301.7883300999997,
          2294.8726644,
          2293.1369954666666,
          2289.123331733333,
          2287.6113281666667,
          2287.543001333333,
          2282.2203369666663,
          2276.8270019999995,
          2270.1850016666663,
          2265.0256673666663,
          2254.3996663999997,
          2248.4790039666664,
          2246.0490072333328,
          2245.3490072333325,
          2244.082340566666,
          2247.1336751999993,
          2249.4413411999994,
          2246.812003633333,
          2245.1213298
         ],
         "yaxis": "y2"
        },
        {
         "line": {
          "color": "rgba(255, 153, 51, 1.0)",
          "dash": "solid",
          "shape": "linear",
          "width": 1.3
         },
         "mode": "lines",
         "name": " SMA(50)",
         "text": "",
         "type": "scatter",
         "x": [
          "2022-01-03",
          "2022-01-04",
          "2022-01-05",
          "2022-01-06",
          "2022-01-07",
          "2022-01-10",
          "2022-01-11",
          "2022-01-12",
          "2022-01-13",
          "2022-01-14",
          "2022-01-18",
          "2022-01-19",
          "2022-01-20",
          "2022-01-21",
          "2022-01-24",
          "2022-01-25",
          "2022-01-26",
          "2022-01-27",
          "2022-01-28",
          "2022-01-31",
          "2022-02-01",
          "2022-02-02",
          "2022-02-03",
          "2022-02-04",
          "2022-02-07",
          "2022-02-08",
          "2022-02-09",
          "2022-02-10",
          "2022-02-11",
          "2022-02-14",
          "2022-02-15",
          "2022-02-16",
          "2022-02-17",
          "2022-02-18",
          "2022-02-22",
          "2022-02-23",
          "2022-02-24",
          "2022-02-25",
          "2022-02-28",
          "2022-03-01",
          "2022-03-02",
          "2022-03-03",
          "2022-03-04",
          "2022-03-07",
          "2022-03-08",
          "2022-03-09",
          "2022-03-10",
          "2022-03-11",
          "2022-03-14",
          "2022-03-15",
          "2022-03-16",
          "2022-03-17",
          "2022-03-18",
          "2022-03-21",
          "2022-03-22",
          "2022-03-23",
          "2022-03-24",
          "2022-03-25",
          "2022-03-28",
          "2022-03-29",
          "2022-03-30",
          "2022-03-31",
          "2022-04-01",
          "2022-04-04",
          "2022-04-05",
          "2022-04-06",
          "2022-04-07",
          "2022-04-08",
          "2022-04-11",
          "2022-04-12",
          "2022-04-13",
          "2022-04-14",
          "2022-04-18",
          "2022-04-19",
          "2022-04-20",
          "2022-04-21",
          "2022-04-22",
          "2022-04-25",
          "2022-04-26",
          "2022-04-27",
          "2022-04-28",
          "2022-04-29",
          "2022-05-02",
          "2022-05-03",
          "2022-05-04",
          "2022-05-05",
          "2022-05-06",
          "2022-05-09",
          "2022-05-10",
          "2022-05-11",
          "2022-05-12",
          "2022-05-13",
          "2022-05-16",
          "2022-05-17",
          "2022-05-18",
          "2022-05-19",
          "2022-05-20",
          "2022-05-23",
          "2022-05-24",
          "2022-05-25",
          "2022-05-26",
          "2022-05-27",
          "2022-05-31",
          "2022-06-01",
          "2022-06-02",
          "2022-06-03",
          "2022-06-06",
          "2022-06-07",
          "2022-06-08",
          "2022-06-09",
          "2022-06-10",
          "2022-06-13",
          "2022-06-14",
          "2022-06-15",
          "2022-06-16",
          "2022-06-17",
          "2022-06-21",
          "2022-06-22",
          "2022-06-23",
          "2022-06-24",
          "2022-06-27",
          "2022-06-28",
          "2022-06-29"
         ],
         "y": [
          "",
          "",
          "",
          "",
          "",
          "",
          "",
          "",
          "",
          "",
          "",
          "",
          "",
          "",
          "",
          "",
          "",
          "",
          "",
          "",
          "",
          "",
          "",
          "",
          "",
          "",
          "",
          "",
          "",
          "",
          "",
          "",
          "",
          "",
          "",
          "",
          "",
          "",
          "",
          "",
          "",
          "",
          "",
          "",
          "",
          "",
          "",
          "",
          "",
          2703.340214839999,
          2698.7866162199994,
          2694.8602148599994,
          2694.519414079999,
          2694.0904150399992,
          2695.3996142599995,
          2695.3714160199993,
          2695.8892138599995,
          2695.8386132799997,
          2696.9662109399997,
          2698.351611339999,
          2700.8932080199993,
          2702.4922070399994,
          2705.3696093799995,
          2710.789809579999,
          2715.06621096,
          2719.24241214,
          2722.13241214,
          2724.0882129199995,
          2722.691010779999,
          2719.761411159999,
          2716.7244092199994,
          2708.4110107999995,
          2702.53521002,
          2697.5412109999997,
          2693.26420904,
          2687.55400884,
          2678.8184082399994,
          2672.677407259999,
          2666.8278076399997,
          2658.7160058799996,
          2651.91040528,
          2642.90200684,
          2636.84140626,
          2631.90620606,
          2629.17520508,
          2624.8398047,
          2618.0344043,
          2609.4602050800004,
          2601.3376025400003,
          2593.2547998200007,
          2584.6185986600003,
          2577.5016016000004,
          2570.56980474,
          2566.6646045400003,
          2560.71360358,
          2551.46540046,
          2542.1178028,
          2534.59420416,
          2526.2682032,
          2516.73980476,
          2506.58200202,
          2497.86140142,
          2488.75640142,
          2479.8197998600003,
          2470.8071973200003,
          2461.2313965400003,
          2451.5107959600005,
          2441.79399908,
          2431.9091992800004,
          2420.5764014200004,
          2408.08960454,
          2394.98040532,
          2381.5780029800003,
          2368.2772022000004,
          2354.50640142,
          2342.7822022,
          2333.0022022000003,
          2324.2116016200002,
          2317.3668018000003,
          2313.4322022,
          2307.9668018,
          2302.09419926,
          2295.8123975000003
         ],
         "yaxis": "y2"
        },
        {
         "close": [
          2901.48999,
          2888.330078,
          2753.070068,
          2751.02002,
          2740.090088,
          2771.47998,
          2800.350098,
          2832.959961,
          2782.6201170000004,
          2795.72998,
          2725.810059,
          2713.040039,
          2670.1298829999996,
          2601.840088,
          2607.439941,
          2534.709961,
          2584.800049,
          2582.419922,
          2665.790039,
          2713.969971,
          2757.570068,
          2960.72998,
          2853.01001,
          2860.320068,
          2778.76001,
          2784.26001,
          2829.060059,
          2772.050049,
          2682.600098,
          2706,
          2728.51001,
          2749.75,
          2646.169922,
          2609.350098,
          2588.050049,
          2551.699951,
          2653.469971,
          2690.389893,
          2697.820068,
          2683.360107,
          2695.030029,
          2686.159912,
          2642.439941,
          2529.290039,
          2545.570068,
          2677.320068,
          2653.639893,
          2609.51001,
          2534.820068,
          2593.209961,
          2673.810059,
          2692.01001,
          2736.030029,
          2729.570068,
          2805.550049,
          2770.070068,
          2826.23999,
          2830.429932,
          2839,
          2865,
          2852.889893,
          2792.98999,
          2814,
          2872.850098,
          2821.26001,
          2743.52002,
          2729.300049,
          2680.209961,
          2595.929932,
          2567.48999,
          2605.719971,
          2545.060059,
          2559.219971,
          2610.6201170000004,
          2564.909912,
          2498.75,
          2392.280029,
          2465,
          2390.1201170000004,
          2300.409912,
          2388.22998,
          2299.330078,
          2343.139893,
          2362.590088,
          2451.5,
          2334.929932,
          2313.199951,
          2261.679932,
          2291.689941,
          2279.219971,
          2263.219971,
          2330.310059,
          2295.850098,
          2334.030029,
          2248.02002,
          2214.909912,
          2186.26001,
          2233.330078,
          2118.52002,
          2116.790039,
          2165.919922,
          2255.97998,
          2280.780029,
          2282.73999,
          2354.919922,
          2291.280029,
          2340.209961,
          2344.590088,
          2344.76001,
          2298.360107,
          2228.550049,
          2137.530029,
          2143.8798829999996,
          2207.810059,
          2132.719971,
          2157.310059,
          2240.300049,
          2240.679932,
          2253.689941,
          2370.76001,
          2332.449951,
          2251.429932,
          2245.1298829999996
         ],
         "decreasing": {
          "line": {
           "color": "#db4052"
          }
         },
         "high": [
          2911,
          2932.199951,
          2885.959961,
          2793.719971,
          2765.094971,
          2772.800049,
          2806.590088,
          2856.284912,
          2863.709961,
          2824.01001,
          2747.830078,
          2767.98999,
          2758.23999,
          2695.209961,
          2615.570068,
          2586.77002,
          2656.149902,
          2652.198975,
          2667.409912,
          2716.8701170000004,
          2764,
          3042,
          2982.354004,
          2890.705078,
          2876.929932,
          2796.741943,
          2843.51001,
          2828.6201170000004,
          2785.665039,
          2723.330078,
          2758,
          2758.919922,
          2736.790039,
          2676.47998,
          2638.014893,
          2634.97998,
          2660.73999,
          2707.780029,
          2712.810059,
          2722.219971,
          2712.310059,
          2734.275879,
          2683.97998,
          2638.080078,
          2624.929932,
          2683.969971,
          2670.77002,
          2684,
          2620.52002,
          2610.344971,
          2675.419922,
          2694.790039,
          2738.27002,
          2751.649902,
          2830,
          2800.5,
          2827.929932,
          2839.189941,
          2839.530029,
          2883.25,
          2869.610107,
          2852.889893,
          2819,
          2880.875,
          2871.800049,
          2796.969971,
          2754.030029,
          2725,
          2658.783936,
          2648.469971,
          2613.11499,
          2614.205078,
          2574.23999,
          2618.074951,
          2638.469971,
          2606.149902,
          2509.040039,
          2465.560059,
          2455,
          2350,
          2408.77002,
          2379.199951,
          2346.790039,
          2386,
          2462.860107,
          2424.665039,
          2349.969971,
          2311.258057,
          2333.820068,
          2333.419922,
          2297.1298829999996,
          2361.699951,
          2332.149902,
          2344.550049,
          2313.913086,
          2271.75,
          2251,
          2240.110107,
          2127.899902,
          2130.894043,
          2179.10498,
          2257.360107,
          2328.669922,
          2347.97998,
          2357.959961,
          2327.290039,
          2387.969971,
          2354.9729,
          2372.919922,
          2367,
          2269.939941,
          2184.3701170000004,
          2169.149902,
          2241.26001,
          2185.810059,
          2184.98999,
          2253.459961,
          2275.389893,
          2263.929932,
          2372.75,
          2385,
          2357.1298829999996,
          2273.290039
         ],
         "increasing": {
          "line": {
           "color": "#008000"
          }
         },
         "low": [
          2870.050049,
          2876.322998,
          2750.469971,
          2735.27002,
          2715.780029,
          2662.810059,
          2736.27002,
          2822.23999,
          2778.280029,
          2750,
          2712.340088,
          2710,
          2662.889893,
          2600.02002,
          2492.839111,
          2527.560059,
          2543.070068,
          2578.899902,
          2573.889893,
          2645.47998,
          2691.36499,
          2911.149902,
          2844.100098,
          2796.350098,
          2773.97998,
          2737.459961,
          2807.540039,
          2761,
          2665.77002,
          2666.040039,
          2710.790039,
          2696.4729,
          2644.040039,
          2606.1411129999997,
          2554.820068,
          2550.070068,
          2495.290039,
          2635.300049,
          2656.5048829999996,
          2667.570068,
          2668.649902,
          2668.6201170000004,
          2608.169922,
          2528.199951,
          2517.215088,
          2601.76001,
          2628.02002,
          2605.929932,
          2528.26001,
          2531.360107,
          2584.02002,
          2654.3798829999996,
          2658.639893,
          2692.22998,
          2730,
          2763.330078,
          2760.788086,
          2793.98999,
          2796.5629879999997,
          2849.679932,
          2843.360107,
          2792.3798829999996,
          2775.939941,
          2816.48999,
          2818.8701170000004,
          2728.362061,
          2697.14502,
          2675.050049,
          2592.350098,
          2551.52002,
          2568.771973,
          2542.22998,
          2531.569092,
          2549.030029,
          2557.881104,
          2493,
          2382.810059,
          2375.38501,
          2383.237061,
          2262.485107,
          2302.87793,
          2293.8798829999996,
          2267.98999,
          2332.540039,
          2314.77002,
          2303.649902,
          2282.860107,
          2251.030029,
          2267.666016,
          2273,
          2202.27002,
          2280,
          2286.699951,
          2306.75,
          2242.840088,
          2209.360107,
          2127.459961,
          2183.084961,
          2044.160034,
          2084.225098,
          2109.76001,
          2191,
          2251.449951,
          2271.01001,
          2266.159912,
          2273.360107,
          2330.565918,
          2302.51001,
          2333.935059,
          2297.340088,
          2217.219971,
          2131.760986,
          2127.040039,
          2162.375,
          2115.850098,
          2112.571045,
          2185.8701170000004,
          2214.486084,
          2220.580078,
          2272.060059,
          2320.014893,
          2248.8798829999996,
          2231.080078
         ],
         "name": "GOOG",
         "open": [
          2889.51001,
          2911.01001,
          2883.6201170000004,
          2749.949951,
          2758.100098,
          2701.97998,
          2763.610107,
          2831.090088,
          2836.810059,
          2750,
          2732,
          2738.77002,
          2730.280029,
          2660.23999,
          2520.550049,
          2568.709961,
          2611.850098,
          2627.219971,
          2600,
          2683.959961,
          2756.699951,
          3037.27002,
          2905.899902,
          2860.340088,
          2874.179932,
          2779.824951,
          2816.9951170000004,
          2790,
          2775,
          2667.310059,
          2749.429932,
          2728.610107,
          2723,
          2660.75,
          2599.699951,
          2621.570068,
          2500,
          2670.51001,
          2665.689941,
          2689.600098,
          2692.165039,
          2719.570068,
          2667.649902,
          2638.080078,
          2525.01001,
          2628,
          2629.25,
          2679.98999,
          2611.459961,
          2554.830078,
          2620,
          2666.419922,
          2677.679932,
          2736.949951,
          2730,
          2782.77002,
          2785.449951,
          2835.080078,
          2813.689941,
          2863.209961,
          2857.399902,
          2848.969971,
          2800.199951,
          2816.48999,
          2867.98999,
          2783.22998,
          2732.360107,
          2725,
          2658,
          2648.469971,
          2572.530029,
          2612.98999,
          2548.199951,
          2561.540039,
          2625.679932,
          2587,
          2500,
          2388.590088,
          2455,
          2287.459961,
          2342.300049,
          2351.560059,
          2278.1298829999996,
          2335.300049,
          2360.070068,
          2404.409912,
          2310.3798829999996,
          2266.070068,
          2320.810059,
          2274.209961,
          2238.76001,
          2296.909912,
          2307.679932,
          2344.550049,
          2304.75,
          2236.820068,
          2241.709961,
          2202.080078,
          2127.550049,
          2102.840088,
          2121.01001,
          2195.77002,
          2261.580078,
          2298.6298829999996,
          2283.76001,
          2319.850098,
          2334.850098,
          2312.959961,
          2337.530029,
          2326.830078,
          2255.625,
          2148.919922,
          2137.800049,
          2177.98999,
          2162.98999,
          2130.699951,
          2194.040039,
          2223.26001,
          2259,
          2272.060059,
          2378.699951,
          2327.02002,
          2242.969971
         ],
         "showlegend": true,
         "type": "candlestick",
         "x": [
          "2022-01-03",
          "2022-01-04",
          "2022-01-05",
          "2022-01-06",
          "2022-01-07",
          "2022-01-10",
          "2022-01-11",
          "2022-01-12",
          "2022-01-13",
          "2022-01-14",
          "2022-01-18",
          "2022-01-19",
          "2022-01-20",
          "2022-01-21",
          "2022-01-24",
          "2022-01-25",
          "2022-01-26",
          "2022-01-27",
          "2022-01-28",
          "2022-01-31",
          "2022-02-01",
          "2022-02-02",
          "2022-02-03",
          "2022-02-04",
          "2022-02-07",
          "2022-02-08",
          "2022-02-09",
          "2022-02-10",
          "2022-02-11",
          "2022-02-14",
          "2022-02-15",
          "2022-02-16",
          "2022-02-17",
          "2022-02-18",
          "2022-02-22",
          "2022-02-23",
          "2022-02-24",
          "2022-02-25",
          "2022-02-28",
          "2022-03-01",
          "2022-03-02",
          "2022-03-03",
          "2022-03-04",
          "2022-03-07",
          "2022-03-08",
          "2022-03-09",
          "2022-03-10",
          "2022-03-11",
          "2022-03-14",
          "2022-03-15",
          "2022-03-16",
          "2022-03-17",
          "2022-03-18",
          "2022-03-21",
          "2022-03-22",
          "2022-03-23",
          "2022-03-24",
          "2022-03-25",
          "2022-03-28",
          "2022-03-29",
          "2022-03-30",
          "2022-03-31",
          "2022-04-01",
          "2022-04-04",
          "2022-04-05",
          "2022-04-06",
          "2022-04-07",
          "2022-04-08",
          "2022-04-11",
          "2022-04-12",
          "2022-04-13",
          "2022-04-14",
          "2022-04-18",
          "2022-04-19",
          "2022-04-20",
          "2022-04-21",
          "2022-04-22",
          "2022-04-25",
          "2022-04-26",
          "2022-04-27",
          "2022-04-28",
          "2022-04-29",
          "2022-05-02",
          "2022-05-03",
          "2022-05-04",
          "2022-05-05",
          "2022-05-06",
          "2022-05-09",
          "2022-05-10",
          "2022-05-11",
          "2022-05-12",
          "2022-05-13",
          "2022-05-16",
          "2022-05-17",
          "2022-05-18",
          "2022-05-19",
          "2022-05-20",
          "2022-05-23",
          "2022-05-24",
          "2022-05-25",
          "2022-05-26",
          "2022-05-27",
          "2022-05-31",
          "2022-06-01",
          "2022-06-02",
          "2022-06-03",
          "2022-06-06",
          "2022-06-07",
          "2022-06-08",
          "2022-06-09",
          "2022-06-10",
          "2022-06-13",
          "2022-06-14",
          "2022-06-15",
          "2022-06-16",
          "2022-06-17",
          "2022-06-21",
          "2022-06-22",
          "2022-06-23",
          "2022-06-24",
          "2022-06-27",
          "2022-06-28",
          "2022-06-29"
         ],
         "yaxis": "y2"
        }
       ],
       "layout": {
        "legend": {
         "bgcolor": "#F5F6F9",
         "font": {
          "color": "#4D5663"
         }
        },
        "margin": {
         "b": 30,
         "l": 30,
         "r": 30,
         "t": 30
        },
        "paper_bgcolor": "#F5F6F9",
        "plot_bgcolor": "#F5F6F9",
        "showlegend": true,
        "template": {
         "data": {
          "bar": [
           {
            "error_x": {
             "color": "#2a3f5f"
            },
            "error_y": {
             "color": "#2a3f5f"
            },
            "marker": {
             "line": {
              "color": "#E5ECF6",
              "width": 0.5
             },
             "pattern": {
              "fillmode": "overlay",
              "size": 10,
              "solidity": 0.2
             }
            },
            "type": "bar"
           }
          ],
          "barpolar": [
           {
            "marker": {
             "line": {
              "color": "#E5ECF6",
              "width": 0.5
             },
             "pattern": {
              "fillmode": "overlay",
              "size": 10,
              "solidity": 0.2
             }
            },
            "type": "barpolar"
           }
          ],
          "carpet": [
           {
            "aaxis": {
             "endlinecolor": "#2a3f5f",
             "gridcolor": "white",
             "linecolor": "white",
             "minorgridcolor": "white",
             "startlinecolor": "#2a3f5f"
            },
            "baxis": {
             "endlinecolor": "#2a3f5f",
             "gridcolor": "white",
             "linecolor": "white",
             "minorgridcolor": "white",
             "startlinecolor": "#2a3f5f"
            },
            "type": "carpet"
           }
          ],
          "choropleth": [
           {
            "colorbar": {
             "outlinewidth": 0,
             "ticks": ""
            },
            "type": "choropleth"
           }
          ],
          "contour": [
           {
            "colorbar": {
             "outlinewidth": 0,
             "ticks": ""
            },
            "colorscale": [
             [
              0,
              "#0d0887"
             ],
             [
              0.1111111111111111,
              "#46039f"
             ],
             [
              0.2222222222222222,
              "#7201a8"
             ],
             [
              0.3333333333333333,
              "#9c179e"
             ],
             [
              0.4444444444444444,
              "#bd3786"
             ],
             [
              0.5555555555555556,
              "#d8576b"
             ],
             [
              0.6666666666666666,
              "#ed7953"
             ],
             [
              0.7777777777777778,
              "#fb9f3a"
             ],
             [
              0.8888888888888888,
              "#fdca26"
             ],
             [
              1,
              "#f0f921"
             ]
            ],
            "type": "contour"
           }
          ],
          "contourcarpet": [
           {
            "colorbar": {
             "outlinewidth": 0,
             "ticks": ""
            },
            "type": "contourcarpet"
           }
          ],
          "heatmap": [
           {
            "colorbar": {
             "outlinewidth": 0,
             "ticks": ""
            },
            "colorscale": [
             [
              0,
              "#0d0887"
             ],
             [
              0.1111111111111111,
              "#46039f"
             ],
             [
              0.2222222222222222,
              "#7201a8"
             ],
             [
              0.3333333333333333,
              "#9c179e"
             ],
             [
              0.4444444444444444,
              "#bd3786"
             ],
             [
              0.5555555555555556,
              "#d8576b"
             ],
             [
              0.6666666666666666,
              "#ed7953"
             ],
             [
              0.7777777777777778,
              "#fb9f3a"
             ],
             [
              0.8888888888888888,
              "#fdca26"
             ],
             [
              1,
              "#f0f921"
             ]
            ],
            "type": "heatmap"
           }
          ],
          "heatmapgl": [
           {
            "colorbar": {
             "outlinewidth": 0,
             "ticks": ""
            },
            "colorscale": [
             [
              0,
              "#0d0887"
             ],
             [
              0.1111111111111111,
              "#46039f"
             ],
             [
              0.2222222222222222,
              "#7201a8"
             ],
             [
              0.3333333333333333,
              "#9c179e"
             ],
             [
              0.4444444444444444,
              "#bd3786"
             ],
             [
              0.5555555555555556,
              "#d8576b"
             ],
             [
              0.6666666666666666,
              "#ed7953"
             ],
             [
              0.7777777777777778,
              "#fb9f3a"
             ],
             [
              0.8888888888888888,
              "#fdca26"
             ],
             [
              1,
              "#f0f921"
             ]
            ],
            "type": "heatmapgl"
           }
          ],
          "histogram": [
           {
            "marker": {
             "pattern": {
              "fillmode": "overlay",
              "size": 10,
              "solidity": 0.2
             }
            },
            "type": "histogram"
           }
          ],
          "histogram2d": [
           {
            "colorbar": {
             "outlinewidth": 0,
             "ticks": ""
            },
            "colorscale": [
             [
              0,
              "#0d0887"
             ],
             [
              0.1111111111111111,
              "#46039f"
             ],
             [
              0.2222222222222222,
              "#7201a8"
             ],
             [
              0.3333333333333333,
              "#9c179e"
             ],
             [
              0.4444444444444444,
              "#bd3786"
             ],
             [
              0.5555555555555556,
              "#d8576b"
             ],
             [
              0.6666666666666666,
              "#ed7953"
             ],
             [
              0.7777777777777778,
              "#fb9f3a"
             ],
             [
              0.8888888888888888,
              "#fdca26"
             ],
             [
              1,
              "#f0f921"
             ]
            ],
            "type": "histogram2d"
           }
          ],
          "histogram2dcontour": [
           {
            "colorbar": {
             "outlinewidth": 0,
             "ticks": ""
            },
            "colorscale": [
             [
              0,
              "#0d0887"
             ],
             [
              0.1111111111111111,
              "#46039f"
             ],
             [
              0.2222222222222222,
              "#7201a8"
             ],
             [
              0.3333333333333333,
              "#9c179e"
             ],
             [
              0.4444444444444444,
              "#bd3786"
             ],
             [
              0.5555555555555556,
              "#d8576b"
             ],
             [
              0.6666666666666666,
              "#ed7953"
             ],
             [
              0.7777777777777778,
              "#fb9f3a"
             ],
             [
              0.8888888888888888,
              "#fdca26"
             ],
             [
              1,
              "#f0f921"
             ]
            ],
            "type": "histogram2dcontour"
           }
          ],
          "mesh3d": [
           {
            "colorbar": {
             "outlinewidth": 0,
             "ticks": ""
            },
            "type": "mesh3d"
           }
          ],
          "parcoords": [
           {
            "line": {
             "colorbar": {
              "outlinewidth": 0,
              "ticks": ""
             }
            },
            "type": "parcoords"
           }
          ],
          "pie": [
           {
            "automargin": true,
            "type": "pie"
           }
          ],
          "scatter": [
           {
            "fillpattern": {
             "fillmode": "overlay",
             "size": 10,
             "solidity": 0.2
            },
            "type": "scatter"
           }
          ],
          "scatter3d": [
           {
            "line": {
             "colorbar": {
              "outlinewidth": 0,
              "ticks": ""
             }
            },
            "marker": {
             "colorbar": {
              "outlinewidth": 0,
              "ticks": ""
             }
            },
            "type": "scatter3d"
           }
          ],
          "scattercarpet": [
           {
            "marker": {
             "colorbar": {
              "outlinewidth": 0,
              "ticks": ""
             }
            },
            "type": "scattercarpet"
           }
          ],
          "scattergeo": [
           {
            "marker": {
             "colorbar": {
              "outlinewidth": 0,
              "ticks": ""
             }
            },
            "type": "scattergeo"
           }
          ],
          "scattergl": [
           {
            "marker": {
             "colorbar": {
              "outlinewidth": 0,
              "ticks": ""
             }
            },
            "type": "scattergl"
           }
          ],
          "scattermapbox": [
           {
            "marker": {
             "colorbar": {
              "outlinewidth": 0,
              "ticks": ""
             }
            },
            "type": "scattermapbox"
           }
          ],
          "scatterpolar": [
           {
            "marker": {
             "colorbar": {
              "outlinewidth": 0,
              "ticks": ""
             }
            },
            "type": "scatterpolar"
           }
          ],
          "scatterpolargl": [
           {
            "marker": {
             "colorbar": {
              "outlinewidth": 0,
              "ticks": ""
             }
            },
            "type": "scatterpolargl"
           }
          ],
          "scatterternary": [
           {
            "marker": {
             "colorbar": {
              "outlinewidth": 0,
              "ticks": ""
             }
            },
            "type": "scatterternary"
           }
          ],
          "surface": [
           {
            "colorbar": {
             "outlinewidth": 0,
             "ticks": ""
            },
            "colorscale": [
             [
              0,
              "#0d0887"
             ],
             [
              0.1111111111111111,
              "#46039f"
             ],
             [
              0.2222222222222222,
              "#7201a8"
             ],
             [
              0.3333333333333333,
              "#9c179e"
             ],
             [
              0.4444444444444444,
              "#bd3786"
             ],
             [
              0.5555555555555556,
              "#d8576b"
             ],
             [
              0.6666666666666666,
              "#ed7953"
             ],
             [
              0.7777777777777778,
              "#fb9f3a"
             ],
             [
              0.8888888888888888,
              "#fdca26"
             ],
             [
              1,
              "#f0f921"
             ]
            ],
            "type": "surface"
           }
          ],
          "table": [
           {
            "cells": {
             "fill": {
              "color": "#EBF0F8"
             },
             "line": {
              "color": "white"
             }
            },
            "header": {
             "fill": {
              "color": "#C8D4E3"
             },
             "line": {
              "color": "white"
             }
            },
            "type": "table"
           }
          ]
         },
         "layout": {
          "annotationdefaults": {
           "arrowcolor": "#2a3f5f",
           "arrowhead": 0,
           "arrowwidth": 1
          },
          "autotypenumbers": "strict",
          "coloraxis": {
           "colorbar": {
            "outlinewidth": 0,
            "ticks": ""
           }
          },
          "colorscale": {
           "diverging": [
            [
             0,
             "#8e0152"
            ],
            [
             0.1,
             "#c51b7d"
            ],
            [
             0.2,
             "#de77ae"
            ],
            [
             0.3,
             "#f1b6da"
            ],
            [
             0.4,
             "#fde0ef"
            ],
            [
             0.5,
             "#f7f7f7"
            ],
            [
             0.6,
             "#e6f5d0"
            ],
            [
             0.7,
             "#b8e186"
            ],
            [
             0.8,
             "#7fbc41"
            ],
            [
             0.9,
             "#4d9221"
            ],
            [
             1,
             "#276419"
            ]
           ],
           "sequential": [
            [
             0,
             "#0d0887"
            ],
            [
             0.1111111111111111,
             "#46039f"
            ],
            [
             0.2222222222222222,
             "#7201a8"
            ],
            [
             0.3333333333333333,
             "#9c179e"
            ],
            [
             0.4444444444444444,
             "#bd3786"
            ],
            [
             0.5555555555555556,
             "#d8576b"
            ],
            [
             0.6666666666666666,
             "#ed7953"
            ],
            [
             0.7777777777777778,
             "#fb9f3a"
            ],
            [
             0.8888888888888888,
             "#fdca26"
            ],
            [
             1,
             "#f0f921"
            ]
           ],
           "sequentialminus": [
            [
             0,
             "#0d0887"
            ],
            [
             0.1111111111111111,
             "#46039f"
            ],
            [
             0.2222222222222222,
             "#7201a8"
            ],
            [
             0.3333333333333333,
             "#9c179e"
            ],
            [
             0.4444444444444444,
             "#bd3786"
            ],
            [
             0.5555555555555556,
             "#d8576b"
            ],
            [
             0.6666666666666666,
             "#ed7953"
            ],
            [
             0.7777777777777778,
             "#fb9f3a"
            ],
            [
             0.8888888888888888,
             "#fdca26"
            ],
            [
             1,
             "#f0f921"
            ]
           ]
          },
          "colorway": [
           "#636efa",
           "#EF553B",
           "#00cc96",
           "#ab63fa",
           "#FFA15A",
           "#19d3f3",
           "#FF6692",
           "#B6E880",
           "#FF97FF",
           "#FECB52"
          ],
          "font": {
           "color": "#2a3f5f"
          },
          "geo": {
           "bgcolor": "white",
           "lakecolor": "white",
           "landcolor": "#E5ECF6",
           "showlakes": true,
           "showland": true,
           "subunitcolor": "white"
          },
          "hoverlabel": {
           "align": "left"
          },
          "hovermode": "closest",
          "mapbox": {
           "style": "light"
          },
          "paper_bgcolor": "white",
          "plot_bgcolor": "#E5ECF6",
          "polar": {
           "angularaxis": {
            "gridcolor": "white",
            "linecolor": "white",
            "ticks": ""
           },
           "bgcolor": "#E5ECF6",
           "radialaxis": {
            "gridcolor": "white",
            "linecolor": "white",
            "ticks": ""
           }
          },
          "scene": {
           "xaxis": {
            "backgroundcolor": "#E5ECF6",
            "gridcolor": "white",
            "gridwidth": 2,
            "linecolor": "white",
            "showbackground": true,
            "ticks": "",
            "zerolinecolor": "white"
           },
           "yaxis": {
            "backgroundcolor": "#E5ECF6",
            "gridcolor": "white",
            "gridwidth": 2,
            "linecolor": "white",
            "showbackground": true,
            "ticks": "",
            "zerolinecolor": "white"
           },
           "zaxis": {
            "backgroundcolor": "#E5ECF6",
            "gridcolor": "white",
            "gridwidth": 2,
            "linecolor": "white",
            "showbackground": true,
            "ticks": "",
            "zerolinecolor": "white"
           }
          },
          "shapedefaults": {
           "line": {
            "color": "#2a3f5f"
           }
          },
          "ternary": {
           "aaxis": {
            "gridcolor": "white",
            "linecolor": "white",
            "ticks": ""
           },
           "baxis": {
            "gridcolor": "white",
            "linecolor": "white",
            "ticks": ""
           },
           "bgcolor": "#E5ECF6",
           "caxis": {
            "gridcolor": "white",
            "linecolor": "white",
            "ticks": ""
           }
          },
          "title": {
           "x": 0.05
          },
          "xaxis": {
           "automargin": true,
           "gridcolor": "white",
           "linecolor": "white",
           "ticks": "",
           "title": {
            "standoff": 15
           },
           "zerolinecolor": "white",
           "zerolinewidth": 2
          },
          "yaxis": {
           "automargin": true,
           "gridcolor": "white",
           "linecolor": "white",
           "ticks": "",
           "title": {
            "standoff": 15
           },
           "zerolinecolor": "white",
           "zerolinewidth": 2
          }
         }
        },
        "title": {
         "font": {
          "color": "#4D5663"
         },
         "text": "GOOG 2022"
        },
        "xaxis": {
         "anchor": "y2",
         "gridcolor": "#E1E5ED",
         "rangeselector": {
          "bgcolor": "rgba(150, 200, 250, 1)",
          "buttons": [
           {
            "count": 1,
            "label": "1m",
            "step": "month",
            "stepmode": "backward"
           },
           {
            "count": 1,
            "label": "1y",
            "step": "year",
            "stepmode": "backward"
           }
          ],
          "font": {
           "size": 13
          },
          "visible": false,
          "x": 0,
          "y": 0.9
         },
         "rangeslider": {
          "visible": false
         },
         "showgrid": true,
         "tickfont": {
          "color": "#4D5663"
         },
         "title": {
          "font": {
           "color": "#4D5663"
          },
          "text": ""
         },
         "zerolinecolor": "#E1E5ED"
        },
        "yaxis": {
         "gridcolor": "#E1E5ED",
         "showgrid": true,
         "showticklabels": false,
         "tickfont": {
          "color": "#4D5663"
         },
         "title": {
          "font": {
           "color": "#4D5663"
          },
          "text": ""
         },
         "zerolinecolor": "#E1E5ED"
        },
        "yaxis2": {
         "domain": [
          0,
          0.9
         ],
         "gridcolor": "#E1E5ED",
         "showgrid": true,
         "tickfont": {
          "color": "#4D5663"
         },
         "title": {
          "font": {
           "color": "#4D5663"
          },
          "text": ""
         },
         "zerolinecolor": "#E1E5ED"
        }
       }
      },
      "text/html": [
       "<div>                            <div id=\"719f7b13-9534-4422-9e09-923013c56cc6\" class=\"plotly-graph-div\" style=\"height:525px; width:100%;\"></div>            <script type=\"text/javascript\">                require([\"plotly\"], function(Plotly) {                    window.PLOTLYENV=window.PLOTLYENV || {};\n",
       "                    window.PLOTLYENV.BASE_URL='https://plot.ly';                                    if (document.getElementById(\"719f7b13-9534-4422-9e09-923013c56cc6\")) {                    Plotly.newPlot(                        \"719f7b13-9534-4422-9e09-923013c56cc6\",                        [{\"line\":{\"color\":\"rgba(55, 128, 191, 1.0)\",\"dash\":\"solid\",\"shape\":\"linear\",\"width\":1.3},\"mode\":\"lines\",\"name\":\" SMA(15)\",\"text\":\"\",\"x\":[\"2022-01-03\",\"2022-01-04\",\"2022-01-05\",\"2022-01-06\",\"2022-01-07\",\"2022-01-10\",\"2022-01-11\",\"2022-01-12\",\"2022-01-13\",\"2022-01-14\",\"2022-01-18\",\"2022-01-19\",\"2022-01-20\",\"2022-01-21\",\"2022-01-24\",\"2022-01-25\",\"2022-01-26\",\"2022-01-27\",\"2022-01-28\",\"2022-01-31\",\"2022-02-01\",\"2022-02-02\",\"2022-02-03\",\"2022-02-04\",\"2022-02-07\",\"2022-02-08\",\"2022-02-09\",\"2022-02-10\",\"2022-02-11\",\"2022-02-14\",\"2022-02-15\",\"2022-02-16\",\"2022-02-17\",\"2022-02-18\",\"2022-02-22\",\"2022-02-23\",\"2022-02-24\",\"2022-02-25\",\"2022-02-28\",\"2022-03-01\",\"2022-03-02\",\"2022-03-03\",\"2022-03-04\",\"2022-03-07\",\"2022-03-08\",\"2022-03-09\",\"2022-03-10\",\"2022-03-11\",\"2022-03-14\",\"2022-03-15\",\"2022-03-16\",\"2022-03-17\",\"2022-03-18\",\"2022-03-21\",\"2022-03-22\",\"2022-03-23\",\"2022-03-24\",\"2022-03-25\",\"2022-03-28\",\"2022-03-29\",\"2022-03-30\",\"2022-03-31\",\"2022-04-01\",\"2022-04-04\",\"2022-04-05\",\"2022-04-06\",\"2022-04-07\",\"2022-04-08\",\"2022-04-11\",\"2022-04-12\",\"2022-04-13\",\"2022-04-14\",\"2022-04-18\",\"2022-04-19\",\"2022-04-20\",\"2022-04-21\",\"2022-04-22\",\"2022-04-25\",\"2022-04-26\",\"2022-04-27\",\"2022-04-28\",\"2022-04-29\",\"2022-05-02\",\"2022-05-03\",\"2022-05-04\",\"2022-05-05\",\"2022-05-06\",\"2022-05-09\",\"2022-05-10\",\"2022-05-11\",\"2022-05-12\",\"2022-05-13\",\"2022-05-16\",\"2022-05-17\",\"2022-05-18\",\"2022-05-19\",\"2022-05-20\",\"2022-05-23\",\"2022-05-24\",\"2022-05-25\",\"2022-05-26\",\"2022-05-27\",\"2022-05-31\",\"2022-06-01\",\"2022-06-02\",\"2022-06-03\",\"2022-06-06\",\"2022-06-07\",\"2022-06-08\",\"2022-06-09\",\"2022-06-10\",\"2022-06-13\",\"2022-06-14\",\"2022-06-15\",\"2022-06-16\",\"2022-06-17\",\"2022-06-21\",\"2022-06-22\",\"2022-06-23\",\"2022-06-24\",\"2022-06-27\",\"2022-06-28\",\"2022-06-29\"],\"y\":[\"\",\"\",\"\",\"\",\"\",\"\",\"\",\"\",\"\",\"\",\"\",\"\",\"\",\"\",2755.693359333333,2731.2413573999997,2711.006022133333,2699.6293457333327,2693.947347,2692.2060058666666,2691.2786783999995,2701.970670533333,2703.307340466666,2708.4873371999997,2707.3560058666667,2711.252669266666,2718.9873372666666,2725.7820149999993,2731.1660156666667,2737.7366862666668,2750.656689533333,2761.6533529333333,2765.9033529333333,2762.1406902000003,2753.7460287333333,2740.021354266667,2719.537353666667,2708.696012533334,2697.8626792000005,2691.5026856666673,2685.5540202666675,2676.027343800001,2667.3866699333344,2657.1659993333337,2646.470670533334,2643.0580077333343,2636.6506672666674,2634.206673133334,2629.238004466667,2629.5819986000006,2637.7226724666675,2640.2920084000007,2643.334684133334,2645.451350800001,2653.597346933334,2658.6000162000005,2667.938688066667,2680.471354133334,2701.1186848666675,2722.4140136666674,2734.1186686666674,2743.408675133334,2757.0413411333343,2779.576676466668,2794.7800130666674,2799.427343800001,2801.913346400001,2798.192008533334,2789.282666133334,2773.4119955333344,2762.4553224000006,2743.7099936666677,2725.629329600001,2710.4040040666673,2690.397998200001,2666.788672000001,2640.074674600001,2616.8080079333345,2584.6260092000007,2549.9026693333344,2526.2166666666676,2497.5520019333344,2475.080664066668,2459.5246744666674,2451.7920084666675,2433.739339200001,2418.2819986666673,2398.4459960666672,2377.183984333334,2358.137988266667,2342.4359863333334,2338.3046550000004,2327.027994866667,2323.2886556666676,2319.7959962000004,2308.2413250000004,2300.703320466667,2293.3826661333337,2277.111328266667,2254.797330866667,2243.529996866667,2239.7153321333335,2240.988671933334,2240.3920085333343,2245.4386719333343,2247.3093424666677,2247.969335933334,2251.2186686000005,2251.934000666667,2255.290006466667,2256.199348933333,2252.950683533333,2246.9873372,2252.940006466667,2254.0020019333333,2253.428011066667,2252.382682333334,2249.7093425333337,2247.7726725999996,2248.828678466666,2251.573339933333,2245.6546713333328,2239.023991],\"yaxis\":\"y2\",\"type\":\"scatter\"},{\"line\":{\"color\":\"rgba(0, 128, 0, 1.0)\",\"dash\":\"solid\",\"shape\":\"linear\",\"width\":1.3},\"mode\":\"lines\",\"name\":\" SMA(20)\",\"text\":\"\",\"x\":[\"2022-01-03\",\"2022-01-04\",\"2022-01-05\",\"2022-01-06\",\"2022-01-07\",\"2022-01-10\",\"2022-01-11\",\"2022-01-12\",\"2022-01-13\",\"2022-01-14\",\"2022-01-18\",\"2022-01-19\",\"2022-01-20\",\"2022-01-21\",\"2022-01-24\",\"2022-01-25\",\"2022-01-26\",\"2022-01-27\",\"2022-01-28\",\"2022-01-31\",\"2022-02-01\",\"2022-02-02\",\"2022-02-03\",\"2022-02-04\",\"2022-02-07\",\"2022-02-08\",\"2022-02-09\",\"2022-02-10\",\"2022-02-11\",\"2022-02-14\",\"2022-02-15\",\"2022-02-16\",\"2022-02-17\",\"2022-02-18\",\"2022-02-22\",\"2022-02-23\",\"2022-02-24\",\"2022-02-25\",\"2022-02-28\",\"2022-03-01\",\"2022-03-02\",\"2022-03-03\",\"2022-03-04\",\"2022-03-07\",\"2022-03-08\",\"2022-03-09\",\"2022-03-10\",\"2022-03-11\",\"2022-03-14\",\"2022-03-15\",\"2022-03-16\",\"2022-03-17\",\"2022-03-18\",\"2022-03-21\",\"2022-03-22\",\"2022-03-23\",\"2022-03-24\",\"2022-03-25\",\"2022-03-28\",\"2022-03-29\",\"2022-03-30\",\"2022-03-31\",\"2022-04-01\",\"2022-04-04\",\"2022-04-05\",\"2022-04-06\",\"2022-04-07\",\"2022-04-08\",\"2022-04-11\",\"2022-04-12\",\"2022-04-13\",\"2022-04-14\",\"2022-04-18\",\"2022-04-19\",\"2022-04-20\",\"2022-04-21\",\"2022-04-22\",\"2022-04-25\",\"2022-04-26\",\"2022-04-27\",\"2022-04-28\",\"2022-04-29\",\"2022-05-02\",\"2022-05-03\",\"2022-05-04\",\"2022-05-05\",\"2022-05-06\",\"2022-05-09\",\"2022-05-10\",\"2022-05-11\",\"2022-05-12\",\"2022-05-13\",\"2022-05-16\",\"2022-05-17\",\"2022-05-18\",\"2022-05-19\",\"2022-05-20\",\"2022-05-23\",\"2022-05-24\",\"2022-05-25\",\"2022-05-26\",\"2022-05-27\",\"2022-05-31\",\"2022-06-01\",\"2022-06-02\",\"2022-06-03\",\"2022-06-06\",\"2022-06-07\",\"2022-06-08\",\"2022-06-09\",\"2022-06-10\",\"2022-06-13\",\"2022-06-14\",\"2022-06-15\",\"2022-06-16\",\"2022-06-17\",\"2022-06-21\",\"2022-06-22\",\"2022-06-23\",\"2022-06-24\",\"2022-06-27\",\"2022-06-28\",\"2022-06-29\"],\"y\":[\"\",\"\",\"\",\"\",\"\",\"\",\"\",\"\",\"\",\"\",\"\",\"\",\"\",\"\",\"\",\"\",\"\",\"\",\"\",2720.8545165999994,2713.6585204999997,2717.2785156,2722.2755126999996,2727.7405151,2729.6740111999998,2730.3130126999995,2731.7485107499997,2728.7030151499994,2723.7020141999997,2719.2155152,2719.35051275,2721.1860107999996,2719.9880127499996,2720.36351325,2719.39401865,2720.24351815,2723.67701425,2729.0755128,2730.67701425,2729.14652105,2726.0195191000003,2712.2910157000006,2701.7625122500003,2685.2110108000006,2673.5515137000007,2668.2045166000007,2659.4335083000005,2651.3065063500007,2643.9175048500006,2638.2780029000005,2635.543005350001,2632.656005850001,2637.1490112000006,2643.1600097000005,2654.0350097000005,2664.9535155500007,2673.5920165000007,2680.5940184500005,2687.6530150500007,2696.735009700001,2704.6280029000004,2709.9695068000005,2718.5475097500007,2735.7255127000008,2749.5100098000007,2752.8200074000006,2756.6030152000008,2760.1380127500006,2763.1935059500006,2761.9075074000007,2758.5030030000007,2751.155505450001,2742.315002550001,2736.3675050000006,2724.3354981500006,2710.769494750001,2689.071496700001,2670.800000100001,2648.3560059500005,2620.1265015500007,2596.893505900001,2572.210510300001,2548.667504950001,2523.154504450001,2504.666503950001,2484.2369995500003,2463.431994650001,2442.5054932000007,2427.2934936500005,2412.8799927000005,2395.7549927000005,2385.0174927000003,2371.8489990500007,2358.0194946500005,2342.1750000500006,2327.9829956500007,2317.6819947000004,2306.0984986000003,2292.5184937500003,2283.3375001,2272.2219972,2270.0544923,2266.9364991,2262.9439942000004,2258.1149903000005,2255.9324951500007,2257.2829956500004,2261.4285034500003,2264.0820069000006,2265.0390137000004,2263.3055176000007,2253.6665161000005,2246.0680053500005,2239.7570068500004,2233.9920044000005,2231.1120117500004,2233.8140137000005,2234.1815064000007,2240.9400024500005,2253.6385010000004,2261.9650024500006,2261.7375000500006,2259.95499275],\"yaxis\":\"y2\",\"type\":\"scatter\"},{\"line\":{\"color\":\"rgba(165, 42, 42, 1.0)\",\"dash\":\"solid\",\"shape\":\"linear\",\"width\":1.3},\"mode\":\"lines\",\"name\":\" SMA(30)\",\"text\":\"\",\"x\":[\"2022-01-03\",\"2022-01-04\",\"2022-01-05\",\"2022-01-06\",\"2022-01-07\",\"2022-01-10\",\"2022-01-11\",\"2022-01-12\",\"2022-01-13\",\"2022-01-14\",\"2022-01-18\",\"2022-01-19\",\"2022-01-20\",\"2022-01-21\",\"2022-01-24\",\"2022-01-25\",\"2022-01-26\",\"2022-01-27\",\"2022-01-28\",\"2022-01-31\",\"2022-02-01\",\"2022-02-02\",\"2022-02-03\",\"2022-02-04\",\"2022-02-07\",\"2022-02-08\",\"2022-02-09\",\"2022-02-10\",\"2022-02-11\",\"2022-02-14\",\"2022-02-15\",\"2022-02-16\",\"2022-02-17\",\"2022-02-18\",\"2022-02-22\",\"2022-02-23\",\"2022-02-24\",\"2022-02-25\",\"2022-02-28\",\"2022-03-01\",\"2022-03-02\",\"2022-03-03\",\"2022-03-04\",\"2022-03-07\",\"2022-03-08\",\"2022-03-09\",\"2022-03-10\",\"2022-03-11\",\"2022-03-14\",\"2022-03-15\",\"2022-03-16\",\"2022-03-17\",\"2022-03-18\",\"2022-03-21\",\"2022-03-22\",\"2022-03-23\",\"2022-03-24\",\"2022-03-25\",\"2022-03-28\",\"2022-03-29\",\"2022-03-30\",\"2022-03-31\",\"2022-04-01\",\"2022-04-04\",\"2022-04-05\",\"2022-04-06\",\"2022-04-07\",\"2022-04-08\",\"2022-04-11\",\"2022-04-12\",\"2022-04-13\",\"2022-04-14\",\"2022-04-18\",\"2022-04-19\",\"2022-04-20\",\"2022-04-21\",\"2022-04-22\",\"2022-04-25\",\"2022-04-26\",\"2022-04-27\",\"2022-04-28\",\"2022-04-29\",\"2022-05-02\",\"2022-05-03\",\"2022-05-04\",\"2022-05-05\",\"2022-05-06\",\"2022-05-09\",\"2022-05-10\",\"2022-05-11\",\"2022-05-12\",\"2022-05-13\",\"2022-05-16\",\"2022-05-17\",\"2022-05-18\",\"2022-05-19\",\"2022-05-20\",\"2022-05-23\",\"2022-05-24\",\"2022-05-25\",\"2022-05-26\",\"2022-05-27\",\"2022-05-31\",\"2022-06-01\",\"2022-06-02\",\"2022-06-03\",\"2022-06-06\",\"2022-06-07\",\"2022-06-08\",\"2022-06-09\",\"2022-06-10\",\"2022-06-13\",\"2022-06-14\",\"2022-06-15\",\"2022-06-16\",\"2022-06-17\",\"2022-06-21\",\"2022-06-22\",\"2022-06-23\",\"2022-06-24\",\"2022-06-27\",\"2022-06-28\",\"2022-06-29\"],\"y\":[\"\",\"\",\"\",\"\",\"\",\"\",\"\",\"\",\"\",\"\",\"\",\"\",\"\",\"\",\"\",\"\",\"\",\"\",\"\",\"\",\"\",\"\",\"\",\"\",\"\",\"\",\"\",\"\",\"\",2746.7150227999996,2740.949023466666,2736.3296875333326,2732.7663493333325,2728.044018599999,2722.976017299999,2715.6500163333326,2710.7540120999993,2706.001676499999,2703.1750081999994,2699.429345766666,2698.403344766666,2697.507340533333,2696.5843424666664,2694.1660074999995,2692.1036784,2696.857348633333,2699.1520100999996,2700.055013033333,2695.689347333333,2691.6640136666665,2688.872013366666,2679.9146810333327,2676.015348333333,2671.6570149999993,2672.5500162999992,2672.077018233333,2671.9830159333333,2673.929012033333,2679.1423421,2684.4423421,2688.5883382,2690.0296712,2695.624007133333,2704.4073404666665,2712.1810058333335,2718.575008133333,2721.1026773999997,2720.763346333333,2717.3670084666664,2713.5046712333333,2710.5276692999996,2705.8243408666663,2703.050341866666,2705.761344466666,2706.406005933333,2700.453670333333,2691.741674866666,2686.9246745333326,2682.1013428333326,2672.3413411999995,2662.822005233333,2649.7326741666666,2636.6363362999996,2624.4036702999997,2612.6020019999996,2598.0973308,2580.9959961666664,2562.037662833333,2543.7939942,2524.267993233333,2504.6123291666663,2489.1896647999993,2471.9180013999994,2453.957332433333,2434.849332766666,2417.228995833333,2399.1276611999997,2384.2316650999996,2368.318001366666,2353.2946696666663,2338.6346680333327,2328.9986654,2319.717334,2308.7879964333333,2301.7883300999997,2294.8726644,2293.1369954666666,2289.123331733333,2287.6113281666667,2287.543001333333,2282.2203369666663,2276.8270019999995,2270.1850016666663,2265.0256673666663,2254.3996663999997,2248.4790039666664,2246.0490072333328,2245.3490072333325,2244.082340566666,2247.1336751999993,2249.4413411999994,2246.812003633333,2245.1213298],\"yaxis\":\"y2\",\"type\":\"scatter\"},{\"line\":{\"color\":\"rgba(255, 153, 51, 1.0)\",\"dash\":\"solid\",\"shape\":\"linear\",\"width\":1.3},\"mode\":\"lines\",\"name\":\" SMA(50)\",\"text\":\"\",\"x\":[\"2022-01-03\",\"2022-01-04\",\"2022-01-05\",\"2022-01-06\",\"2022-01-07\",\"2022-01-10\",\"2022-01-11\",\"2022-01-12\",\"2022-01-13\",\"2022-01-14\",\"2022-01-18\",\"2022-01-19\",\"2022-01-20\",\"2022-01-21\",\"2022-01-24\",\"2022-01-25\",\"2022-01-26\",\"2022-01-27\",\"2022-01-28\",\"2022-01-31\",\"2022-02-01\",\"2022-02-02\",\"2022-02-03\",\"2022-02-04\",\"2022-02-07\",\"2022-02-08\",\"2022-02-09\",\"2022-02-10\",\"2022-02-11\",\"2022-02-14\",\"2022-02-15\",\"2022-02-16\",\"2022-02-17\",\"2022-02-18\",\"2022-02-22\",\"2022-02-23\",\"2022-02-24\",\"2022-02-25\",\"2022-02-28\",\"2022-03-01\",\"2022-03-02\",\"2022-03-03\",\"2022-03-04\",\"2022-03-07\",\"2022-03-08\",\"2022-03-09\",\"2022-03-10\",\"2022-03-11\",\"2022-03-14\",\"2022-03-15\",\"2022-03-16\",\"2022-03-17\",\"2022-03-18\",\"2022-03-21\",\"2022-03-22\",\"2022-03-23\",\"2022-03-24\",\"2022-03-25\",\"2022-03-28\",\"2022-03-29\",\"2022-03-30\",\"2022-03-31\",\"2022-04-01\",\"2022-04-04\",\"2022-04-05\",\"2022-04-06\",\"2022-04-07\",\"2022-04-08\",\"2022-04-11\",\"2022-04-12\",\"2022-04-13\",\"2022-04-14\",\"2022-04-18\",\"2022-04-19\",\"2022-04-20\",\"2022-04-21\",\"2022-04-22\",\"2022-04-25\",\"2022-04-26\",\"2022-04-27\",\"2022-04-28\",\"2022-04-29\",\"2022-05-02\",\"2022-05-03\",\"2022-05-04\",\"2022-05-05\",\"2022-05-06\",\"2022-05-09\",\"2022-05-10\",\"2022-05-11\",\"2022-05-12\",\"2022-05-13\",\"2022-05-16\",\"2022-05-17\",\"2022-05-18\",\"2022-05-19\",\"2022-05-20\",\"2022-05-23\",\"2022-05-24\",\"2022-05-25\",\"2022-05-26\",\"2022-05-27\",\"2022-05-31\",\"2022-06-01\",\"2022-06-02\",\"2022-06-03\",\"2022-06-06\",\"2022-06-07\",\"2022-06-08\",\"2022-06-09\",\"2022-06-10\",\"2022-06-13\",\"2022-06-14\",\"2022-06-15\",\"2022-06-16\",\"2022-06-17\",\"2022-06-21\",\"2022-06-22\",\"2022-06-23\",\"2022-06-24\",\"2022-06-27\",\"2022-06-28\",\"2022-06-29\"],\"y\":[\"\",\"\",\"\",\"\",\"\",\"\",\"\",\"\",\"\",\"\",\"\",\"\",\"\",\"\",\"\",\"\",\"\",\"\",\"\",\"\",\"\",\"\",\"\",\"\",\"\",\"\",\"\",\"\",\"\",\"\",\"\",\"\",\"\",\"\",\"\",\"\",\"\",\"\",\"\",\"\",\"\",\"\",\"\",\"\",\"\",\"\",\"\",\"\",\"\",2703.340214839999,2698.7866162199994,2694.8602148599994,2694.519414079999,2694.0904150399992,2695.3996142599995,2695.3714160199993,2695.8892138599995,2695.8386132799997,2696.9662109399997,2698.351611339999,2700.8932080199993,2702.4922070399994,2705.3696093799995,2710.789809579999,2715.06621096,2719.24241214,2722.13241214,2724.0882129199995,2722.691010779999,2719.761411159999,2716.7244092199994,2708.4110107999995,2702.53521002,2697.5412109999997,2693.26420904,2687.55400884,2678.8184082399994,2672.677407259999,2666.8278076399997,2658.7160058799996,2651.91040528,2642.90200684,2636.84140626,2631.90620606,2629.17520508,2624.8398047,2618.0344043,2609.4602050800004,2601.3376025400003,2593.2547998200007,2584.6185986600003,2577.5016016000004,2570.56980474,2566.6646045400003,2560.71360358,2551.46540046,2542.1178028,2534.59420416,2526.2682032,2516.73980476,2506.58200202,2497.86140142,2488.75640142,2479.8197998600003,2470.8071973200003,2461.2313965400003,2451.5107959600005,2441.79399908,2431.9091992800004,2420.5764014200004,2408.08960454,2394.98040532,2381.5780029800003,2368.2772022000004,2354.50640142,2342.7822022,2333.0022022000003,2324.2116016200002,2317.3668018000003,2313.4322022,2307.9668018,2302.09419926,2295.8123975000003],\"yaxis\":\"y2\",\"type\":\"scatter\"},{\"close\":[2901.48999,2888.330078,2753.070068,2751.02002,2740.090088,2771.47998,2800.350098,2832.959961,2782.6201170000004,2795.72998,2725.810059,2713.040039,2670.1298829999996,2601.840088,2607.439941,2534.709961,2584.800049,2582.419922,2665.790039,2713.969971,2757.570068,2960.72998,2853.01001,2860.320068,2778.76001,2784.26001,2829.060059,2772.050049,2682.600098,2706.0,2728.51001,2749.75,2646.169922,2609.350098,2588.050049,2551.699951,2653.469971,2690.389893,2697.820068,2683.360107,2695.030029,2686.159912,2642.439941,2529.290039,2545.570068,2677.320068,2653.639893,2609.51001,2534.820068,2593.209961,2673.810059,2692.01001,2736.030029,2729.570068,2805.550049,2770.070068,2826.23999,2830.429932,2839.0,2865.0,2852.889893,2792.98999,2814.0,2872.850098,2821.26001,2743.52002,2729.300049,2680.209961,2595.929932,2567.48999,2605.719971,2545.060059,2559.219971,2610.6201170000004,2564.909912,2498.75,2392.280029,2465.0,2390.1201170000004,2300.409912,2388.22998,2299.330078,2343.139893,2362.590088,2451.5,2334.929932,2313.199951,2261.679932,2291.689941,2279.219971,2263.219971,2330.310059,2295.850098,2334.030029,2248.02002,2214.909912,2186.26001,2233.330078,2118.52002,2116.790039,2165.919922,2255.97998,2280.780029,2282.73999,2354.919922,2291.280029,2340.209961,2344.590088,2344.76001,2298.360107,2228.550049,2137.530029,2143.8798829999996,2207.810059,2132.719971,2157.310059,2240.300049,2240.679932,2253.689941,2370.76001,2332.449951,2251.429932,2245.1298829999996],\"decreasing\":{\"line\":{\"color\":\"#db4052\"}},\"high\":[2911.0,2932.199951,2885.959961,2793.719971,2765.094971,2772.800049,2806.590088,2856.284912,2863.709961,2824.01001,2747.830078,2767.98999,2758.23999,2695.209961,2615.570068,2586.77002,2656.149902,2652.198975,2667.409912,2716.8701170000004,2764.0,3042.0,2982.354004,2890.705078,2876.929932,2796.741943,2843.51001,2828.6201170000004,2785.665039,2723.330078,2758.0,2758.919922,2736.790039,2676.47998,2638.014893,2634.97998,2660.73999,2707.780029,2712.810059,2722.219971,2712.310059,2734.275879,2683.97998,2638.080078,2624.929932,2683.969971,2670.77002,2684.0,2620.52002,2610.344971,2675.419922,2694.790039,2738.27002,2751.649902,2830.0,2800.5,2827.929932,2839.189941,2839.530029,2883.25,2869.610107,2852.889893,2819.0,2880.875,2871.800049,2796.969971,2754.030029,2725.0,2658.783936,2648.469971,2613.11499,2614.205078,2574.23999,2618.074951,2638.469971,2606.149902,2509.040039,2465.560059,2455.0,2350.0,2408.77002,2379.199951,2346.790039,2386.0,2462.860107,2424.665039,2349.969971,2311.258057,2333.820068,2333.419922,2297.1298829999996,2361.699951,2332.149902,2344.550049,2313.913086,2271.75,2251.0,2240.110107,2127.899902,2130.894043,2179.10498,2257.360107,2328.669922,2347.97998,2357.959961,2327.290039,2387.969971,2354.9729,2372.919922,2367.0,2269.939941,2184.3701170000004,2169.149902,2241.26001,2185.810059,2184.98999,2253.459961,2275.389893,2263.929932,2372.75,2385.0,2357.1298829999996,2273.290039],\"increasing\":{\"line\":{\"color\":\"#008000\"}},\"low\":[2870.050049,2876.322998,2750.469971,2735.27002,2715.780029,2662.810059,2736.27002,2822.23999,2778.280029,2750.0,2712.340088,2710.0,2662.889893,2600.02002,2492.839111,2527.560059,2543.070068,2578.899902,2573.889893,2645.47998,2691.36499,2911.149902,2844.100098,2796.350098,2773.97998,2737.459961,2807.540039,2761.0,2665.77002,2666.040039,2710.790039,2696.4729,2644.040039,2606.1411129999997,2554.820068,2550.070068,2495.290039,2635.300049,2656.5048829999996,2667.570068,2668.649902,2668.6201170000004,2608.169922,2528.199951,2517.215088,2601.76001,2628.02002,2605.929932,2528.26001,2531.360107,2584.02002,2654.3798829999996,2658.639893,2692.22998,2730.0,2763.330078,2760.788086,2793.98999,2796.5629879999997,2849.679932,2843.360107,2792.3798829999996,2775.939941,2816.48999,2818.8701170000004,2728.362061,2697.14502,2675.050049,2592.350098,2551.52002,2568.771973,2542.22998,2531.569092,2549.030029,2557.881104,2493.0,2382.810059,2375.38501,2383.237061,2262.485107,2302.87793,2293.8798829999996,2267.98999,2332.540039,2314.77002,2303.649902,2282.860107,2251.030029,2267.666016,2273.0,2202.27002,2280.0,2286.699951,2306.75,2242.840088,2209.360107,2127.459961,2183.084961,2044.160034,2084.225098,2109.76001,2191.0,2251.449951,2271.01001,2266.159912,2273.360107,2330.565918,2302.51001,2333.935059,2297.340088,2217.219971,2131.760986,2127.040039,2162.375,2115.850098,2112.571045,2185.8701170000004,2214.486084,2220.580078,2272.060059,2320.014893,2248.8798829999996,2231.080078],\"name\":\"GOOG\",\"open\":[2889.51001,2911.01001,2883.6201170000004,2749.949951,2758.100098,2701.97998,2763.610107,2831.090088,2836.810059,2750.0,2732.0,2738.77002,2730.280029,2660.23999,2520.550049,2568.709961,2611.850098,2627.219971,2600.0,2683.959961,2756.699951,3037.27002,2905.899902,2860.340088,2874.179932,2779.824951,2816.9951170000004,2790.0,2775.0,2667.310059,2749.429932,2728.610107,2723.0,2660.75,2599.699951,2621.570068,2500.0,2670.51001,2665.689941,2689.600098,2692.165039,2719.570068,2667.649902,2638.080078,2525.01001,2628.0,2629.25,2679.98999,2611.459961,2554.830078,2620.0,2666.419922,2677.679932,2736.949951,2730.0,2782.77002,2785.449951,2835.080078,2813.689941,2863.209961,2857.399902,2848.969971,2800.199951,2816.48999,2867.98999,2783.22998,2732.360107,2725.0,2658.0,2648.469971,2572.530029,2612.98999,2548.199951,2561.540039,2625.679932,2587.0,2500.0,2388.590088,2455.0,2287.459961,2342.300049,2351.560059,2278.1298829999996,2335.300049,2360.070068,2404.409912,2310.3798829999996,2266.070068,2320.810059,2274.209961,2238.76001,2296.909912,2307.679932,2344.550049,2304.75,2236.820068,2241.709961,2202.080078,2127.550049,2102.840088,2121.01001,2195.77002,2261.580078,2298.6298829999996,2283.76001,2319.850098,2334.850098,2312.959961,2337.530029,2326.830078,2255.625,2148.919922,2137.800049,2177.98999,2162.98999,2130.699951,2194.040039,2223.26001,2259.0,2272.060059,2378.699951,2327.02002,2242.969971],\"showlegend\":true,\"x\":[\"2022-01-03\",\"2022-01-04\",\"2022-01-05\",\"2022-01-06\",\"2022-01-07\",\"2022-01-10\",\"2022-01-11\",\"2022-01-12\",\"2022-01-13\",\"2022-01-14\",\"2022-01-18\",\"2022-01-19\",\"2022-01-20\",\"2022-01-21\",\"2022-01-24\",\"2022-01-25\",\"2022-01-26\",\"2022-01-27\",\"2022-01-28\",\"2022-01-31\",\"2022-02-01\",\"2022-02-02\",\"2022-02-03\",\"2022-02-04\",\"2022-02-07\",\"2022-02-08\",\"2022-02-09\",\"2022-02-10\",\"2022-02-11\",\"2022-02-14\",\"2022-02-15\",\"2022-02-16\",\"2022-02-17\",\"2022-02-18\",\"2022-02-22\",\"2022-02-23\",\"2022-02-24\",\"2022-02-25\",\"2022-02-28\",\"2022-03-01\",\"2022-03-02\",\"2022-03-03\",\"2022-03-04\",\"2022-03-07\",\"2022-03-08\",\"2022-03-09\",\"2022-03-10\",\"2022-03-11\",\"2022-03-14\",\"2022-03-15\",\"2022-03-16\",\"2022-03-17\",\"2022-03-18\",\"2022-03-21\",\"2022-03-22\",\"2022-03-23\",\"2022-03-24\",\"2022-03-25\",\"2022-03-28\",\"2022-03-29\",\"2022-03-30\",\"2022-03-31\",\"2022-04-01\",\"2022-04-04\",\"2022-04-05\",\"2022-04-06\",\"2022-04-07\",\"2022-04-08\",\"2022-04-11\",\"2022-04-12\",\"2022-04-13\",\"2022-04-14\",\"2022-04-18\",\"2022-04-19\",\"2022-04-20\",\"2022-04-21\",\"2022-04-22\",\"2022-04-25\",\"2022-04-26\",\"2022-04-27\",\"2022-04-28\",\"2022-04-29\",\"2022-05-02\",\"2022-05-03\",\"2022-05-04\",\"2022-05-05\",\"2022-05-06\",\"2022-05-09\",\"2022-05-10\",\"2022-05-11\",\"2022-05-12\",\"2022-05-13\",\"2022-05-16\",\"2022-05-17\",\"2022-05-18\",\"2022-05-19\",\"2022-05-20\",\"2022-05-23\",\"2022-05-24\",\"2022-05-25\",\"2022-05-26\",\"2022-05-27\",\"2022-05-31\",\"2022-06-01\",\"2022-06-02\",\"2022-06-03\",\"2022-06-06\",\"2022-06-07\",\"2022-06-08\",\"2022-06-09\",\"2022-06-10\",\"2022-06-13\",\"2022-06-14\",\"2022-06-15\",\"2022-06-16\",\"2022-06-17\",\"2022-06-21\",\"2022-06-22\",\"2022-06-23\",\"2022-06-24\",\"2022-06-27\",\"2022-06-28\",\"2022-06-29\"],\"yaxis\":\"y2\",\"type\":\"candlestick\"}],                        {\"legend\":{\"bgcolor\":\"#F5F6F9\",\"font\":{\"color\":\"#4D5663\"}},\"margin\":{\"b\":30,\"l\":30,\"r\":30,\"t\":30},\"paper_bgcolor\":\"#F5F6F9\",\"plot_bgcolor\":\"#F5F6F9\",\"showlegend\":true,\"template\":{\"data\":{\"barpolar\":[{\"marker\":{\"line\":{\"color\":\"#E5ECF6\",\"width\":0.5},\"pattern\":{\"fillmode\":\"overlay\",\"size\":10,\"solidity\":0.2}},\"type\":\"barpolar\"}],\"bar\":[{\"error_x\":{\"color\":\"#2a3f5f\"},\"error_y\":{\"color\":\"#2a3f5f\"},\"marker\":{\"line\":{\"color\":\"#E5ECF6\",\"width\":0.5},\"pattern\":{\"fillmode\":\"overlay\",\"size\":10,\"solidity\":0.2}},\"type\":\"bar\"}],\"carpet\":[{\"aaxis\":{\"endlinecolor\":\"#2a3f5f\",\"gridcolor\":\"white\",\"linecolor\":\"white\",\"minorgridcolor\":\"white\",\"startlinecolor\":\"#2a3f5f\"},\"baxis\":{\"endlinecolor\":\"#2a3f5f\",\"gridcolor\":\"white\",\"linecolor\":\"white\",\"minorgridcolor\":\"white\",\"startlinecolor\":\"#2a3f5f\"},\"type\":\"carpet\"}],\"choropleth\":[{\"colorbar\":{\"outlinewidth\":0,\"ticks\":\"\"},\"type\":\"choropleth\"}],\"contourcarpet\":[{\"colorbar\":{\"outlinewidth\":0,\"ticks\":\"\"},\"type\":\"contourcarpet\"}],\"contour\":[{\"colorbar\":{\"outlinewidth\":0,\"ticks\":\"\"},\"colorscale\":[[0.0,\"#0d0887\"],[0.1111111111111111,\"#46039f\"],[0.2222222222222222,\"#7201a8\"],[0.3333333333333333,\"#9c179e\"],[0.4444444444444444,\"#bd3786\"],[0.5555555555555556,\"#d8576b\"],[0.6666666666666666,\"#ed7953\"],[0.7777777777777778,\"#fb9f3a\"],[0.8888888888888888,\"#fdca26\"],[1.0,\"#f0f921\"]],\"type\":\"contour\"}],\"heatmapgl\":[{\"colorbar\":{\"outlinewidth\":0,\"ticks\":\"\"},\"colorscale\":[[0.0,\"#0d0887\"],[0.1111111111111111,\"#46039f\"],[0.2222222222222222,\"#7201a8\"],[0.3333333333333333,\"#9c179e\"],[0.4444444444444444,\"#bd3786\"],[0.5555555555555556,\"#d8576b\"],[0.6666666666666666,\"#ed7953\"],[0.7777777777777778,\"#fb9f3a\"],[0.8888888888888888,\"#fdca26\"],[1.0,\"#f0f921\"]],\"type\":\"heatmapgl\"}],\"heatmap\":[{\"colorbar\":{\"outlinewidth\":0,\"ticks\":\"\"},\"colorscale\":[[0.0,\"#0d0887\"],[0.1111111111111111,\"#46039f\"],[0.2222222222222222,\"#7201a8\"],[0.3333333333333333,\"#9c179e\"],[0.4444444444444444,\"#bd3786\"],[0.5555555555555556,\"#d8576b\"],[0.6666666666666666,\"#ed7953\"],[0.7777777777777778,\"#fb9f3a\"],[0.8888888888888888,\"#fdca26\"],[1.0,\"#f0f921\"]],\"type\":\"heatmap\"}],\"histogram2dcontour\":[{\"colorbar\":{\"outlinewidth\":0,\"ticks\":\"\"},\"colorscale\":[[0.0,\"#0d0887\"],[0.1111111111111111,\"#46039f\"],[0.2222222222222222,\"#7201a8\"],[0.3333333333333333,\"#9c179e\"],[0.4444444444444444,\"#bd3786\"],[0.5555555555555556,\"#d8576b\"],[0.6666666666666666,\"#ed7953\"],[0.7777777777777778,\"#fb9f3a\"],[0.8888888888888888,\"#fdca26\"],[1.0,\"#f0f921\"]],\"type\":\"histogram2dcontour\"}],\"histogram2d\":[{\"colorbar\":{\"outlinewidth\":0,\"ticks\":\"\"},\"colorscale\":[[0.0,\"#0d0887\"],[0.1111111111111111,\"#46039f\"],[0.2222222222222222,\"#7201a8\"],[0.3333333333333333,\"#9c179e\"],[0.4444444444444444,\"#bd3786\"],[0.5555555555555556,\"#d8576b\"],[0.6666666666666666,\"#ed7953\"],[0.7777777777777778,\"#fb9f3a\"],[0.8888888888888888,\"#fdca26\"],[1.0,\"#f0f921\"]],\"type\":\"histogram2d\"}],\"histogram\":[{\"marker\":{\"pattern\":{\"fillmode\":\"overlay\",\"size\":10,\"solidity\":0.2}},\"type\":\"histogram\"}],\"mesh3d\":[{\"colorbar\":{\"outlinewidth\":0,\"ticks\":\"\"},\"type\":\"mesh3d\"}],\"parcoords\":[{\"line\":{\"colorbar\":{\"outlinewidth\":0,\"ticks\":\"\"}},\"type\":\"parcoords\"}],\"pie\":[{\"automargin\":true,\"type\":\"pie\"}],\"scatter3d\":[{\"line\":{\"colorbar\":{\"outlinewidth\":0,\"ticks\":\"\"}},\"marker\":{\"colorbar\":{\"outlinewidth\":0,\"ticks\":\"\"}},\"type\":\"scatter3d\"}],\"scattercarpet\":[{\"marker\":{\"colorbar\":{\"outlinewidth\":0,\"ticks\":\"\"}},\"type\":\"scattercarpet\"}],\"scattergeo\":[{\"marker\":{\"colorbar\":{\"outlinewidth\":0,\"ticks\":\"\"}},\"type\":\"scattergeo\"}],\"scattergl\":[{\"marker\":{\"colorbar\":{\"outlinewidth\":0,\"ticks\":\"\"}},\"type\":\"scattergl\"}],\"scattermapbox\":[{\"marker\":{\"colorbar\":{\"outlinewidth\":0,\"ticks\":\"\"}},\"type\":\"scattermapbox\"}],\"scatterpolargl\":[{\"marker\":{\"colorbar\":{\"outlinewidth\":0,\"ticks\":\"\"}},\"type\":\"scatterpolargl\"}],\"scatterpolar\":[{\"marker\":{\"colorbar\":{\"outlinewidth\":0,\"ticks\":\"\"}},\"type\":\"scatterpolar\"}],\"scatter\":[{\"fillpattern\":{\"fillmode\":\"overlay\",\"size\":10,\"solidity\":0.2},\"type\":\"scatter\"}],\"scatterternary\":[{\"marker\":{\"colorbar\":{\"outlinewidth\":0,\"ticks\":\"\"}},\"type\":\"scatterternary\"}],\"surface\":[{\"colorbar\":{\"outlinewidth\":0,\"ticks\":\"\"},\"colorscale\":[[0.0,\"#0d0887\"],[0.1111111111111111,\"#46039f\"],[0.2222222222222222,\"#7201a8\"],[0.3333333333333333,\"#9c179e\"],[0.4444444444444444,\"#bd3786\"],[0.5555555555555556,\"#d8576b\"],[0.6666666666666666,\"#ed7953\"],[0.7777777777777778,\"#fb9f3a\"],[0.8888888888888888,\"#fdca26\"],[1.0,\"#f0f921\"]],\"type\":\"surface\"}],\"table\":[{\"cells\":{\"fill\":{\"color\":\"#EBF0F8\"},\"line\":{\"color\":\"white\"}},\"header\":{\"fill\":{\"color\":\"#C8D4E3\"},\"line\":{\"color\":\"white\"}},\"type\":\"table\"}]},\"layout\":{\"annotationdefaults\":{\"arrowcolor\":\"#2a3f5f\",\"arrowhead\":0,\"arrowwidth\":1},\"autotypenumbers\":\"strict\",\"coloraxis\":{\"colorbar\":{\"outlinewidth\":0,\"ticks\":\"\"}},\"colorscale\":{\"diverging\":[[0,\"#8e0152\"],[0.1,\"#c51b7d\"],[0.2,\"#de77ae\"],[0.3,\"#f1b6da\"],[0.4,\"#fde0ef\"],[0.5,\"#f7f7f7\"],[0.6,\"#e6f5d0\"],[0.7,\"#b8e186\"],[0.8,\"#7fbc41\"],[0.9,\"#4d9221\"],[1,\"#276419\"]],\"sequential\":[[0.0,\"#0d0887\"],[0.1111111111111111,\"#46039f\"],[0.2222222222222222,\"#7201a8\"],[0.3333333333333333,\"#9c179e\"],[0.4444444444444444,\"#bd3786\"],[0.5555555555555556,\"#d8576b\"],[0.6666666666666666,\"#ed7953\"],[0.7777777777777778,\"#fb9f3a\"],[0.8888888888888888,\"#fdca26\"],[1.0,\"#f0f921\"]],\"sequentialminus\":[[0.0,\"#0d0887\"],[0.1111111111111111,\"#46039f\"],[0.2222222222222222,\"#7201a8\"],[0.3333333333333333,\"#9c179e\"],[0.4444444444444444,\"#bd3786\"],[0.5555555555555556,\"#d8576b\"],[0.6666666666666666,\"#ed7953\"],[0.7777777777777778,\"#fb9f3a\"],[0.8888888888888888,\"#fdca26\"],[1.0,\"#f0f921\"]]},\"colorway\":[\"#636efa\",\"#EF553B\",\"#00cc96\",\"#ab63fa\",\"#FFA15A\",\"#19d3f3\",\"#FF6692\",\"#B6E880\",\"#FF97FF\",\"#FECB52\"],\"font\":{\"color\":\"#2a3f5f\"},\"geo\":{\"bgcolor\":\"white\",\"lakecolor\":\"white\",\"landcolor\":\"#E5ECF6\",\"showlakes\":true,\"showland\":true,\"subunitcolor\":\"white\"},\"hoverlabel\":{\"align\":\"left\"},\"hovermode\":\"closest\",\"mapbox\":{\"style\":\"light\"},\"paper_bgcolor\":\"white\",\"plot_bgcolor\":\"#E5ECF6\",\"polar\":{\"angularaxis\":{\"gridcolor\":\"white\",\"linecolor\":\"white\",\"ticks\":\"\"},\"bgcolor\":\"#E5ECF6\",\"radialaxis\":{\"gridcolor\":\"white\",\"linecolor\":\"white\",\"ticks\":\"\"}},\"scene\":{\"xaxis\":{\"backgroundcolor\":\"#E5ECF6\",\"gridcolor\":\"white\",\"gridwidth\":2,\"linecolor\":\"white\",\"showbackground\":true,\"ticks\":\"\",\"zerolinecolor\":\"white\"},\"yaxis\":{\"backgroundcolor\":\"#E5ECF6\",\"gridcolor\":\"white\",\"gridwidth\":2,\"linecolor\":\"white\",\"showbackground\":true,\"ticks\":\"\",\"zerolinecolor\":\"white\"},\"zaxis\":{\"backgroundcolor\":\"#E5ECF6\",\"gridcolor\":\"white\",\"gridwidth\":2,\"linecolor\":\"white\",\"showbackground\":true,\"ticks\":\"\",\"zerolinecolor\":\"white\"}},\"shapedefaults\":{\"line\":{\"color\":\"#2a3f5f\"}},\"ternary\":{\"aaxis\":{\"gridcolor\":\"white\",\"linecolor\":\"white\",\"ticks\":\"\"},\"baxis\":{\"gridcolor\":\"white\",\"linecolor\":\"white\",\"ticks\":\"\"},\"bgcolor\":\"#E5ECF6\",\"caxis\":{\"gridcolor\":\"white\",\"linecolor\":\"white\",\"ticks\":\"\"}},\"title\":{\"x\":0.05},\"xaxis\":{\"automargin\":true,\"gridcolor\":\"white\",\"linecolor\":\"white\",\"ticks\":\"\",\"title\":{\"standoff\":15},\"zerolinecolor\":\"white\",\"zerolinewidth\":2},\"yaxis\":{\"automargin\":true,\"gridcolor\":\"white\",\"linecolor\":\"white\",\"ticks\":\"\",\"title\":{\"standoff\":15},\"zerolinecolor\":\"white\",\"zerolinewidth\":2}}},\"title\":{\"font\":{\"color\":\"#4D5663\"},\"text\":\"GOOG 2022\"},\"xaxis\":{\"anchor\":\"y2\",\"gridcolor\":\"#E1E5ED\",\"rangeselector\":{\"bgcolor\":\"rgba(150, 200, 250, 1)\",\"buttons\":[{\"count\":1,\"label\":\"1m\",\"step\":\"month\",\"stepmode\":\"backward\"},{\"count\":1,\"label\":\"1y\",\"step\":\"year\",\"stepmode\":\"backward\"}],\"font\":{\"size\":13},\"visible\":false,\"x\":0,\"y\":0.9},\"rangeslider\":{\"visible\":false},\"showgrid\":true,\"tickfont\":{\"color\":\"#4D5663\"},\"title\":{\"font\":{\"color\":\"#4D5663\"},\"text\":\"\"},\"zerolinecolor\":\"#E1E5ED\"},\"yaxis\":{\"gridcolor\":\"#E1E5ED\",\"showgrid\":true,\"showticklabels\":false,\"tickfont\":{\"color\":\"#4D5663\"},\"title\":{\"font\":{\"color\":\"#4D5663\"},\"text\":\"\"},\"zerolinecolor\":\"#E1E5ED\"},\"yaxis2\":{\"domain\":[0.0,0.9],\"gridcolor\":\"#E1E5ED\",\"showgrid\":true,\"tickfont\":{\"color\":\"#4D5663\"},\"title\":{\"font\":{\"color\":\"#4D5663\"},\"text\":\"\"},\"zerolinecolor\":\"#E1E5ED\"}},                        {\"showLink\": true, \"linkText\": \"Export to plot.ly\", \"plotlyServerURL\": \"https://plot.ly\", \"responsive\": true}                    ).then(function(){\n",
       "                            \n",
       "var gd = document.getElementById('719f7b13-9534-4422-9e09-923013c56cc6');\n",
       "var x = new MutationObserver(function (mutations, observer) {{\n",
       "        var display = window.getComputedStyle(gd).display;\n",
       "        if (!display || display === 'none') {{\n",
       "            console.log([gd, 'removed!']);\n",
       "            Plotly.purge(gd);\n",
       "            observer.disconnect();\n",
       "        }}\n",
       "}});\n",
       "\n",
       "// Listen for the removal of the full notebook cells\n",
       "var notebookContainer = gd.closest('#notebook-container');\n",
       "if (notebookContainer) {{\n",
       "    x.observe(notebookContainer, {childList: true});\n",
       "}}\n",
       "\n",
       "// Listen for the clearing of the current output cell\n",
       "var outputEl = gd.closest('.output');\n",
       "if (outputEl) {{\n",
       "    x.observe(outputEl, {childList: true});\n",
       "}}\n",
       "\n",
       "                        })                };                });            </script>        </div>"
      ]
     },
     "metadata": {},
     "output_type": "display_data"
    }
   ],
   "source": [
    "# adding multiple period SMA's to the cufflinks plot\n",
    "\n",
    "qf = cf.QuantFig(df, title='GOOG 2022', name='GOOG',\n",
    "                up_color = 'green',\n",
    "                down_color = 'red')\n",
    "\n",
    "# add a 14-day moving average\n",
    "qf.add_sma(periods = [15, 20, 30, 50], column = 'Close', color = ['blue', 'green', 'brown',\n",
    "                                                                 'orange'])\n",
    "\n",
    "qf.iplot()"
   ]
  },
  {
   "cell_type": "markdown",
   "metadata": {},
   "source": [
    "## Adding RSI to the Cufflinks Plot\n",
    "You can also add a RSI chart to the plot."
   ]
  },
  {
   "cell_type": "code",
   "execution_count": 112,
   "metadata": {},
   "outputs": [
    {
     "data": {
      "application/vnd.plotly.v1+json": {
       "config": {
        "linkText": "Export to plot.ly",
        "plotlyServerURL": "https://plot.ly",
        "showLink": true
       },
       "data": [
        {
         "line": {
          "color": "rgba(55, 128, 191, 1.0)",
          "dash": "solid",
          "shape": "linear",
          "width": 1.3
         },
         "mode": "lines",
         "name": " SMA(15)",
         "text": "",
         "type": "scatter",
         "x": [
          "2022-01-03",
          "2022-01-04",
          "2022-01-05",
          "2022-01-06",
          "2022-01-07",
          "2022-01-10",
          "2022-01-11",
          "2022-01-12",
          "2022-01-13",
          "2022-01-14",
          "2022-01-18",
          "2022-01-19",
          "2022-01-20",
          "2022-01-21",
          "2022-01-24",
          "2022-01-25",
          "2022-01-26",
          "2022-01-27",
          "2022-01-28",
          "2022-01-31",
          "2022-02-01",
          "2022-02-02",
          "2022-02-03",
          "2022-02-04",
          "2022-02-07",
          "2022-02-08",
          "2022-02-09",
          "2022-02-10",
          "2022-02-11",
          "2022-02-14",
          "2022-02-15",
          "2022-02-16",
          "2022-02-17",
          "2022-02-18",
          "2022-02-22",
          "2022-02-23",
          "2022-02-24",
          "2022-02-25",
          "2022-02-28",
          "2022-03-01",
          "2022-03-02",
          "2022-03-03",
          "2022-03-04",
          "2022-03-07",
          "2022-03-08",
          "2022-03-09",
          "2022-03-10",
          "2022-03-11",
          "2022-03-14",
          "2022-03-15",
          "2022-03-16",
          "2022-03-17",
          "2022-03-18",
          "2022-03-21",
          "2022-03-22",
          "2022-03-23",
          "2022-03-24",
          "2022-03-25",
          "2022-03-28",
          "2022-03-29",
          "2022-03-30",
          "2022-03-31",
          "2022-04-01",
          "2022-04-04",
          "2022-04-05",
          "2022-04-06",
          "2022-04-07",
          "2022-04-08",
          "2022-04-11",
          "2022-04-12",
          "2022-04-13",
          "2022-04-14",
          "2022-04-18",
          "2022-04-19",
          "2022-04-20",
          "2022-04-21",
          "2022-04-22",
          "2022-04-25",
          "2022-04-26",
          "2022-04-27",
          "2022-04-28",
          "2022-04-29",
          "2022-05-02",
          "2022-05-03",
          "2022-05-04",
          "2022-05-05",
          "2022-05-06",
          "2022-05-09",
          "2022-05-10",
          "2022-05-11",
          "2022-05-12",
          "2022-05-13",
          "2022-05-16",
          "2022-05-17",
          "2022-05-18",
          "2022-05-19",
          "2022-05-20",
          "2022-05-23",
          "2022-05-24",
          "2022-05-25",
          "2022-05-26",
          "2022-05-27",
          "2022-05-31",
          "2022-06-01",
          "2022-06-02",
          "2022-06-03",
          "2022-06-06",
          "2022-06-07",
          "2022-06-08",
          "2022-06-09",
          "2022-06-10",
          "2022-06-13",
          "2022-06-14",
          "2022-06-15",
          "2022-06-16",
          "2022-06-17",
          "2022-06-21",
          "2022-06-22",
          "2022-06-23",
          "2022-06-24",
          "2022-06-27",
          "2022-06-28",
          "2022-06-29"
         ],
         "y": [
          "",
          "",
          "",
          "",
          "",
          "",
          "",
          "",
          "",
          "",
          "",
          "",
          "",
          "",
          2755.693359333333,
          2731.2413573999997,
          2711.006022133333,
          2699.6293457333327,
          2693.947347,
          2692.2060058666666,
          2691.2786783999995,
          2701.970670533333,
          2703.307340466666,
          2708.4873371999997,
          2707.3560058666667,
          2711.252669266666,
          2718.9873372666666,
          2725.7820149999993,
          2731.1660156666667,
          2737.7366862666668,
          2750.656689533333,
          2761.6533529333333,
          2765.9033529333333,
          2762.1406902000003,
          2753.7460287333333,
          2740.021354266667,
          2719.537353666667,
          2708.696012533334,
          2697.8626792000005,
          2691.5026856666673,
          2685.5540202666675,
          2676.027343800001,
          2667.3866699333344,
          2657.1659993333337,
          2646.470670533334,
          2643.0580077333343,
          2636.6506672666674,
          2634.206673133334,
          2629.238004466667,
          2629.5819986000006,
          2637.7226724666675,
          2640.2920084000007,
          2643.334684133334,
          2645.451350800001,
          2653.597346933334,
          2658.6000162000005,
          2667.938688066667,
          2680.471354133334,
          2701.1186848666675,
          2722.4140136666674,
          2734.1186686666674,
          2743.408675133334,
          2757.0413411333343,
          2779.576676466668,
          2794.7800130666674,
          2799.427343800001,
          2801.913346400001,
          2798.192008533334,
          2789.282666133334,
          2773.4119955333344,
          2762.4553224000006,
          2743.7099936666677,
          2725.629329600001,
          2710.4040040666673,
          2690.397998200001,
          2666.788672000001,
          2640.074674600001,
          2616.8080079333345,
          2584.6260092000007,
          2549.9026693333344,
          2526.2166666666676,
          2497.5520019333344,
          2475.080664066668,
          2459.5246744666674,
          2451.7920084666675,
          2433.739339200001,
          2418.2819986666673,
          2398.4459960666672,
          2377.183984333334,
          2358.137988266667,
          2342.4359863333334,
          2338.3046550000004,
          2327.027994866667,
          2323.2886556666676,
          2319.7959962000004,
          2308.2413250000004,
          2300.703320466667,
          2293.3826661333337,
          2277.111328266667,
          2254.797330866667,
          2243.529996866667,
          2239.7153321333335,
          2240.988671933334,
          2240.3920085333343,
          2245.4386719333343,
          2247.3093424666677,
          2247.969335933334,
          2251.2186686000005,
          2251.934000666667,
          2255.290006466667,
          2256.199348933333,
          2252.950683533333,
          2246.9873372,
          2252.940006466667,
          2254.0020019333333,
          2253.428011066667,
          2252.382682333334,
          2249.7093425333337,
          2247.7726725999996,
          2248.828678466666,
          2251.573339933333,
          2245.6546713333328,
          2239.023991
         ],
         "yaxis": "y2"
        },
        {
         "line": {
          "color": "rgba(0, 128, 0, 1.0)",
          "dash": "solid",
          "shape": "linear",
          "width": 1.3
         },
         "mode": "lines",
         "name": " SMA(20)",
         "text": "",
         "type": "scatter",
         "x": [
          "2022-01-03",
          "2022-01-04",
          "2022-01-05",
          "2022-01-06",
          "2022-01-07",
          "2022-01-10",
          "2022-01-11",
          "2022-01-12",
          "2022-01-13",
          "2022-01-14",
          "2022-01-18",
          "2022-01-19",
          "2022-01-20",
          "2022-01-21",
          "2022-01-24",
          "2022-01-25",
          "2022-01-26",
          "2022-01-27",
          "2022-01-28",
          "2022-01-31",
          "2022-02-01",
          "2022-02-02",
          "2022-02-03",
          "2022-02-04",
          "2022-02-07",
          "2022-02-08",
          "2022-02-09",
          "2022-02-10",
          "2022-02-11",
          "2022-02-14",
          "2022-02-15",
          "2022-02-16",
          "2022-02-17",
          "2022-02-18",
          "2022-02-22",
          "2022-02-23",
          "2022-02-24",
          "2022-02-25",
          "2022-02-28",
          "2022-03-01",
          "2022-03-02",
          "2022-03-03",
          "2022-03-04",
          "2022-03-07",
          "2022-03-08",
          "2022-03-09",
          "2022-03-10",
          "2022-03-11",
          "2022-03-14",
          "2022-03-15",
          "2022-03-16",
          "2022-03-17",
          "2022-03-18",
          "2022-03-21",
          "2022-03-22",
          "2022-03-23",
          "2022-03-24",
          "2022-03-25",
          "2022-03-28",
          "2022-03-29",
          "2022-03-30",
          "2022-03-31",
          "2022-04-01",
          "2022-04-04",
          "2022-04-05",
          "2022-04-06",
          "2022-04-07",
          "2022-04-08",
          "2022-04-11",
          "2022-04-12",
          "2022-04-13",
          "2022-04-14",
          "2022-04-18",
          "2022-04-19",
          "2022-04-20",
          "2022-04-21",
          "2022-04-22",
          "2022-04-25",
          "2022-04-26",
          "2022-04-27",
          "2022-04-28",
          "2022-04-29",
          "2022-05-02",
          "2022-05-03",
          "2022-05-04",
          "2022-05-05",
          "2022-05-06",
          "2022-05-09",
          "2022-05-10",
          "2022-05-11",
          "2022-05-12",
          "2022-05-13",
          "2022-05-16",
          "2022-05-17",
          "2022-05-18",
          "2022-05-19",
          "2022-05-20",
          "2022-05-23",
          "2022-05-24",
          "2022-05-25",
          "2022-05-26",
          "2022-05-27",
          "2022-05-31",
          "2022-06-01",
          "2022-06-02",
          "2022-06-03",
          "2022-06-06",
          "2022-06-07",
          "2022-06-08",
          "2022-06-09",
          "2022-06-10",
          "2022-06-13",
          "2022-06-14",
          "2022-06-15",
          "2022-06-16",
          "2022-06-17",
          "2022-06-21",
          "2022-06-22",
          "2022-06-23",
          "2022-06-24",
          "2022-06-27",
          "2022-06-28",
          "2022-06-29"
         ],
         "y": [
          "",
          "",
          "",
          "",
          "",
          "",
          "",
          "",
          "",
          "",
          "",
          "",
          "",
          "",
          "",
          "",
          "",
          "",
          "",
          2720.8545165999994,
          2713.6585204999997,
          2717.2785156,
          2722.2755126999996,
          2727.7405151,
          2729.6740111999998,
          2730.3130126999995,
          2731.7485107499997,
          2728.7030151499994,
          2723.7020141999997,
          2719.2155152,
          2719.35051275,
          2721.1860107999996,
          2719.9880127499996,
          2720.36351325,
          2719.39401865,
          2720.24351815,
          2723.67701425,
          2729.0755128,
          2730.67701425,
          2729.14652105,
          2726.0195191000003,
          2712.2910157000006,
          2701.7625122500003,
          2685.2110108000006,
          2673.5515137000007,
          2668.2045166000007,
          2659.4335083000005,
          2651.3065063500007,
          2643.9175048500006,
          2638.2780029000005,
          2635.543005350001,
          2632.656005850001,
          2637.1490112000006,
          2643.1600097000005,
          2654.0350097000005,
          2664.9535155500007,
          2673.5920165000007,
          2680.5940184500005,
          2687.6530150500007,
          2696.735009700001,
          2704.6280029000004,
          2709.9695068000005,
          2718.5475097500007,
          2735.7255127000008,
          2749.5100098000007,
          2752.8200074000006,
          2756.6030152000008,
          2760.1380127500006,
          2763.1935059500006,
          2761.9075074000007,
          2758.5030030000007,
          2751.155505450001,
          2742.315002550001,
          2736.3675050000006,
          2724.3354981500006,
          2710.769494750001,
          2689.071496700001,
          2670.800000100001,
          2648.3560059500005,
          2620.1265015500007,
          2596.893505900001,
          2572.210510300001,
          2548.667504950001,
          2523.154504450001,
          2504.666503950001,
          2484.2369995500003,
          2463.431994650001,
          2442.5054932000007,
          2427.2934936500005,
          2412.8799927000005,
          2395.7549927000005,
          2385.0174927000003,
          2371.8489990500007,
          2358.0194946500005,
          2342.1750000500006,
          2327.9829956500007,
          2317.6819947000004,
          2306.0984986000003,
          2292.5184937500003,
          2283.3375001,
          2272.2219972,
          2270.0544923,
          2266.9364991,
          2262.9439942000004,
          2258.1149903000005,
          2255.9324951500007,
          2257.2829956500004,
          2261.4285034500003,
          2264.0820069000006,
          2265.0390137000004,
          2263.3055176000007,
          2253.6665161000005,
          2246.0680053500005,
          2239.7570068500004,
          2233.9920044000005,
          2231.1120117500004,
          2233.8140137000005,
          2234.1815064000007,
          2240.9400024500005,
          2253.6385010000004,
          2261.9650024500006,
          2261.7375000500006,
          2259.95499275
         ],
         "yaxis": "y2"
        },
        {
         "line": {
          "color": "rgba(165, 42, 42, 1.0)",
          "dash": "solid",
          "shape": "linear",
          "width": 1.3
         },
         "mode": "lines",
         "name": " SMA(30)",
         "text": "",
         "type": "scatter",
         "x": [
          "2022-01-03",
          "2022-01-04",
          "2022-01-05",
          "2022-01-06",
          "2022-01-07",
          "2022-01-10",
          "2022-01-11",
          "2022-01-12",
          "2022-01-13",
          "2022-01-14",
          "2022-01-18",
          "2022-01-19",
          "2022-01-20",
          "2022-01-21",
          "2022-01-24",
          "2022-01-25",
          "2022-01-26",
          "2022-01-27",
          "2022-01-28",
          "2022-01-31",
          "2022-02-01",
          "2022-02-02",
          "2022-02-03",
          "2022-02-04",
          "2022-02-07",
          "2022-02-08",
          "2022-02-09",
          "2022-02-10",
          "2022-02-11",
          "2022-02-14",
          "2022-02-15",
          "2022-02-16",
          "2022-02-17",
          "2022-02-18",
          "2022-02-22",
          "2022-02-23",
          "2022-02-24",
          "2022-02-25",
          "2022-02-28",
          "2022-03-01",
          "2022-03-02",
          "2022-03-03",
          "2022-03-04",
          "2022-03-07",
          "2022-03-08",
          "2022-03-09",
          "2022-03-10",
          "2022-03-11",
          "2022-03-14",
          "2022-03-15",
          "2022-03-16",
          "2022-03-17",
          "2022-03-18",
          "2022-03-21",
          "2022-03-22",
          "2022-03-23",
          "2022-03-24",
          "2022-03-25",
          "2022-03-28",
          "2022-03-29",
          "2022-03-30",
          "2022-03-31",
          "2022-04-01",
          "2022-04-04",
          "2022-04-05",
          "2022-04-06",
          "2022-04-07",
          "2022-04-08",
          "2022-04-11",
          "2022-04-12",
          "2022-04-13",
          "2022-04-14",
          "2022-04-18",
          "2022-04-19",
          "2022-04-20",
          "2022-04-21",
          "2022-04-22",
          "2022-04-25",
          "2022-04-26",
          "2022-04-27",
          "2022-04-28",
          "2022-04-29",
          "2022-05-02",
          "2022-05-03",
          "2022-05-04",
          "2022-05-05",
          "2022-05-06",
          "2022-05-09",
          "2022-05-10",
          "2022-05-11",
          "2022-05-12",
          "2022-05-13",
          "2022-05-16",
          "2022-05-17",
          "2022-05-18",
          "2022-05-19",
          "2022-05-20",
          "2022-05-23",
          "2022-05-24",
          "2022-05-25",
          "2022-05-26",
          "2022-05-27",
          "2022-05-31",
          "2022-06-01",
          "2022-06-02",
          "2022-06-03",
          "2022-06-06",
          "2022-06-07",
          "2022-06-08",
          "2022-06-09",
          "2022-06-10",
          "2022-06-13",
          "2022-06-14",
          "2022-06-15",
          "2022-06-16",
          "2022-06-17",
          "2022-06-21",
          "2022-06-22",
          "2022-06-23",
          "2022-06-24",
          "2022-06-27",
          "2022-06-28",
          "2022-06-29"
         ],
         "y": [
          "",
          "",
          "",
          "",
          "",
          "",
          "",
          "",
          "",
          "",
          "",
          "",
          "",
          "",
          "",
          "",
          "",
          "",
          "",
          "",
          "",
          "",
          "",
          "",
          "",
          "",
          "",
          "",
          "",
          2746.7150227999996,
          2740.949023466666,
          2736.3296875333326,
          2732.7663493333325,
          2728.044018599999,
          2722.976017299999,
          2715.6500163333326,
          2710.7540120999993,
          2706.001676499999,
          2703.1750081999994,
          2699.429345766666,
          2698.403344766666,
          2697.507340533333,
          2696.5843424666664,
          2694.1660074999995,
          2692.1036784,
          2696.857348633333,
          2699.1520100999996,
          2700.055013033333,
          2695.689347333333,
          2691.6640136666665,
          2688.872013366666,
          2679.9146810333327,
          2676.015348333333,
          2671.6570149999993,
          2672.5500162999992,
          2672.077018233333,
          2671.9830159333333,
          2673.929012033333,
          2679.1423421,
          2684.4423421,
          2688.5883382,
          2690.0296712,
          2695.624007133333,
          2704.4073404666665,
          2712.1810058333335,
          2718.575008133333,
          2721.1026773999997,
          2720.763346333333,
          2717.3670084666664,
          2713.5046712333333,
          2710.5276692999996,
          2705.8243408666663,
          2703.050341866666,
          2705.761344466666,
          2706.406005933333,
          2700.453670333333,
          2691.741674866666,
          2686.9246745333326,
          2682.1013428333326,
          2672.3413411999995,
          2662.822005233333,
          2649.7326741666666,
          2636.6363362999996,
          2624.4036702999997,
          2612.6020019999996,
          2598.0973308,
          2580.9959961666664,
          2562.037662833333,
          2543.7939942,
          2524.267993233333,
          2504.6123291666663,
          2489.1896647999993,
          2471.9180013999994,
          2453.957332433333,
          2434.849332766666,
          2417.228995833333,
          2399.1276611999997,
          2384.2316650999996,
          2368.318001366666,
          2353.2946696666663,
          2338.6346680333327,
          2328.9986654,
          2319.717334,
          2308.7879964333333,
          2301.7883300999997,
          2294.8726644,
          2293.1369954666666,
          2289.123331733333,
          2287.6113281666667,
          2287.543001333333,
          2282.2203369666663,
          2276.8270019999995,
          2270.1850016666663,
          2265.0256673666663,
          2254.3996663999997,
          2248.4790039666664,
          2246.0490072333328,
          2245.3490072333325,
          2244.082340566666,
          2247.1336751999993,
          2249.4413411999994,
          2246.812003633333,
          2245.1213298
         ],
         "yaxis": "y2"
        },
        {
         "line": {
          "color": "rgba(255, 153, 51, 1.0)",
          "dash": "solid",
          "shape": "linear",
          "width": 1.3
         },
         "mode": "lines",
         "name": " SMA(50)",
         "text": "",
         "type": "scatter",
         "x": [
          "2022-01-03",
          "2022-01-04",
          "2022-01-05",
          "2022-01-06",
          "2022-01-07",
          "2022-01-10",
          "2022-01-11",
          "2022-01-12",
          "2022-01-13",
          "2022-01-14",
          "2022-01-18",
          "2022-01-19",
          "2022-01-20",
          "2022-01-21",
          "2022-01-24",
          "2022-01-25",
          "2022-01-26",
          "2022-01-27",
          "2022-01-28",
          "2022-01-31",
          "2022-02-01",
          "2022-02-02",
          "2022-02-03",
          "2022-02-04",
          "2022-02-07",
          "2022-02-08",
          "2022-02-09",
          "2022-02-10",
          "2022-02-11",
          "2022-02-14",
          "2022-02-15",
          "2022-02-16",
          "2022-02-17",
          "2022-02-18",
          "2022-02-22",
          "2022-02-23",
          "2022-02-24",
          "2022-02-25",
          "2022-02-28",
          "2022-03-01",
          "2022-03-02",
          "2022-03-03",
          "2022-03-04",
          "2022-03-07",
          "2022-03-08",
          "2022-03-09",
          "2022-03-10",
          "2022-03-11",
          "2022-03-14",
          "2022-03-15",
          "2022-03-16",
          "2022-03-17",
          "2022-03-18",
          "2022-03-21",
          "2022-03-22",
          "2022-03-23",
          "2022-03-24",
          "2022-03-25",
          "2022-03-28",
          "2022-03-29",
          "2022-03-30",
          "2022-03-31",
          "2022-04-01",
          "2022-04-04",
          "2022-04-05",
          "2022-04-06",
          "2022-04-07",
          "2022-04-08",
          "2022-04-11",
          "2022-04-12",
          "2022-04-13",
          "2022-04-14",
          "2022-04-18",
          "2022-04-19",
          "2022-04-20",
          "2022-04-21",
          "2022-04-22",
          "2022-04-25",
          "2022-04-26",
          "2022-04-27",
          "2022-04-28",
          "2022-04-29",
          "2022-05-02",
          "2022-05-03",
          "2022-05-04",
          "2022-05-05",
          "2022-05-06",
          "2022-05-09",
          "2022-05-10",
          "2022-05-11",
          "2022-05-12",
          "2022-05-13",
          "2022-05-16",
          "2022-05-17",
          "2022-05-18",
          "2022-05-19",
          "2022-05-20",
          "2022-05-23",
          "2022-05-24",
          "2022-05-25",
          "2022-05-26",
          "2022-05-27",
          "2022-05-31",
          "2022-06-01",
          "2022-06-02",
          "2022-06-03",
          "2022-06-06",
          "2022-06-07",
          "2022-06-08",
          "2022-06-09",
          "2022-06-10",
          "2022-06-13",
          "2022-06-14",
          "2022-06-15",
          "2022-06-16",
          "2022-06-17",
          "2022-06-21",
          "2022-06-22",
          "2022-06-23",
          "2022-06-24",
          "2022-06-27",
          "2022-06-28",
          "2022-06-29"
         ],
         "y": [
          "",
          "",
          "",
          "",
          "",
          "",
          "",
          "",
          "",
          "",
          "",
          "",
          "",
          "",
          "",
          "",
          "",
          "",
          "",
          "",
          "",
          "",
          "",
          "",
          "",
          "",
          "",
          "",
          "",
          "",
          "",
          "",
          "",
          "",
          "",
          "",
          "",
          "",
          "",
          "",
          "",
          "",
          "",
          "",
          "",
          "",
          "",
          "",
          "",
          2703.340214839999,
          2698.7866162199994,
          2694.8602148599994,
          2694.519414079999,
          2694.0904150399992,
          2695.3996142599995,
          2695.3714160199993,
          2695.8892138599995,
          2695.8386132799997,
          2696.9662109399997,
          2698.351611339999,
          2700.8932080199993,
          2702.4922070399994,
          2705.3696093799995,
          2710.789809579999,
          2715.06621096,
          2719.24241214,
          2722.13241214,
          2724.0882129199995,
          2722.691010779999,
          2719.761411159999,
          2716.7244092199994,
          2708.4110107999995,
          2702.53521002,
          2697.5412109999997,
          2693.26420904,
          2687.55400884,
          2678.8184082399994,
          2672.677407259999,
          2666.8278076399997,
          2658.7160058799996,
          2651.91040528,
          2642.90200684,
          2636.84140626,
          2631.90620606,
          2629.17520508,
          2624.8398047,
          2618.0344043,
          2609.4602050800004,
          2601.3376025400003,
          2593.2547998200007,
          2584.6185986600003,
          2577.5016016000004,
          2570.56980474,
          2566.6646045400003,
          2560.71360358,
          2551.46540046,
          2542.1178028,
          2534.59420416,
          2526.2682032,
          2516.73980476,
          2506.58200202,
          2497.86140142,
          2488.75640142,
          2479.8197998600003,
          2470.8071973200003,
          2461.2313965400003,
          2451.5107959600005,
          2441.79399908,
          2431.9091992800004,
          2420.5764014200004,
          2408.08960454,
          2394.98040532,
          2381.5780029800003,
          2368.2772022000004,
          2354.50640142,
          2342.7822022,
          2333.0022022000003,
          2324.2116016200002,
          2317.3668018000003,
          2313.4322022,
          2307.9668018,
          2302.09419926,
          2295.8123975000003
         ],
         "yaxis": "y2"
        },
        {
         "legendgroup": "RSI(Close,14)",
         "line": {
          "color": "rgba(219, 64, 82, 1.0)",
          "dash": "solid",
          "shape": "linear",
          "width": 1.3
         },
         "mode": "lines",
         "name": "RSI(Close,14)",
         "showlegend": true,
         "text": "",
         "type": "scatter",
         "x": [
          "2022-01-03",
          "2022-01-04",
          "2022-01-05",
          "2022-01-06",
          "2022-01-07",
          "2022-01-10",
          "2022-01-11",
          "2022-01-12",
          "2022-01-13",
          "2022-01-14",
          "2022-01-18",
          "2022-01-19",
          "2022-01-20",
          "2022-01-21",
          "2022-01-24",
          "2022-01-25",
          "2022-01-26",
          "2022-01-27",
          "2022-01-28",
          "2022-01-31",
          "2022-02-01",
          "2022-02-02",
          "2022-02-03",
          "2022-02-04",
          "2022-02-07",
          "2022-02-08",
          "2022-02-09",
          "2022-02-10",
          "2022-02-11",
          "2022-02-14",
          "2022-02-15",
          "2022-02-16",
          "2022-02-17",
          "2022-02-18",
          "2022-02-22",
          "2022-02-23",
          "2022-02-24",
          "2022-02-25",
          "2022-02-28",
          "2022-03-01",
          "2022-03-02",
          "2022-03-03",
          "2022-03-04",
          "2022-03-07",
          "2022-03-08",
          "2022-03-09",
          "2022-03-10",
          "2022-03-11",
          "2022-03-14",
          "2022-03-15",
          "2022-03-16",
          "2022-03-17",
          "2022-03-18",
          "2022-03-21",
          "2022-03-22",
          "2022-03-23",
          "2022-03-24",
          "2022-03-25",
          "2022-03-28",
          "2022-03-29",
          "2022-03-30",
          "2022-03-31",
          "2022-04-01",
          "2022-04-04",
          "2022-04-05",
          "2022-04-06",
          "2022-04-07",
          "2022-04-08",
          "2022-04-11",
          "2022-04-12",
          "2022-04-13",
          "2022-04-14",
          "2022-04-18",
          "2022-04-19",
          "2022-04-20",
          "2022-04-21",
          "2022-04-22",
          "2022-04-25",
          "2022-04-26",
          "2022-04-27",
          "2022-04-28",
          "2022-04-29",
          "2022-05-02",
          "2022-05-03",
          "2022-05-04",
          "2022-05-05",
          "2022-05-06",
          "2022-05-09",
          "2022-05-10",
          "2022-05-11",
          "2022-05-12",
          "2022-05-13",
          "2022-05-16",
          "2022-05-17",
          "2022-05-18",
          "2022-05-19",
          "2022-05-20",
          "2022-05-23",
          "2022-05-24",
          "2022-05-25",
          "2022-05-26",
          "2022-05-27",
          "2022-05-31",
          "2022-06-01",
          "2022-06-02",
          "2022-06-03",
          "2022-06-06",
          "2022-06-07",
          "2022-06-08",
          "2022-06-09",
          "2022-06-10",
          "2022-06-13",
          "2022-06-14",
          "2022-06-15",
          "2022-06-16",
          "2022-06-17",
          "2022-06-21",
          "2022-06-22",
          "2022-06-23",
          "2022-06-24",
          "2022-06-27",
          "2022-06-28",
          "2022-06-29"
         ],
         "y": [
          "",
          "",
          "",
          "",
          "",
          "",
          "",
          "",
          "",
          "",
          "",
          "",
          "",
          20.71497149698432,
          21.573394900010157,
          19.345283363543757,
          32.88580036898523,
          32.86373482401652,
          43.41754697290752,
          45.052218717185404,
          46.41046696627058,
          58.33518612940168,
          54.27211363022369,
          53.947904474596875,
          53.191024178122696,
          54.33000721158678,
          59.64042806893764,
          60.4678852936136,
          54.19018173140353,
          60.10524608152905,
          58.76333478709237,
          59.97425321758421,
          48.85799419037287,
          43.828900488910584,
          39.73053894366689,
          18.944651142056628,
          34.711920828905434,
          37.545610243588925,
          43.34463132995454,
          41.82387716982496,
          38.523055762067635,
          41.98442111782295,
          45.90235962331235,
          34.76086607966026,
          34.05224183166534,
          44.70595664185675,
          50.61820091695524,
          50.01307581126288,
          45.99696394536559,
          53.02150320404752,
          51.52763002865428,
          50.12519836731667,
          52.79471984446779,
          53.41987021879815,
          57.46837709824496,
          55.47337869529312,
          61.79748588248579,
          72.47246300313311,
          72.15201442824457,
          66.86071529102274,
          68.28016038202612,
          66.35994506652982,
          77.52820287651903,
          77.54857887163232,
          65.40655146468751,
          54.78655224216429,
          49.337952298119205,
          45.52004958706228,
          31.257149217349067,
          31.655677699222906,
          29.360569669342908,
          25.844369918405278,
          26.53954396805885,
          29.54093660927525,
          28.026197950182492,
          27.760992254252514,
          21.772434224569793,
          23.19844160314365,
          22.509440622221703,
          22.170999914727545,
          30.392191785677,
          29.06195072958191,
          35.45628718613031,
          38.0883241432317,
          41.533446271464484,
          39.131239661255094,
          37.373749748052404,
          32.09387974255394,
          35.74990109292261,
          37.87086662982958,
          42.07734448637776,
          41.67419227745854,
          43.866224521853916,
          52.34476097741119,
          40.19661398599649,
          43.59793745455338,
          37.82291311645289,
          40.37929046732331,
          26.13663155672998,
          31.286471313996884,
          37.93261404221943,
          49.56071767227927,
          49.152391279802,
          50.278016197758625,
          56.65225120883113,
          47.15437366220123,
          53.167386248444544,
          50.79225006886797,
          58.33075083475355,
          57.02549557245884,
          53.32955821039049,
          42.94570995978517,
          52.222367672025705,
          57.19230461567525,
          47.479964752791844,
          41.6839510745017,
          46.893038232239554,
          46.763913252645764,
          41.43120835223023,
          56.16965521302091,
          49.387529046042395,
          43.44072028780325,
          43.04521408549604
         ],
         "yaxis": "y3"
        },
        {
         "legendgroup": "RSI(Close,14)",
         "line": {
          "color": "red",
          "width": 1
         },
         "mode": "lines",
         "name": "",
         "showlegend": true,
         "text": "",
         "type": "scatter",
         "x": [
          "2022-01-03",
          "2022-01-04",
          "2022-01-05",
          "2022-01-06",
          "2022-01-07",
          "2022-01-10",
          "2022-01-11",
          "2022-01-12",
          "2022-01-13",
          "2022-01-14",
          "2022-01-18",
          "2022-01-19",
          "2022-01-20",
          "2022-01-21",
          "2022-01-24",
          "2022-01-25",
          "2022-01-26",
          "2022-01-27",
          "2022-01-28",
          "2022-01-31",
          "2022-02-01",
          "2022-02-02",
          "2022-02-03",
          "2022-02-04",
          "2022-02-07",
          "2022-02-08",
          "2022-02-09",
          "2022-02-10",
          "2022-02-11",
          "2022-02-14",
          "2022-02-15",
          "2022-02-16",
          "2022-02-17",
          "2022-02-18",
          "2022-02-22",
          "2022-02-23",
          "2022-02-24",
          "2022-02-25",
          "2022-02-28",
          "2022-03-01",
          "2022-03-02",
          "2022-03-03",
          "2022-03-04",
          "2022-03-07",
          "2022-03-08",
          "2022-03-09",
          "2022-03-10",
          "2022-03-11",
          "2022-03-14",
          "2022-03-15",
          "2022-03-16",
          "2022-03-17",
          "2022-03-18",
          "2022-03-21",
          "2022-03-22",
          "2022-03-23",
          "2022-03-24",
          "2022-03-25",
          "2022-03-28",
          "2022-03-29",
          "2022-03-30",
          "2022-03-31",
          "2022-04-01",
          "2022-04-04",
          "2022-04-05",
          "2022-04-06",
          "2022-04-07",
          "2022-04-08",
          "2022-04-11",
          "2022-04-12",
          "2022-04-13",
          "2022-04-14",
          "2022-04-18",
          "2022-04-19",
          "2022-04-20",
          "2022-04-21",
          "2022-04-22",
          "2022-04-25",
          "2022-04-26",
          "2022-04-27",
          "2022-04-28",
          "2022-04-29",
          "2022-05-02",
          "2022-05-03",
          "2022-05-04",
          "2022-05-05",
          "2022-05-06",
          "2022-05-09",
          "2022-05-10",
          "2022-05-11",
          "2022-05-12",
          "2022-05-13",
          "2022-05-16",
          "2022-05-17",
          "2022-05-18",
          "2022-05-19",
          "2022-05-20",
          "2022-05-23",
          "2022-05-24",
          "2022-05-25",
          "2022-05-26",
          "2022-05-27",
          "2022-05-31",
          "2022-06-01",
          "2022-06-02",
          "2022-06-03",
          "2022-06-06",
          "2022-06-07",
          "2022-06-08",
          "2022-06-09",
          "2022-06-10",
          "2022-06-13",
          "2022-06-14",
          "2022-06-15",
          "2022-06-16",
          "2022-06-17",
          "2022-06-21",
          "2022-06-22",
          "2022-06-23",
          "2022-06-24",
          "2022-06-27",
          "2022-06-28",
          "2022-06-29"
         ],
         "y": [
          30,
          30,
          30,
          30,
          30,
          30,
          30,
          30,
          30,
          30,
          30,
          30,
          30,
          30,
          30,
          30,
          30,
          30,
          30,
          30,
          30,
          30,
          30,
          30,
          30,
          30,
          30,
          30,
          30,
          30,
          30,
          30,
          30,
          30,
          30,
          30,
          30,
          30,
          30,
          30,
          30,
          30,
          30,
          30,
          30,
          30,
          30,
          30,
          30,
          30,
          30,
          30,
          30,
          30,
          30,
          30,
          30,
          30,
          30,
          30,
          30,
          30,
          30,
          30,
          30,
          30,
          30,
          30,
          30,
          30,
          30,
          30,
          30,
          30,
          30,
          30,
          30,
          30,
          30,
          30,
          30,
          30,
          30,
          30,
          30,
          30,
          30,
          30,
          30,
          30,
          30,
          30,
          30,
          30,
          30,
          30,
          30,
          30,
          30,
          30,
          30,
          30,
          30,
          30,
          30,
          30,
          30,
          30,
          30,
          30,
          30,
          30,
          30,
          30,
          30,
          30,
          30,
          30,
          30,
          30,
          30,
          30,
          30
         ],
         "yaxis": "y3"
        },
        {
         "legendgroup": "RSI(Close,14)",
         "line": {
          "color": "green",
          "width": 1
         },
         "mode": "lines",
         "name": "",
         "showlegend": true,
         "text": "",
         "type": "scatter",
         "x": [
          "2022-01-03",
          "2022-01-04",
          "2022-01-05",
          "2022-01-06",
          "2022-01-07",
          "2022-01-10",
          "2022-01-11",
          "2022-01-12",
          "2022-01-13",
          "2022-01-14",
          "2022-01-18",
          "2022-01-19",
          "2022-01-20",
          "2022-01-21",
          "2022-01-24",
          "2022-01-25",
          "2022-01-26",
          "2022-01-27",
          "2022-01-28",
          "2022-01-31",
          "2022-02-01",
          "2022-02-02",
          "2022-02-03",
          "2022-02-04",
          "2022-02-07",
          "2022-02-08",
          "2022-02-09",
          "2022-02-10",
          "2022-02-11",
          "2022-02-14",
          "2022-02-15",
          "2022-02-16",
          "2022-02-17",
          "2022-02-18",
          "2022-02-22",
          "2022-02-23",
          "2022-02-24",
          "2022-02-25",
          "2022-02-28",
          "2022-03-01",
          "2022-03-02",
          "2022-03-03",
          "2022-03-04",
          "2022-03-07",
          "2022-03-08",
          "2022-03-09",
          "2022-03-10",
          "2022-03-11",
          "2022-03-14",
          "2022-03-15",
          "2022-03-16",
          "2022-03-17",
          "2022-03-18",
          "2022-03-21",
          "2022-03-22",
          "2022-03-23",
          "2022-03-24",
          "2022-03-25",
          "2022-03-28",
          "2022-03-29",
          "2022-03-30",
          "2022-03-31",
          "2022-04-01",
          "2022-04-04",
          "2022-04-05",
          "2022-04-06",
          "2022-04-07",
          "2022-04-08",
          "2022-04-11",
          "2022-04-12",
          "2022-04-13",
          "2022-04-14",
          "2022-04-18",
          "2022-04-19",
          "2022-04-20",
          "2022-04-21",
          "2022-04-22",
          "2022-04-25",
          "2022-04-26",
          "2022-04-27",
          "2022-04-28",
          "2022-04-29",
          "2022-05-02",
          "2022-05-03",
          "2022-05-04",
          "2022-05-05",
          "2022-05-06",
          "2022-05-09",
          "2022-05-10",
          "2022-05-11",
          "2022-05-12",
          "2022-05-13",
          "2022-05-16",
          "2022-05-17",
          "2022-05-18",
          "2022-05-19",
          "2022-05-20",
          "2022-05-23",
          "2022-05-24",
          "2022-05-25",
          "2022-05-26",
          "2022-05-27",
          "2022-05-31",
          "2022-06-01",
          "2022-06-02",
          "2022-06-03",
          "2022-06-06",
          "2022-06-07",
          "2022-06-08",
          "2022-06-09",
          "2022-06-10",
          "2022-06-13",
          "2022-06-14",
          "2022-06-15",
          "2022-06-16",
          "2022-06-17",
          "2022-06-21",
          "2022-06-22",
          "2022-06-23",
          "2022-06-24",
          "2022-06-27",
          "2022-06-28",
          "2022-06-29"
         ],
         "y": [
          70,
          70,
          70,
          70,
          70,
          70,
          70,
          70,
          70,
          70,
          70,
          70,
          70,
          70,
          70,
          70,
          70,
          70,
          70,
          70,
          70,
          70,
          70,
          70,
          70,
          70,
          70,
          70,
          70,
          70,
          70,
          70,
          70,
          70,
          70,
          70,
          70,
          70,
          70,
          70,
          70,
          70,
          70,
          70,
          70,
          70,
          70,
          70,
          70,
          70,
          70,
          70,
          70,
          70,
          70,
          70,
          70,
          70,
          70,
          70,
          70,
          70,
          70,
          70,
          70,
          70,
          70,
          70,
          70,
          70,
          70,
          70,
          70,
          70,
          70,
          70,
          70,
          70,
          70,
          70,
          70,
          70,
          70,
          70,
          70,
          70,
          70,
          70,
          70,
          70,
          70,
          70,
          70,
          70,
          70,
          70,
          70,
          70,
          70,
          70,
          70,
          70,
          70,
          70,
          70,
          70,
          70,
          70,
          70,
          70,
          70,
          70,
          70,
          70,
          70,
          70,
          70,
          70,
          70,
          70,
          70,
          70,
          70
         ],
         "yaxis": "y3"
        },
        {
         "close": [
          2901.48999,
          2888.330078,
          2753.070068,
          2751.02002,
          2740.090088,
          2771.47998,
          2800.350098,
          2832.959961,
          2782.6201170000004,
          2795.72998,
          2725.810059,
          2713.040039,
          2670.1298829999996,
          2601.840088,
          2607.439941,
          2534.709961,
          2584.800049,
          2582.419922,
          2665.790039,
          2713.969971,
          2757.570068,
          2960.72998,
          2853.01001,
          2860.320068,
          2778.76001,
          2784.26001,
          2829.060059,
          2772.050049,
          2682.600098,
          2706,
          2728.51001,
          2749.75,
          2646.169922,
          2609.350098,
          2588.050049,
          2551.699951,
          2653.469971,
          2690.389893,
          2697.820068,
          2683.360107,
          2695.030029,
          2686.159912,
          2642.439941,
          2529.290039,
          2545.570068,
          2677.320068,
          2653.639893,
          2609.51001,
          2534.820068,
          2593.209961,
          2673.810059,
          2692.01001,
          2736.030029,
          2729.570068,
          2805.550049,
          2770.070068,
          2826.23999,
          2830.429932,
          2839,
          2865,
          2852.889893,
          2792.98999,
          2814,
          2872.850098,
          2821.26001,
          2743.52002,
          2729.300049,
          2680.209961,
          2595.929932,
          2567.48999,
          2605.719971,
          2545.060059,
          2559.219971,
          2610.6201170000004,
          2564.909912,
          2498.75,
          2392.280029,
          2465,
          2390.1201170000004,
          2300.409912,
          2388.22998,
          2299.330078,
          2343.139893,
          2362.590088,
          2451.5,
          2334.929932,
          2313.199951,
          2261.679932,
          2291.689941,
          2279.219971,
          2263.219971,
          2330.310059,
          2295.850098,
          2334.030029,
          2248.02002,
          2214.909912,
          2186.26001,
          2233.330078,
          2118.52002,
          2116.790039,
          2165.919922,
          2255.97998,
          2280.780029,
          2282.73999,
          2354.919922,
          2291.280029,
          2340.209961,
          2344.590088,
          2344.76001,
          2298.360107,
          2228.550049,
          2137.530029,
          2143.8798829999996,
          2207.810059,
          2132.719971,
          2157.310059,
          2240.300049,
          2240.679932,
          2253.689941,
          2370.76001,
          2332.449951,
          2251.429932,
          2245.1298829999996
         ],
         "decreasing": {
          "line": {
           "color": "#db4052"
          }
         },
         "high": [
          2911,
          2932.199951,
          2885.959961,
          2793.719971,
          2765.094971,
          2772.800049,
          2806.590088,
          2856.284912,
          2863.709961,
          2824.01001,
          2747.830078,
          2767.98999,
          2758.23999,
          2695.209961,
          2615.570068,
          2586.77002,
          2656.149902,
          2652.198975,
          2667.409912,
          2716.8701170000004,
          2764,
          3042,
          2982.354004,
          2890.705078,
          2876.929932,
          2796.741943,
          2843.51001,
          2828.6201170000004,
          2785.665039,
          2723.330078,
          2758,
          2758.919922,
          2736.790039,
          2676.47998,
          2638.014893,
          2634.97998,
          2660.73999,
          2707.780029,
          2712.810059,
          2722.219971,
          2712.310059,
          2734.275879,
          2683.97998,
          2638.080078,
          2624.929932,
          2683.969971,
          2670.77002,
          2684,
          2620.52002,
          2610.344971,
          2675.419922,
          2694.790039,
          2738.27002,
          2751.649902,
          2830,
          2800.5,
          2827.929932,
          2839.189941,
          2839.530029,
          2883.25,
          2869.610107,
          2852.889893,
          2819,
          2880.875,
          2871.800049,
          2796.969971,
          2754.030029,
          2725,
          2658.783936,
          2648.469971,
          2613.11499,
          2614.205078,
          2574.23999,
          2618.074951,
          2638.469971,
          2606.149902,
          2509.040039,
          2465.560059,
          2455,
          2350,
          2408.77002,
          2379.199951,
          2346.790039,
          2386,
          2462.860107,
          2424.665039,
          2349.969971,
          2311.258057,
          2333.820068,
          2333.419922,
          2297.1298829999996,
          2361.699951,
          2332.149902,
          2344.550049,
          2313.913086,
          2271.75,
          2251,
          2240.110107,
          2127.899902,
          2130.894043,
          2179.10498,
          2257.360107,
          2328.669922,
          2347.97998,
          2357.959961,
          2327.290039,
          2387.969971,
          2354.9729,
          2372.919922,
          2367,
          2269.939941,
          2184.3701170000004,
          2169.149902,
          2241.26001,
          2185.810059,
          2184.98999,
          2253.459961,
          2275.389893,
          2263.929932,
          2372.75,
          2385,
          2357.1298829999996,
          2273.290039
         ],
         "increasing": {
          "line": {
           "color": "#008000"
          }
         },
         "low": [
          2870.050049,
          2876.322998,
          2750.469971,
          2735.27002,
          2715.780029,
          2662.810059,
          2736.27002,
          2822.23999,
          2778.280029,
          2750,
          2712.340088,
          2710,
          2662.889893,
          2600.02002,
          2492.839111,
          2527.560059,
          2543.070068,
          2578.899902,
          2573.889893,
          2645.47998,
          2691.36499,
          2911.149902,
          2844.100098,
          2796.350098,
          2773.97998,
          2737.459961,
          2807.540039,
          2761,
          2665.77002,
          2666.040039,
          2710.790039,
          2696.4729,
          2644.040039,
          2606.1411129999997,
          2554.820068,
          2550.070068,
          2495.290039,
          2635.300049,
          2656.5048829999996,
          2667.570068,
          2668.649902,
          2668.6201170000004,
          2608.169922,
          2528.199951,
          2517.215088,
          2601.76001,
          2628.02002,
          2605.929932,
          2528.26001,
          2531.360107,
          2584.02002,
          2654.3798829999996,
          2658.639893,
          2692.22998,
          2730,
          2763.330078,
          2760.788086,
          2793.98999,
          2796.5629879999997,
          2849.679932,
          2843.360107,
          2792.3798829999996,
          2775.939941,
          2816.48999,
          2818.8701170000004,
          2728.362061,
          2697.14502,
          2675.050049,
          2592.350098,
          2551.52002,
          2568.771973,
          2542.22998,
          2531.569092,
          2549.030029,
          2557.881104,
          2493,
          2382.810059,
          2375.38501,
          2383.237061,
          2262.485107,
          2302.87793,
          2293.8798829999996,
          2267.98999,
          2332.540039,
          2314.77002,
          2303.649902,
          2282.860107,
          2251.030029,
          2267.666016,
          2273,
          2202.27002,
          2280,
          2286.699951,
          2306.75,
          2242.840088,
          2209.360107,
          2127.459961,
          2183.084961,
          2044.160034,
          2084.225098,
          2109.76001,
          2191,
          2251.449951,
          2271.01001,
          2266.159912,
          2273.360107,
          2330.565918,
          2302.51001,
          2333.935059,
          2297.340088,
          2217.219971,
          2131.760986,
          2127.040039,
          2162.375,
          2115.850098,
          2112.571045,
          2185.8701170000004,
          2214.486084,
          2220.580078,
          2272.060059,
          2320.014893,
          2248.8798829999996,
          2231.080078
         ],
         "name": "GOOG",
         "open": [
          2889.51001,
          2911.01001,
          2883.6201170000004,
          2749.949951,
          2758.100098,
          2701.97998,
          2763.610107,
          2831.090088,
          2836.810059,
          2750,
          2732,
          2738.77002,
          2730.280029,
          2660.23999,
          2520.550049,
          2568.709961,
          2611.850098,
          2627.219971,
          2600,
          2683.959961,
          2756.699951,
          3037.27002,
          2905.899902,
          2860.340088,
          2874.179932,
          2779.824951,
          2816.9951170000004,
          2790,
          2775,
          2667.310059,
          2749.429932,
          2728.610107,
          2723,
          2660.75,
          2599.699951,
          2621.570068,
          2500,
          2670.51001,
          2665.689941,
          2689.600098,
          2692.165039,
          2719.570068,
          2667.649902,
          2638.080078,
          2525.01001,
          2628,
          2629.25,
          2679.98999,
          2611.459961,
          2554.830078,
          2620,
          2666.419922,
          2677.679932,
          2736.949951,
          2730,
          2782.77002,
          2785.449951,
          2835.080078,
          2813.689941,
          2863.209961,
          2857.399902,
          2848.969971,
          2800.199951,
          2816.48999,
          2867.98999,
          2783.22998,
          2732.360107,
          2725,
          2658,
          2648.469971,
          2572.530029,
          2612.98999,
          2548.199951,
          2561.540039,
          2625.679932,
          2587,
          2500,
          2388.590088,
          2455,
          2287.459961,
          2342.300049,
          2351.560059,
          2278.1298829999996,
          2335.300049,
          2360.070068,
          2404.409912,
          2310.3798829999996,
          2266.070068,
          2320.810059,
          2274.209961,
          2238.76001,
          2296.909912,
          2307.679932,
          2344.550049,
          2304.75,
          2236.820068,
          2241.709961,
          2202.080078,
          2127.550049,
          2102.840088,
          2121.01001,
          2195.77002,
          2261.580078,
          2298.6298829999996,
          2283.76001,
          2319.850098,
          2334.850098,
          2312.959961,
          2337.530029,
          2326.830078,
          2255.625,
          2148.919922,
          2137.800049,
          2177.98999,
          2162.98999,
          2130.699951,
          2194.040039,
          2223.26001,
          2259,
          2272.060059,
          2378.699951,
          2327.02002,
          2242.969971
         ],
         "showlegend": true,
         "type": "candlestick",
         "x": [
          "2022-01-03",
          "2022-01-04",
          "2022-01-05",
          "2022-01-06",
          "2022-01-07",
          "2022-01-10",
          "2022-01-11",
          "2022-01-12",
          "2022-01-13",
          "2022-01-14",
          "2022-01-18",
          "2022-01-19",
          "2022-01-20",
          "2022-01-21",
          "2022-01-24",
          "2022-01-25",
          "2022-01-26",
          "2022-01-27",
          "2022-01-28",
          "2022-01-31",
          "2022-02-01",
          "2022-02-02",
          "2022-02-03",
          "2022-02-04",
          "2022-02-07",
          "2022-02-08",
          "2022-02-09",
          "2022-02-10",
          "2022-02-11",
          "2022-02-14",
          "2022-02-15",
          "2022-02-16",
          "2022-02-17",
          "2022-02-18",
          "2022-02-22",
          "2022-02-23",
          "2022-02-24",
          "2022-02-25",
          "2022-02-28",
          "2022-03-01",
          "2022-03-02",
          "2022-03-03",
          "2022-03-04",
          "2022-03-07",
          "2022-03-08",
          "2022-03-09",
          "2022-03-10",
          "2022-03-11",
          "2022-03-14",
          "2022-03-15",
          "2022-03-16",
          "2022-03-17",
          "2022-03-18",
          "2022-03-21",
          "2022-03-22",
          "2022-03-23",
          "2022-03-24",
          "2022-03-25",
          "2022-03-28",
          "2022-03-29",
          "2022-03-30",
          "2022-03-31",
          "2022-04-01",
          "2022-04-04",
          "2022-04-05",
          "2022-04-06",
          "2022-04-07",
          "2022-04-08",
          "2022-04-11",
          "2022-04-12",
          "2022-04-13",
          "2022-04-14",
          "2022-04-18",
          "2022-04-19",
          "2022-04-20",
          "2022-04-21",
          "2022-04-22",
          "2022-04-25",
          "2022-04-26",
          "2022-04-27",
          "2022-04-28",
          "2022-04-29",
          "2022-05-02",
          "2022-05-03",
          "2022-05-04",
          "2022-05-05",
          "2022-05-06",
          "2022-05-09",
          "2022-05-10",
          "2022-05-11",
          "2022-05-12",
          "2022-05-13",
          "2022-05-16",
          "2022-05-17",
          "2022-05-18",
          "2022-05-19",
          "2022-05-20",
          "2022-05-23",
          "2022-05-24",
          "2022-05-25",
          "2022-05-26",
          "2022-05-27",
          "2022-05-31",
          "2022-06-01",
          "2022-06-02",
          "2022-06-03",
          "2022-06-06",
          "2022-06-07",
          "2022-06-08",
          "2022-06-09",
          "2022-06-10",
          "2022-06-13",
          "2022-06-14",
          "2022-06-15",
          "2022-06-16",
          "2022-06-17",
          "2022-06-21",
          "2022-06-22",
          "2022-06-23",
          "2022-06-24",
          "2022-06-27",
          "2022-06-28",
          "2022-06-29"
         ],
         "yaxis": "y2"
        }
       ],
       "layout": {
        "legend": {
         "bgcolor": "#F5F6F9",
         "font": {
          "color": "#4D5663"
         }
        },
        "margin": {
         "b": 30,
         "l": 30,
         "r": 30,
         "t": 30
        },
        "paper_bgcolor": "#F5F6F9",
        "plot_bgcolor": "#F5F6F9",
        "showlegend": true,
        "template": {
         "data": {
          "bar": [
           {
            "error_x": {
             "color": "#2a3f5f"
            },
            "error_y": {
             "color": "#2a3f5f"
            },
            "marker": {
             "line": {
              "color": "#E5ECF6",
              "width": 0.5
             },
             "pattern": {
              "fillmode": "overlay",
              "size": 10,
              "solidity": 0.2
             }
            },
            "type": "bar"
           }
          ],
          "barpolar": [
           {
            "marker": {
             "line": {
              "color": "#E5ECF6",
              "width": 0.5
             },
             "pattern": {
              "fillmode": "overlay",
              "size": 10,
              "solidity": 0.2
             }
            },
            "type": "barpolar"
           }
          ],
          "carpet": [
           {
            "aaxis": {
             "endlinecolor": "#2a3f5f",
             "gridcolor": "white",
             "linecolor": "white",
             "minorgridcolor": "white",
             "startlinecolor": "#2a3f5f"
            },
            "baxis": {
             "endlinecolor": "#2a3f5f",
             "gridcolor": "white",
             "linecolor": "white",
             "minorgridcolor": "white",
             "startlinecolor": "#2a3f5f"
            },
            "type": "carpet"
           }
          ],
          "choropleth": [
           {
            "colorbar": {
             "outlinewidth": 0,
             "ticks": ""
            },
            "type": "choropleth"
           }
          ],
          "contour": [
           {
            "colorbar": {
             "outlinewidth": 0,
             "ticks": ""
            },
            "colorscale": [
             [
              0,
              "#0d0887"
             ],
             [
              0.1111111111111111,
              "#46039f"
             ],
             [
              0.2222222222222222,
              "#7201a8"
             ],
             [
              0.3333333333333333,
              "#9c179e"
             ],
             [
              0.4444444444444444,
              "#bd3786"
             ],
             [
              0.5555555555555556,
              "#d8576b"
             ],
             [
              0.6666666666666666,
              "#ed7953"
             ],
             [
              0.7777777777777778,
              "#fb9f3a"
             ],
             [
              0.8888888888888888,
              "#fdca26"
             ],
             [
              1,
              "#f0f921"
             ]
            ],
            "type": "contour"
           }
          ],
          "contourcarpet": [
           {
            "colorbar": {
             "outlinewidth": 0,
             "ticks": ""
            },
            "type": "contourcarpet"
           }
          ],
          "heatmap": [
           {
            "colorbar": {
             "outlinewidth": 0,
             "ticks": ""
            },
            "colorscale": [
             [
              0,
              "#0d0887"
             ],
             [
              0.1111111111111111,
              "#46039f"
             ],
             [
              0.2222222222222222,
              "#7201a8"
             ],
             [
              0.3333333333333333,
              "#9c179e"
             ],
             [
              0.4444444444444444,
              "#bd3786"
             ],
             [
              0.5555555555555556,
              "#d8576b"
             ],
             [
              0.6666666666666666,
              "#ed7953"
             ],
             [
              0.7777777777777778,
              "#fb9f3a"
             ],
             [
              0.8888888888888888,
              "#fdca26"
             ],
             [
              1,
              "#f0f921"
             ]
            ],
            "type": "heatmap"
           }
          ],
          "heatmapgl": [
           {
            "colorbar": {
             "outlinewidth": 0,
             "ticks": ""
            },
            "colorscale": [
             [
              0,
              "#0d0887"
             ],
             [
              0.1111111111111111,
              "#46039f"
             ],
             [
              0.2222222222222222,
              "#7201a8"
             ],
             [
              0.3333333333333333,
              "#9c179e"
             ],
             [
              0.4444444444444444,
              "#bd3786"
             ],
             [
              0.5555555555555556,
              "#d8576b"
             ],
             [
              0.6666666666666666,
              "#ed7953"
             ],
             [
              0.7777777777777778,
              "#fb9f3a"
             ],
             [
              0.8888888888888888,
              "#fdca26"
             ],
             [
              1,
              "#f0f921"
             ]
            ],
            "type": "heatmapgl"
           }
          ],
          "histogram": [
           {
            "marker": {
             "pattern": {
              "fillmode": "overlay",
              "size": 10,
              "solidity": 0.2
             }
            },
            "type": "histogram"
           }
          ],
          "histogram2d": [
           {
            "colorbar": {
             "outlinewidth": 0,
             "ticks": ""
            },
            "colorscale": [
             [
              0,
              "#0d0887"
             ],
             [
              0.1111111111111111,
              "#46039f"
             ],
             [
              0.2222222222222222,
              "#7201a8"
             ],
             [
              0.3333333333333333,
              "#9c179e"
             ],
             [
              0.4444444444444444,
              "#bd3786"
             ],
             [
              0.5555555555555556,
              "#d8576b"
             ],
             [
              0.6666666666666666,
              "#ed7953"
             ],
             [
              0.7777777777777778,
              "#fb9f3a"
             ],
             [
              0.8888888888888888,
              "#fdca26"
             ],
             [
              1,
              "#f0f921"
             ]
            ],
            "type": "histogram2d"
           }
          ],
          "histogram2dcontour": [
           {
            "colorbar": {
             "outlinewidth": 0,
             "ticks": ""
            },
            "colorscale": [
             [
              0,
              "#0d0887"
             ],
             [
              0.1111111111111111,
              "#46039f"
             ],
             [
              0.2222222222222222,
              "#7201a8"
             ],
             [
              0.3333333333333333,
              "#9c179e"
             ],
             [
              0.4444444444444444,
              "#bd3786"
             ],
             [
              0.5555555555555556,
              "#d8576b"
             ],
             [
              0.6666666666666666,
              "#ed7953"
             ],
             [
              0.7777777777777778,
              "#fb9f3a"
             ],
             [
              0.8888888888888888,
              "#fdca26"
             ],
             [
              1,
              "#f0f921"
             ]
            ],
            "type": "histogram2dcontour"
           }
          ],
          "mesh3d": [
           {
            "colorbar": {
             "outlinewidth": 0,
             "ticks": ""
            },
            "type": "mesh3d"
           }
          ],
          "parcoords": [
           {
            "line": {
             "colorbar": {
              "outlinewidth": 0,
              "ticks": ""
             }
            },
            "type": "parcoords"
           }
          ],
          "pie": [
           {
            "automargin": true,
            "type": "pie"
           }
          ],
          "scatter": [
           {
            "fillpattern": {
             "fillmode": "overlay",
             "size": 10,
             "solidity": 0.2
            },
            "type": "scatter"
           }
          ],
          "scatter3d": [
           {
            "line": {
             "colorbar": {
              "outlinewidth": 0,
              "ticks": ""
             }
            },
            "marker": {
             "colorbar": {
              "outlinewidth": 0,
              "ticks": ""
             }
            },
            "type": "scatter3d"
           }
          ],
          "scattercarpet": [
           {
            "marker": {
             "colorbar": {
              "outlinewidth": 0,
              "ticks": ""
             }
            },
            "type": "scattercarpet"
           }
          ],
          "scattergeo": [
           {
            "marker": {
             "colorbar": {
              "outlinewidth": 0,
              "ticks": ""
             }
            },
            "type": "scattergeo"
           }
          ],
          "scattergl": [
           {
            "marker": {
             "colorbar": {
              "outlinewidth": 0,
              "ticks": ""
             }
            },
            "type": "scattergl"
           }
          ],
          "scattermapbox": [
           {
            "marker": {
             "colorbar": {
              "outlinewidth": 0,
              "ticks": ""
             }
            },
            "type": "scattermapbox"
           }
          ],
          "scatterpolar": [
           {
            "marker": {
             "colorbar": {
              "outlinewidth": 0,
              "ticks": ""
             }
            },
            "type": "scatterpolar"
           }
          ],
          "scatterpolargl": [
           {
            "marker": {
             "colorbar": {
              "outlinewidth": 0,
              "ticks": ""
             }
            },
            "type": "scatterpolargl"
           }
          ],
          "scatterternary": [
           {
            "marker": {
             "colorbar": {
              "outlinewidth": 0,
              "ticks": ""
             }
            },
            "type": "scatterternary"
           }
          ],
          "surface": [
           {
            "colorbar": {
             "outlinewidth": 0,
             "ticks": ""
            },
            "colorscale": [
             [
              0,
              "#0d0887"
             ],
             [
              0.1111111111111111,
              "#46039f"
             ],
             [
              0.2222222222222222,
              "#7201a8"
             ],
             [
              0.3333333333333333,
              "#9c179e"
             ],
             [
              0.4444444444444444,
              "#bd3786"
             ],
             [
              0.5555555555555556,
              "#d8576b"
             ],
             [
              0.6666666666666666,
              "#ed7953"
             ],
             [
              0.7777777777777778,
              "#fb9f3a"
             ],
             [
              0.8888888888888888,
              "#fdca26"
             ],
             [
              1,
              "#f0f921"
             ]
            ],
            "type": "surface"
           }
          ],
          "table": [
           {
            "cells": {
             "fill": {
              "color": "#EBF0F8"
             },
             "line": {
              "color": "white"
             }
            },
            "header": {
             "fill": {
              "color": "#C8D4E3"
             },
             "line": {
              "color": "white"
             }
            },
            "type": "table"
           }
          ]
         },
         "layout": {
          "annotationdefaults": {
           "arrowcolor": "#2a3f5f",
           "arrowhead": 0,
           "arrowwidth": 1
          },
          "autotypenumbers": "strict",
          "coloraxis": {
           "colorbar": {
            "outlinewidth": 0,
            "ticks": ""
           }
          },
          "colorscale": {
           "diverging": [
            [
             0,
             "#8e0152"
            ],
            [
             0.1,
             "#c51b7d"
            ],
            [
             0.2,
             "#de77ae"
            ],
            [
             0.3,
             "#f1b6da"
            ],
            [
             0.4,
             "#fde0ef"
            ],
            [
             0.5,
             "#f7f7f7"
            ],
            [
             0.6,
             "#e6f5d0"
            ],
            [
             0.7,
             "#b8e186"
            ],
            [
             0.8,
             "#7fbc41"
            ],
            [
             0.9,
             "#4d9221"
            ],
            [
             1,
             "#276419"
            ]
           ],
           "sequential": [
            [
             0,
             "#0d0887"
            ],
            [
             0.1111111111111111,
             "#46039f"
            ],
            [
             0.2222222222222222,
             "#7201a8"
            ],
            [
             0.3333333333333333,
             "#9c179e"
            ],
            [
             0.4444444444444444,
             "#bd3786"
            ],
            [
             0.5555555555555556,
             "#d8576b"
            ],
            [
             0.6666666666666666,
             "#ed7953"
            ],
            [
             0.7777777777777778,
             "#fb9f3a"
            ],
            [
             0.8888888888888888,
             "#fdca26"
            ],
            [
             1,
             "#f0f921"
            ]
           ],
           "sequentialminus": [
            [
             0,
             "#0d0887"
            ],
            [
             0.1111111111111111,
             "#46039f"
            ],
            [
             0.2222222222222222,
             "#7201a8"
            ],
            [
             0.3333333333333333,
             "#9c179e"
            ],
            [
             0.4444444444444444,
             "#bd3786"
            ],
            [
             0.5555555555555556,
             "#d8576b"
            ],
            [
             0.6666666666666666,
             "#ed7953"
            ],
            [
             0.7777777777777778,
             "#fb9f3a"
            ],
            [
             0.8888888888888888,
             "#fdca26"
            ],
            [
             1,
             "#f0f921"
            ]
           ]
          },
          "colorway": [
           "#636efa",
           "#EF553B",
           "#00cc96",
           "#ab63fa",
           "#FFA15A",
           "#19d3f3",
           "#FF6692",
           "#B6E880",
           "#FF97FF",
           "#FECB52"
          ],
          "font": {
           "color": "#2a3f5f"
          },
          "geo": {
           "bgcolor": "white",
           "lakecolor": "white",
           "landcolor": "#E5ECF6",
           "showlakes": true,
           "showland": true,
           "subunitcolor": "white"
          },
          "hoverlabel": {
           "align": "left"
          },
          "hovermode": "closest",
          "mapbox": {
           "style": "light"
          },
          "paper_bgcolor": "white",
          "plot_bgcolor": "#E5ECF6",
          "polar": {
           "angularaxis": {
            "gridcolor": "white",
            "linecolor": "white",
            "ticks": ""
           },
           "bgcolor": "#E5ECF6",
           "radialaxis": {
            "gridcolor": "white",
            "linecolor": "white",
            "ticks": ""
           }
          },
          "scene": {
           "xaxis": {
            "backgroundcolor": "#E5ECF6",
            "gridcolor": "white",
            "gridwidth": 2,
            "linecolor": "white",
            "showbackground": true,
            "ticks": "",
            "zerolinecolor": "white"
           },
           "yaxis": {
            "backgroundcolor": "#E5ECF6",
            "gridcolor": "white",
            "gridwidth": 2,
            "linecolor": "white",
            "showbackground": true,
            "ticks": "",
            "zerolinecolor": "white"
           },
           "zaxis": {
            "backgroundcolor": "#E5ECF6",
            "gridcolor": "white",
            "gridwidth": 2,
            "linecolor": "white",
            "showbackground": true,
            "ticks": "",
            "zerolinecolor": "white"
           }
          },
          "shapedefaults": {
           "line": {
            "color": "#2a3f5f"
           }
          },
          "ternary": {
           "aaxis": {
            "gridcolor": "white",
            "linecolor": "white",
            "ticks": ""
           },
           "baxis": {
            "gridcolor": "white",
            "linecolor": "white",
            "ticks": ""
           },
           "bgcolor": "#E5ECF6",
           "caxis": {
            "gridcolor": "white",
            "linecolor": "white",
            "ticks": ""
           }
          },
          "title": {
           "x": 0.05
          },
          "xaxis": {
           "automargin": true,
           "gridcolor": "white",
           "linecolor": "white",
           "ticks": "",
           "title": {
            "standoff": 15
           },
           "zerolinecolor": "white",
           "zerolinewidth": 2
          },
          "yaxis": {
           "automargin": true,
           "gridcolor": "white",
           "linecolor": "white",
           "ticks": "",
           "title": {
            "standoff": 15
           },
           "zerolinecolor": "white",
           "zerolinewidth": 2
          }
         }
        },
        "title": {
         "font": {
          "color": "#4D5663"
         },
         "text": "GOOG 2022"
        },
        "xaxis": {
         "anchor": "y2",
         "gridcolor": "#E1E5ED",
         "rangeselector": {
          "bgcolor": "rgba(150, 200, 250, 1)",
          "buttons": [
           {
            "count": 1,
            "label": "1m",
            "step": "month",
            "stepmode": "backward"
           },
           {
            "count": 1,
            "label": "1y",
            "step": "year",
            "stepmode": "backward"
           }
          ],
          "font": {
           "size": 13
          },
          "visible": false,
          "x": 0,
          "y": 0.9
         },
         "rangeslider": {
          "visible": false
         },
         "showgrid": true,
         "tickfont": {
          "color": "#4D5663"
         },
         "title": {
          "font": {
           "color": "#4D5663"
          },
          "text": ""
         },
         "zerolinecolor": "#E1E5ED"
        },
        "yaxis": {
         "gridcolor": "#E1E5ED",
         "showgrid": true,
         "showticklabels": false,
         "tickfont": {
          "color": "#4D5663"
         },
         "title": {
          "font": {
           "color": "#4D5663"
          },
          "text": ""
         },
         "zerolinecolor": "#E1E5ED"
        },
        "yaxis2": {
         "domain": [
          0.23,
          0.9
         ],
         "gridcolor": "#E1E5ED",
         "showgrid": true,
         "tickfont": {
          "color": "#4D5663"
         },
         "title": {
          "font": {
           "color": "#4D5663"
          },
          "text": ""
         },
         "zerolinecolor": "#E1E5ED"
        },
        "yaxis3": {
         "domain": [
          0,
          0.15
         ],
         "gridcolor": "#E1E5ED",
         "showgrid": true,
         "tickfont": {
          "color": "#4D5663"
         },
         "title": {
          "font": {
           "color": "#4D5663"
          },
          "text": ""
         },
         "zerolinecolor": "#E1E5ED"
        }
       }
      },
      "text/html": [
       "<div>                            <div id=\"7eba2a56-5934-42a5-a077-2b29123bdbc0\" class=\"plotly-graph-div\" style=\"height:525px; width:100%;\"></div>            <script type=\"text/javascript\">                require([\"plotly\"], function(Plotly) {                    window.PLOTLYENV=window.PLOTLYENV || {};\n",
       "                    window.PLOTLYENV.BASE_URL='https://plot.ly';                                    if (document.getElementById(\"7eba2a56-5934-42a5-a077-2b29123bdbc0\")) {                    Plotly.newPlot(                        \"7eba2a56-5934-42a5-a077-2b29123bdbc0\",                        [{\"line\":{\"color\":\"rgba(55, 128, 191, 1.0)\",\"dash\":\"solid\",\"shape\":\"linear\",\"width\":1.3},\"mode\":\"lines\",\"name\":\" SMA(15)\",\"text\":\"\",\"x\":[\"2022-01-03\",\"2022-01-04\",\"2022-01-05\",\"2022-01-06\",\"2022-01-07\",\"2022-01-10\",\"2022-01-11\",\"2022-01-12\",\"2022-01-13\",\"2022-01-14\",\"2022-01-18\",\"2022-01-19\",\"2022-01-20\",\"2022-01-21\",\"2022-01-24\",\"2022-01-25\",\"2022-01-26\",\"2022-01-27\",\"2022-01-28\",\"2022-01-31\",\"2022-02-01\",\"2022-02-02\",\"2022-02-03\",\"2022-02-04\",\"2022-02-07\",\"2022-02-08\",\"2022-02-09\",\"2022-02-10\",\"2022-02-11\",\"2022-02-14\",\"2022-02-15\",\"2022-02-16\",\"2022-02-17\",\"2022-02-18\",\"2022-02-22\",\"2022-02-23\",\"2022-02-24\",\"2022-02-25\",\"2022-02-28\",\"2022-03-01\",\"2022-03-02\",\"2022-03-03\",\"2022-03-04\",\"2022-03-07\",\"2022-03-08\",\"2022-03-09\",\"2022-03-10\",\"2022-03-11\",\"2022-03-14\",\"2022-03-15\",\"2022-03-16\",\"2022-03-17\",\"2022-03-18\",\"2022-03-21\",\"2022-03-22\",\"2022-03-23\",\"2022-03-24\",\"2022-03-25\",\"2022-03-28\",\"2022-03-29\",\"2022-03-30\",\"2022-03-31\",\"2022-04-01\",\"2022-04-04\",\"2022-04-05\",\"2022-04-06\",\"2022-04-07\",\"2022-04-08\",\"2022-04-11\",\"2022-04-12\",\"2022-04-13\",\"2022-04-14\",\"2022-04-18\",\"2022-04-19\",\"2022-04-20\",\"2022-04-21\",\"2022-04-22\",\"2022-04-25\",\"2022-04-26\",\"2022-04-27\",\"2022-04-28\",\"2022-04-29\",\"2022-05-02\",\"2022-05-03\",\"2022-05-04\",\"2022-05-05\",\"2022-05-06\",\"2022-05-09\",\"2022-05-10\",\"2022-05-11\",\"2022-05-12\",\"2022-05-13\",\"2022-05-16\",\"2022-05-17\",\"2022-05-18\",\"2022-05-19\",\"2022-05-20\",\"2022-05-23\",\"2022-05-24\",\"2022-05-25\",\"2022-05-26\",\"2022-05-27\",\"2022-05-31\",\"2022-06-01\",\"2022-06-02\",\"2022-06-03\",\"2022-06-06\",\"2022-06-07\",\"2022-06-08\",\"2022-06-09\",\"2022-06-10\",\"2022-06-13\",\"2022-06-14\",\"2022-06-15\",\"2022-06-16\",\"2022-06-17\",\"2022-06-21\",\"2022-06-22\",\"2022-06-23\",\"2022-06-24\",\"2022-06-27\",\"2022-06-28\",\"2022-06-29\"],\"y\":[\"\",\"\",\"\",\"\",\"\",\"\",\"\",\"\",\"\",\"\",\"\",\"\",\"\",\"\",2755.693359333333,2731.2413573999997,2711.006022133333,2699.6293457333327,2693.947347,2692.2060058666666,2691.2786783999995,2701.970670533333,2703.307340466666,2708.4873371999997,2707.3560058666667,2711.252669266666,2718.9873372666666,2725.7820149999993,2731.1660156666667,2737.7366862666668,2750.656689533333,2761.6533529333333,2765.9033529333333,2762.1406902000003,2753.7460287333333,2740.021354266667,2719.537353666667,2708.696012533334,2697.8626792000005,2691.5026856666673,2685.5540202666675,2676.027343800001,2667.3866699333344,2657.1659993333337,2646.470670533334,2643.0580077333343,2636.6506672666674,2634.206673133334,2629.238004466667,2629.5819986000006,2637.7226724666675,2640.2920084000007,2643.334684133334,2645.451350800001,2653.597346933334,2658.6000162000005,2667.938688066667,2680.471354133334,2701.1186848666675,2722.4140136666674,2734.1186686666674,2743.408675133334,2757.0413411333343,2779.576676466668,2794.7800130666674,2799.427343800001,2801.913346400001,2798.192008533334,2789.282666133334,2773.4119955333344,2762.4553224000006,2743.7099936666677,2725.629329600001,2710.4040040666673,2690.397998200001,2666.788672000001,2640.074674600001,2616.8080079333345,2584.6260092000007,2549.9026693333344,2526.2166666666676,2497.5520019333344,2475.080664066668,2459.5246744666674,2451.7920084666675,2433.739339200001,2418.2819986666673,2398.4459960666672,2377.183984333334,2358.137988266667,2342.4359863333334,2338.3046550000004,2327.027994866667,2323.2886556666676,2319.7959962000004,2308.2413250000004,2300.703320466667,2293.3826661333337,2277.111328266667,2254.797330866667,2243.529996866667,2239.7153321333335,2240.988671933334,2240.3920085333343,2245.4386719333343,2247.3093424666677,2247.969335933334,2251.2186686000005,2251.934000666667,2255.290006466667,2256.199348933333,2252.950683533333,2246.9873372,2252.940006466667,2254.0020019333333,2253.428011066667,2252.382682333334,2249.7093425333337,2247.7726725999996,2248.828678466666,2251.573339933333,2245.6546713333328,2239.023991],\"yaxis\":\"y2\",\"type\":\"scatter\"},{\"line\":{\"color\":\"rgba(0, 128, 0, 1.0)\",\"dash\":\"solid\",\"shape\":\"linear\",\"width\":1.3},\"mode\":\"lines\",\"name\":\" SMA(20)\",\"text\":\"\",\"x\":[\"2022-01-03\",\"2022-01-04\",\"2022-01-05\",\"2022-01-06\",\"2022-01-07\",\"2022-01-10\",\"2022-01-11\",\"2022-01-12\",\"2022-01-13\",\"2022-01-14\",\"2022-01-18\",\"2022-01-19\",\"2022-01-20\",\"2022-01-21\",\"2022-01-24\",\"2022-01-25\",\"2022-01-26\",\"2022-01-27\",\"2022-01-28\",\"2022-01-31\",\"2022-02-01\",\"2022-02-02\",\"2022-02-03\",\"2022-02-04\",\"2022-02-07\",\"2022-02-08\",\"2022-02-09\",\"2022-02-10\",\"2022-02-11\",\"2022-02-14\",\"2022-02-15\",\"2022-02-16\",\"2022-02-17\",\"2022-02-18\",\"2022-02-22\",\"2022-02-23\",\"2022-02-24\",\"2022-02-25\",\"2022-02-28\",\"2022-03-01\",\"2022-03-02\",\"2022-03-03\",\"2022-03-04\",\"2022-03-07\",\"2022-03-08\",\"2022-03-09\",\"2022-03-10\",\"2022-03-11\",\"2022-03-14\",\"2022-03-15\",\"2022-03-16\",\"2022-03-17\",\"2022-03-18\",\"2022-03-21\",\"2022-03-22\",\"2022-03-23\",\"2022-03-24\",\"2022-03-25\",\"2022-03-28\",\"2022-03-29\",\"2022-03-30\",\"2022-03-31\",\"2022-04-01\",\"2022-04-04\",\"2022-04-05\",\"2022-04-06\",\"2022-04-07\",\"2022-04-08\",\"2022-04-11\",\"2022-04-12\",\"2022-04-13\",\"2022-04-14\",\"2022-04-18\",\"2022-04-19\",\"2022-04-20\",\"2022-04-21\",\"2022-04-22\",\"2022-04-25\",\"2022-04-26\",\"2022-04-27\",\"2022-04-28\",\"2022-04-29\",\"2022-05-02\",\"2022-05-03\",\"2022-05-04\",\"2022-05-05\",\"2022-05-06\",\"2022-05-09\",\"2022-05-10\",\"2022-05-11\",\"2022-05-12\",\"2022-05-13\",\"2022-05-16\",\"2022-05-17\",\"2022-05-18\",\"2022-05-19\",\"2022-05-20\",\"2022-05-23\",\"2022-05-24\",\"2022-05-25\",\"2022-05-26\",\"2022-05-27\",\"2022-05-31\",\"2022-06-01\",\"2022-06-02\",\"2022-06-03\",\"2022-06-06\",\"2022-06-07\",\"2022-06-08\",\"2022-06-09\",\"2022-06-10\",\"2022-06-13\",\"2022-06-14\",\"2022-06-15\",\"2022-06-16\",\"2022-06-17\",\"2022-06-21\",\"2022-06-22\",\"2022-06-23\",\"2022-06-24\",\"2022-06-27\",\"2022-06-28\",\"2022-06-29\"],\"y\":[\"\",\"\",\"\",\"\",\"\",\"\",\"\",\"\",\"\",\"\",\"\",\"\",\"\",\"\",\"\",\"\",\"\",\"\",\"\",2720.8545165999994,2713.6585204999997,2717.2785156,2722.2755126999996,2727.7405151,2729.6740111999998,2730.3130126999995,2731.7485107499997,2728.7030151499994,2723.7020141999997,2719.2155152,2719.35051275,2721.1860107999996,2719.9880127499996,2720.36351325,2719.39401865,2720.24351815,2723.67701425,2729.0755128,2730.67701425,2729.14652105,2726.0195191000003,2712.2910157000006,2701.7625122500003,2685.2110108000006,2673.5515137000007,2668.2045166000007,2659.4335083000005,2651.3065063500007,2643.9175048500006,2638.2780029000005,2635.543005350001,2632.656005850001,2637.1490112000006,2643.1600097000005,2654.0350097000005,2664.9535155500007,2673.5920165000007,2680.5940184500005,2687.6530150500007,2696.735009700001,2704.6280029000004,2709.9695068000005,2718.5475097500007,2735.7255127000008,2749.5100098000007,2752.8200074000006,2756.6030152000008,2760.1380127500006,2763.1935059500006,2761.9075074000007,2758.5030030000007,2751.155505450001,2742.315002550001,2736.3675050000006,2724.3354981500006,2710.769494750001,2689.071496700001,2670.800000100001,2648.3560059500005,2620.1265015500007,2596.893505900001,2572.210510300001,2548.667504950001,2523.154504450001,2504.666503950001,2484.2369995500003,2463.431994650001,2442.5054932000007,2427.2934936500005,2412.8799927000005,2395.7549927000005,2385.0174927000003,2371.8489990500007,2358.0194946500005,2342.1750000500006,2327.9829956500007,2317.6819947000004,2306.0984986000003,2292.5184937500003,2283.3375001,2272.2219972,2270.0544923,2266.9364991,2262.9439942000004,2258.1149903000005,2255.9324951500007,2257.2829956500004,2261.4285034500003,2264.0820069000006,2265.0390137000004,2263.3055176000007,2253.6665161000005,2246.0680053500005,2239.7570068500004,2233.9920044000005,2231.1120117500004,2233.8140137000005,2234.1815064000007,2240.9400024500005,2253.6385010000004,2261.9650024500006,2261.7375000500006,2259.95499275],\"yaxis\":\"y2\",\"type\":\"scatter\"},{\"line\":{\"color\":\"rgba(165, 42, 42, 1.0)\",\"dash\":\"solid\",\"shape\":\"linear\",\"width\":1.3},\"mode\":\"lines\",\"name\":\" SMA(30)\",\"text\":\"\",\"x\":[\"2022-01-03\",\"2022-01-04\",\"2022-01-05\",\"2022-01-06\",\"2022-01-07\",\"2022-01-10\",\"2022-01-11\",\"2022-01-12\",\"2022-01-13\",\"2022-01-14\",\"2022-01-18\",\"2022-01-19\",\"2022-01-20\",\"2022-01-21\",\"2022-01-24\",\"2022-01-25\",\"2022-01-26\",\"2022-01-27\",\"2022-01-28\",\"2022-01-31\",\"2022-02-01\",\"2022-02-02\",\"2022-02-03\",\"2022-02-04\",\"2022-02-07\",\"2022-02-08\",\"2022-02-09\",\"2022-02-10\",\"2022-02-11\",\"2022-02-14\",\"2022-02-15\",\"2022-02-16\",\"2022-02-17\",\"2022-02-18\",\"2022-02-22\",\"2022-02-23\",\"2022-02-24\",\"2022-02-25\",\"2022-02-28\",\"2022-03-01\",\"2022-03-02\",\"2022-03-03\",\"2022-03-04\",\"2022-03-07\",\"2022-03-08\",\"2022-03-09\",\"2022-03-10\",\"2022-03-11\",\"2022-03-14\",\"2022-03-15\",\"2022-03-16\",\"2022-03-17\",\"2022-03-18\",\"2022-03-21\",\"2022-03-22\",\"2022-03-23\",\"2022-03-24\",\"2022-03-25\",\"2022-03-28\",\"2022-03-29\",\"2022-03-30\",\"2022-03-31\",\"2022-04-01\",\"2022-04-04\",\"2022-04-05\",\"2022-04-06\",\"2022-04-07\",\"2022-04-08\",\"2022-04-11\",\"2022-04-12\",\"2022-04-13\",\"2022-04-14\",\"2022-04-18\",\"2022-04-19\",\"2022-04-20\",\"2022-04-21\",\"2022-04-22\",\"2022-04-25\",\"2022-04-26\",\"2022-04-27\",\"2022-04-28\",\"2022-04-29\",\"2022-05-02\",\"2022-05-03\",\"2022-05-04\",\"2022-05-05\",\"2022-05-06\",\"2022-05-09\",\"2022-05-10\",\"2022-05-11\",\"2022-05-12\",\"2022-05-13\",\"2022-05-16\",\"2022-05-17\",\"2022-05-18\",\"2022-05-19\",\"2022-05-20\",\"2022-05-23\",\"2022-05-24\",\"2022-05-25\",\"2022-05-26\",\"2022-05-27\",\"2022-05-31\",\"2022-06-01\",\"2022-06-02\",\"2022-06-03\",\"2022-06-06\",\"2022-06-07\",\"2022-06-08\",\"2022-06-09\",\"2022-06-10\",\"2022-06-13\",\"2022-06-14\",\"2022-06-15\",\"2022-06-16\",\"2022-06-17\",\"2022-06-21\",\"2022-06-22\",\"2022-06-23\",\"2022-06-24\",\"2022-06-27\",\"2022-06-28\",\"2022-06-29\"],\"y\":[\"\",\"\",\"\",\"\",\"\",\"\",\"\",\"\",\"\",\"\",\"\",\"\",\"\",\"\",\"\",\"\",\"\",\"\",\"\",\"\",\"\",\"\",\"\",\"\",\"\",\"\",\"\",\"\",\"\",2746.7150227999996,2740.949023466666,2736.3296875333326,2732.7663493333325,2728.044018599999,2722.976017299999,2715.6500163333326,2710.7540120999993,2706.001676499999,2703.1750081999994,2699.429345766666,2698.403344766666,2697.507340533333,2696.5843424666664,2694.1660074999995,2692.1036784,2696.857348633333,2699.1520100999996,2700.055013033333,2695.689347333333,2691.6640136666665,2688.872013366666,2679.9146810333327,2676.015348333333,2671.6570149999993,2672.5500162999992,2672.077018233333,2671.9830159333333,2673.929012033333,2679.1423421,2684.4423421,2688.5883382,2690.0296712,2695.624007133333,2704.4073404666665,2712.1810058333335,2718.575008133333,2721.1026773999997,2720.763346333333,2717.3670084666664,2713.5046712333333,2710.5276692999996,2705.8243408666663,2703.050341866666,2705.761344466666,2706.406005933333,2700.453670333333,2691.741674866666,2686.9246745333326,2682.1013428333326,2672.3413411999995,2662.822005233333,2649.7326741666666,2636.6363362999996,2624.4036702999997,2612.6020019999996,2598.0973308,2580.9959961666664,2562.037662833333,2543.7939942,2524.267993233333,2504.6123291666663,2489.1896647999993,2471.9180013999994,2453.957332433333,2434.849332766666,2417.228995833333,2399.1276611999997,2384.2316650999996,2368.318001366666,2353.2946696666663,2338.6346680333327,2328.9986654,2319.717334,2308.7879964333333,2301.7883300999997,2294.8726644,2293.1369954666666,2289.123331733333,2287.6113281666667,2287.543001333333,2282.2203369666663,2276.8270019999995,2270.1850016666663,2265.0256673666663,2254.3996663999997,2248.4790039666664,2246.0490072333328,2245.3490072333325,2244.082340566666,2247.1336751999993,2249.4413411999994,2246.812003633333,2245.1213298],\"yaxis\":\"y2\",\"type\":\"scatter\"},{\"line\":{\"color\":\"rgba(255, 153, 51, 1.0)\",\"dash\":\"solid\",\"shape\":\"linear\",\"width\":1.3},\"mode\":\"lines\",\"name\":\" SMA(50)\",\"text\":\"\",\"x\":[\"2022-01-03\",\"2022-01-04\",\"2022-01-05\",\"2022-01-06\",\"2022-01-07\",\"2022-01-10\",\"2022-01-11\",\"2022-01-12\",\"2022-01-13\",\"2022-01-14\",\"2022-01-18\",\"2022-01-19\",\"2022-01-20\",\"2022-01-21\",\"2022-01-24\",\"2022-01-25\",\"2022-01-26\",\"2022-01-27\",\"2022-01-28\",\"2022-01-31\",\"2022-02-01\",\"2022-02-02\",\"2022-02-03\",\"2022-02-04\",\"2022-02-07\",\"2022-02-08\",\"2022-02-09\",\"2022-02-10\",\"2022-02-11\",\"2022-02-14\",\"2022-02-15\",\"2022-02-16\",\"2022-02-17\",\"2022-02-18\",\"2022-02-22\",\"2022-02-23\",\"2022-02-24\",\"2022-02-25\",\"2022-02-28\",\"2022-03-01\",\"2022-03-02\",\"2022-03-03\",\"2022-03-04\",\"2022-03-07\",\"2022-03-08\",\"2022-03-09\",\"2022-03-10\",\"2022-03-11\",\"2022-03-14\",\"2022-03-15\",\"2022-03-16\",\"2022-03-17\",\"2022-03-18\",\"2022-03-21\",\"2022-03-22\",\"2022-03-23\",\"2022-03-24\",\"2022-03-25\",\"2022-03-28\",\"2022-03-29\",\"2022-03-30\",\"2022-03-31\",\"2022-04-01\",\"2022-04-04\",\"2022-04-05\",\"2022-04-06\",\"2022-04-07\",\"2022-04-08\",\"2022-04-11\",\"2022-04-12\",\"2022-04-13\",\"2022-04-14\",\"2022-04-18\",\"2022-04-19\",\"2022-04-20\",\"2022-04-21\",\"2022-04-22\",\"2022-04-25\",\"2022-04-26\",\"2022-04-27\",\"2022-04-28\",\"2022-04-29\",\"2022-05-02\",\"2022-05-03\",\"2022-05-04\",\"2022-05-05\",\"2022-05-06\",\"2022-05-09\",\"2022-05-10\",\"2022-05-11\",\"2022-05-12\",\"2022-05-13\",\"2022-05-16\",\"2022-05-17\",\"2022-05-18\",\"2022-05-19\",\"2022-05-20\",\"2022-05-23\",\"2022-05-24\",\"2022-05-25\",\"2022-05-26\",\"2022-05-27\",\"2022-05-31\",\"2022-06-01\",\"2022-06-02\",\"2022-06-03\",\"2022-06-06\",\"2022-06-07\",\"2022-06-08\",\"2022-06-09\",\"2022-06-10\",\"2022-06-13\",\"2022-06-14\",\"2022-06-15\",\"2022-06-16\",\"2022-06-17\",\"2022-06-21\",\"2022-06-22\",\"2022-06-23\",\"2022-06-24\",\"2022-06-27\",\"2022-06-28\",\"2022-06-29\"],\"y\":[\"\",\"\",\"\",\"\",\"\",\"\",\"\",\"\",\"\",\"\",\"\",\"\",\"\",\"\",\"\",\"\",\"\",\"\",\"\",\"\",\"\",\"\",\"\",\"\",\"\",\"\",\"\",\"\",\"\",\"\",\"\",\"\",\"\",\"\",\"\",\"\",\"\",\"\",\"\",\"\",\"\",\"\",\"\",\"\",\"\",\"\",\"\",\"\",\"\",2703.340214839999,2698.7866162199994,2694.8602148599994,2694.519414079999,2694.0904150399992,2695.3996142599995,2695.3714160199993,2695.8892138599995,2695.8386132799997,2696.9662109399997,2698.351611339999,2700.8932080199993,2702.4922070399994,2705.3696093799995,2710.789809579999,2715.06621096,2719.24241214,2722.13241214,2724.0882129199995,2722.691010779999,2719.761411159999,2716.7244092199994,2708.4110107999995,2702.53521002,2697.5412109999997,2693.26420904,2687.55400884,2678.8184082399994,2672.677407259999,2666.8278076399997,2658.7160058799996,2651.91040528,2642.90200684,2636.84140626,2631.90620606,2629.17520508,2624.8398047,2618.0344043,2609.4602050800004,2601.3376025400003,2593.2547998200007,2584.6185986600003,2577.5016016000004,2570.56980474,2566.6646045400003,2560.71360358,2551.46540046,2542.1178028,2534.59420416,2526.2682032,2516.73980476,2506.58200202,2497.86140142,2488.75640142,2479.8197998600003,2470.8071973200003,2461.2313965400003,2451.5107959600005,2441.79399908,2431.9091992800004,2420.5764014200004,2408.08960454,2394.98040532,2381.5780029800003,2368.2772022000004,2354.50640142,2342.7822022,2333.0022022000003,2324.2116016200002,2317.3668018000003,2313.4322022,2307.9668018,2302.09419926,2295.8123975000003],\"yaxis\":\"y2\",\"type\":\"scatter\"},{\"legendgroup\":\"RSI(Close,14)\",\"line\":{\"color\":\"rgba(219, 64, 82, 1.0)\",\"dash\":\"solid\",\"shape\":\"linear\",\"width\":1.3},\"mode\":\"lines\",\"name\":\"RSI(Close,14)\",\"showlegend\":true,\"text\":\"\",\"x\":[\"2022-01-03\",\"2022-01-04\",\"2022-01-05\",\"2022-01-06\",\"2022-01-07\",\"2022-01-10\",\"2022-01-11\",\"2022-01-12\",\"2022-01-13\",\"2022-01-14\",\"2022-01-18\",\"2022-01-19\",\"2022-01-20\",\"2022-01-21\",\"2022-01-24\",\"2022-01-25\",\"2022-01-26\",\"2022-01-27\",\"2022-01-28\",\"2022-01-31\",\"2022-02-01\",\"2022-02-02\",\"2022-02-03\",\"2022-02-04\",\"2022-02-07\",\"2022-02-08\",\"2022-02-09\",\"2022-02-10\",\"2022-02-11\",\"2022-02-14\",\"2022-02-15\",\"2022-02-16\",\"2022-02-17\",\"2022-02-18\",\"2022-02-22\",\"2022-02-23\",\"2022-02-24\",\"2022-02-25\",\"2022-02-28\",\"2022-03-01\",\"2022-03-02\",\"2022-03-03\",\"2022-03-04\",\"2022-03-07\",\"2022-03-08\",\"2022-03-09\",\"2022-03-10\",\"2022-03-11\",\"2022-03-14\",\"2022-03-15\",\"2022-03-16\",\"2022-03-17\",\"2022-03-18\",\"2022-03-21\",\"2022-03-22\",\"2022-03-23\",\"2022-03-24\",\"2022-03-25\",\"2022-03-28\",\"2022-03-29\",\"2022-03-30\",\"2022-03-31\",\"2022-04-01\",\"2022-04-04\",\"2022-04-05\",\"2022-04-06\",\"2022-04-07\",\"2022-04-08\",\"2022-04-11\",\"2022-04-12\",\"2022-04-13\",\"2022-04-14\",\"2022-04-18\",\"2022-04-19\",\"2022-04-20\",\"2022-04-21\",\"2022-04-22\",\"2022-04-25\",\"2022-04-26\",\"2022-04-27\",\"2022-04-28\",\"2022-04-29\",\"2022-05-02\",\"2022-05-03\",\"2022-05-04\",\"2022-05-05\",\"2022-05-06\",\"2022-05-09\",\"2022-05-10\",\"2022-05-11\",\"2022-05-12\",\"2022-05-13\",\"2022-05-16\",\"2022-05-17\",\"2022-05-18\",\"2022-05-19\",\"2022-05-20\",\"2022-05-23\",\"2022-05-24\",\"2022-05-25\",\"2022-05-26\",\"2022-05-27\",\"2022-05-31\",\"2022-06-01\",\"2022-06-02\",\"2022-06-03\",\"2022-06-06\",\"2022-06-07\",\"2022-06-08\",\"2022-06-09\",\"2022-06-10\",\"2022-06-13\",\"2022-06-14\",\"2022-06-15\",\"2022-06-16\",\"2022-06-17\",\"2022-06-21\",\"2022-06-22\",\"2022-06-23\",\"2022-06-24\",\"2022-06-27\",\"2022-06-28\",\"2022-06-29\"],\"y\":[\"\",\"\",\"\",\"\",\"\",\"\",\"\",\"\",\"\",\"\",\"\",\"\",\"\",20.71497149698432,21.573394900010157,19.345283363543757,32.88580036898523,32.86373482401652,43.41754697290752,45.052218717185404,46.41046696627058,58.33518612940168,54.27211363022369,53.947904474596875,53.191024178122696,54.33000721158678,59.64042806893764,60.4678852936136,54.19018173140353,60.10524608152905,58.76333478709237,59.97425321758421,48.85799419037287,43.828900488910584,39.73053894366689,18.944651142056628,34.711920828905434,37.545610243588925,43.34463132995454,41.82387716982496,38.523055762067635,41.98442111782295,45.90235962331235,34.76086607966026,34.05224183166534,44.70595664185675,50.61820091695524,50.01307581126288,45.99696394536559,53.02150320404752,51.52763002865428,50.12519836731667,52.79471984446779,53.41987021879815,57.46837709824496,55.47337869529312,61.79748588248579,72.47246300313311,72.15201442824457,66.86071529102274,68.28016038202612,66.35994506652982,77.52820287651903,77.54857887163232,65.40655146468751,54.78655224216429,49.337952298119205,45.52004958706228,31.257149217349067,31.655677699222906,29.360569669342908,25.844369918405278,26.53954396805885,29.54093660927525,28.026197950182492,27.760992254252514,21.772434224569793,23.19844160314365,22.509440622221703,22.170999914727545,30.392191785677,29.06195072958191,35.45628718613031,38.0883241432317,41.533446271464484,39.131239661255094,37.373749748052404,32.09387974255394,35.74990109292261,37.87086662982958,42.07734448637776,41.67419227745854,43.866224521853916,52.34476097741119,40.19661398599649,43.59793745455338,37.82291311645289,40.37929046732331,26.13663155672998,31.286471313996884,37.93261404221943,49.56071767227927,49.152391279802,50.278016197758625,56.65225120883113,47.15437366220123,53.167386248444544,50.79225006886797,58.33075083475355,57.02549557245884,53.32955821039049,42.94570995978517,52.222367672025705,57.19230461567525,47.479964752791844,41.6839510745017,46.893038232239554,46.763913252645764,41.43120835223023,56.16965521302091,49.387529046042395,43.44072028780325,43.04521408549604],\"yaxis\":\"y3\",\"type\":\"scatter\"},{\"legendgroup\":\"RSI(Close,14)\",\"line\":{\"color\":\"red\",\"width\":1},\"mode\":\"lines\",\"name\":\"\",\"showlegend\":true,\"text\":\"\",\"x\":[\"2022-01-03\",\"2022-01-04\",\"2022-01-05\",\"2022-01-06\",\"2022-01-07\",\"2022-01-10\",\"2022-01-11\",\"2022-01-12\",\"2022-01-13\",\"2022-01-14\",\"2022-01-18\",\"2022-01-19\",\"2022-01-20\",\"2022-01-21\",\"2022-01-24\",\"2022-01-25\",\"2022-01-26\",\"2022-01-27\",\"2022-01-28\",\"2022-01-31\",\"2022-02-01\",\"2022-02-02\",\"2022-02-03\",\"2022-02-04\",\"2022-02-07\",\"2022-02-08\",\"2022-02-09\",\"2022-02-10\",\"2022-02-11\",\"2022-02-14\",\"2022-02-15\",\"2022-02-16\",\"2022-02-17\",\"2022-02-18\",\"2022-02-22\",\"2022-02-23\",\"2022-02-24\",\"2022-02-25\",\"2022-02-28\",\"2022-03-01\",\"2022-03-02\",\"2022-03-03\",\"2022-03-04\",\"2022-03-07\",\"2022-03-08\",\"2022-03-09\",\"2022-03-10\",\"2022-03-11\",\"2022-03-14\",\"2022-03-15\",\"2022-03-16\",\"2022-03-17\",\"2022-03-18\",\"2022-03-21\",\"2022-03-22\",\"2022-03-23\",\"2022-03-24\",\"2022-03-25\",\"2022-03-28\",\"2022-03-29\",\"2022-03-30\",\"2022-03-31\",\"2022-04-01\",\"2022-04-04\",\"2022-04-05\",\"2022-04-06\",\"2022-04-07\",\"2022-04-08\",\"2022-04-11\",\"2022-04-12\",\"2022-04-13\",\"2022-04-14\",\"2022-04-18\",\"2022-04-19\",\"2022-04-20\",\"2022-04-21\",\"2022-04-22\",\"2022-04-25\",\"2022-04-26\",\"2022-04-27\",\"2022-04-28\",\"2022-04-29\",\"2022-05-02\",\"2022-05-03\",\"2022-05-04\",\"2022-05-05\",\"2022-05-06\",\"2022-05-09\",\"2022-05-10\",\"2022-05-11\",\"2022-05-12\",\"2022-05-13\",\"2022-05-16\",\"2022-05-17\",\"2022-05-18\",\"2022-05-19\",\"2022-05-20\",\"2022-05-23\",\"2022-05-24\",\"2022-05-25\",\"2022-05-26\",\"2022-05-27\",\"2022-05-31\",\"2022-06-01\",\"2022-06-02\",\"2022-06-03\",\"2022-06-06\",\"2022-06-07\",\"2022-06-08\",\"2022-06-09\",\"2022-06-10\",\"2022-06-13\",\"2022-06-14\",\"2022-06-15\",\"2022-06-16\",\"2022-06-17\",\"2022-06-21\",\"2022-06-22\",\"2022-06-23\",\"2022-06-24\",\"2022-06-27\",\"2022-06-28\",\"2022-06-29\"],\"y\":[30,30,30,30,30,30,30,30,30,30,30,30,30,30,30,30,30,30,30,30,30,30,30,30,30,30,30,30,30,30,30,30,30,30,30,30,30,30,30,30,30,30,30,30,30,30,30,30,30,30,30,30,30,30,30,30,30,30,30,30,30,30,30,30,30,30,30,30,30,30,30,30,30,30,30,30,30,30,30,30,30,30,30,30,30,30,30,30,30,30,30,30,30,30,30,30,30,30,30,30,30,30,30,30,30,30,30,30,30,30,30,30,30,30,30,30,30,30,30,30,30,30,30],\"yaxis\":\"y3\",\"type\":\"scatter\"},{\"legendgroup\":\"RSI(Close,14)\",\"line\":{\"color\":\"green\",\"width\":1},\"mode\":\"lines\",\"name\":\"\",\"showlegend\":true,\"text\":\"\",\"x\":[\"2022-01-03\",\"2022-01-04\",\"2022-01-05\",\"2022-01-06\",\"2022-01-07\",\"2022-01-10\",\"2022-01-11\",\"2022-01-12\",\"2022-01-13\",\"2022-01-14\",\"2022-01-18\",\"2022-01-19\",\"2022-01-20\",\"2022-01-21\",\"2022-01-24\",\"2022-01-25\",\"2022-01-26\",\"2022-01-27\",\"2022-01-28\",\"2022-01-31\",\"2022-02-01\",\"2022-02-02\",\"2022-02-03\",\"2022-02-04\",\"2022-02-07\",\"2022-02-08\",\"2022-02-09\",\"2022-02-10\",\"2022-02-11\",\"2022-02-14\",\"2022-02-15\",\"2022-02-16\",\"2022-02-17\",\"2022-02-18\",\"2022-02-22\",\"2022-02-23\",\"2022-02-24\",\"2022-02-25\",\"2022-02-28\",\"2022-03-01\",\"2022-03-02\",\"2022-03-03\",\"2022-03-04\",\"2022-03-07\",\"2022-03-08\",\"2022-03-09\",\"2022-03-10\",\"2022-03-11\",\"2022-03-14\",\"2022-03-15\",\"2022-03-16\",\"2022-03-17\",\"2022-03-18\",\"2022-03-21\",\"2022-03-22\",\"2022-03-23\",\"2022-03-24\",\"2022-03-25\",\"2022-03-28\",\"2022-03-29\",\"2022-03-30\",\"2022-03-31\",\"2022-04-01\",\"2022-04-04\",\"2022-04-05\",\"2022-04-06\",\"2022-04-07\",\"2022-04-08\",\"2022-04-11\",\"2022-04-12\",\"2022-04-13\",\"2022-04-14\",\"2022-04-18\",\"2022-04-19\",\"2022-04-20\",\"2022-04-21\",\"2022-04-22\",\"2022-04-25\",\"2022-04-26\",\"2022-04-27\",\"2022-04-28\",\"2022-04-29\",\"2022-05-02\",\"2022-05-03\",\"2022-05-04\",\"2022-05-05\",\"2022-05-06\",\"2022-05-09\",\"2022-05-10\",\"2022-05-11\",\"2022-05-12\",\"2022-05-13\",\"2022-05-16\",\"2022-05-17\",\"2022-05-18\",\"2022-05-19\",\"2022-05-20\",\"2022-05-23\",\"2022-05-24\",\"2022-05-25\",\"2022-05-26\",\"2022-05-27\",\"2022-05-31\",\"2022-06-01\",\"2022-06-02\",\"2022-06-03\",\"2022-06-06\",\"2022-06-07\",\"2022-06-08\",\"2022-06-09\",\"2022-06-10\",\"2022-06-13\",\"2022-06-14\",\"2022-06-15\",\"2022-06-16\",\"2022-06-17\",\"2022-06-21\",\"2022-06-22\",\"2022-06-23\",\"2022-06-24\",\"2022-06-27\",\"2022-06-28\",\"2022-06-29\"],\"y\":[70,70,70,70,70,70,70,70,70,70,70,70,70,70,70,70,70,70,70,70,70,70,70,70,70,70,70,70,70,70,70,70,70,70,70,70,70,70,70,70,70,70,70,70,70,70,70,70,70,70,70,70,70,70,70,70,70,70,70,70,70,70,70,70,70,70,70,70,70,70,70,70,70,70,70,70,70,70,70,70,70,70,70,70,70,70,70,70,70,70,70,70,70,70,70,70,70,70,70,70,70,70,70,70,70,70,70,70,70,70,70,70,70,70,70,70,70,70,70,70,70,70,70],\"yaxis\":\"y3\",\"type\":\"scatter\"},{\"close\":[2901.48999,2888.330078,2753.070068,2751.02002,2740.090088,2771.47998,2800.350098,2832.959961,2782.6201170000004,2795.72998,2725.810059,2713.040039,2670.1298829999996,2601.840088,2607.439941,2534.709961,2584.800049,2582.419922,2665.790039,2713.969971,2757.570068,2960.72998,2853.01001,2860.320068,2778.76001,2784.26001,2829.060059,2772.050049,2682.600098,2706.0,2728.51001,2749.75,2646.169922,2609.350098,2588.050049,2551.699951,2653.469971,2690.389893,2697.820068,2683.360107,2695.030029,2686.159912,2642.439941,2529.290039,2545.570068,2677.320068,2653.639893,2609.51001,2534.820068,2593.209961,2673.810059,2692.01001,2736.030029,2729.570068,2805.550049,2770.070068,2826.23999,2830.429932,2839.0,2865.0,2852.889893,2792.98999,2814.0,2872.850098,2821.26001,2743.52002,2729.300049,2680.209961,2595.929932,2567.48999,2605.719971,2545.060059,2559.219971,2610.6201170000004,2564.909912,2498.75,2392.280029,2465.0,2390.1201170000004,2300.409912,2388.22998,2299.330078,2343.139893,2362.590088,2451.5,2334.929932,2313.199951,2261.679932,2291.689941,2279.219971,2263.219971,2330.310059,2295.850098,2334.030029,2248.02002,2214.909912,2186.26001,2233.330078,2118.52002,2116.790039,2165.919922,2255.97998,2280.780029,2282.73999,2354.919922,2291.280029,2340.209961,2344.590088,2344.76001,2298.360107,2228.550049,2137.530029,2143.8798829999996,2207.810059,2132.719971,2157.310059,2240.300049,2240.679932,2253.689941,2370.76001,2332.449951,2251.429932,2245.1298829999996],\"decreasing\":{\"line\":{\"color\":\"#db4052\"}},\"high\":[2911.0,2932.199951,2885.959961,2793.719971,2765.094971,2772.800049,2806.590088,2856.284912,2863.709961,2824.01001,2747.830078,2767.98999,2758.23999,2695.209961,2615.570068,2586.77002,2656.149902,2652.198975,2667.409912,2716.8701170000004,2764.0,3042.0,2982.354004,2890.705078,2876.929932,2796.741943,2843.51001,2828.6201170000004,2785.665039,2723.330078,2758.0,2758.919922,2736.790039,2676.47998,2638.014893,2634.97998,2660.73999,2707.780029,2712.810059,2722.219971,2712.310059,2734.275879,2683.97998,2638.080078,2624.929932,2683.969971,2670.77002,2684.0,2620.52002,2610.344971,2675.419922,2694.790039,2738.27002,2751.649902,2830.0,2800.5,2827.929932,2839.189941,2839.530029,2883.25,2869.610107,2852.889893,2819.0,2880.875,2871.800049,2796.969971,2754.030029,2725.0,2658.783936,2648.469971,2613.11499,2614.205078,2574.23999,2618.074951,2638.469971,2606.149902,2509.040039,2465.560059,2455.0,2350.0,2408.77002,2379.199951,2346.790039,2386.0,2462.860107,2424.665039,2349.969971,2311.258057,2333.820068,2333.419922,2297.1298829999996,2361.699951,2332.149902,2344.550049,2313.913086,2271.75,2251.0,2240.110107,2127.899902,2130.894043,2179.10498,2257.360107,2328.669922,2347.97998,2357.959961,2327.290039,2387.969971,2354.9729,2372.919922,2367.0,2269.939941,2184.3701170000004,2169.149902,2241.26001,2185.810059,2184.98999,2253.459961,2275.389893,2263.929932,2372.75,2385.0,2357.1298829999996,2273.290039],\"increasing\":{\"line\":{\"color\":\"#008000\"}},\"low\":[2870.050049,2876.322998,2750.469971,2735.27002,2715.780029,2662.810059,2736.27002,2822.23999,2778.280029,2750.0,2712.340088,2710.0,2662.889893,2600.02002,2492.839111,2527.560059,2543.070068,2578.899902,2573.889893,2645.47998,2691.36499,2911.149902,2844.100098,2796.350098,2773.97998,2737.459961,2807.540039,2761.0,2665.77002,2666.040039,2710.790039,2696.4729,2644.040039,2606.1411129999997,2554.820068,2550.070068,2495.290039,2635.300049,2656.5048829999996,2667.570068,2668.649902,2668.6201170000004,2608.169922,2528.199951,2517.215088,2601.76001,2628.02002,2605.929932,2528.26001,2531.360107,2584.02002,2654.3798829999996,2658.639893,2692.22998,2730.0,2763.330078,2760.788086,2793.98999,2796.5629879999997,2849.679932,2843.360107,2792.3798829999996,2775.939941,2816.48999,2818.8701170000004,2728.362061,2697.14502,2675.050049,2592.350098,2551.52002,2568.771973,2542.22998,2531.569092,2549.030029,2557.881104,2493.0,2382.810059,2375.38501,2383.237061,2262.485107,2302.87793,2293.8798829999996,2267.98999,2332.540039,2314.77002,2303.649902,2282.860107,2251.030029,2267.666016,2273.0,2202.27002,2280.0,2286.699951,2306.75,2242.840088,2209.360107,2127.459961,2183.084961,2044.160034,2084.225098,2109.76001,2191.0,2251.449951,2271.01001,2266.159912,2273.360107,2330.565918,2302.51001,2333.935059,2297.340088,2217.219971,2131.760986,2127.040039,2162.375,2115.850098,2112.571045,2185.8701170000004,2214.486084,2220.580078,2272.060059,2320.014893,2248.8798829999996,2231.080078],\"name\":\"GOOG\",\"open\":[2889.51001,2911.01001,2883.6201170000004,2749.949951,2758.100098,2701.97998,2763.610107,2831.090088,2836.810059,2750.0,2732.0,2738.77002,2730.280029,2660.23999,2520.550049,2568.709961,2611.850098,2627.219971,2600.0,2683.959961,2756.699951,3037.27002,2905.899902,2860.340088,2874.179932,2779.824951,2816.9951170000004,2790.0,2775.0,2667.310059,2749.429932,2728.610107,2723.0,2660.75,2599.699951,2621.570068,2500.0,2670.51001,2665.689941,2689.600098,2692.165039,2719.570068,2667.649902,2638.080078,2525.01001,2628.0,2629.25,2679.98999,2611.459961,2554.830078,2620.0,2666.419922,2677.679932,2736.949951,2730.0,2782.77002,2785.449951,2835.080078,2813.689941,2863.209961,2857.399902,2848.969971,2800.199951,2816.48999,2867.98999,2783.22998,2732.360107,2725.0,2658.0,2648.469971,2572.530029,2612.98999,2548.199951,2561.540039,2625.679932,2587.0,2500.0,2388.590088,2455.0,2287.459961,2342.300049,2351.560059,2278.1298829999996,2335.300049,2360.070068,2404.409912,2310.3798829999996,2266.070068,2320.810059,2274.209961,2238.76001,2296.909912,2307.679932,2344.550049,2304.75,2236.820068,2241.709961,2202.080078,2127.550049,2102.840088,2121.01001,2195.77002,2261.580078,2298.6298829999996,2283.76001,2319.850098,2334.850098,2312.959961,2337.530029,2326.830078,2255.625,2148.919922,2137.800049,2177.98999,2162.98999,2130.699951,2194.040039,2223.26001,2259.0,2272.060059,2378.699951,2327.02002,2242.969971],\"showlegend\":true,\"x\":[\"2022-01-03\",\"2022-01-04\",\"2022-01-05\",\"2022-01-06\",\"2022-01-07\",\"2022-01-10\",\"2022-01-11\",\"2022-01-12\",\"2022-01-13\",\"2022-01-14\",\"2022-01-18\",\"2022-01-19\",\"2022-01-20\",\"2022-01-21\",\"2022-01-24\",\"2022-01-25\",\"2022-01-26\",\"2022-01-27\",\"2022-01-28\",\"2022-01-31\",\"2022-02-01\",\"2022-02-02\",\"2022-02-03\",\"2022-02-04\",\"2022-02-07\",\"2022-02-08\",\"2022-02-09\",\"2022-02-10\",\"2022-02-11\",\"2022-02-14\",\"2022-02-15\",\"2022-02-16\",\"2022-02-17\",\"2022-02-18\",\"2022-02-22\",\"2022-02-23\",\"2022-02-24\",\"2022-02-25\",\"2022-02-28\",\"2022-03-01\",\"2022-03-02\",\"2022-03-03\",\"2022-03-04\",\"2022-03-07\",\"2022-03-08\",\"2022-03-09\",\"2022-03-10\",\"2022-03-11\",\"2022-03-14\",\"2022-03-15\",\"2022-03-16\",\"2022-03-17\",\"2022-03-18\",\"2022-03-21\",\"2022-03-22\",\"2022-03-23\",\"2022-03-24\",\"2022-03-25\",\"2022-03-28\",\"2022-03-29\",\"2022-03-30\",\"2022-03-31\",\"2022-04-01\",\"2022-04-04\",\"2022-04-05\",\"2022-04-06\",\"2022-04-07\",\"2022-04-08\",\"2022-04-11\",\"2022-04-12\",\"2022-04-13\",\"2022-04-14\",\"2022-04-18\",\"2022-04-19\",\"2022-04-20\",\"2022-04-21\",\"2022-04-22\",\"2022-04-25\",\"2022-04-26\",\"2022-04-27\",\"2022-04-28\",\"2022-04-29\",\"2022-05-02\",\"2022-05-03\",\"2022-05-04\",\"2022-05-05\",\"2022-05-06\",\"2022-05-09\",\"2022-05-10\",\"2022-05-11\",\"2022-05-12\",\"2022-05-13\",\"2022-05-16\",\"2022-05-17\",\"2022-05-18\",\"2022-05-19\",\"2022-05-20\",\"2022-05-23\",\"2022-05-24\",\"2022-05-25\",\"2022-05-26\",\"2022-05-27\",\"2022-05-31\",\"2022-06-01\",\"2022-06-02\",\"2022-06-03\",\"2022-06-06\",\"2022-06-07\",\"2022-06-08\",\"2022-06-09\",\"2022-06-10\",\"2022-06-13\",\"2022-06-14\",\"2022-06-15\",\"2022-06-16\",\"2022-06-17\",\"2022-06-21\",\"2022-06-22\",\"2022-06-23\",\"2022-06-24\",\"2022-06-27\",\"2022-06-28\",\"2022-06-29\"],\"yaxis\":\"y2\",\"type\":\"candlestick\"}],                        {\"legend\":{\"bgcolor\":\"#F5F6F9\",\"font\":{\"color\":\"#4D5663\"}},\"margin\":{\"b\":30,\"l\":30,\"r\":30,\"t\":30},\"paper_bgcolor\":\"#F5F6F9\",\"plot_bgcolor\":\"#F5F6F9\",\"showlegend\":true,\"template\":{\"data\":{\"barpolar\":[{\"marker\":{\"line\":{\"color\":\"#E5ECF6\",\"width\":0.5},\"pattern\":{\"fillmode\":\"overlay\",\"size\":10,\"solidity\":0.2}},\"type\":\"barpolar\"}],\"bar\":[{\"error_x\":{\"color\":\"#2a3f5f\"},\"error_y\":{\"color\":\"#2a3f5f\"},\"marker\":{\"line\":{\"color\":\"#E5ECF6\",\"width\":0.5},\"pattern\":{\"fillmode\":\"overlay\",\"size\":10,\"solidity\":0.2}},\"type\":\"bar\"}],\"carpet\":[{\"aaxis\":{\"endlinecolor\":\"#2a3f5f\",\"gridcolor\":\"white\",\"linecolor\":\"white\",\"minorgridcolor\":\"white\",\"startlinecolor\":\"#2a3f5f\"},\"baxis\":{\"endlinecolor\":\"#2a3f5f\",\"gridcolor\":\"white\",\"linecolor\":\"white\",\"minorgridcolor\":\"white\",\"startlinecolor\":\"#2a3f5f\"},\"type\":\"carpet\"}],\"choropleth\":[{\"colorbar\":{\"outlinewidth\":0,\"ticks\":\"\"},\"type\":\"choropleth\"}],\"contourcarpet\":[{\"colorbar\":{\"outlinewidth\":0,\"ticks\":\"\"},\"type\":\"contourcarpet\"}],\"contour\":[{\"colorbar\":{\"outlinewidth\":0,\"ticks\":\"\"},\"colorscale\":[[0.0,\"#0d0887\"],[0.1111111111111111,\"#46039f\"],[0.2222222222222222,\"#7201a8\"],[0.3333333333333333,\"#9c179e\"],[0.4444444444444444,\"#bd3786\"],[0.5555555555555556,\"#d8576b\"],[0.6666666666666666,\"#ed7953\"],[0.7777777777777778,\"#fb9f3a\"],[0.8888888888888888,\"#fdca26\"],[1.0,\"#f0f921\"]],\"type\":\"contour\"}],\"heatmapgl\":[{\"colorbar\":{\"outlinewidth\":0,\"ticks\":\"\"},\"colorscale\":[[0.0,\"#0d0887\"],[0.1111111111111111,\"#46039f\"],[0.2222222222222222,\"#7201a8\"],[0.3333333333333333,\"#9c179e\"],[0.4444444444444444,\"#bd3786\"],[0.5555555555555556,\"#d8576b\"],[0.6666666666666666,\"#ed7953\"],[0.7777777777777778,\"#fb9f3a\"],[0.8888888888888888,\"#fdca26\"],[1.0,\"#f0f921\"]],\"type\":\"heatmapgl\"}],\"heatmap\":[{\"colorbar\":{\"outlinewidth\":0,\"ticks\":\"\"},\"colorscale\":[[0.0,\"#0d0887\"],[0.1111111111111111,\"#46039f\"],[0.2222222222222222,\"#7201a8\"],[0.3333333333333333,\"#9c179e\"],[0.4444444444444444,\"#bd3786\"],[0.5555555555555556,\"#d8576b\"],[0.6666666666666666,\"#ed7953\"],[0.7777777777777778,\"#fb9f3a\"],[0.8888888888888888,\"#fdca26\"],[1.0,\"#f0f921\"]],\"type\":\"heatmap\"}],\"histogram2dcontour\":[{\"colorbar\":{\"outlinewidth\":0,\"ticks\":\"\"},\"colorscale\":[[0.0,\"#0d0887\"],[0.1111111111111111,\"#46039f\"],[0.2222222222222222,\"#7201a8\"],[0.3333333333333333,\"#9c179e\"],[0.4444444444444444,\"#bd3786\"],[0.5555555555555556,\"#d8576b\"],[0.6666666666666666,\"#ed7953\"],[0.7777777777777778,\"#fb9f3a\"],[0.8888888888888888,\"#fdca26\"],[1.0,\"#f0f921\"]],\"type\":\"histogram2dcontour\"}],\"histogram2d\":[{\"colorbar\":{\"outlinewidth\":0,\"ticks\":\"\"},\"colorscale\":[[0.0,\"#0d0887\"],[0.1111111111111111,\"#46039f\"],[0.2222222222222222,\"#7201a8\"],[0.3333333333333333,\"#9c179e\"],[0.4444444444444444,\"#bd3786\"],[0.5555555555555556,\"#d8576b\"],[0.6666666666666666,\"#ed7953\"],[0.7777777777777778,\"#fb9f3a\"],[0.8888888888888888,\"#fdca26\"],[1.0,\"#f0f921\"]],\"type\":\"histogram2d\"}],\"histogram\":[{\"marker\":{\"pattern\":{\"fillmode\":\"overlay\",\"size\":10,\"solidity\":0.2}},\"type\":\"histogram\"}],\"mesh3d\":[{\"colorbar\":{\"outlinewidth\":0,\"ticks\":\"\"},\"type\":\"mesh3d\"}],\"parcoords\":[{\"line\":{\"colorbar\":{\"outlinewidth\":0,\"ticks\":\"\"}},\"type\":\"parcoords\"}],\"pie\":[{\"automargin\":true,\"type\":\"pie\"}],\"scatter3d\":[{\"line\":{\"colorbar\":{\"outlinewidth\":0,\"ticks\":\"\"}},\"marker\":{\"colorbar\":{\"outlinewidth\":0,\"ticks\":\"\"}},\"type\":\"scatter3d\"}],\"scattercarpet\":[{\"marker\":{\"colorbar\":{\"outlinewidth\":0,\"ticks\":\"\"}},\"type\":\"scattercarpet\"}],\"scattergeo\":[{\"marker\":{\"colorbar\":{\"outlinewidth\":0,\"ticks\":\"\"}},\"type\":\"scattergeo\"}],\"scattergl\":[{\"marker\":{\"colorbar\":{\"outlinewidth\":0,\"ticks\":\"\"}},\"type\":\"scattergl\"}],\"scattermapbox\":[{\"marker\":{\"colorbar\":{\"outlinewidth\":0,\"ticks\":\"\"}},\"type\":\"scattermapbox\"}],\"scatterpolargl\":[{\"marker\":{\"colorbar\":{\"outlinewidth\":0,\"ticks\":\"\"}},\"type\":\"scatterpolargl\"}],\"scatterpolar\":[{\"marker\":{\"colorbar\":{\"outlinewidth\":0,\"ticks\":\"\"}},\"type\":\"scatterpolar\"}],\"scatter\":[{\"fillpattern\":{\"fillmode\":\"overlay\",\"size\":10,\"solidity\":0.2},\"type\":\"scatter\"}],\"scatterternary\":[{\"marker\":{\"colorbar\":{\"outlinewidth\":0,\"ticks\":\"\"}},\"type\":\"scatterternary\"}],\"surface\":[{\"colorbar\":{\"outlinewidth\":0,\"ticks\":\"\"},\"colorscale\":[[0.0,\"#0d0887\"],[0.1111111111111111,\"#46039f\"],[0.2222222222222222,\"#7201a8\"],[0.3333333333333333,\"#9c179e\"],[0.4444444444444444,\"#bd3786\"],[0.5555555555555556,\"#d8576b\"],[0.6666666666666666,\"#ed7953\"],[0.7777777777777778,\"#fb9f3a\"],[0.8888888888888888,\"#fdca26\"],[1.0,\"#f0f921\"]],\"type\":\"surface\"}],\"table\":[{\"cells\":{\"fill\":{\"color\":\"#EBF0F8\"},\"line\":{\"color\":\"white\"}},\"header\":{\"fill\":{\"color\":\"#C8D4E3\"},\"line\":{\"color\":\"white\"}},\"type\":\"table\"}]},\"layout\":{\"annotationdefaults\":{\"arrowcolor\":\"#2a3f5f\",\"arrowhead\":0,\"arrowwidth\":1},\"autotypenumbers\":\"strict\",\"coloraxis\":{\"colorbar\":{\"outlinewidth\":0,\"ticks\":\"\"}},\"colorscale\":{\"diverging\":[[0,\"#8e0152\"],[0.1,\"#c51b7d\"],[0.2,\"#de77ae\"],[0.3,\"#f1b6da\"],[0.4,\"#fde0ef\"],[0.5,\"#f7f7f7\"],[0.6,\"#e6f5d0\"],[0.7,\"#b8e186\"],[0.8,\"#7fbc41\"],[0.9,\"#4d9221\"],[1,\"#276419\"]],\"sequential\":[[0.0,\"#0d0887\"],[0.1111111111111111,\"#46039f\"],[0.2222222222222222,\"#7201a8\"],[0.3333333333333333,\"#9c179e\"],[0.4444444444444444,\"#bd3786\"],[0.5555555555555556,\"#d8576b\"],[0.6666666666666666,\"#ed7953\"],[0.7777777777777778,\"#fb9f3a\"],[0.8888888888888888,\"#fdca26\"],[1.0,\"#f0f921\"]],\"sequentialminus\":[[0.0,\"#0d0887\"],[0.1111111111111111,\"#46039f\"],[0.2222222222222222,\"#7201a8\"],[0.3333333333333333,\"#9c179e\"],[0.4444444444444444,\"#bd3786\"],[0.5555555555555556,\"#d8576b\"],[0.6666666666666666,\"#ed7953\"],[0.7777777777777778,\"#fb9f3a\"],[0.8888888888888888,\"#fdca26\"],[1.0,\"#f0f921\"]]},\"colorway\":[\"#636efa\",\"#EF553B\",\"#00cc96\",\"#ab63fa\",\"#FFA15A\",\"#19d3f3\",\"#FF6692\",\"#B6E880\",\"#FF97FF\",\"#FECB52\"],\"font\":{\"color\":\"#2a3f5f\"},\"geo\":{\"bgcolor\":\"white\",\"lakecolor\":\"white\",\"landcolor\":\"#E5ECF6\",\"showlakes\":true,\"showland\":true,\"subunitcolor\":\"white\"},\"hoverlabel\":{\"align\":\"left\"},\"hovermode\":\"closest\",\"mapbox\":{\"style\":\"light\"},\"paper_bgcolor\":\"white\",\"plot_bgcolor\":\"#E5ECF6\",\"polar\":{\"angularaxis\":{\"gridcolor\":\"white\",\"linecolor\":\"white\",\"ticks\":\"\"},\"bgcolor\":\"#E5ECF6\",\"radialaxis\":{\"gridcolor\":\"white\",\"linecolor\":\"white\",\"ticks\":\"\"}},\"scene\":{\"xaxis\":{\"backgroundcolor\":\"#E5ECF6\",\"gridcolor\":\"white\",\"gridwidth\":2,\"linecolor\":\"white\",\"showbackground\":true,\"ticks\":\"\",\"zerolinecolor\":\"white\"},\"yaxis\":{\"backgroundcolor\":\"#E5ECF6\",\"gridcolor\":\"white\",\"gridwidth\":2,\"linecolor\":\"white\",\"showbackground\":true,\"ticks\":\"\",\"zerolinecolor\":\"white\"},\"zaxis\":{\"backgroundcolor\":\"#E5ECF6\",\"gridcolor\":\"white\",\"gridwidth\":2,\"linecolor\":\"white\",\"showbackground\":true,\"ticks\":\"\",\"zerolinecolor\":\"white\"}},\"shapedefaults\":{\"line\":{\"color\":\"#2a3f5f\"}},\"ternary\":{\"aaxis\":{\"gridcolor\":\"white\",\"linecolor\":\"white\",\"ticks\":\"\"},\"baxis\":{\"gridcolor\":\"white\",\"linecolor\":\"white\",\"ticks\":\"\"},\"bgcolor\":\"#E5ECF6\",\"caxis\":{\"gridcolor\":\"white\",\"linecolor\":\"white\",\"ticks\":\"\"}},\"title\":{\"x\":0.05},\"xaxis\":{\"automargin\":true,\"gridcolor\":\"white\",\"linecolor\":\"white\",\"ticks\":\"\",\"title\":{\"standoff\":15},\"zerolinecolor\":\"white\",\"zerolinewidth\":2},\"yaxis\":{\"automargin\":true,\"gridcolor\":\"white\",\"linecolor\":\"white\",\"ticks\":\"\",\"title\":{\"standoff\":15},\"zerolinecolor\":\"white\",\"zerolinewidth\":2}}},\"title\":{\"font\":{\"color\":\"#4D5663\"},\"text\":\"GOOG 2022\"},\"xaxis\":{\"anchor\":\"y2\",\"gridcolor\":\"#E1E5ED\",\"rangeselector\":{\"bgcolor\":\"rgba(150, 200, 250, 1)\",\"buttons\":[{\"count\":1,\"label\":\"1m\",\"step\":\"month\",\"stepmode\":\"backward\"},{\"count\":1,\"label\":\"1y\",\"step\":\"year\",\"stepmode\":\"backward\"}],\"font\":{\"size\":13},\"visible\":false,\"x\":0,\"y\":0.9},\"rangeslider\":{\"visible\":false},\"showgrid\":true,\"tickfont\":{\"color\":\"#4D5663\"},\"title\":{\"font\":{\"color\":\"#4D5663\"},\"text\":\"\"},\"zerolinecolor\":\"#E1E5ED\"},\"yaxis\":{\"gridcolor\":\"#E1E5ED\",\"showgrid\":true,\"showticklabels\":false,\"tickfont\":{\"color\":\"#4D5663\"},\"title\":{\"font\":{\"color\":\"#4D5663\"},\"text\":\"\"},\"zerolinecolor\":\"#E1E5ED\"},\"yaxis2\":{\"domain\":[0.23,0.9],\"gridcolor\":\"#E1E5ED\",\"showgrid\":true,\"tickfont\":{\"color\":\"#4D5663\"},\"title\":{\"font\":{\"color\":\"#4D5663\"},\"text\":\"\"},\"zerolinecolor\":\"#E1E5ED\"},\"yaxis3\":{\"domain\":[0.0,0.15],\"gridcolor\":\"#E1E5ED\",\"showgrid\":true,\"tickfont\":{\"color\":\"#4D5663\"},\"title\":{\"font\":{\"color\":\"#4D5663\"},\"text\":\"\"},\"zerolinecolor\":\"#E1E5ED\"}},                        {\"showLink\": true, \"linkText\": \"Export to plot.ly\", \"plotlyServerURL\": \"https://plot.ly\", \"responsive\": true}                    ).then(function(){\n",
       "                            \n",
       "var gd = document.getElementById('7eba2a56-5934-42a5-a077-2b29123bdbc0');\n",
       "var x = new MutationObserver(function (mutations, observer) {{\n",
       "        var display = window.getComputedStyle(gd).display;\n",
       "        if (!display || display === 'none') {{\n",
       "            console.log([gd, 'removed!']);\n",
       "            Plotly.purge(gd);\n",
       "            observer.disconnect();\n",
       "        }}\n",
       "}});\n",
       "\n",
       "// Listen for the removal of the full notebook cells\n",
       "var notebookContainer = gd.closest('#notebook-container');\n",
       "if (notebookContainer) {{\n",
       "    x.observe(notebookContainer, {childList: true});\n",
       "}}\n",
       "\n",
       "// Listen for the clearing of the current output cell\n",
       "var outputEl = gd.closest('.output');\n",
       "if (outputEl) {{\n",
       "    x.observe(outputEl, {childList: true});\n",
       "}}\n",
       "\n",
       "                        })                };                });            </script>        </div>"
      ]
     },
     "metadata": {},
     "output_type": "display_data"
    }
   ],
   "source": [
    "qf = cf.QuantFig(df, title='GOOG 2022', name='GOOG',\n",
    "                up_color = 'green',\n",
    "                down_color = 'red')\n",
    "\n",
    "# add a 14-day moving average\n",
    "qf.add_sma(periods = [15, 20, 30, 50], column = 'Close', color = ['blue', 'green', 'brown',\n",
    "                                                                 'orange'])\n",
    "\n",
    "qf.add_rsi(periods = 14, color = 'red')\n",
    "\n",
    "qf.iplot()"
   ]
  },
  {
   "cell_type": "markdown",
   "metadata": {},
   "source": [
    "The **Relative Strength Index (RSI)** is a momentum indicator used in financial analytics. The RSI calculates the changes in recent price movements to examine if it is overbought or undersold:\n",
    "* The RSI range from 0 to 100 in value\n",
    "* Traditionally any value above 70 is overvalued and any value that is below 30 is undervalued"
   ]
  },
  {
   "cell_type": "markdown",
   "metadata": {},
   "source": [
    "## Adding Volume to the Chart\n",
    "One line lets us add volume chart below the price chart in cufflinks."
   ]
  },
  {
   "cell_type": "code",
   "execution_count": 113,
   "metadata": {},
   "outputs": [
    {
     "data": {
      "application/vnd.plotly.v1+json": {
       "config": {
        "linkText": "Export to plot.ly",
        "plotlyServerURL": "https://plot.ly",
        "showLink": true
       },
       "data": [
        {
         "line": {
          "color": "rgba(55, 128, 191, 1.0)",
          "dash": "solid",
          "shape": "linear",
          "width": 1.3
         },
         "mode": "lines",
         "name": " SMA(20)",
         "text": "",
         "type": "scatter",
         "x": [
          "2022-01-03",
          "2022-01-04",
          "2022-01-05",
          "2022-01-06",
          "2022-01-07",
          "2022-01-10",
          "2022-01-11",
          "2022-01-12",
          "2022-01-13",
          "2022-01-14",
          "2022-01-18",
          "2022-01-19",
          "2022-01-20",
          "2022-01-21",
          "2022-01-24",
          "2022-01-25",
          "2022-01-26",
          "2022-01-27",
          "2022-01-28",
          "2022-01-31",
          "2022-02-01",
          "2022-02-02",
          "2022-02-03",
          "2022-02-04",
          "2022-02-07",
          "2022-02-08",
          "2022-02-09",
          "2022-02-10",
          "2022-02-11",
          "2022-02-14",
          "2022-02-15",
          "2022-02-16",
          "2022-02-17",
          "2022-02-18",
          "2022-02-22",
          "2022-02-23",
          "2022-02-24",
          "2022-02-25",
          "2022-02-28",
          "2022-03-01",
          "2022-03-02",
          "2022-03-03",
          "2022-03-04",
          "2022-03-07",
          "2022-03-08",
          "2022-03-09",
          "2022-03-10",
          "2022-03-11",
          "2022-03-14",
          "2022-03-15",
          "2022-03-16",
          "2022-03-17",
          "2022-03-18",
          "2022-03-21",
          "2022-03-22",
          "2022-03-23",
          "2022-03-24",
          "2022-03-25",
          "2022-03-28",
          "2022-03-29",
          "2022-03-30",
          "2022-03-31",
          "2022-04-01",
          "2022-04-04",
          "2022-04-05",
          "2022-04-06",
          "2022-04-07",
          "2022-04-08",
          "2022-04-11",
          "2022-04-12",
          "2022-04-13",
          "2022-04-14",
          "2022-04-18",
          "2022-04-19",
          "2022-04-20",
          "2022-04-21",
          "2022-04-22",
          "2022-04-25",
          "2022-04-26",
          "2022-04-27",
          "2022-04-28",
          "2022-04-29",
          "2022-05-02",
          "2022-05-03",
          "2022-05-04",
          "2022-05-05",
          "2022-05-06",
          "2022-05-09",
          "2022-05-10",
          "2022-05-11",
          "2022-05-12",
          "2022-05-13",
          "2022-05-16",
          "2022-05-17",
          "2022-05-18",
          "2022-05-19",
          "2022-05-20",
          "2022-05-23",
          "2022-05-24",
          "2022-05-25",
          "2022-05-26",
          "2022-05-27",
          "2022-05-31",
          "2022-06-01",
          "2022-06-02",
          "2022-06-03",
          "2022-06-06",
          "2022-06-07",
          "2022-06-08",
          "2022-06-09",
          "2022-06-10",
          "2022-06-13",
          "2022-06-14",
          "2022-06-15",
          "2022-06-16",
          "2022-06-17",
          "2022-06-21",
          "2022-06-22",
          "2022-06-23",
          "2022-06-24",
          "2022-06-27",
          "2022-06-28",
          "2022-06-29"
         ],
         "y": [
          "",
          "",
          "",
          "",
          "",
          "",
          "",
          "",
          "",
          "",
          "",
          "",
          "",
          "",
          "",
          "",
          "",
          "",
          "",
          2720.8545165999994,
          2713.6585204999997,
          2717.2785156,
          2722.2755126999996,
          2727.7405151,
          2729.6740111999998,
          2730.3130126999995,
          2731.7485107499997,
          2728.7030151499994,
          2723.7020141999997,
          2719.2155152,
          2719.35051275,
          2721.1860107999996,
          2719.9880127499996,
          2720.36351325,
          2719.39401865,
          2720.24351815,
          2723.67701425,
          2729.0755128,
          2730.67701425,
          2729.14652105,
          2726.0195191000003,
          2712.2910157000006,
          2701.7625122500003,
          2685.2110108000006,
          2673.5515137000007,
          2668.2045166000007,
          2659.4335083000005,
          2651.3065063500007,
          2643.9175048500006,
          2638.2780029000005,
          2635.543005350001,
          2632.656005850001,
          2637.1490112000006,
          2643.1600097000005,
          2654.0350097000005,
          2664.9535155500007,
          2673.5920165000007,
          2680.5940184500005,
          2687.6530150500007,
          2696.735009700001,
          2704.6280029000004,
          2709.9695068000005,
          2718.5475097500007,
          2735.7255127000008,
          2749.5100098000007,
          2752.8200074000006,
          2756.6030152000008,
          2760.1380127500006,
          2763.1935059500006,
          2761.9075074000007,
          2758.5030030000007,
          2751.155505450001,
          2742.315002550001,
          2736.3675050000006,
          2724.3354981500006,
          2710.769494750001,
          2689.071496700001,
          2670.800000100001,
          2648.3560059500005,
          2620.1265015500007,
          2596.893505900001,
          2572.210510300001,
          2548.667504950001,
          2523.154504450001,
          2504.666503950001,
          2484.2369995500003,
          2463.431994650001,
          2442.5054932000007,
          2427.2934936500005,
          2412.8799927000005,
          2395.7549927000005,
          2385.0174927000003,
          2371.8489990500007,
          2358.0194946500005,
          2342.1750000500006,
          2327.9829956500007,
          2317.6819947000004,
          2306.0984986000003,
          2292.5184937500003,
          2283.3375001,
          2272.2219972,
          2270.0544923,
          2266.9364991,
          2262.9439942000004,
          2258.1149903000005,
          2255.9324951500007,
          2257.2829956500004,
          2261.4285034500003,
          2264.0820069000006,
          2265.0390137000004,
          2263.3055176000007,
          2253.6665161000005,
          2246.0680053500005,
          2239.7570068500004,
          2233.9920044000005,
          2231.1120117500004,
          2233.8140137000005,
          2234.1815064000007,
          2240.9400024500005,
          2253.6385010000004,
          2261.9650024500006,
          2261.7375000500006,
          2259.95499275
         ],
         "yaxis": "y2"
        },
        {
         "line": {
          "color": "rgba(0, 128, 0, 1.0)",
          "dash": "solid",
          "shape": "linear",
          "width": 1.3
         },
         "mode": "lines",
         "name": " SMA(50)",
         "text": "",
         "type": "scatter",
         "x": [
          "2022-01-03",
          "2022-01-04",
          "2022-01-05",
          "2022-01-06",
          "2022-01-07",
          "2022-01-10",
          "2022-01-11",
          "2022-01-12",
          "2022-01-13",
          "2022-01-14",
          "2022-01-18",
          "2022-01-19",
          "2022-01-20",
          "2022-01-21",
          "2022-01-24",
          "2022-01-25",
          "2022-01-26",
          "2022-01-27",
          "2022-01-28",
          "2022-01-31",
          "2022-02-01",
          "2022-02-02",
          "2022-02-03",
          "2022-02-04",
          "2022-02-07",
          "2022-02-08",
          "2022-02-09",
          "2022-02-10",
          "2022-02-11",
          "2022-02-14",
          "2022-02-15",
          "2022-02-16",
          "2022-02-17",
          "2022-02-18",
          "2022-02-22",
          "2022-02-23",
          "2022-02-24",
          "2022-02-25",
          "2022-02-28",
          "2022-03-01",
          "2022-03-02",
          "2022-03-03",
          "2022-03-04",
          "2022-03-07",
          "2022-03-08",
          "2022-03-09",
          "2022-03-10",
          "2022-03-11",
          "2022-03-14",
          "2022-03-15",
          "2022-03-16",
          "2022-03-17",
          "2022-03-18",
          "2022-03-21",
          "2022-03-22",
          "2022-03-23",
          "2022-03-24",
          "2022-03-25",
          "2022-03-28",
          "2022-03-29",
          "2022-03-30",
          "2022-03-31",
          "2022-04-01",
          "2022-04-04",
          "2022-04-05",
          "2022-04-06",
          "2022-04-07",
          "2022-04-08",
          "2022-04-11",
          "2022-04-12",
          "2022-04-13",
          "2022-04-14",
          "2022-04-18",
          "2022-04-19",
          "2022-04-20",
          "2022-04-21",
          "2022-04-22",
          "2022-04-25",
          "2022-04-26",
          "2022-04-27",
          "2022-04-28",
          "2022-04-29",
          "2022-05-02",
          "2022-05-03",
          "2022-05-04",
          "2022-05-05",
          "2022-05-06",
          "2022-05-09",
          "2022-05-10",
          "2022-05-11",
          "2022-05-12",
          "2022-05-13",
          "2022-05-16",
          "2022-05-17",
          "2022-05-18",
          "2022-05-19",
          "2022-05-20",
          "2022-05-23",
          "2022-05-24",
          "2022-05-25",
          "2022-05-26",
          "2022-05-27",
          "2022-05-31",
          "2022-06-01",
          "2022-06-02",
          "2022-06-03",
          "2022-06-06",
          "2022-06-07",
          "2022-06-08",
          "2022-06-09",
          "2022-06-10",
          "2022-06-13",
          "2022-06-14",
          "2022-06-15",
          "2022-06-16",
          "2022-06-17",
          "2022-06-21",
          "2022-06-22",
          "2022-06-23",
          "2022-06-24",
          "2022-06-27",
          "2022-06-28",
          "2022-06-29"
         ],
         "y": [
          "",
          "",
          "",
          "",
          "",
          "",
          "",
          "",
          "",
          "",
          "",
          "",
          "",
          "",
          "",
          "",
          "",
          "",
          "",
          "",
          "",
          "",
          "",
          "",
          "",
          "",
          "",
          "",
          "",
          "",
          "",
          "",
          "",
          "",
          "",
          "",
          "",
          "",
          "",
          "",
          "",
          "",
          "",
          "",
          "",
          "",
          "",
          "",
          "",
          2703.340214839999,
          2698.7866162199994,
          2694.8602148599994,
          2694.519414079999,
          2694.0904150399992,
          2695.3996142599995,
          2695.3714160199993,
          2695.8892138599995,
          2695.8386132799997,
          2696.9662109399997,
          2698.351611339999,
          2700.8932080199993,
          2702.4922070399994,
          2705.3696093799995,
          2710.789809579999,
          2715.06621096,
          2719.24241214,
          2722.13241214,
          2724.0882129199995,
          2722.691010779999,
          2719.761411159999,
          2716.7244092199994,
          2708.4110107999995,
          2702.53521002,
          2697.5412109999997,
          2693.26420904,
          2687.55400884,
          2678.8184082399994,
          2672.677407259999,
          2666.8278076399997,
          2658.7160058799996,
          2651.91040528,
          2642.90200684,
          2636.84140626,
          2631.90620606,
          2629.17520508,
          2624.8398047,
          2618.0344043,
          2609.4602050800004,
          2601.3376025400003,
          2593.2547998200007,
          2584.6185986600003,
          2577.5016016000004,
          2570.56980474,
          2566.6646045400003,
          2560.71360358,
          2551.46540046,
          2542.1178028,
          2534.59420416,
          2526.2682032,
          2516.73980476,
          2506.58200202,
          2497.86140142,
          2488.75640142,
          2479.8197998600003,
          2470.8071973200003,
          2461.2313965400003,
          2451.5107959600005,
          2441.79399908,
          2431.9091992800004,
          2420.5764014200004,
          2408.08960454,
          2394.98040532,
          2381.5780029800003,
          2368.2772022000004,
          2354.50640142,
          2342.7822022,
          2333.0022022000003,
          2324.2116016200002,
          2317.3668018000003,
          2313.4322022,
          2307.9668018,
          2302.09419926,
          2295.8123975000003
         ],
         "yaxis": "y2"
        },
        {
         "legendgroup": "RSI(Close,14)",
         "line": {
          "color": "rgba(219, 64, 82, 1.0)",
          "dash": "solid",
          "shape": "linear",
          "width": 1.3
         },
         "mode": "lines",
         "name": "RSI(Close,14)",
         "showlegend": true,
         "text": "",
         "type": "scatter",
         "x": [
          "2022-01-03",
          "2022-01-04",
          "2022-01-05",
          "2022-01-06",
          "2022-01-07",
          "2022-01-10",
          "2022-01-11",
          "2022-01-12",
          "2022-01-13",
          "2022-01-14",
          "2022-01-18",
          "2022-01-19",
          "2022-01-20",
          "2022-01-21",
          "2022-01-24",
          "2022-01-25",
          "2022-01-26",
          "2022-01-27",
          "2022-01-28",
          "2022-01-31",
          "2022-02-01",
          "2022-02-02",
          "2022-02-03",
          "2022-02-04",
          "2022-02-07",
          "2022-02-08",
          "2022-02-09",
          "2022-02-10",
          "2022-02-11",
          "2022-02-14",
          "2022-02-15",
          "2022-02-16",
          "2022-02-17",
          "2022-02-18",
          "2022-02-22",
          "2022-02-23",
          "2022-02-24",
          "2022-02-25",
          "2022-02-28",
          "2022-03-01",
          "2022-03-02",
          "2022-03-03",
          "2022-03-04",
          "2022-03-07",
          "2022-03-08",
          "2022-03-09",
          "2022-03-10",
          "2022-03-11",
          "2022-03-14",
          "2022-03-15",
          "2022-03-16",
          "2022-03-17",
          "2022-03-18",
          "2022-03-21",
          "2022-03-22",
          "2022-03-23",
          "2022-03-24",
          "2022-03-25",
          "2022-03-28",
          "2022-03-29",
          "2022-03-30",
          "2022-03-31",
          "2022-04-01",
          "2022-04-04",
          "2022-04-05",
          "2022-04-06",
          "2022-04-07",
          "2022-04-08",
          "2022-04-11",
          "2022-04-12",
          "2022-04-13",
          "2022-04-14",
          "2022-04-18",
          "2022-04-19",
          "2022-04-20",
          "2022-04-21",
          "2022-04-22",
          "2022-04-25",
          "2022-04-26",
          "2022-04-27",
          "2022-04-28",
          "2022-04-29",
          "2022-05-02",
          "2022-05-03",
          "2022-05-04",
          "2022-05-05",
          "2022-05-06",
          "2022-05-09",
          "2022-05-10",
          "2022-05-11",
          "2022-05-12",
          "2022-05-13",
          "2022-05-16",
          "2022-05-17",
          "2022-05-18",
          "2022-05-19",
          "2022-05-20",
          "2022-05-23",
          "2022-05-24",
          "2022-05-25",
          "2022-05-26",
          "2022-05-27",
          "2022-05-31",
          "2022-06-01",
          "2022-06-02",
          "2022-06-03",
          "2022-06-06",
          "2022-06-07",
          "2022-06-08",
          "2022-06-09",
          "2022-06-10",
          "2022-06-13",
          "2022-06-14",
          "2022-06-15",
          "2022-06-16",
          "2022-06-17",
          "2022-06-21",
          "2022-06-22",
          "2022-06-23",
          "2022-06-24",
          "2022-06-27",
          "2022-06-28",
          "2022-06-29"
         ],
         "y": [
          "",
          "",
          "",
          "",
          "",
          "",
          "",
          "",
          "",
          "",
          "",
          "",
          "",
          20.71497149698432,
          21.573394900010157,
          19.345283363543757,
          32.88580036898523,
          32.86373482401652,
          43.41754697290752,
          45.052218717185404,
          46.41046696627058,
          58.33518612940168,
          54.27211363022369,
          53.947904474596875,
          53.191024178122696,
          54.33000721158678,
          59.64042806893764,
          60.4678852936136,
          54.19018173140353,
          60.10524608152905,
          58.76333478709237,
          59.97425321758421,
          48.85799419037287,
          43.828900488910584,
          39.73053894366689,
          18.944651142056628,
          34.711920828905434,
          37.545610243588925,
          43.34463132995454,
          41.82387716982496,
          38.523055762067635,
          41.98442111782295,
          45.90235962331235,
          34.76086607966026,
          34.05224183166534,
          44.70595664185675,
          50.61820091695524,
          50.01307581126288,
          45.99696394536559,
          53.02150320404752,
          51.52763002865428,
          50.12519836731667,
          52.79471984446779,
          53.41987021879815,
          57.46837709824496,
          55.47337869529312,
          61.79748588248579,
          72.47246300313311,
          72.15201442824457,
          66.86071529102274,
          68.28016038202612,
          66.35994506652982,
          77.52820287651903,
          77.54857887163232,
          65.40655146468751,
          54.78655224216429,
          49.337952298119205,
          45.52004958706228,
          31.257149217349067,
          31.655677699222906,
          29.360569669342908,
          25.844369918405278,
          26.53954396805885,
          29.54093660927525,
          28.026197950182492,
          27.760992254252514,
          21.772434224569793,
          23.19844160314365,
          22.509440622221703,
          22.170999914727545,
          30.392191785677,
          29.06195072958191,
          35.45628718613031,
          38.0883241432317,
          41.533446271464484,
          39.131239661255094,
          37.373749748052404,
          32.09387974255394,
          35.74990109292261,
          37.87086662982958,
          42.07734448637776,
          41.67419227745854,
          43.866224521853916,
          52.34476097741119,
          40.19661398599649,
          43.59793745455338,
          37.82291311645289,
          40.37929046732331,
          26.13663155672998,
          31.286471313996884,
          37.93261404221943,
          49.56071767227927,
          49.152391279802,
          50.278016197758625,
          56.65225120883113,
          47.15437366220123,
          53.167386248444544,
          50.79225006886797,
          58.33075083475355,
          57.02549557245884,
          53.32955821039049,
          42.94570995978517,
          52.222367672025705,
          57.19230461567525,
          47.479964752791844,
          41.6839510745017,
          46.893038232239554,
          46.763913252645764,
          41.43120835223023,
          56.16965521302091,
          49.387529046042395,
          43.44072028780325,
          43.04521408549604
         ],
         "yaxis": "y3"
        },
        {
         "legendgroup": "RSI(Close,14)",
         "line": {
          "color": "red",
          "width": 1
         },
         "mode": "lines",
         "name": "",
         "showlegend": true,
         "text": "",
         "type": "scatter",
         "x": [
          "2022-01-03",
          "2022-01-04",
          "2022-01-05",
          "2022-01-06",
          "2022-01-07",
          "2022-01-10",
          "2022-01-11",
          "2022-01-12",
          "2022-01-13",
          "2022-01-14",
          "2022-01-18",
          "2022-01-19",
          "2022-01-20",
          "2022-01-21",
          "2022-01-24",
          "2022-01-25",
          "2022-01-26",
          "2022-01-27",
          "2022-01-28",
          "2022-01-31",
          "2022-02-01",
          "2022-02-02",
          "2022-02-03",
          "2022-02-04",
          "2022-02-07",
          "2022-02-08",
          "2022-02-09",
          "2022-02-10",
          "2022-02-11",
          "2022-02-14",
          "2022-02-15",
          "2022-02-16",
          "2022-02-17",
          "2022-02-18",
          "2022-02-22",
          "2022-02-23",
          "2022-02-24",
          "2022-02-25",
          "2022-02-28",
          "2022-03-01",
          "2022-03-02",
          "2022-03-03",
          "2022-03-04",
          "2022-03-07",
          "2022-03-08",
          "2022-03-09",
          "2022-03-10",
          "2022-03-11",
          "2022-03-14",
          "2022-03-15",
          "2022-03-16",
          "2022-03-17",
          "2022-03-18",
          "2022-03-21",
          "2022-03-22",
          "2022-03-23",
          "2022-03-24",
          "2022-03-25",
          "2022-03-28",
          "2022-03-29",
          "2022-03-30",
          "2022-03-31",
          "2022-04-01",
          "2022-04-04",
          "2022-04-05",
          "2022-04-06",
          "2022-04-07",
          "2022-04-08",
          "2022-04-11",
          "2022-04-12",
          "2022-04-13",
          "2022-04-14",
          "2022-04-18",
          "2022-04-19",
          "2022-04-20",
          "2022-04-21",
          "2022-04-22",
          "2022-04-25",
          "2022-04-26",
          "2022-04-27",
          "2022-04-28",
          "2022-04-29",
          "2022-05-02",
          "2022-05-03",
          "2022-05-04",
          "2022-05-05",
          "2022-05-06",
          "2022-05-09",
          "2022-05-10",
          "2022-05-11",
          "2022-05-12",
          "2022-05-13",
          "2022-05-16",
          "2022-05-17",
          "2022-05-18",
          "2022-05-19",
          "2022-05-20",
          "2022-05-23",
          "2022-05-24",
          "2022-05-25",
          "2022-05-26",
          "2022-05-27",
          "2022-05-31",
          "2022-06-01",
          "2022-06-02",
          "2022-06-03",
          "2022-06-06",
          "2022-06-07",
          "2022-06-08",
          "2022-06-09",
          "2022-06-10",
          "2022-06-13",
          "2022-06-14",
          "2022-06-15",
          "2022-06-16",
          "2022-06-17",
          "2022-06-21",
          "2022-06-22",
          "2022-06-23",
          "2022-06-24",
          "2022-06-27",
          "2022-06-28",
          "2022-06-29"
         ],
         "y": [
          30,
          30,
          30,
          30,
          30,
          30,
          30,
          30,
          30,
          30,
          30,
          30,
          30,
          30,
          30,
          30,
          30,
          30,
          30,
          30,
          30,
          30,
          30,
          30,
          30,
          30,
          30,
          30,
          30,
          30,
          30,
          30,
          30,
          30,
          30,
          30,
          30,
          30,
          30,
          30,
          30,
          30,
          30,
          30,
          30,
          30,
          30,
          30,
          30,
          30,
          30,
          30,
          30,
          30,
          30,
          30,
          30,
          30,
          30,
          30,
          30,
          30,
          30,
          30,
          30,
          30,
          30,
          30,
          30,
          30,
          30,
          30,
          30,
          30,
          30,
          30,
          30,
          30,
          30,
          30,
          30,
          30,
          30,
          30,
          30,
          30,
          30,
          30,
          30,
          30,
          30,
          30,
          30,
          30,
          30,
          30,
          30,
          30,
          30,
          30,
          30,
          30,
          30,
          30,
          30,
          30,
          30,
          30,
          30,
          30,
          30,
          30,
          30,
          30,
          30,
          30,
          30,
          30,
          30,
          30,
          30,
          30,
          30
         ],
         "yaxis": "y3"
        },
        {
         "legendgroup": "RSI(Close,14)",
         "line": {
          "color": "green",
          "width": 1
         },
         "mode": "lines",
         "name": "",
         "showlegend": true,
         "text": "",
         "type": "scatter",
         "x": [
          "2022-01-03",
          "2022-01-04",
          "2022-01-05",
          "2022-01-06",
          "2022-01-07",
          "2022-01-10",
          "2022-01-11",
          "2022-01-12",
          "2022-01-13",
          "2022-01-14",
          "2022-01-18",
          "2022-01-19",
          "2022-01-20",
          "2022-01-21",
          "2022-01-24",
          "2022-01-25",
          "2022-01-26",
          "2022-01-27",
          "2022-01-28",
          "2022-01-31",
          "2022-02-01",
          "2022-02-02",
          "2022-02-03",
          "2022-02-04",
          "2022-02-07",
          "2022-02-08",
          "2022-02-09",
          "2022-02-10",
          "2022-02-11",
          "2022-02-14",
          "2022-02-15",
          "2022-02-16",
          "2022-02-17",
          "2022-02-18",
          "2022-02-22",
          "2022-02-23",
          "2022-02-24",
          "2022-02-25",
          "2022-02-28",
          "2022-03-01",
          "2022-03-02",
          "2022-03-03",
          "2022-03-04",
          "2022-03-07",
          "2022-03-08",
          "2022-03-09",
          "2022-03-10",
          "2022-03-11",
          "2022-03-14",
          "2022-03-15",
          "2022-03-16",
          "2022-03-17",
          "2022-03-18",
          "2022-03-21",
          "2022-03-22",
          "2022-03-23",
          "2022-03-24",
          "2022-03-25",
          "2022-03-28",
          "2022-03-29",
          "2022-03-30",
          "2022-03-31",
          "2022-04-01",
          "2022-04-04",
          "2022-04-05",
          "2022-04-06",
          "2022-04-07",
          "2022-04-08",
          "2022-04-11",
          "2022-04-12",
          "2022-04-13",
          "2022-04-14",
          "2022-04-18",
          "2022-04-19",
          "2022-04-20",
          "2022-04-21",
          "2022-04-22",
          "2022-04-25",
          "2022-04-26",
          "2022-04-27",
          "2022-04-28",
          "2022-04-29",
          "2022-05-02",
          "2022-05-03",
          "2022-05-04",
          "2022-05-05",
          "2022-05-06",
          "2022-05-09",
          "2022-05-10",
          "2022-05-11",
          "2022-05-12",
          "2022-05-13",
          "2022-05-16",
          "2022-05-17",
          "2022-05-18",
          "2022-05-19",
          "2022-05-20",
          "2022-05-23",
          "2022-05-24",
          "2022-05-25",
          "2022-05-26",
          "2022-05-27",
          "2022-05-31",
          "2022-06-01",
          "2022-06-02",
          "2022-06-03",
          "2022-06-06",
          "2022-06-07",
          "2022-06-08",
          "2022-06-09",
          "2022-06-10",
          "2022-06-13",
          "2022-06-14",
          "2022-06-15",
          "2022-06-16",
          "2022-06-17",
          "2022-06-21",
          "2022-06-22",
          "2022-06-23",
          "2022-06-24",
          "2022-06-27",
          "2022-06-28",
          "2022-06-29"
         ],
         "y": [
          70,
          70,
          70,
          70,
          70,
          70,
          70,
          70,
          70,
          70,
          70,
          70,
          70,
          70,
          70,
          70,
          70,
          70,
          70,
          70,
          70,
          70,
          70,
          70,
          70,
          70,
          70,
          70,
          70,
          70,
          70,
          70,
          70,
          70,
          70,
          70,
          70,
          70,
          70,
          70,
          70,
          70,
          70,
          70,
          70,
          70,
          70,
          70,
          70,
          70,
          70,
          70,
          70,
          70,
          70,
          70,
          70,
          70,
          70,
          70,
          70,
          70,
          70,
          70,
          70,
          70,
          70,
          70,
          70,
          70,
          70,
          70,
          70,
          70,
          70,
          70,
          70,
          70,
          70,
          70,
          70,
          70,
          70,
          70,
          70,
          70,
          70,
          70,
          70,
          70,
          70,
          70,
          70,
          70,
          70,
          70,
          70,
          70,
          70,
          70,
          70,
          70,
          70,
          70,
          70,
          70,
          70,
          70,
          70,
          70,
          70,
          70,
          70,
          70,
          70,
          70,
          70,
          70,
          70,
          70,
          70,
          70,
          70
         ],
         "yaxis": "y3"
        },
        {
         "marker": {
          "color": [
           "#db4052",
           "#db4052",
           "#db4052",
           "#db4052",
           "#db4052",
           "#008000",
           "#008000",
           "#008000",
           "#db4052",
           "#008000",
           "#db4052",
           "#db4052",
           "#db4052",
           "#db4052",
           "#008000",
           "#db4052",
           "#008000",
           "#db4052",
           "#008000",
           "#008000",
           "#008000",
           "#008000",
           "#db4052",
           "#008000",
           "#db4052",
           "#008000",
           "#008000",
           "#db4052",
           "#db4052",
           "#008000",
           "#008000",
           "#008000",
           "#db4052",
           "#db4052",
           "#db4052",
           "#db4052",
           "#008000",
           "#008000",
           "#008000",
           "#db4052",
           "#008000",
           "#db4052",
           "#db4052",
           "#db4052",
           "#008000",
           "#008000",
           "#db4052",
           "#db4052",
           "#db4052",
           "#008000",
           "#008000",
           "#008000",
           "#008000",
           "#db4052",
           "#008000",
           "#db4052",
           "#008000",
           "#008000",
           "#008000",
           "#008000",
           "#db4052",
           "#db4052",
           "#008000",
           "#008000",
           "#db4052",
           "#db4052",
           "#db4052",
           "#db4052",
           "#db4052",
           "#db4052",
           "#008000",
           "#db4052",
           "#008000",
           "#008000",
           "#db4052",
           "#db4052",
           "#db4052",
           "#008000",
           "#db4052",
           "#db4052",
           "#008000",
           "#db4052",
           "#008000",
           "#008000",
           "#008000",
           "#db4052",
           "#db4052",
           "#db4052",
           "#008000",
           "#db4052",
           "#db4052",
           "#008000",
           "#db4052",
           "#008000",
           "#db4052",
           "#db4052",
           "#db4052",
           "#008000",
           "#db4052",
           "#db4052",
           "#008000",
           "#008000",
           "#008000",
           "#008000",
           "#008000",
           "#db4052",
           "#008000",
           "#008000",
           "#008000",
           "#db4052",
           "#db4052",
           "#db4052",
           "#008000",
           "#008000",
           "#db4052",
           "#008000",
           "#008000",
           "#008000",
           "#008000",
           "#008000",
           "#db4052",
           "#db4052",
           "#db4052"
          ],
          "line": {
           "color": [
            "#db4052",
            "#db4052",
            "#db4052",
            "#db4052",
            "#db4052",
            "#008000",
            "#008000",
            "#008000",
            "#db4052",
            "#008000",
            "#db4052",
            "#db4052",
            "#db4052",
            "#db4052",
            "#008000",
            "#db4052",
            "#008000",
            "#db4052",
            "#008000",
            "#008000",
            "#008000",
            "#008000",
            "#db4052",
            "#008000",
            "#db4052",
            "#008000",
            "#008000",
            "#db4052",
            "#db4052",
            "#008000",
            "#008000",
            "#008000",
            "#db4052",
            "#db4052",
            "#db4052",
            "#db4052",
            "#008000",
            "#008000",
            "#008000",
            "#db4052",
            "#008000",
            "#db4052",
            "#db4052",
            "#db4052",
            "#008000",
            "#008000",
            "#db4052",
            "#db4052",
            "#db4052",
            "#008000",
            "#008000",
            "#008000",
            "#008000",
            "#db4052",
            "#008000",
            "#db4052",
            "#008000",
            "#008000",
            "#008000",
            "#008000",
            "#db4052",
            "#db4052",
            "#008000",
            "#008000",
            "#db4052",
            "#db4052",
            "#db4052",
            "#db4052",
            "#db4052",
            "#db4052",
            "#008000",
            "#db4052",
            "#008000",
            "#008000",
            "#db4052",
            "#db4052",
            "#db4052",
            "#008000",
            "#db4052",
            "#db4052",
            "#008000",
            "#db4052",
            "#008000",
            "#008000",
            "#008000",
            "#db4052",
            "#db4052",
            "#db4052",
            "#008000",
            "#db4052",
            "#db4052",
            "#008000",
            "#db4052",
            "#008000",
            "#db4052",
            "#db4052",
            "#db4052",
            "#008000",
            "#db4052",
            "#db4052",
            "#008000",
            "#008000",
            "#008000",
            "#008000",
            "#008000",
            "#db4052",
            "#008000",
            "#008000",
            "#008000",
            "#db4052",
            "#db4052",
            "#db4052",
            "#008000",
            "#008000",
            "#db4052",
            "#008000",
            "#008000",
            "#008000",
            "#008000",
            "#008000",
            "#db4052",
            "#db4052",
            "#db4052"
           ],
           "width": 1
          }
         },
         "name": "Volume",
         "opacity": 0.8,
         "orientation": "v",
         "text": "",
         "type": "bar",
         "x": [
          "2022-01-03",
          "2022-01-04",
          "2022-01-05",
          "2022-01-06",
          "2022-01-07",
          "2022-01-10",
          "2022-01-11",
          "2022-01-12",
          "2022-01-13",
          "2022-01-14",
          "2022-01-18",
          "2022-01-19",
          "2022-01-20",
          "2022-01-21",
          "2022-01-24",
          "2022-01-25",
          "2022-01-26",
          "2022-01-27",
          "2022-01-28",
          "2022-01-31",
          "2022-02-01",
          "2022-02-02",
          "2022-02-03",
          "2022-02-04",
          "2022-02-07",
          "2022-02-08",
          "2022-02-09",
          "2022-02-10",
          "2022-02-11",
          "2022-02-14",
          "2022-02-15",
          "2022-02-16",
          "2022-02-17",
          "2022-02-18",
          "2022-02-22",
          "2022-02-23",
          "2022-02-24",
          "2022-02-25",
          "2022-02-28",
          "2022-03-01",
          "2022-03-02",
          "2022-03-03",
          "2022-03-04",
          "2022-03-07",
          "2022-03-08",
          "2022-03-09",
          "2022-03-10",
          "2022-03-11",
          "2022-03-14",
          "2022-03-15",
          "2022-03-16",
          "2022-03-17",
          "2022-03-18",
          "2022-03-21",
          "2022-03-22",
          "2022-03-23",
          "2022-03-24",
          "2022-03-25",
          "2022-03-28",
          "2022-03-29",
          "2022-03-30",
          "2022-03-31",
          "2022-04-01",
          "2022-04-04",
          "2022-04-05",
          "2022-04-06",
          "2022-04-07",
          "2022-04-08",
          "2022-04-11",
          "2022-04-12",
          "2022-04-13",
          "2022-04-14",
          "2022-04-18",
          "2022-04-19",
          "2022-04-20",
          "2022-04-21",
          "2022-04-22",
          "2022-04-25",
          "2022-04-26",
          "2022-04-27",
          "2022-04-28",
          "2022-04-29",
          "2022-05-02",
          "2022-05-03",
          "2022-05-04",
          "2022-05-05",
          "2022-05-06",
          "2022-05-09",
          "2022-05-10",
          "2022-05-11",
          "2022-05-12",
          "2022-05-13",
          "2022-05-16",
          "2022-05-17",
          "2022-05-18",
          "2022-05-19",
          "2022-05-20",
          "2022-05-23",
          "2022-05-24",
          "2022-05-25",
          "2022-05-26",
          "2022-05-27",
          "2022-05-31",
          "2022-06-01",
          "2022-06-02",
          "2022-06-03",
          "2022-06-06",
          "2022-06-07",
          "2022-06-08",
          "2022-06-09",
          "2022-06-10",
          "2022-06-13",
          "2022-06-14",
          "2022-06-15",
          "2022-06-16",
          "2022-06-17",
          "2022-06-21",
          "2022-06-22",
          "2022-06-23",
          "2022-06-24",
          "2022-06-27",
          "2022-06-28",
          "2022-06-29"
         ],
         "y": [
          1260700,
          1146400,
          2482100,
          1452500,
          970400,
          1704800,
          1175100,
          1182100,
          1328300,
          1191300,
          1369100,
          1039800,
          1096500,
          2096000,
          2757400,
          1800400,
          1981500,
          1512400,
          1525900,
          1702800,
          2560200,
          4487500,
          2846500,
          2461200,
          2230500,
          1712800,
          1431400,
          1650900,
          1940400,
          1339600,
          1328900,
          1280500,
          1548400,
          1592900,
          1945300,
          1321600,
          2158300,
          1311800,
          1483800,
          1232000,
          1198300,
          989000,
          1222300,
          1958900,
          1762500,
          1612900,
          1213300,
          1330000,
          1512700,
          1514600,
          1602900,
          1199700,
          2295000,
          1331600,
          1488800,
          1265100,
          1027200,
          963500,
          1188700,
          1433900,
          1052300,
          1475800,
          1174000,
          953800,
          962800,
          1178700,
          972400,
          821700,
          1209400,
          1150200,
          977100,
          1174200,
          745900,
          1136000,
          1130500,
          1507900,
          2320500,
          1726100,
          2469700,
          3111900,
          1839500,
          1684700,
          1514000,
          1060800,
          1661600,
          2154500,
          1765500,
          1726000,
          1557900,
          1825100,
          2073200,
          1486900,
          1164100,
          1078800,
          1399100,
          1459600,
          1879300,
          1577900,
          3019300,
          1895000,
          1514400,
          1496200,
          2565100,
          1431500,
          1373600,
          1252600,
          1189300,
          1320700,
          1127200,
          1157100,
          1566200,
          1837800,
          1274000,
          1659600,
          1765700,
          2163500,
          1950500,
          1196100,
          1235500,
          1954700,
          1642000,
          1411600,
          931400
         ],
         "yaxis": "y4"
        },
        {
         "close": [
          2901.48999,
          2888.330078,
          2753.070068,
          2751.02002,
          2740.090088,
          2771.47998,
          2800.350098,
          2832.959961,
          2782.6201170000004,
          2795.72998,
          2725.810059,
          2713.040039,
          2670.1298829999996,
          2601.840088,
          2607.439941,
          2534.709961,
          2584.800049,
          2582.419922,
          2665.790039,
          2713.969971,
          2757.570068,
          2960.72998,
          2853.01001,
          2860.320068,
          2778.76001,
          2784.26001,
          2829.060059,
          2772.050049,
          2682.600098,
          2706,
          2728.51001,
          2749.75,
          2646.169922,
          2609.350098,
          2588.050049,
          2551.699951,
          2653.469971,
          2690.389893,
          2697.820068,
          2683.360107,
          2695.030029,
          2686.159912,
          2642.439941,
          2529.290039,
          2545.570068,
          2677.320068,
          2653.639893,
          2609.51001,
          2534.820068,
          2593.209961,
          2673.810059,
          2692.01001,
          2736.030029,
          2729.570068,
          2805.550049,
          2770.070068,
          2826.23999,
          2830.429932,
          2839,
          2865,
          2852.889893,
          2792.98999,
          2814,
          2872.850098,
          2821.26001,
          2743.52002,
          2729.300049,
          2680.209961,
          2595.929932,
          2567.48999,
          2605.719971,
          2545.060059,
          2559.219971,
          2610.6201170000004,
          2564.909912,
          2498.75,
          2392.280029,
          2465,
          2390.1201170000004,
          2300.409912,
          2388.22998,
          2299.330078,
          2343.139893,
          2362.590088,
          2451.5,
          2334.929932,
          2313.199951,
          2261.679932,
          2291.689941,
          2279.219971,
          2263.219971,
          2330.310059,
          2295.850098,
          2334.030029,
          2248.02002,
          2214.909912,
          2186.26001,
          2233.330078,
          2118.52002,
          2116.790039,
          2165.919922,
          2255.97998,
          2280.780029,
          2282.73999,
          2354.919922,
          2291.280029,
          2340.209961,
          2344.590088,
          2344.76001,
          2298.360107,
          2228.550049,
          2137.530029,
          2143.8798829999996,
          2207.810059,
          2132.719971,
          2157.310059,
          2240.300049,
          2240.679932,
          2253.689941,
          2370.76001,
          2332.449951,
          2251.429932,
          2245.1298829999996
         ],
         "decreasing": {
          "line": {
           "color": "#db4052"
          }
         },
         "high": [
          2911,
          2932.199951,
          2885.959961,
          2793.719971,
          2765.094971,
          2772.800049,
          2806.590088,
          2856.284912,
          2863.709961,
          2824.01001,
          2747.830078,
          2767.98999,
          2758.23999,
          2695.209961,
          2615.570068,
          2586.77002,
          2656.149902,
          2652.198975,
          2667.409912,
          2716.8701170000004,
          2764,
          3042,
          2982.354004,
          2890.705078,
          2876.929932,
          2796.741943,
          2843.51001,
          2828.6201170000004,
          2785.665039,
          2723.330078,
          2758,
          2758.919922,
          2736.790039,
          2676.47998,
          2638.014893,
          2634.97998,
          2660.73999,
          2707.780029,
          2712.810059,
          2722.219971,
          2712.310059,
          2734.275879,
          2683.97998,
          2638.080078,
          2624.929932,
          2683.969971,
          2670.77002,
          2684,
          2620.52002,
          2610.344971,
          2675.419922,
          2694.790039,
          2738.27002,
          2751.649902,
          2830,
          2800.5,
          2827.929932,
          2839.189941,
          2839.530029,
          2883.25,
          2869.610107,
          2852.889893,
          2819,
          2880.875,
          2871.800049,
          2796.969971,
          2754.030029,
          2725,
          2658.783936,
          2648.469971,
          2613.11499,
          2614.205078,
          2574.23999,
          2618.074951,
          2638.469971,
          2606.149902,
          2509.040039,
          2465.560059,
          2455,
          2350,
          2408.77002,
          2379.199951,
          2346.790039,
          2386,
          2462.860107,
          2424.665039,
          2349.969971,
          2311.258057,
          2333.820068,
          2333.419922,
          2297.1298829999996,
          2361.699951,
          2332.149902,
          2344.550049,
          2313.913086,
          2271.75,
          2251,
          2240.110107,
          2127.899902,
          2130.894043,
          2179.10498,
          2257.360107,
          2328.669922,
          2347.97998,
          2357.959961,
          2327.290039,
          2387.969971,
          2354.9729,
          2372.919922,
          2367,
          2269.939941,
          2184.3701170000004,
          2169.149902,
          2241.26001,
          2185.810059,
          2184.98999,
          2253.459961,
          2275.389893,
          2263.929932,
          2372.75,
          2385,
          2357.1298829999996,
          2273.290039
         ],
         "increasing": {
          "line": {
           "color": "#008000"
          }
         },
         "low": [
          2870.050049,
          2876.322998,
          2750.469971,
          2735.27002,
          2715.780029,
          2662.810059,
          2736.27002,
          2822.23999,
          2778.280029,
          2750,
          2712.340088,
          2710,
          2662.889893,
          2600.02002,
          2492.839111,
          2527.560059,
          2543.070068,
          2578.899902,
          2573.889893,
          2645.47998,
          2691.36499,
          2911.149902,
          2844.100098,
          2796.350098,
          2773.97998,
          2737.459961,
          2807.540039,
          2761,
          2665.77002,
          2666.040039,
          2710.790039,
          2696.4729,
          2644.040039,
          2606.1411129999997,
          2554.820068,
          2550.070068,
          2495.290039,
          2635.300049,
          2656.5048829999996,
          2667.570068,
          2668.649902,
          2668.6201170000004,
          2608.169922,
          2528.199951,
          2517.215088,
          2601.76001,
          2628.02002,
          2605.929932,
          2528.26001,
          2531.360107,
          2584.02002,
          2654.3798829999996,
          2658.639893,
          2692.22998,
          2730,
          2763.330078,
          2760.788086,
          2793.98999,
          2796.5629879999997,
          2849.679932,
          2843.360107,
          2792.3798829999996,
          2775.939941,
          2816.48999,
          2818.8701170000004,
          2728.362061,
          2697.14502,
          2675.050049,
          2592.350098,
          2551.52002,
          2568.771973,
          2542.22998,
          2531.569092,
          2549.030029,
          2557.881104,
          2493,
          2382.810059,
          2375.38501,
          2383.237061,
          2262.485107,
          2302.87793,
          2293.8798829999996,
          2267.98999,
          2332.540039,
          2314.77002,
          2303.649902,
          2282.860107,
          2251.030029,
          2267.666016,
          2273,
          2202.27002,
          2280,
          2286.699951,
          2306.75,
          2242.840088,
          2209.360107,
          2127.459961,
          2183.084961,
          2044.160034,
          2084.225098,
          2109.76001,
          2191,
          2251.449951,
          2271.01001,
          2266.159912,
          2273.360107,
          2330.565918,
          2302.51001,
          2333.935059,
          2297.340088,
          2217.219971,
          2131.760986,
          2127.040039,
          2162.375,
          2115.850098,
          2112.571045,
          2185.8701170000004,
          2214.486084,
          2220.580078,
          2272.060059,
          2320.014893,
          2248.8798829999996,
          2231.080078
         ],
         "name": "GOOG",
         "open": [
          2889.51001,
          2911.01001,
          2883.6201170000004,
          2749.949951,
          2758.100098,
          2701.97998,
          2763.610107,
          2831.090088,
          2836.810059,
          2750,
          2732,
          2738.77002,
          2730.280029,
          2660.23999,
          2520.550049,
          2568.709961,
          2611.850098,
          2627.219971,
          2600,
          2683.959961,
          2756.699951,
          3037.27002,
          2905.899902,
          2860.340088,
          2874.179932,
          2779.824951,
          2816.9951170000004,
          2790,
          2775,
          2667.310059,
          2749.429932,
          2728.610107,
          2723,
          2660.75,
          2599.699951,
          2621.570068,
          2500,
          2670.51001,
          2665.689941,
          2689.600098,
          2692.165039,
          2719.570068,
          2667.649902,
          2638.080078,
          2525.01001,
          2628,
          2629.25,
          2679.98999,
          2611.459961,
          2554.830078,
          2620,
          2666.419922,
          2677.679932,
          2736.949951,
          2730,
          2782.77002,
          2785.449951,
          2835.080078,
          2813.689941,
          2863.209961,
          2857.399902,
          2848.969971,
          2800.199951,
          2816.48999,
          2867.98999,
          2783.22998,
          2732.360107,
          2725,
          2658,
          2648.469971,
          2572.530029,
          2612.98999,
          2548.199951,
          2561.540039,
          2625.679932,
          2587,
          2500,
          2388.590088,
          2455,
          2287.459961,
          2342.300049,
          2351.560059,
          2278.1298829999996,
          2335.300049,
          2360.070068,
          2404.409912,
          2310.3798829999996,
          2266.070068,
          2320.810059,
          2274.209961,
          2238.76001,
          2296.909912,
          2307.679932,
          2344.550049,
          2304.75,
          2236.820068,
          2241.709961,
          2202.080078,
          2127.550049,
          2102.840088,
          2121.01001,
          2195.77002,
          2261.580078,
          2298.6298829999996,
          2283.76001,
          2319.850098,
          2334.850098,
          2312.959961,
          2337.530029,
          2326.830078,
          2255.625,
          2148.919922,
          2137.800049,
          2177.98999,
          2162.98999,
          2130.699951,
          2194.040039,
          2223.26001,
          2259,
          2272.060059,
          2378.699951,
          2327.02002,
          2242.969971
         ],
         "showlegend": true,
         "type": "candlestick",
         "x": [
          "2022-01-03",
          "2022-01-04",
          "2022-01-05",
          "2022-01-06",
          "2022-01-07",
          "2022-01-10",
          "2022-01-11",
          "2022-01-12",
          "2022-01-13",
          "2022-01-14",
          "2022-01-18",
          "2022-01-19",
          "2022-01-20",
          "2022-01-21",
          "2022-01-24",
          "2022-01-25",
          "2022-01-26",
          "2022-01-27",
          "2022-01-28",
          "2022-01-31",
          "2022-02-01",
          "2022-02-02",
          "2022-02-03",
          "2022-02-04",
          "2022-02-07",
          "2022-02-08",
          "2022-02-09",
          "2022-02-10",
          "2022-02-11",
          "2022-02-14",
          "2022-02-15",
          "2022-02-16",
          "2022-02-17",
          "2022-02-18",
          "2022-02-22",
          "2022-02-23",
          "2022-02-24",
          "2022-02-25",
          "2022-02-28",
          "2022-03-01",
          "2022-03-02",
          "2022-03-03",
          "2022-03-04",
          "2022-03-07",
          "2022-03-08",
          "2022-03-09",
          "2022-03-10",
          "2022-03-11",
          "2022-03-14",
          "2022-03-15",
          "2022-03-16",
          "2022-03-17",
          "2022-03-18",
          "2022-03-21",
          "2022-03-22",
          "2022-03-23",
          "2022-03-24",
          "2022-03-25",
          "2022-03-28",
          "2022-03-29",
          "2022-03-30",
          "2022-03-31",
          "2022-04-01",
          "2022-04-04",
          "2022-04-05",
          "2022-04-06",
          "2022-04-07",
          "2022-04-08",
          "2022-04-11",
          "2022-04-12",
          "2022-04-13",
          "2022-04-14",
          "2022-04-18",
          "2022-04-19",
          "2022-04-20",
          "2022-04-21",
          "2022-04-22",
          "2022-04-25",
          "2022-04-26",
          "2022-04-27",
          "2022-04-28",
          "2022-04-29",
          "2022-05-02",
          "2022-05-03",
          "2022-05-04",
          "2022-05-05",
          "2022-05-06",
          "2022-05-09",
          "2022-05-10",
          "2022-05-11",
          "2022-05-12",
          "2022-05-13",
          "2022-05-16",
          "2022-05-17",
          "2022-05-18",
          "2022-05-19",
          "2022-05-20",
          "2022-05-23",
          "2022-05-24",
          "2022-05-25",
          "2022-05-26",
          "2022-05-27",
          "2022-05-31",
          "2022-06-01",
          "2022-06-02",
          "2022-06-03",
          "2022-06-06",
          "2022-06-07",
          "2022-06-08",
          "2022-06-09",
          "2022-06-10",
          "2022-06-13",
          "2022-06-14",
          "2022-06-15",
          "2022-06-16",
          "2022-06-17",
          "2022-06-21",
          "2022-06-22",
          "2022-06-23",
          "2022-06-24",
          "2022-06-27",
          "2022-06-28",
          "2022-06-29"
         ],
         "yaxis": "y2"
        }
       ],
       "layout": {
        "legend": {
         "bgcolor": "#F5F6F9",
         "font": {
          "color": "#4D5663"
         }
        },
        "margin": {
         "b": 30,
         "l": 30,
         "r": 30,
         "t": 30
        },
        "paper_bgcolor": "#F5F6F9",
        "plot_bgcolor": "#F5F6F9",
        "showlegend": true,
        "template": {
         "data": {
          "bar": [
           {
            "error_x": {
             "color": "#2a3f5f"
            },
            "error_y": {
             "color": "#2a3f5f"
            },
            "marker": {
             "line": {
              "color": "#E5ECF6",
              "width": 0.5
             },
             "pattern": {
              "fillmode": "overlay",
              "size": 10,
              "solidity": 0.2
             }
            },
            "type": "bar"
           }
          ],
          "barpolar": [
           {
            "marker": {
             "line": {
              "color": "#E5ECF6",
              "width": 0.5
             },
             "pattern": {
              "fillmode": "overlay",
              "size": 10,
              "solidity": 0.2
             }
            },
            "type": "barpolar"
           }
          ],
          "carpet": [
           {
            "aaxis": {
             "endlinecolor": "#2a3f5f",
             "gridcolor": "white",
             "linecolor": "white",
             "minorgridcolor": "white",
             "startlinecolor": "#2a3f5f"
            },
            "baxis": {
             "endlinecolor": "#2a3f5f",
             "gridcolor": "white",
             "linecolor": "white",
             "minorgridcolor": "white",
             "startlinecolor": "#2a3f5f"
            },
            "type": "carpet"
           }
          ],
          "choropleth": [
           {
            "colorbar": {
             "outlinewidth": 0,
             "ticks": ""
            },
            "type": "choropleth"
           }
          ],
          "contour": [
           {
            "colorbar": {
             "outlinewidth": 0,
             "ticks": ""
            },
            "colorscale": [
             [
              0,
              "#0d0887"
             ],
             [
              0.1111111111111111,
              "#46039f"
             ],
             [
              0.2222222222222222,
              "#7201a8"
             ],
             [
              0.3333333333333333,
              "#9c179e"
             ],
             [
              0.4444444444444444,
              "#bd3786"
             ],
             [
              0.5555555555555556,
              "#d8576b"
             ],
             [
              0.6666666666666666,
              "#ed7953"
             ],
             [
              0.7777777777777778,
              "#fb9f3a"
             ],
             [
              0.8888888888888888,
              "#fdca26"
             ],
             [
              1,
              "#f0f921"
             ]
            ],
            "type": "contour"
           }
          ],
          "contourcarpet": [
           {
            "colorbar": {
             "outlinewidth": 0,
             "ticks": ""
            },
            "type": "contourcarpet"
           }
          ],
          "heatmap": [
           {
            "colorbar": {
             "outlinewidth": 0,
             "ticks": ""
            },
            "colorscale": [
             [
              0,
              "#0d0887"
             ],
             [
              0.1111111111111111,
              "#46039f"
             ],
             [
              0.2222222222222222,
              "#7201a8"
             ],
             [
              0.3333333333333333,
              "#9c179e"
             ],
             [
              0.4444444444444444,
              "#bd3786"
             ],
             [
              0.5555555555555556,
              "#d8576b"
             ],
             [
              0.6666666666666666,
              "#ed7953"
             ],
             [
              0.7777777777777778,
              "#fb9f3a"
             ],
             [
              0.8888888888888888,
              "#fdca26"
             ],
             [
              1,
              "#f0f921"
             ]
            ],
            "type": "heatmap"
           }
          ],
          "heatmapgl": [
           {
            "colorbar": {
             "outlinewidth": 0,
             "ticks": ""
            },
            "colorscale": [
             [
              0,
              "#0d0887"
             ],
             [
              0.1111111111111111,
              "#46039f"
             ],
             [
              0.2222222222222222,
              "#7201a8"
             ],
             [
              0.3333333333333333,
              "#9c179e"
             ],
             [
              0.4444444444444444,
              "#bd3786"
             ],
             [
              0.5555555555555556,
              "#d8576b"
             ],
             [
              0.6666666666666666,
              "#ed7953"
             ],
             [
              0.7777777777777778,
              "#fb9f3a"
             ],
             [
              0.8888888888888888,
              "#fdca26"
             ],
             [
              1,
              "#f0f921"
             ]
            ],
            "type": "heatmapgl"
           }
          ],
          "histogram": [
           {
            "marker": {
             "pattern": {
              "fillmode": "overlay",
              "size": 10,
              "solidity": 0.2
             }
            },
            "type": "histogram"
           }
          ],
          "histogram2d": [
           {
            "colorbar": {
             "outlinewidth": 0,
             "ticks": ""
            },
            "colorscale": [
             [
              0,
              "#0d0887"
             ],
             [
              0.1111111111111111,
              "#46039f"
             ],
             [
              0.2222222222222222,
              "#7201a8"
             ],
             [
              0.3333333333333333,
              "#9c179e"
             ],
             [
              0.4444444444444444,
              "#bd3786"
             ],
             [
              0.5555555555555556,
              "#d8576b"
             ],
             [
              0.6666666666666666,
              "#ed7953"
             ],
             [
              0.7777777777777778,
              "#fb9f3a"
             ],
             [
              0.8888888888888888,
              "#fdca26"
             ],
             [
              1,
              "#f0f921"
             ]
            ],
            "type": "histogram2d"
           }
          ],
          "histogram2dcontour": [
           {
            "colorbar": {
             "outlinewidth": 0,
             "ticks": ""
            },
            "colorscale": [
             [
              0,
              "#0d0887"
             ],
             [
              0.1111111111111111,
              "#46039f"
             ],
             [
              0.2222222222222222,
              "#7201a8"
             ],
             [
              0.3333333333333333,
              "#9c179e"
             ],
             [
              0.4444444444444444,
              "#bd3786"
             ],
             [
              0.5555555555555556,
              "#d8576b"
             ],
             [
              0.6666666666666666,
              "#ed7953"
             ],
             [
              0.7777777777777778,
              "#fb9f3a"
             ],
             [
              0.8888888888888888,
              "#fdca26"
             ],
             [
              1,
              "#f0f921"
             ]
            ],
            "type": "histogram2dcontour"
           }
          ],
          "mesh3d": [
           {
            "colorbar": {
             "outlinewidth": 0,
             "ticks": ""
            },
            "type": "mesh3d"
           }
          ],
          "parcoords": [
           {
            "line": {
             "colorbar": {
              "outlinewidth": 0,
              "ticks": ""
             }
            },
            "type": "parcoords"
           }
          ],
          "pie": [
           {
            "automargin": true,
            "type": "pie"
           }
          ],
          "scatter": [
           {
            "fillpattern": {
             "fillmode": "overlay",
             "size": 10,
             "solidity": 0.2
            },
            "type": "scatter"
           }
          ],
          "scatter3d": [
           {
            "line": {
             "colorbar": {
              "outlinewidth": 0,
              "ticks": ""
             }
            },
            "marker": {
             "colorbar": {
              "outlinewidth": 0,
              "ticks": ""
             }
            },
            "type": "scatter3d"
           }
          ],
          "scattercarpet": [
           {
            "marker": {
             "colorbar": {
              "outlinewidth": 0,
              "ticks": ""
             }
            },
            "type": "scattercarpet"
           }
          ],
          "scattergeo": [
           {
            "marker": {
             "colorbar": {
              "outlinewidth": 0,
              "ticks": ""
             }
            },
            "type": "scattergeo"
           }
          ],
          "scattergl": [
           {
            "marker": {
             "colorbar": {
              "outlinewidth": 0,
              "ticks": ""
             }
            },
            "type": "scattergl"
           }
          ],
          "scattermapbox": [
           {
            "marker": {
             "colorbar": {
              "outlinewidth": 0,
              "ticks": ""
             }
            },
            "type": "scattermapbox"
           }
          ],
          "scatterpolar": [
           {
            "marker": {
             "colorbar": {
              "outlinewidth": 0,
              "ticks": ""
             }
            },
            "type": "scatterpolar"
           }
          ],
          "scatterpolargl": [
           {
            "marker": {
             "colorbar": {
              "outlinewidth": 0,
              "ticks": ""
             }
            },
            "type": "scatterpolargl"
           }
          ],
          "scatterternary": [
           {
            "marker": {
             "colorbar": {
              "outlinewidth": 0,
              "ticks": ""
             }
            },
            "type": "scatterternary"
           }
          ],
          "surface": [
           {
            "colorbar": {
             "outlinewidth": 0,
             "ticks": ""
            },
            "colorscale": [
             [
              0,
              "#0d0887"
             ],
             [
              0.1111111111111111,
              "#46039f"
             ],
             [
              0.2222222222222222,
              "#7201a8"
             ],
             [
              0.3333333333333333,
              "#9c179e"
             ],
             [
              0.4444444444444444,
              "#bd3786"
             ],
             [
              0.5555555555555556,
              "#d8576b"
             ],
             [
              0.6666666666666666,
              "#ed7953"
             ],
             [
              0.7777777777777778,
              "#fb9f3a"
             ],
             [
              0.8888888888888888,
              "#fdca26"
             ],
             [
              1,
              "#f0f921"
             ]
            ],
            "type": "surface"
           }
          ],
          "table": [
           {
            "cells": {
             "fill": {
              "color": "#EBF0F8"
             },
             "line": {
              "color": "white"
             }
            },
            "header": {
             "fill": {
              "color": "#C8D4E3"
             },
             "line": {
              "color": "white"
             }
            },
            "type": "table"
           }
          ]
         },
         "layout": {
          "annotationdefaults": {
           "arrowcolor": "#2a3f5f",
           "arrowhead": 0,
           "arrowwidth": 1
          },
          "autotypenumbers": "strict",
          "coloraxis": {
           "colorbar": {
            "outlinewidth": 0,
            "ticks": ""
           }
          },
          "colorscale": {
           "diverging": [
            [
             0,
             "#8e0152"
            ],
            [
             0.1,
             "#c51b7d"
            ],
            [
             0.2,
             "#de77ae"
            ],
            [
             0.3,
             "#f1b6da"
            ],
            [
             0.4,
             "#fde0ef"
            ],
            [
             0.5,
             "#f7f7f7"
            ],
            [
             0.6,
             "#e6f5d0"
            ],
            [
             0.7,
             "#b8e186"
            ],
            [
             0.8,
             "#7fbc41"
            ],
            [
             0.9,
             "#4d9221"
            ],
            [
             1,
             "#276419"
            ]
           ],
           "sequential": [
            [
             0,
             "#0d0887"
            ],
            [
             0.1111111111111111,
             "#46039f"
            ],
            [
             0.2222222222222222,
             "#7201a8"
            ],
            [
             0.3333333333333333,
             "#9c179e"
            ],
            [
             0.4444444444444444,
             "#bd3786"
            ],
            [
             0.5555555555555556,
             "#d8576b"
            ],
            [
             0.6666666666666666,
             "#ed7953"
            ],
            [
             0.7777777777777778,
             "#fb9f3a"
            ],
            [
             0.8888888888888888,
             "#fdca26"
            ],
            [
             1,
             "#f0f921"
            ]
           ],
           "sequentialminus": [
            [
             0,
             "#0d0887"
            ],
            [
             0.1111111111111111,
             "#46039f"
            ],
            [
             0.2222222222222222,
             "#7201a8"
            ],
            [
             0.3333333333333333,
             "#9c179e"
            ],
            [
             0.4444444444444444,
             "#bd3786"
            ],
            [
             0.5555555555555556,
             "#d8576b"
            ],
            [
             0.6666666666666666,
             "#ed7953"
            ],
            [
             0.7777777777777778,
             "#fb9f3a"
            ],
            [
             0.8888888888888888,
             "#fdca26"
            ],
            [
             1,
             "#f0f921"
            ]
           ]
          },
          "colorway": [
           "#636efa",
           "#EF553B",
           "#00cc96",
           "#ab63fa",
           "#FFA15A",
           "#19d3f3",
           "#FF6692",
           "#B6E880",
           "#FF97FF",
           "#FECB52"
          ],
          "font": {
           "color": "#2a3f5f"
          },
          "geo": {
           "bgcolor": "white",
           "lakecolor": "white",
           "landcolor": "#E5ECF6",
           "showlakes": true,
           "showland": true,
           "subunitcolor": "white"
          },
          "hoverlabel": {
           "align": "left"
          },
          "hovermode": "closest",
          "mapbox": {
           "style": "light"
          },
          "paper_bgcolor": "white",
          "plot_bgcolor": "#E5ECF6",
          "polar": {
           "angularaxis": {
            "gridcolor": "white",
            "linecolor": "white",
            "ticks": ""
           },
           "bgcolor": "#E5ECF6",
           "radialaxis": {
            "gridcolor": "white",
            "linecolor": "white",
            "ticks": ""
           }
          },
          "scene": {
           "xaxis": {
            "backgroundcolor": "#E5ECF6",
            "gridcolor": "white",
            "gridwidth": 2,
            "linecolor": "white",
            "showbackground": true,
            "ticks": "",
            "zerolinecolor": "white"
           },
           "yaxis": {
            "backgroundcolor": "#E5ECF6",
            "gridcolor": "white",
            "gridwidth": 2,
            "linecolor": "white",
            "showbackground": true,
            "ticks": "",
            "zerolinecolor": "white"
           },
           "zaxis": {
            "backgroundcolor": "#E5ECF6",
            "gridcolor": "white",
            "gridwidth": 2,
            "linecolor": "white",
            "showbackground": true,
            "ticks": "",
            "zerolinecolor": "white"
           }
          },
          "shapedefaults": {
           "line": {
            "color": "#2a3f5f"
           }
          },
          "ternary": {
           "aaxis": {
            "gridcolor": "white",
            "linecolor": "white",
            "ticks": ""
           },
           "baxis": {
            "gridcolor": "white",
            "linecolor": "white",
            "ticks": ""
           },
           "bgcolor": "#E5ECF6",
           "caxis": {
            "gridcolor": "white",
            "linecolor": "white",
            "ticks": ""
           }
          },
          "title": {
           "x": 0.05
          },
          "xaxis": {
           "automargin": true,
           "gridcolor": "white",
           "linecolor": "white",
           "ticks": "",
           "title": {
            "standoff": 15
           },
           "zerolinecolor": "white",
           "zerolinewidth": 2
          },
          "yaxis": {
           "automargin": true,
           "gridcolor": "white",
           "linecolor": "white",
           "ticks": "",
           "title": {
            "standoff": 15
           },
           "zerolinecolor": "white",
           "zerolinewidth": 2
          }
         }
        },
        "title": {
         "font": {
          "color": "#4D5663"
         },
         "text": "GOOG 2022"
        },
        "xaxis": {
         "anchor": "y2",
         "gridcolor": "#E1E5ED",
         "rangeselector": {
          "bgcolor": "rgba(150, 200, 250, 1)",
          "buttons": [
           {
            "count": 1,
            "label": "1m",
            "step": "month",
            "stepmode": "backward"
           },
           {
            "count": 1,
            "label": "1y",
            "step": "year",
            "stepmode": "backward"
           }
          ],
          "font": {
           "size": 13
          },
          "visible": false,
          "x": 0,
          "y": 0.9
         },
         "rangeslider": {
          "visible": false
         },
         "showgrid": true,
         "tickfont": {
          "color": "#4D5663"
         },
         "title": {
          "font": {
           "color": "#4D5663"
          },
          "text": ""
         },
         "zerolinecolor": "#E1E5ED"
        },
        "yaxis": {
         "gridcolor": "#E1E5ED",
         "showgrid": true,
         "showticklabels": false,
         "tickfont": {
          "color": "#4D5663"
         },
         "title": {
          "font": {
           "color": "#4D5663"
          },
          "text": ""
         },
         "zerolinecolor": "#E1E5ED"
        },
        "yaxis2": {
         "domain": [
          0.46,
          0.9
         ],
         "gridcolor": "#E1E5ED",
         "showgrid": true,
         "tickfont": {
          "color": "#4D5663"
         },
         "title": {
          "font": {
           "color": "#4D5663"
          },
          "text": ""
         },
         "zerolinecolor": "#E1E5ED"
        },
        "yaxis3": {
         "domain": [
          0.23,
          0.38
         ],
         "gridcolor": "#E1E5ED",
         "showgrid": true,
         "tickfont": {
          "color": "#4D5663"
         },
         "title": {
          "font": {
           "color": "#4D5663"
          },
          "text": ""
         },
         "zerolinecolor": "#E1E5ED"
        },
        "yaxis4": {
         "domain": [
          0,
          0.15
         ],
         "gridcolor": "#E1E5ED",
         "showgrid": true,
         "tickfont": {
          "color": "#4D5663"
         },
         "title": {
          "font": {
           "color": "#4D5663"
          },
          "text": ""
         },
         "zerolinecolor": "#E1E5ED"
        }
       }
      },
      "text/html": [
       "<div>                            <div id=\"bde75f3e-d186-4f94-9a3c-d537df5d165d\" class=\"plotly-graph-div\" style=\"height:525px; width:100%;\"></div>            <script type=\"text/javascript\">                require([\"plotly\"], function(Plotly) {                    window.PLOTLYENV=window.PLOTLYENV || {};\n",
       "                    window.PLOTLYENV.BASE_URL='https://plot.ly';                                    if (document.getElementById(\"bde75f3e-d186-4f94-9a3c-d537df5d165d\")) {                    Plotly.newPlot(                        \"bde75f3e-d186-4f94-9a3c-d537df5d165d\",                        [{\"line\":{\"color\":\"rgba(55, 128, 191, 1.0)\",\"dash\":\"solid\",\"shape\":\"linear\",\"width\":1.3},\"mode\":\"lines\",\"name\":\" SMA(20)\",\"text\":\"\",\"x\":[\"2022-01-03\",\"2022-01-04\",\"2022-01-05\",\"2022-01-06\",\"2022-01-07\",\"2022-01-10\",\"2022-01-11\",\"2022-01-12\",\"2022-01-13\",\"2022-01-14\",\"2022-01-18\",\"2022-01-19\",\"2022-01-20\",\"2022-01-21\",\"2022-01-24\",\"2022-01-25\",\"2022-01-26\",\"2022-01-27\",\"2022-01-28\",\"2022-01-31\",\"2022-02-01\",\"2022-02-02\",\"2022-02-03\",\"2022-02-04\",\"2022-02-07\",\"2022-02-08\",\"2022-02-09\",\"2022-02-10\",\"2022-02-11\",\"2022-02-14\",\"2022-02-15\",\"2022-02-16\",\"2022-02-17\",\"2022-02-18\",\"2022-02-22\",\"2022-02-23\",\"2022-02-24\",\"2022-02-25\",\"2022-02-28\",\"2022-03-01\",\"2022-03-02\",\"2022-03-03\",\"2022-03-04\",\"2022-03-07\",\"2022-03-08\",\"2022-03-09\",\"2022-03-10\",\"2022-03-11\",\"2022-03-14\",\"2022-03-15\",\"2022-03-16\",\"2022-03-17\",\"2022-03-18\",\"2022-03-21\",\"2022-03-22\",\"2022-03-23\",\"2022-03-24\",\"2022-03-25\",\"2022-03-28\",\"2022-03-29\",\"2022-03-30\",\"2022-03-31\",\"2022-04-01\",\"2022-04-04\",\"2022-04-05\",\"2022-04-06\",\"2022-04-07\",\"2022-04-08\",\"2022-04-11\",\"2022-04-12\",\"2022-04-13\",\"2022-04-14\",\"2022-04-18\",\"2022-04-19\",\"2022-04-20\",\"2022-04-21\",\"2022-04-22\",\"2022-04-25\",\"2022-04-26\",\"2022-04-27\",\"2022-04-28\",\"2022-04-29\",\"2022-05-02\",\"2022-05-03\",\"2022-05-04\",\"2022-05-05\",\"2022-05-06\",\"2022-05-09\",\"2022-05-10\",\"2022-05-11\",\"2022-05-12\",\"2022-05-13\",\"2022-05-16\",\"2022-05-17\",\"2022-05-18\",\"2022-05-19\",\"2022-05-20\",\"2022-05-23\",\"2022-05-24\",\"2022-05-25\",\"2022-05-26\",\"2022-05-27\",\"2022-05-31\",\"2022-06-01\",\"2022-06-02\",\"2022-06-03\",\"2022-06-06\",\"2022-06-07\",\"2022-06-08\",\"2022-06-09\",\"2022-06-10\",\"2022-06-13\",\"2022-06-14\",\"2022-06-15\",\"2022-06-16\",\"2022-06-17\",\"2022-06-21\",\"2022-06-22\",\"2022-06-23\",\"2022-06-24\",\"2022-06-27\",\"2022-06-28\",\"2022-06-29\"],\"y\":[\"\",\"\",\"\",\"\",\"\",\"\",\"\",\"\",\"\",\"\",\"\",\"\",\"\",\"\",\"\",\"\",\"\",\"\",\"\",2720.8545165999994,2713.6585204999997,2717.2785156,2722.2755126999996,2727.7405151,2729.6740111999998,2730.3130126999995,2731.7485107499997,2728.7030151499994,2723.7020141999997,2719.2155152,2719.35051275,2721.1860107999996,2719.9880127499996,2720.36351325,2719.39401865,2720.24351815,2723.67701425,2729.0755128,2730.67701425,2729.14652105,2726.0195191000003,2712.2910157000006,2701.7625122500003,2685.2110108000006,2673.5515137000007,2668.2045166000007,2659.4335083000005,2651.3065063500007,2643.9175048500006,2638.2780029000005,2635.543005350001,2632.656005850001,2637.1490112000006,2643.1600097000005,2654.0350097000005,2664.9535155500007,2673.5920165000007,2680.5940184500005,2687.6530150500007,2696.735009700001,2704.6280029000004,2709.9695068000005,2718.5475097500007,2735.7255127000008,2749.5100098000007,2752.8200074000006,2756.6030152000008,2760.1380127500006,2763.1935059500006,2761.9075074000007,2758.5030030000007,2751.155505450001,2742.315002550001,2736.3675050000006,2724.3354981500006,2710.769494750001,2689.071496700001,2670.800000100001,2648.3560059500005,2620.1265015500007,2596.893505900001,2572.210510300001,2548.667504950001,2523.154504450001,2504.666503950001,2484.2369995500003,2463.431994650001,2442.5054932000007,2427.2934936500005,2412.8799927000005,2395.7549927000005,2385.0174927000003,2371.8489990500007,2358.0194946500005,2342.1750000500006,2327.9829956500007,2317.6819947000004,2306.0984986000003,2292.5184937500003,2283.3375001,2272.2219972,2270.0544923,2266.9364991,2262.9439942000004,2258.1149903000005,2255.9324951500007,2257.2829956500004,2261.4285034500003,2264.0820069000006,2265.0390137000004,2263.3055176000007,2253.6665161000005,2246.0680053500005,2239.7570068500004,2233.9920044000005,2231.1120117500004,2233.8140137000005,2234.1815064000007,2240.9400024500005,2253.6385010000004,2261.9650024500006,2261.7375000500006,2259.95499275],\"yaxis\":\"y2\",\"type\":\"scatter\"},{\"line\":{\"color\":\"rgba(0, 128, 0, 1.0)\",\"dash\":\"solid\",\"shape\":\"linear\",\"width\":1.3},\"mode\":\"lines\",\"name\":\" SMA(50)\",\"text\":\"\",\"x\":[\"2022-01-03\",\"2022-01-04\",\"2022-01-05\",\"2022-01-06\",\"2022-01-07\",\"2022-01-10\",\"2022-01-11\",\"2022-01-12\",\"2022-01-13\",\"2022-01-14\",\"2022-01-18\",\"2022-01-19\",\"2022-01-20\",\"2022-01-21\",\"2022-01-24\",\"2022-01-25\",\"2022-01-26\",\"2022-01-27\",\"2022-01-28\",\"2022-01-31\",\"2022-02-01\",\"2022-02-02\",\"2022-02-03\",\"2022-02-04\",\"2022-02-07\",\"2022-02-08\",\"2022-02-09\",\"2022-02-10\",\"2022-02-11\",\"2022-02-14\",\"2022-02-15\",\"2022-02-16\",\"2022-02-17\",\"2022-02-18\",\"2022-02-22\",\"2022-02-23\",\"2022-02-24\",\"2022-02-25\",\"2022-02-28\",\"2022-03-01\",\"2022-03-02\",\"2022-03-03\",\"2022-03-04\",\"2022-03-07\",\"2022-03-08\",\"2022-03-09\",\"2022-03-10\",\"2022-03-11\",\"2022-03-14\",\"2022-03-15\",\"2022-03-16\",\"2022-03-17\",\"2022-03-18\",\"2022-03-21\",\"2022-03-22\",\"2022-03-23\",\"2022-03-24\",\"2022-03-25\",\"2022-03-28\",\"2022-03-29\",\"2022-03-30\",\"2022-03-31\",\"2022-04-01\",\"2022-04-04\",\"2022-04-05\",\"2022-04-06\",\"2022-04-07\",\"2022-04-08\",\"2022-04-11\",\"2022-04-12\",\"2022-04-13\",\"2022-04-14\",\"2022-04-18\",\"2022-04-19\",\"2022-04-20\",\"2022-04-21\",\"2022-04-22\",\"2022-04-25\",\"2022-04-26\",\"2022-04-27\",\"2022-04-28\",\"2022-04-29\",\"2022-05-02\",\"2022-05-03\",\"2022-05-04\",\"2022-05-05\",\"2022-05-06\",\"2022-05-09\",\"2022-05-10\",\"2022-05-11\",\"2022-05-12\",\"2022-05-13\",\"2022-05-16\",\"2022-05-17\",\"2022-05-18\",\"2022-05-19\",\"2022-05-20\",\"2022-05-23\",\"2022-05-24\",\"2022-05-25\",\"2022-05-26\",\"2022-05-27\",\"2022-05-31\",\"2022-06-01\",\"2022-06-02\",\"2022-06-03\",\"2022-06-06\",\"2022-06-07\",\"2022-06-08\",\"2022-06-09\",\"2022-06-10\",\"2022-06-13\",\"2022-06-14\",\"2022-06-15\",\"2022-06-16\",\"2022-06-17\",\"2022-06-21\",\"2022-06-22\",\"2022-06-23\",\"2022-06-24\",\"2022-06-27\",\"2022-06-28\",\"2022-06-29\"],\"y\":[\"\",\"\",\"\",\"\",\"\",\"\",\"\",\"\",\"\",\"\",\"\",\"\",\"\",\"\",\"\",\"\",\"\",\"\",\"\",\"\",\"\",\"\",\"\",\"\",\"\",\"\",\"\",\"\",\"\",\"\",\"\",\"\",\"\",\"\",\"\",\"\",\"\",\"\",\"\",\"\",\"\",\"\",\"\",\"\",\"\",\"\",\"\",\"\",\"\",2703.340214839999,2698.7866162199994,2694.8602148599994,2694.519414079999,2694.0904150399992,2695.3996142599995,2695.3714160199993,2695.8892138599995,2695.8386132799997,2696.9662109399997,2698.351611339999,2700.8932080199993,2702.4922070399994,2705.3696093799995,2710.789809579999,2715.06621096,2719.24241214,2722.13241214,2724.0882129199995,2722.691010779999,2719.761411159999,2716.7244092199994,2708.4110107999995,2702.53521002,2697.5412109999997,2693.26420904,2687.55400884,2678.8184082399994,2672.677407259999,2666.8278076399997,2658.7160058799996,2651.91040528,2642.90200684,2636.84140626,2631.90620606,2629.17520508,2624.8398047,2618.0344043,2609.4602050800004,2601.3376025400003,2593.2547998200007,2584.6185986600003,2577.5016016000004,2570.56980474,2566.6646045400003,2560.71360358,2551.46540046,2542.1178028,2534.59420416,2526.2682032,2516.73980476,2506.58200202,2497.86140142,2488.75640142,2479.8197998600003,2470.8071973200003,2461.2313965400003,2451.5107959600005,2441.79399908,2431.9091992800004,2420.5764014200004,2408.08960454,2394.98040532,2381.5780029800003,2368.2772022000004,2354.50640142,2342.7822022,2333.0022022000003,2324.2116016200002,2317.3668018000003,2313.4322022,2307.9668018,2302.09419926,2295.8123975000003],\"yaxis\":\"y2\",\"type\":\"scatter\"},{\"legendgroup\":\"RSI(Close,14)\",\"line\":{\"color\":\"rgba(219, 64, 82, 1.0)\",\"dash\":\"solid\",\"shape\":\"linear\",\"width\":1.3},\"mode\":\"lines\",\"name\":\"RSI(Close,14)\",\"showlegend\":true,\"text\":\"\",\"x\":[\"2022-01-03\",\"2022-01-04\",\"2022-01-05\",\"2022-01-06\",\"2022-01-07\",\"2022-01-10\",\"2022-01-11\",\"2022-01-12\",\"2022-01-13\",\"2022-01-14\",\"2022-01-18\",\"2022-01-19\",\"2022-01-20\",\"2022-01-21\",\"2022-01-24\",\"2022-01-25\",\"2022-01-26\",\"2022-01-27\",\"2022-01-28\",\"2022-01-31\",\"2022-02-01\",\"2022-02-02\",\"2022-02-03\",\"2022-02-04\",\"2022-02-07\",\"2022-02-08\",\"2022-02-09\",\"2022-02-10\",\"2022-02-11\",\"2022-02-14\",\"2022-02-15\",\"2022-02-16\",\"2022-02-17\",\"2022-02-18\",\"2022-02-22\",\"2022-02-23\",\"2022-02-24\",\"2022-02-25\",\"2022-02-28\",\"2022-03-01\",\"2022-03-02\",\"2022-03-03\",\"2022-03-04\",\"2022-03-07\",\"2022-03-08\",\"2022-03-09\",\"2022-03-10\",\"2022-03-11\",\"2022-03-14\",\"2022-03-15\",\"2022-03-16\",\"2022-03-17\",\"2022-03-18\",\"2022-03-21\",\"2022-03-22\",\"2022-03-23\",\"2022-03-24\",\"2022-03-25\",\"2022-03-28\",\"2022-03-29\",\"2022-03-30\",\"2022-03-31\",\"2022-04-01\",\"2022-04-04\",\"2022-04-05\",\"2022-04-06\",\"2022-04-07\",\"2022-04-08\",\"2022-04-11\",\"2022-04-12\",\"2022-04-13\",\"2022-04-14\",\"2022-04-18\",\"2022-04-19\",\"2022-04-20\",\"2022-04-21\",\"2022-04-22\",\"2022-04-25\",\"2022-04-26\",\"2022-04-27\",\"2022-04-28\",\"2022-04-29\",\"2022-05-02\",\"2022-05-03\",\"2022-05-04\",\"2022-05-05\",\"2022-05-06\",\"2022-05-09\",\"2022-05-10\",\"2022-05-11\",\"2022-05-12\",\"2022-05-13\",\"2022-05-16\",\"2022-05-17\",\"2022-05-18\",\"2022-05-19\",\"2022-05-20\",\"2022-05-23\",\"2022-05-24\",\"2022-05-25\",\"2022-05-26\",\"2022-05-27\",\"2022-05-31\",\"2022-06-01\",\"2022-06-02\",\"2022-06-03\",\"2022-06-06\",\"2022-06-07\",\"2022-06-08\",\"2022-06-09\",\"2022-06-10\",\"2022-06-13\",\"2022-06-14\",\"2022-06-15\",\"2022-06-16\",\"2022-06-17\",\"2022-06-21\",\"2022-06-22\",\"2022-06-23\",\"2022-06-24\",\"2022-06-27\",\"2022-06-28\",\"2022-06-29\"],\"y\":[\"\",\"\",\"\",\"\",\"\",\"\",\"\",\"\",\"\",\"\",\"\",\"\",\"\",20.71497149698432,21.573394900010157,19.345283363543757,32.88580036898523,32.86373482401652,43.41754697290752,45.052218717185404,46.41046696627058,58.33518612940168,54.27211363022369,53.947904474596875,53.191024178122696,54.33000721158678,59.64042806893764,60.4678852936136,54.19018173140353,60.10524608152905,58.76333478709237,59.97425321758421,48.85799419037287,43.828900488910584,39.73053894366689,18.944651142056628,34.711920828905434,37.545610243588925,43.34463132995454,41.82387716982496,38.523055762067635,41.98442111782295,45.90235962331235,34.76086607966026,34.05224183166534,44.70595664185675,50.61820091695524,50.01307581126288,45.99696394536559,53.02150320404752,51.52763002865428,50.12519836731667,52.79471984446779,53.41987021879815,57.46837709824496,55.47337869529312,61.79748588248579,72.47246300313311,72.15201442824457,66.86071529102274,68.28016038202612,66.35994506652982,77.52820287651903,77.54857887163232,65.40655146468751,54.78655224216429,49.337952298119205,45.52004958706228,31.257149217349067,31.655677699222906,29.360569669342908,25.844369918405278,26.53954396805885,29.54093660927525,28.026197950182492,27.760992254252514,21.772434224569793,23.19844160314365,22.509440622221703,22.170999914727545,30.392191785677,29.06195072958191,35.45628718613031,38.0883241432317,41.533446271464484,39.131239661255094,37.373749748052404,32.09387974255394,35.74990109292261,37.87086662982958,42.07734448637776,41.67419227745854,43.866224521853916,52.34476097741119,40.19661398599649,43.59793745455338,37.82291311645289,40.37929046732331,26.13663155672998,31.286471313996884,37.93261404221943,49.56071767227927,49.152391279802,50.278016197758625,56.65225120883113,47.15437366220123,53.167386248444544,50.79225006886797,58.33075083475355,57.02549557245884,53.32955821039049,42.94570995978517,52.222367672025705,57.19230461567525,47.479964752791844,41.6839510745017,46.893038232239554,46.763913252645764,41.43120835223023,56.16965521302091,49.387529046042395,43.44072028780325,43.04521408549604],\"yaxis\":\"y3\",\"type\":\"scatter\"},{\"legendgroup\":\"RSI(Close,14)\",\"line\":{\"color\":\"red\",\"width\":1},\"mode\":\"lines\",\"name\":\"\",\"showlegend\":true,\"text\":\"\",\"x\":[\"2022-01-03\",\"2022-01-04\",\"2022-01-05\",\"2022-01-06\",\"2022-01-07\",\"2022-01-10\",\"2022-01-11\",\"2022-01-12\",\"2022-01-13\",\"2022-01-14\",\"2022-01-18\",\"2022-01-19\",\"2022-01-20\",\"2022-01-21\",\"2022-01-24\",\"2022-01-25\",\"2022-01-26\",\"2022-01-27\",\"2022-01-28\",\"2022-01-31\",\"2022-02-01\",\"2022-02-02\",\"2022-02-03\",\"2022-02-04\",\"2022-02-07\",\"2022-02-08\",\"2022-02-09\",\"2022-02-10\",\"2022-02-11\",\"2022-02-14\",\"2022-02-15\",\"2022-02-16\",\"2022-02-17\",\"2022-02-18\",\"2022-02-22\",\"2022-02-23\",\"2022-02-24\",\"2022-02-25\",\"2022-02-28\",\"2022-03-01\",\"2022-03-02\",\"2022-03-03\",\"2022-03-04\",\"2022-03-07\",\"2022-03-08\",\"2022-03-09\",\"2022-03-10\",\"2022-03-11\",\"2022-03-14\",\"2022-03-15\",\"2022-03-16\",\"2022-03-17\",\"2022-03-18\",\"2022-03-21\",\"2022-03-22\",\"2022-03-23\",\"2022-03-24\",\"2022-03-25\",\"2022-03-28\",\"2022-03-29\",\"2022-03-30\",\"2022-03-31\",\"2022-04-01\",\"2022-04-04\",\"2022-04-05\",\"2022-04-06\",\"2022-04-07\",\"2022-04-08\",\"2022-04-11\",\"2022-04-12\",\"2022-04-13\",\"2022-04-14\",\"2022-04-18\",\"2022-04-19\",\"2022-04-20\",\"2022-04-21\",\"2022-04-22\",\"2022-04-25\",\"2022-04-26\",\"2022-04-27\",\"2022-04-28\",\"2022-04-29\",\"2022-05-02\",\"2022-05-03\",\"2022-05-04\",\"2022-05-05\",\"2022-05-06\",\"2022-05-09\",\"2022-05-10\",\"2022-05-11\",\"2022-05-12\",\"2022-05-13\",\"2022-05-16\",\"2022-05-17\",\"2022-05-18\",\"2022-05-19\",\"2022-05-20\",\"2022-05-23\",\"2022-05-24\",\"2022-05-25\",\"2022-05-26\",\"2022-05-27\",\"2022-05-31\",\"2022-06-01\",\"2022-06-02\",\"2022-06-03\",\"2022-06-06\",\"2022-06-07\",\"2022-06-08\",\"2022-06-09\",\"2022-06-10\",\"2022-06-13\",\"2022-06-14\",\"2022-06-15\",\"2022-06-16\",\"2022-06-17\",\"2022-06-21\",\"2022-06-22\",\"2022-06-23\",\"2022-06-24\",\"2022-06-27\",\"2022-06-28\",\"2022-06-29\"],\"y\":[30,30,30,30,30,30,30,30,30,30,30,30,30,30,30,30,30,30,30,30,30,30,30,30,30,30,30,30,30,30,30,30,30,30,30,30,30,30,30,30,30,30,30,30,30,30,30,30,30,30,30,30,30,30,30,30,30,30,30,30,30,30,30,30,30,30,30,30,30,30,30,30,30,30,30,30,30,30,30,30,30,30,30,30,30,30,30,30,30,30,30,30,30,30,30,30,30,30,30,30,30,30,30,30,30,30,30,30,30,30,30,30,30,30,30,30,30,30,30,30,30,30,30],\"yaxis\":\"y3\",\"type\":\"scatter\"},{\"legendgroup\":\"RSI(Close,14)\",\"line\":{\"color\":\"green\",\"width\":1},\"mode\":\"lines\",\"name\":\"\",\"showlegend\":true,\"text\":\"\",\"x\":[\"2022-01-03\",\"2022-01-04\",\"2022-01-05\",\"2022-01-06\",\"2022-01-07\",\"2022-01-10\",\"2022-01-11\",\"2022-01-12\",\"2022-01-13\",\"2022-01-14\",\"2022-01-18\",\"2022-01-19\",\"2022-01-20\",\"2022-01-21\",\"2022-01-24\",\"2022-01-25\",\"2022-01-26\",\"2022-01-27\",\"2022-01-28\",\"2022-01-31\",\"2022-02-01\",\"2022-02-02\",\"2022-02-03\",\"2022-02-04\",\"2022-02-07\",\"2022-02-08\",\"2022-02-09\",\"2022-02-10\",\"2022-02-11\",\"2022-02-14\",\"2022-02-15\",\"2022-02-16\",\"2022-02-17\",\"2022-02-18\",\"2022-02-22\",\"2022-02-23\",\"2022-02-24\",\"2022-02-25\",\"2022-02-28\",\"2022-03-01\",\"2022-03-02\",\"2022-03-03\",\"2022-03-04\",\"2022-03-07\",\"2022-03-08\",\"2022-03-09\",\"2022-03-10\",\"2022-03-11\",\"2022-03-14\",\"2022-03-15\",\"2022-03-16\",\"2022-03-17\",\"2022-03-18\",\"2022-03-21\",\"2022-03-22\",\"2022-03-23\",\"2022-03-24\",\"2022-03-25\",\"2022-03-28\",\"2022-03-29\",\"2022-03-30\",\"2022-03-31\",\"2022-04-01\",\"2022-04-04\",\"2022-04-05\",\"2022-04-06\",\"2022-04-07\",\"2022-04-08\",\"2022-04-11\",\"2022-04-12\",\"2022-04-13\",\"2022-04-14\",\"2022-04-18\",\"2022-04-19\",\"2022-04-20\",\"2022-04-21\",\"2022-04-22\",\"2022-04-25\",\"2022-04-26\",\"2022-04-27\",\"2022-04-28\",\"2022-04-29\",\"2022-05-02\",\"2022-05-03\",\"2022-05-04\",\"2022-05-05\",\"2022-05-06\",\"2022-05-09\",\"2022-05-10\",\"2022-05-11\",\"2022-05-12\",\"2022-05-13\",\"2022-05-16\",\"2022-05-17\",\"2022-05-18\",\"2022-05-19\",\"2022-05-20\",\"2022-05-23\",\"2022-05-24\",\"2022-05-25\",\"2022-05-26\",\"2022-05-27\",\"2022-05-31\",\"2022-06-01\",\"2022-06-02\",\"2022-06-03\",\"2022-06-06\",\"2022-06-07\",\"2022-06-08\",\"2022-06-09\",\"2022-06-10\",\"2022-06-13\",\"2022-06-14\",\"2022-06-15\",\"2022-06-16\",\"2022-06-17\",\"2022-06-21\",\"2022-06-22\",\"2022-06-23\",\"2022-06-24\",\"2022-06-27\",\"2022-06-28\",\"2022-06-29\"],\"y\":[70,70,70,70,70,70,70,70,70,70,70,70,70,70,70,70,70,70,70,70,70,70,70,70,70,70,70,70,70,70,70,70,70,70,70,70,70,70,70,70,70,70,70,70,70,70,70,70,70,70,70,70,70,70,70,70,70,70,70,70,70,70,70,70,70,70,70,70,70,70,70,70,70,70,70,70,70,70,70,70,70,70,70,70,70,70,70,70,70,70,70,70,70,70,70,70,70,70,70,70,70,70,70,70,70,70,70,70,70,70,70,70,70,70,70,70,70,70,70,70,70,70,70],\"yaxis\":\"y3\",\"type\":\"scatter\"},{\"marker\":{\"color\":[\"#db4052\",\"#db4052\",\"#db4052\",\"#db4052\",\"#db4052\",\"#008000\",\"#008000\",\"#008000\",\"#db4052\",\"#008000\",\"#db4052\",\"#db4052\",\"#db4052\",\"#db4052\",\"#008000\",\"#db4052\",\"#008000\",\"#db4052\",\"#008000\",\"#008000\",\"#008000\",\"#008000\",\"#db4052\",\"#008000\",\"#db4052\",\"#008000\",\"#008000\",\"#db4052\",\"#db4052\",\"#008000\",\"#008000\",\"#008000\",\"#db4052\",\"#db4052\",\"#db4052\",\"#db4052\",\"#008000\",\"#008000\",\"#008000\",\"#db4052\",\"#008000\",\"#db4052\",\"#db4052\",\"#db4052\",\"#008000\",\"#008000\",\"#db4052\",\"#db4052\",\"#db4052\",\"#008000\",\"#008000\",\"#008000\",\"#008000\",\"#db4052\",\"#008000\",\"#db4052\",\"#008000\",\"#008000\",\"#008000\",\"#008000\",\"#db4052\",\"#db4052\",\"#008000\",\"#008000\",\"#db4052\",\"#db4052\",\"#db4052\",\"#db4052\",\"#db4052\",\"#db4052\",\"#008000\",\"#db4052\",\"#008000\",\"#008000\",\"#db4052\",\"#db4052\",\"#db4052\",\"#008000\",\"#db4052\",\"#db4052\",\"#008000\",\"#db4052\",\"#008000\",\"#008000\",\"#008000\",\"#db4052\",\"#db4052\",\"#db4052\",\"#008000\",\"#db4052\",\"#db4052\",\"#008000\",\"#db4052\",\"#008000\",\"#db4052\",\"#db4052\",\"#db4052\",\"#008000\",\"#db4052\",\"#db4052\",\"#008000\",\"#008000\",\"#008000\",\"#008000\",\"#008000\",\"#db4052\",\"#008000\",\"#008000\",\"#008000\",\"#db4052\",\"#db4052\",\"#db4052\",\"#008000\",\"#008000\",\"#db4052\",\"#008000\",\"#008000\",\"#008000\",\"#008000\",\"#008000\",\"#db4052\",\"#db4052\",\"#db4052\"],\"line\":{\"color\":[\"#db4052\",\"#db4052\",\"#db4052\",\"#db4052\",\"#db4052\",\"#008000\",\"#008000\",\"#008000\",\"#db4052\",\"#008000\",\"#db4052\",\"#db4052\",\"#db4052\",\"#db4052\",\"#008000\",\"#db4052\",\"#008000\",\"#db4052\",\"#008000\",\"#008000\",\"#008000\",\"#008000\",\"#db4052\",\"#008000\",\"#db4052\",\"#008000\",\"#008000\",\"#db4052\",\"#db4052\",\"#008000\",\"#008000\",\"#008000\",\"#db4052\",\"#db4052\",\"#db4052\",\"#db4052\",\"#008000\",\"#008000\",\"#008000\",\"#db4052\",\"#008000\",\"#db4052\",\"#db4052\",\"#db4052\",\"#008000\",\"#008000\",\"#db4052\",\"#db4052\",\"#db4052\",\"#008000\",\"#008000\",\"#008000\",\"#008000\",\"#db4052\",\"#008000\",\"#db4052\",\"#008000\",\"#008000\",\"#008000\",\"#008000\",\"#db4052\",\"#db4052\",\"#008000\",\"#008000\",\"#db4052\",\"#db4052\",\"#db4052\",\"#db4052\",\"#db4052\",\"#db4052\",\"#008000\",\"#db4052\",\"#008000\",\"#008000\",\"#db4052\",\"#db4052\",\"#db4052\",\"#008000\",\"#db4052\",\"#db4052\",\"#008000\",\"#db4052\",\"#008000\",\"#008000\",\"#008000\",\"#db4052\",\"#db4052\",\"#db4052\",\"#008000\",\"#db4052\",\"#db4052\",\"#008000\",\"#db4052\",\"#008000\",\"#db4052\",\"#db4052\",\"#db4052\",\"#008000\",\"#db4052\",\"#db4052\",\"#008000\",\"#008000\",\"#008000\",\"#008000\",\"#008000\",\"#db4052\",\"#008000\",\"#008000\",\"#008000\",\"#db4052\",\"#db4052\",\"#db4052\",\"#008000\",\"#008000\",\"#db4052\",\"#008000\",\"#008000\",\"#008000\",\"#008000\",\"#008000\",\"#db4052\",\"#db4052\",\"#db4052\"],\"width\":1}},\"name\":\"Volume\",\"opacity\":0.8,\"orientation\":\"v\",\"text\":\"\",\"x\":[\"2022-01-03\",\"2022-01-04\",\"2022-01-05\",\"2022-01-06\",\"2022-01-07\",\"2022-01-10\",\"2022-01-11\",\"2022-01-12\",\"2022-01-13\",\"2022-01-14\",\"2022-01-18\",\"2022-01-19\",\"2022-01-20\",\"2022-01-21\",\"2022-01-24\",\"2022-01-25\",\"2022-01-26\",\"2022-01-27\",\"2022-01-28\",\"2022-01-31\",\"2022-02-01\",\"2022-02-02\",\"2022-02-03\",\"2022-02-04\",\"2022-02-07\",\"2022-02-08\",\"2022-02-09\",\"2022-02-10\",\"2022-02-11\",\"2022-02-14\",\"2022-02-15\",\"2022-02-16\",\"2022-02-17\",\"2022-02-18\",\"2022-02-22\",\"2022-02-23\",\"2022-02-24\",\"2022-02-25\",\"2022-02-28\",\"2022-03-01\",\"2022-03-02\",\"2022-03-03\",\"2022-03-04\",\"2022-03-07\",\"2022-03-08\",\"2022-03-09\",\"2022-03-10\",\"2022-03-11\",\"2022-03-14\",\"2022-03-15\",\"2022-03-16\",\"2022-03-17\",\"2022-03-18\",\"2022-03-21\",\"2022-03-22\",\"2022-03-23\",\"2022-03-24\",\"2022-03-25\",\"2022-03-28\",\"2022-03-29\",\"2022-03-30\",\"2022-03-31\",\"2022-04-01\",\"2022-04-04\",\"2022-04-05\",\"2022-04-06\",\"2022-04-07\",\"2022-04-08\",\"2022-04-11\",\"2022-04-12\",\"2022-04-13\",\"2022-04-14\",\"2022-04-18\",\"2022-04-19\",\"2022-04-20\",\"2022-04-21\",\"2022-04-22\",\"2022-04-25\",\"2022-04-26\",\"2022-04-27\",\"2022-04-28\",\"2022-04-29\",\"2022-05-02\",\"2022-05-03\",\"2022-05-04\",\"2022-05-05\",\"2022-05-06\",\"2022-05-09\",\"2022-05-10\",\"2022-05-11\",\"2022-05-12\",\"2022-05-13\",\"2022-05-16\",\"2022-05-17\",\"2022-05-18\",\"2022-05-19\",\"2022-05-20\",\"2022-05-23\",\"2022-05-24\",\"2022-05-25\",\"2022-05-26\",\"2022-05-27\",\"2022-05-31\",\"2022-06-01\",\"2022-06-02\",\"2022-06-03\",\"2022-06-06\",\"2022-06-07\",\"2022-06-08\",\"2022-06-09\",\"2022-06-10\",\"2022-06-13\",\"2022-06-14\",\"2022-06-15\",\"2022-06-16\",\"2022-06-17\",\"2022-06-21\",\"2022-06-22\",\"2022-06-23\",\"2022-06-24\",\"2022-06-27\",\"2022-06-28\",\"2022-06-29\"],\"y\":[1260700,1146400,2482100,1452500,970400,1704800,1175100,1182100,1328300,1191300,1369100,1039800,1096500,2096000,2757400,1800400,1981500,1512400,1525900,1702800,2560200,4487500,2846500,2461200,2230500,1712800,1431400,1650900,1940400,1339600,1328900,1280500,1548400,1592900,1945300,1321600,2158300,1311800,1483800,1232000,1198300,989000,1222300,1958900,1762500,1612900,1213300,1330000,1512700,1514600,1602900,1199700,2295000,1331600,1488800,1265100,1027200,963500,1188700,1433900,1052300,1475800,1174000,953800,962800,1178700,972400,821700,1209400,1150200,977100,1174200,745900,1136000,1130500,1507900,2320500,1726100,2469700,3111900,1839500,1684700,1514000,1060800,1661600,2154500,1765500,1726000,1557900,1825100,2073200,1486900,1164100,1078800,1399100,1459600,1879300,1577900,3019300,1895000,1514400,1496200,2565100,1431500,1373600,1252600,1189300,1320700,1127200,1157100,1566200,1837800,1274000,1659600,1765700,2163500,1950500,1196100,1235500,1954700,1642000,1411600,931400],\"yaxis\":\"y4\",\"type\":\"bar\"},{\"close\":[2901.48999,2888.330078,2753.070068,2751.02002,2740.090088,2771.47998,2800.350098,2832.959961,2782.6201170000004,2795.72998,2725.810059,2713.040039,2670.1298829999996,2601.840088,2607.439941,2534.709961,2584.800049,2582.419922,2665.790039,2713.969971,2757.570068,2960.72998,2853.01001,2860.320068,2778.76001,2784.26001,2829.060059,2772.050049,2682.600098,2706.0,2728.51001,2749.75,2646.169922,2609.350098,2588.050049,2551.699951,2653.469971,2690.389893,2697.820068,2683.360107,2695.030029,2686.159912,2642.439941,2529.290039,2545.570068,2677.320068,2653.639893,2609.51001,2534.820068,2593.209961,2673.810059,2692.01001,2736.030029,2729.570068,2805.550049,2770.070068,2826.23999,2830.429932,2839.0,2865.0,2852.889893,2792.98999,2814.0,2872.850098,2821.26001,2743.52002,2729.300049,2680.209961,2595.929932,2567.48999,2605.719971,2545.060059,2559.219971,2610.6201170000004,2564.909912,2498.75,2392.280029,2465.0,2390.1201170000004,2300.409912,2388.22998,2299.330078,2343.139893,2362.590088,2451.5,2334.929932,2313.199951,2261.679932,2291.689941,2279.219971,2263.219971,2330.310059,2295.850098,2334.030029,2248.02002,2214.909912,2186.26001,2233.330078,2118.52002,2116.790039,2165.919922,2255.97998,2280.780029,2282.73999,2354.919922,2291.280029,2340.209961,2344.590088,2344.76001,2298.360107,2228.550049,2137.530029,2143.8798829999996,2207.810059,2132.719971,2157.310059,2240.300049,2240.679932,2253.689941,2370.76001,2332.449951,2251.429932,2245.1298829999996],\"decreasing\":{\"line\":{\"color\":\"#db4052\"}},\"high\":[2911.0,2932.199951,2885.959961,2793.719971,2765.094971,2772.800049,2806.590088,2856.284912,2863.709961,2824.01001,2747.830078,2767.98999,2758.23999,2695.209961,2615.570068,2586.77002,2656.149902,2652.198975,2667.409912,2716.8701170000004,2764.0,3042.0,2982.354004,2890.705078,2876.929932,2796.741943,2843.51001,2828.6201170000004,2785.665039,2723.330078,2758.0,2758.919922,2736.790039,2676.47998,2638.014893,2634.97998,2660.73999,2707.780029,2712.810059,2722.219971,2712.310059,2734.275879,2683.97998,2638.080078,2624.929932,2683.969971,2670.77002,2684.0,2620.52002,2610.344971,2675.419922,2694.790039,2738.27002,2751.649902,2830.0,2800.5,2827.929932,2839.189941,2839.530029,2883.25,2869.610107,2852.889893,2819.0,2880.875,2871.800049,2796.969971,2754.030029,2725.0,2658.783936,2648.469971,2613.11499,2614.205078,2574.23999,2618.074951,2638.469971,2606.149902,2509.040039,2465.560059,2455.0,2350.0,2408.77002,2379.199951,2346.790039,2386.0,2462.860107,2424.665039,2349.969971,2311.258057,2333.820068,2333.419922,2297.1298829999996,2361.699951,2332.149902,2344.550049,2313.913086,2271.75,2251.0,2240.110107,2127.899902,2130.894043,2179.10498,2257.360107,2328.669922,2347.97998,2357.959961,2327.290039,2387.969971,2354.9729,2372.919922,2367.0,2269.939941,2184.3701170000004,2169.149902,2241.26001,2185.810059,2184.98999,2253.459961,2275.389893,2263.929932,2372.75,2385.0,2357.1298829999996,2273.290039],\"increasing\":{\"line\":{\"color\":\"#008000\"}},\"low\":[2870.050049,2876.322998,2750.469971,2735.27002,2715.780029,2662.810059,2736.27002,2822.23999,2778.280029,2750.0,2712.340088,2710.0,2662.889893,2600.02002,2492.839111,2527.560059,2543.070068,2578.899902,2573.889893,2645.47998,2691.36499,2911.149902,2844.100098,2796.350098,2773.97998,2737.459961,2807.540039,2761.0,2665.77002,2666.040039,2710.790039,2696.4729,2644.040039,2606.1411129999997,2554.820068,2550.070068,2495.290039,2635.300049,2656.5048829999996,2667.570068,2668.649902,2668.6201170000004,2608.169922,2528.199951,2517.215088,2601.76001,2628.02002,2605.929932,2528.26001,2531.360107,2584.02002,2654.3798829999996,2658.639893,2692.22998,2730.0,2763.330078,2760.788086,2793.98999,2796.5629879999997,2849.679932,2843.360107,2792.3798829999996,2775.939941,2816.48999,2818.8701170000004,2728.362061,2697.14502,2675.050049,2592.350098,2551.52002,2568.771973,2542.22998,2531.569092,2549.030029,2557.881104,2493.0,2382.810059,2375.38501,2383.237061,2262.485107,2302.87793,2293.8798829999996,2267.98999,2332.540039,2314.77002,2303.649902,2282.860107,2251.030029,2267.666016,2273.0,2202.27002,2280.0,2286.699951,2306.75,2242.840088,2209.360107,2127.459961,2183.084961,2044.160034,2084.225098,2109.76001,2191.0,2251.449951,2271.01001,2266.159912,2273.360107,2330.565918,2302.51001,2333.935059,2297.340088,2217.219971,2131.760986,2127.040039,2162.375,2115.850098,2112.571045,2185.8701170000004,2214.486084,2220.580078,2272.060059,2320.014893,2248.8798829999996,2231.080078],\"name\":\"GOOG\",\"open\":[2889.51001,2911.01001,2883.6201170000004,2749.949951,2758.100098,2701.97998,2763.610107,2831.090088,2836.810059,2750.0,2732.0,2738.77002,2730.280029,2660.23999,2520.550049,2568.709961,2611.850098,2627.219971,2600.0,2683.959961,2756.699951,3037.27002,2905.899902,2860.340088,2874.179932,2779.824951,2816.9951170000004,2790.0,2775.0,2667.310059,2749.429932,2728.610107,2723.0,2660.75,2599.699951,2621.570068,2500.0,2670.51001,2665.689941,2689.600098,2692.165039,2719.570068,2667.649902,2638.080078,2525.01001,2628.0,2629.25,2679.98999,2611.459961,2554.830078,2620.0,2666.419922,2677.679932,2736.949951,2730.0,2782.77002,2785.449951,2835.080078,2813.689941,2863.209961,2857.399902,2848.969971,2800.199951,2816.48999,2867.98999,2783.22998,2732.360107,2725.0,2658.0,2648.469971,2572.530029,2612.98999,2548.199951,2561.540039,2625.679932,2587.0,2500.0,2388.590088,2455.0,2287.459961,2342.300049,2351.560059,2278.1298829999996,2335.300049,2360.070068,2404.409912,2310.3798829999996,2266.070068,2320.810059,2274.209961,2238.76001,2296.909912,2307.679932,2344.550049,2304.75,2236.820068,2241.709961,2202.080078,2127.550049,2102.840088,2121.01001,2195.77002,2261.580078,2298.6298829999996,2283.76001,2319.850098,2334.850098,2312.959961,2337.530029,2326.830078,2255.625,2148.919922,2137.800049,2177.98999,2162.98999,2130.699951,2194.040039,2223.26001,2259.0,2272.060059,2378.699951,2327.02002,2242.969971],\"showlegend\":true,\"x\":[\"2022-01-03\",\"2022-01-04\",\"2022-01-05\",\"2022-01-06\",\"2022-01-07\",\"2022-01-10\",\"2022-01-11\",\"2022-01-12\",\"2022-01-13\",\"2022-01-14\",\"2022-01-18\",\"2022-01-19\",\"2022-01-20\",\"2022-01-21\",\"2022-01-24\",\"2022-01-25\",\"2022-01-26\",\"2022-01-27\",\"2022-01-28\",\"2022-01-31\",\"2022-02-01\",\"2022-02-02\",\"2022-02-03\",\"2022-02-04\",\"2022-02-07\",\"2022-02-08\",\"2022-02-09\",\"2022-02-10\",\"2022-02-11\",\"2022-02-14\",\"2022-02-15\",\"2022-02-16\",\"2022-02-17\",\"2022-02-18\",\"2022-02-22\",\"2022-02-23\",\"2022-02-24\",\"2022-02-25\",\"2022-02-28\",\"2022-03-01\",\"2022-03-02\",\"2022-03-03\",\"2022-03-04\",\"2022-03-07\",\"2022-03-08\",\"2022-03-09\",\"2022-03-10\",\"2022-03-11\",\"2022-03-14\",\"2022-03-15\",\"2022-03-16\",\"2022-03-17\",\"2022-03-18\",\"2022-03-21\",\"2022-03-22\",\"2022-03-23\",\"2022-03-24\",\"2022-03-25\",\"2022-03-28\",\"2022-03-29\",\"2022-03-30\",\"2022-03-31\",\"2022-04-01\",\"2022-04-04\",\"2022-04-05\",\"2022-04-06\",\"2022-04-07\",\"2022-04-08\",\"2022-04-11\",\"2022-04-12\",\"2022-04-13\",\"2022-04-14\",\"2022-04-18\",\"2022-04-19\",\"2022-04-20\",\"2022-04-21\",\"2022-04-22\",\"2022-04-25\",\"2022-04-26\",\"2022-04-27\",\"2022-04-28\",\"2022-04-29\",\"2022-05-02\",\"2022-05-03\",\"2022-05-04\",\"2022-05-05\",\"2022-05-06\",\"2022-05-09\",\"2022-05-10\",\"2022-05-11\",\"2022-05-12\",\"2022-05-13\",\"2022-05-16\",\"2022-05-17\",\"2022-05-18\",\"2022-05-19\",\"2022-05-20\",\"2022-05-23\",\"2022-05-24\",\"2022-05-25\",\"2022-05-26\",\"2022-05-27\",\"2022-05-31\",\"2022-06-01\",\"2022-06-02\",\"2022-06-03\",\"2022-06-06\",\"2022-06-07\",\"2022-06-08\",\"2022-06-09\",\"2022-06-10\",\"2022-06-13\",\"2022-06-14\",\"2022-06-15\",\"2022-06-16\",\"2022-06-17\",\"2022-06-21\",\"2022-06-22\",\"2022-06-23\",\"2022-06-24\",\"2022-06-27\",\"2022-06-28\",\"2022-06-29\"],\"yaxis\":\"y2\",\"type\":\"candlestick\"}],                        {\"legend\":{\"bgcolor\":\"#F5F6F9\",\"font\":{\"color\":\"#4D5663\"}},\"margin\":{\"b\":30,\"l\":30,\"r\":30,\"t\":30},\"paper_bgcolor\":\"#F5F6F9\",\"plot_bgcolor\":\"#F5F6F9\",\"showlegend\":true,\"template\":{\"data\":{\"barpolar\":[{\"marker\":{\"line\":{\"color\":\"#E5ECF6\",\"width\":0.5},\"pattern\":{\"fillmode\":\"overlay\",\"size\":10,\"solidity\":0.2}},\"type\":\"barpolar\"}],\"bar\":[{\"error_x\":{\"color\":\"#2a3f5f\"},\"error_y\":{\"color\":\"#2a3f5f\"},\"marker\":{\"line\":{\"color\":\"#E5ECF6\",\"width\":0.5},\"pattern\":{\"fillmode\":\"overlay\",\"size\":10,\"solidity\":0.2}},\"type\":\"bar\"}],\"carpet\":[{\"aaxis\":{\"endlinecolor\":\"#2a3f5f\",\"gridcolor\":\"white\",\"linecolor\":\"white\",\"minorgridcolor\":\"white\",\"startlinecolor\":\"#2a3f5f\"},\"baxis\":{\"endlinecolor\":\"#2a3f5f\",\"gridcolor\":\"white\",\"linecolor\":\"white\",\"minorgridcolor\":\"white\",\"startlinecolor\":\"#2a3f5f\"},\"type\":\"carpet\"}],\"choropleth\":[{\"colorbar\":{\"outlinewidth\":0,\"ticks\":\"\"},\"type\":\"choropleth\"}],\"contourcarpet\":[{\"colorbar\":{\"outlinewidth\":0,\"ticks\":\"\"},\"type\":\"contourcarpet\"}],\"contour\":[{\"colorbar\":{\"outlinewidth\":0,\"ticks\":\"\"},\"colorscale\":[[0.0,\"#0d0887\"],[0.1111111111111111,\"#46039f\"],[0.2222222222222222,\"#7201a8\"],[0.3333333333333333,\"#9c179e\"],[0.4444444444444444,\"#bd3786\"],[0.5555555555555556,\"#d8576b\"],[0.6666666666666666,\"#ed7953\"],[0.7777777777777778,\"#fb9f3a\"],[0.8888888888888888,\"#fdca26\"],[1.0,\"#f0f921\"]],\"type\":\"contour\"}],\"heatmapgl\":[{\"colorbar\":{\"outlinewidth\":0,\"ticks\":\"\"},\"colorscale\":[[0.0,\"#0d0887\"],[0.1111111111111111,\"#46039f\"],[0.2222222222222222,\"#7201a8\"],[0.3333333333333333,\"#9c179e\"],[0.4444444444444444,\"#bd3786\"],[0.5555555555555556,\"#d8576b\"],[0.6666666666666666,\"#ed7953\"],[0.7777777777777778,\"#fb9f3a\"],[0.8888888888888888,\"#fdca26\"],[1.0,\"#f0f921\"]],\"type\":\"heatmapgl\"}],\"heatmap\":[{\"colorbar\":{\"outlinewidth\":0,\"ticks\":\"\"},\"colorscale\":[[0.0,\"#0d0887\"],[0.1111111111111111,\"#46039f\"],[0.2222222222222222,\"#7201a8\"],[0.3333333333333333,\"#9c179e\"],[0.4444444444444444,\"#bd3786\"],[0.5555555555555556,\"#d8576b\"],[0.6666666666666666,\"#ed7953\"],[0.7777777777777778,\"#fb9f3a\"],[0.8888888888888888,\"#fdca26\"],[1.0,\"#f0f921\"]],\"type\":\"heatmap\"}],\"histogram2dcontour\":[{\"colorbar\":{\"outlinewidth\":0,\"ticks\":\"\"},\"colorscale\":[[0.0,\"#0d0887\"],[0.1111111111111111,\"#46039f\"],[0.2222222222222222,\"#7201a8\"],[0.3333333333333333,\"#9c179e\"],[0.4444444444444444,\"#bd3786\"],[0.5555555555555556,\"#d8576b\"],[0.6666666666666666,\"#ed7953\"],[0.7777777777777778,\"#fb9f3a\"],[0.8888888888888888,\"#fdca26\"],[1.0,\"#f0f921\"]],\"type\":\"histogram2dcontour\"}],\"histogram2d\":[{\"colorbar\":{\"outlinewidth\":0,\"ticks\":\"\"},\"colorscale\":[[0.0,\"#0d0887\"],[0.1111111111111111,\"#46039f\"],[0.2222222222222222,\"#7201a8\"],[0.3333333333333333,\"#9c179e\"],[0.4444444444444444,\"#bd3786\"],[0.5555555555555556,\"#d8576b\"],[0.6666666666666666,\"#ed7953\"],[0.7777777777777778,\"#fb9f3a\"],[0.8888888888888888,\"#fdca26\"],[1.0,\"#f0f921\"]],\"type\":\"histogram2d\"}],\"histogram\":[{\"marker\":{\"pattern\":{\"fillmode\":\"overlay\",\"size\":10,\"solidity\":0.2}},\"type\":\"histogram\"}],\"mesh3d\":[{\"colorbar\":{\"outlinewidth\":0,\"ticks\":\"\"},\"type\":\"mesh3d\"}],\"parcoords\":[{\"line\":{\"colorbar\":{\"outlinewidth\":0,\"ticks\":\"\"}},\"type\":\"parcoords\"}],\"pie\":[{\"automargin\":true,\"type\":\"pie\"}],\"scatter3d\":[{\"line\":{\"colorbar\":{\"outlinewidth\":0,\"ticks\":\"\"}},\"marker\":{\"colorbar\":{\"outlinewidth\":0,\"ticks\":\"\"}},\"type\":\"scatter3d\"}],\"scattercarpet\":[{\"marker\":{\"colorbar\":{\"outlinewidth\":0,\"ticks\":\"\"}},\"type\":\"scattercarpet\"}],\"scattergeo\":[{\"marker\":{\"colorbar\":{\"outlinewidth\":0,\"ticks\":\"\"}},\"type\":\"scattergeo\"}],\"scattergl\":[{\"marker\":{\"colorbar\":{\"outlinewidth\":0,\"ticks\":\"\"}},\"type\":\"scattergl\"}],\"scattermapbox\":[{\"marker\":{\"colorbar\":{\"outlinewidth\":0,\"ticks\":\"\"}},\"type\":\"scattermapbox\"}],\"scatterpolargl\":[{\"marker\":{\"colorbar\":{\"outlinewidth\":0,\"ticks\":\"\"}},\"type\":\"scatterpolargl\"}],\"scatterpolar\":[{\"marker\":{\"colorbar\":{\"outlinewidth\":0,\"ticks\":\"\"}},\"type\":\"scatterpolar\"}],\"scatter\":[{\"fillpattern\":{\"fillmode\":\"overlay\",\"size\":10,\"solidity\":0.2},\"type\":\"scatter\"}],\"scatterternary\":[{\"marker\":{\"colorbar\":{\"outlinewidth\":0,\"ticks\":\"\"}},\"type\":\"scatterternary\"}],\"surface\":[{\"colorbar\":{\"outlinewidth\":0,\"ticks\":\"\"},\"colorscale\":[[0.0,\"#0d0887\"],[0.1111111111111111,\"#46039f\"],[0.2222222222222222,\"#7201a8\"],[0.3333333333333333,\"#9c179e\"],[0.4444444444444444,\"#bd3786\"],[0.5555555555555556,\"#d8576b\"],[0.6666666666666666,\"#ed7953\"],[0.7777777777777778,\"#fb9f3a\"],[0.8888888888888888,\"#fdca26\"],[1.0,\"#f0f921\"]],\"type\":\"surface\"}],\"table\":[{\"cells\":{\"fill\":{\"color\":\"#EBF0F8\"},\"line\":{\"color\":\"white\"}},\"header\":{\"fill\":{\"color\":\"#C8D4E3\"},\"line\":{\"color\":\"white\"}},\"type\":\"table\"}]},\"layout\":{\"annotationdefaults\":{\"arrowcolor\":\"#2a3f5f\",\"arrowhead\":0,\"arrowwidth\":1},\"autotypenumbers\":\"strict\",\"coloraxis\":{\"colorbar\":{\"outlinewidth\":0,\"ticks\":\"\"}},\"colorscale\":{\"diverging\":[[0,\"#8e0152\"],[0.1,\"#c51b7d\"],[0.2,\"#de77ae\"],[0.3,\"#f1b6da\"],[0.4,\"#fde0ef\"],[0.5,\"#f7f7f7\"],[0.6,\"#e6f5d0\"],[0.7,\"#b8e186\"],[0.8,\"#7fbc41\"],[0.9,\"#4d9221\"],[1,\"#276419\"]],\"sequential\":[[0.0,\"#0d0887\"],[0.1111111111111111,\"#46039f\"],[0.2222222222222222,\"#7201a8\"],[0.3333333333333333,\"#9c179e\"],[0.4444444444444444,\"#bd3786\"],[0.5555555555555556,\"#d8576b\"],[0.6666666666666666,\"#ed7953\"],[0.7777777777777778,\"#fb9f3a\"],[0.8888888888888888,\"#fdca26\"],[1.0,\"#f0f921\"]],\"sequentialminus\":[[0.0,\"#0d0887\"],[0.1111111111111111,\"#46039f\"],[0.2222222222222222,\"#7201a8\"],[0.3333333333333333,\"#9c179e\"],[0.4444444444444444,\"#bd3786\"],[0.5555555555555556,\"#d8576b\"],[0.6666666666666666,\"#ed7953\"],[0.7777777777777778,\"#fb9f3a\"],[0.8888888888888888,\"#fdca26\"],[1.0,\"#f0f921\"]]},\"colorway\":[\"#636efa\",\"#EF553B\",\"#00cc96\",\"#ab63fa\",\"#FFA15A\",\"#19d3f3\",\"#FF6692\",\"#B6E880\",\"#FF97FF\",\"#FECB52\"],\"font\":{\"color\":\"#2a3f5f\"},\"geo\":{\"bgcolor\":\"white\",\"lakecolor\":\"white\",\"landcolor\":\"#E5ECF6\",\"showlakes\":true,\"showland\":true,\"subunitcolor\":\"white\"},\"hoverlabel\":{\"align\":\"left\"},\"hovermode\":\"closest\",\"mapbox\":{\"style\":\"light\"},\"paper_bgcolor\":\"white\",\"plot_bgcolor\":\"#E5ECF6\",\"polar\":{\"angularaxis\":{\"gridcolor\":\"white\",\"linecolor\":\"white\",\"ticks\":\"\"},\"bgcolor\":\"#E5ECF6\",\"radialaxis\":{\"gridcolor\":\"white\",\"linecolor\":\"white\",\"ticks\":\"\"}},\"scene\":{\"xaxis\":{\"backgroundcolor\":\"#E5ECF6\",\"gridcolor\":\"white\",\"gridwidth\":2,\"linecolor\":\"white\",\"showbackground\":true,\"ticks\":\"\",\"zerolinecolor\":\"white\"},\"yaxis\":{\"backgroundcolor\":\"#E5ECF6\",\"gridcolor\":\"white\",\"gridwidth\":2,\"linecolor\":\"white\",\"showbackground\":true,\"ticks\":\"\",\"zerolinecolor\":\"white\"},\"zaxis\":{\"backgroundcolor\":\"#E5ECF6\",\"gridcolor\":\"white\",\"gridwidth\":2,\"linecolor\":\"white\",\"showbackground\":true,\"ticks\":\"\",\"zerolinecolor\":\"white\"}},\"shapedefaults\":{\"line\":{\"color\":\"#2a3f5f\"}},\"ternary\":{\"aaxis\":{\"gridcolor\":\"white\",\"linecolor\":\"white\",\"ticks\":\"\"},\"baxis\":{\"gridcolor\":\"white\",\"linecolor\":\"white\",\"ticks\":\"\"},\"bgcolor\":\"#E5ECF6\",\"caxis\":{\"gridcolor\":\"white\",\"linecolor\":\"white\",\"ticks\":\"\"}},\"title\":{\"x\":0.05},\"xaxis\":{\"automargin\":true,\"gridcolor\":\"white\",\"linecolor\":\"white\",\"ticks\":\"\",\"title\":{\"standoff\":15},\"zerolinecolor\":\"white\",\"zerolinewidth\":2},\"yaxis\":{\"automargin\":true,\"gridcolor\":\"white\",\"linecolor\":\"white\",\"ticks\":\"\",\"title\":{\"standoff\":15},\"zerolinecolor\":\"white\",\"zerolinewidth\":2}}},\"title\":{\"font\":{\"color\":\"#4D5663\"},\"text\":\"GOOG 2022\"},\"xaxis\":{\"anchor\":\"y2\",\"gridcolor\":\"#E1E5ED\",\"rangeselector\":{\"bgcolor\":\"rgba(150, 200, 250, 1)\",\"buttons\":[{\"count\":1,\"label\":\"1m\",\"step\":\"month\",\"stepmode\":\"backward\"},{\"count\":1,\"label\":\"1y\",\"step\":\"year\",\"stepmode\":\"backward\"}],\"font\":{\"size\":13},\"visible\":false,\"x\":0,\"y\":0.9},\"rangeslider\":{\"visible\":false},\"showgrid\":true,\"tickfont\":{\"color\":\"#4D5663\"},\"title\":{\"font\":{\"color\":\"#4D5663\"},\"text\":\"\"},\"zerolinecolor\":\"#E1E5ED\"},\"yaxis\":{\"gridcolor\":\"#E1E5ED\",\"showgrid\":true,\"showticklabels\":false,\"tickfont\":{\"color\":\"#4D5663\"},\"title\":{\"font\":{\"color\":\"#4D5663\"},\"text\":\"\"},\"zerolinecolor\":\"#E1E5ED\"},\"yaxis2\":{\"domain\":[0.46,0.9],\"gridcolor\":\"#E1E5ED\",\"showgrid\":true,\"tickfont\":{\"color\":\"#4D5663\"},\"title\":{\"font\":{\"color\":\"#4D5663\"},\"text\":\"\"},\"zerolinecolor\":\"#E1E5ED\"},\"yaxis3\":{\"domain\":[0.23,0.38],\"gridcolor\":\"#E1E5ED\",\"showgrid\":true,\"tickfont\":{\"color\":\"#4D5663\"},\"title\":{\"font\":{\"color\":\"#4D5663\"},\"text\":\"\"},\"zerolinecolor\":\"#E1E5ED\"},\"yaxis4\":{\"domain\":[0.0,0.15],\"gridcolor\":\"#E1E5ED\",\"showgrid\":true,\"tickfont\":{\"color\":\"#4D5663\"},\"title\":{\"font\":{\"color\":\"#4D5663\"},\"text\":\"\"},\"zerolinecolor\":\"#E1E5ED\"}},                        {\"showLink\": true, \"linkText\": \"Export to plot.ly\", \"plotlyServerURL\": \"https://plot.ly\", \"responsive\": true}                    ).then(function(){\n",
       "                            \n",
       "var gd = document.getElementById('bde75f3e-d186-4f94-9a3c-d537df5d165d');\n",
       "var x = new MutationObserver(function (mutations, observer) {{\n",
       "        var display = window.getComputedStyle(gd).display;\n",
       "        if (!display || display === 'none') {{\n",
       "            console.log([gd, 'removed!']);\n",
       "            Plotly.purge(gd);\n",
       "            observer.disconnect();\n",
       "        }}\n",
       "}});\n",
       "\n",
       "// Listen for the removal of the full notebook cells\n",
       "var notebookContainer = gd.closest('#notebook-container');\n",
       "if (notebookContainer) {{\n",
       "    x.observe(notebookContainer, {childList: true});\n",
       "}}\n",
       "\n",
       "// Listen for the clearing of the current output cell\n",
       "var outputEl = gd.closest('.output');\n",
       "if (outputEl) {{\n",
       "    x.observe(outputEl, {childList: true});\n",
       "}}\n",
       "\n",
       "                        })                };                });            </script>        </div>"
      ]
     },
     "metadata": {},
     "output_type": "display_data"
    }
   ],
   "source": [
    "# simplified example\n",
    "\n",
    "qf = cf.QuantFig(df, title='GOOG 2022', name='GOOG',\n",
    "                up_color = 'green',\n",
    "                down_color = 'red')\n",
    "\n",
    "# add a 14-day moving average\n",
    "qf.add_sma(periods = [20, 50], column = 'Close', color = ['blue', 'green'])\n",
    "\n",
    "qf.add_rsi(periods = 14, color = 'red')\n",
    "qf.add_volume()\n",
    "\n",
    "qf.iplot()"
   ]
  },
  {
   "cell_type": "code",
   "execution_count": 114,
   "metadata": {},
   "outputs": [
    {
     "data": {
      "application/vnd.plotly.v1+json": {
       "config": {
        "linkText": "Export to plot.ly",
        "plotlyServerURL": "https://plot.ly",
        "showLink": true
       },
       "data": [
        {
         "legendgroup": "RSI(Close,14)",
         "line": {
          "color": "rgba(219, 64, 82, 1.0)",
          "dash": "solid",
          "shape": "linear",
          "width": 1.3
         },
         "mode": "lines",
         "name": "RSI(Close,14)",
         "showlegend": true,
         "text": "",
         "type": "scatter",
         "x": [
          "2022-01-03",
          "2022-01-04",
          "2022-01-05",
          "2022-01-06",
          "2022-01-07",
          "2022-01-10",
          "2022-01-11",
          "2022-01-12",
          "2022-01-13",
          "2022-01-14",
          "2022-01-18",
          "2022-01-19",
          "2022-01-20",
          "2022-01-21",
          "2022-01-24",
          "2022-01-25",
          "2022-01-26",
          "2022-01-27",
          "2022-01-28",
          "2022-01-31",
          "2022-02-01",
          "2022-02-02",
          "2022-02-03",
          "2022-02-04",
          "2022-02-07",
          "2022-02-08",
          "2022-02-09",
          "2022-02-10",
          "2022-02-11",
          "2022-02-14",
          "2022-02-15",
          "2022-02-16",
          "2022-02-17",
          "2022-02-18",
          "2022-02-22",
          "2022-02-23",
          "2022-02-24",
          "2022-02-25",
          "2022-02-28",
          "2022-03-01",
          "2022-03-02",
          "2022-03-03",
          "2022-03-04",
          "2022-03-07",
          "2022-03-08",
          "2022-03-09",
          "2022-03-10",
          "2022-03-11",
          "2022-03-14",
          "2022-03-15",
          "2022-03-16",
          "2022-03-17",
          "2022-03-18",
          "2022-03-21",
          "2022-03-22",
          "2022-03-23",
          "2022-03-24",
          "2022-03-25",
          "2022-03-28",
          "2022-03-29",
          "2022-03-30",
          "2022-03-31",
          "2022-04-01",
          "2022-04-04",
          "2022-04-05",
          "2022-04-06",
          "2022-04-07",
          "2022-04-08",
          "2022-04-11",
          "2022-04-12",
          "2022-04-13",
          "2022-04-14",
          "2022-04-18",
          "2022-04-19",
          "2022-04-20",
          "2022-04-21",
          "2022-04-22",
          "2022-04-25",
          "2022-04-26",
          "2022-04-27",
          "2022-04-28",
          "2022-04-29",
          "2022-05-02",
          "2022-05-03",
          "2022-05-04",
          "2022-05-05",
          "2022-05-06",
          "2022-05-09",
          "2022-05-10",
          "2022-05-11",
          "2022-05-12",
          "2022-05-13",
          "2022-05-16",
          "2022-05-17",
          "2022-05-18",
          "2022-05-19",
          "2022-05-20",
          "2022-05-23",
          "2022-05-24",
          "2022-05-25",
          "2022-05-26",
          "2022-05-27",
          "2022-05-31",
          "2022-06-01",
          "2022-06-02",
          "2022-06-03",
          "2022-06-06",
          "2022-06-07",
          "2022-06-08",
          "2022-06-09",
          "2022-06-10",
          "2022-06-13",
          "2022-06-14",
          "2022-06-15",
          "2022-06-16",
          "2022-06-17",
          "2022-06-21",
          "2022-06-22",
          "2022-06-23",
          "2022-06-24",
          "2022-06-27",
          "2022-06-28",
          "2022-06-29"
         ],
         "y": [
          "",
          "",
          "",
          "",
          "",
          "",
          "",
          "",
          "",
          "",
          "",
          "",
          "",
          20.71497149698432,
          21.573394900010157,
          19.345283363543757,
          32.88580036898523,
          32.86373482401652,
          43.41754697290752,
          45.052218717185404,
          46.41046696627058,
          58.33518612940168,
          54.27211363022369,
          53.947904474596875,
          53.191024178122696,
          54.33000721158678,
          59.64042806893764,
          60.4678852936136,
          54.19018173140353,
          60.10524608152905,
          58.76333478709237,
          59.97425321758421,
          48.85799419037287,
          43.828900488910584,
          39.73053894366689,
          18.944651142056628,
          34.711920828905434,
          37.545610243588925,
          43.34463132995454,
          41.82387716982496,
          38.523055762067635,
          41.98442111782295,
          45.90235962331235,
          34.76086607966026,
          34.05224183166534,
          44.70595664185675,
          50.61820091695524,
          50.01307581126288,
          45.99696394536559,
          53.02150320404752,
          51.52763002865428,
          50.12519836731667,
          52.79471984446779,
          53.41987021879815,
          57.46837709824496,
          55.47337869529312,
          61.79748588248579,
          72.47246300313311,
          72.15201442824457,
          66.86071529102274,
          68.28016038202612,
          66.35994506652982,
          77.52820287651903,
          77.54857887163232,
          65.40655146468751,
          54.78655224216429,
          49.337952298119205,
          45.52004958706228,
          31.257149217349067,
          31.655677699222906,
          29.360569669342908,
          25.844369918405278,
          26.53954396805885,
          29.54093660927525,
          28.026197950182492,
          27.760992254252514,
          21.772434224569793,
          23.19844160314365,
          22.509440622221703,
          22.170999914727545,
          30.392191785677,
          29.06195072958191,
          35.45628718613031,
          38.0883241432317,
          41.533446271464484,
          39.131239661255094,
          37.373749748052404,
          32.09387974255394,
          35.74990109292261,
          37.87086662982958,
          42.07734448637776,
          41.67419227745854,
          43.866224521853916,
          52.34476097741119,
          40.19661398599649,
          43.59793745455338,
          37.82291311645289,
          40.37929046732331,
          26.13663155672998,
          31.286471313996884,
          37.93261404221943,
          49.56071767227927,
          49.152391279802,
          50.278016197758625,
          56.65225120883113,
          47.15437366220123,
          53.167386248444544,
          50.79225006886797,
          58.33075083475355,
          57.02549557245884,
          53.32955821039049,
          42.94570995978517,
          52.222367672025705,
          57.19230461567525,
          47.479964752791844,
          41.6839510745017,
          46.893038232239554,
          46.763913252645764,
          41.43120835223023,
          56.16965521302091,
          49.387529046042395,
          43.44072028780325,
          43.04521408549604
         ],
         "yaxis": "y3"
        },
        {
         "legendgroup": "RSI(Close,14)",
         "line": {
          "color": "red",
          "width": 1
         },
         "mode": "lines",
         "name": "",
         "showlegend": true,
         "text": "",
         "type": "scatter",
         "x": [
          "2022-01-03",
          "2022-01-04",
          "2022-01-05",
          "2022-01-06",
          "2022-01-07",
          "2022-01-10",
          "2022-01-11",
          "2022-01-12",
          "2022-01-13",
          "2022-01-14",
          "2022-01-18",
          "2022-01-19",
          "2022-01-20",
          "2022-01-21",
          "2022-01-24",
          "2022-01-25",
          "2022-01-26",
          "2022-01-27",
          "2022-01-28",
          "2022-01-31",
          "2022-02-01",
          "2022-02-02",
          "2022-02-03",
          "2022-02-04",
          "2022-02-07",
          "2022-02-08",
          "2022-02-09",
          "2022-02-10",
          "2022-02-11",
          "2022-02-14",
          "2022-02-15",
          "2022-02-16",
          "2022-02-17",
          "2022-02-18",
          "2022-02-22",
          "2022-02-23",
          "2022-02-24",
          "2022-02-25",
          "2022-02-28",
          "2022-03-01",
          "2022-03-02",
          "2022-03-03",
          "2022-03-04",
          "2022-03-07",
          "2022-03-08",
          "2022-03-09",
          "2022-03-10",
          "2022-03-11",
          "2022-03-14",
          "2022-03-15",
          "2022-03-16",
          "2022-03-17",
          "2022-03-18",
          "2022-03-21",
          "2022-03-22",
          "2022-03-23",
          "2022-03-24",
          "2022-03-25",
          "2022-03-28",
          "2022-03-29",
          "2022-03-30",
          "2022-03-31",
          "2022-04-01",
          "2022-04-04",
          "2022-04-05",
          "2022-04-06",
          "2022-04-07",
          "2022-04-08",
          "2022-04-11",
          "2022-04-12",
          "2022-04-13",
          "2022-04-14",
          "2022-04-18",
          "2022-04-19",
          "2022-04-20",
          "2022-04-21",
          "2022-04-22",
          "2022-04-25",
          "2022-04-26",
          "2022-04-27",
          "2022-04-28",
          "2022-04-29",
          "2022-05-02",
          "2022-05-03",
          "2022-05-04",
          "2022-05-05",
          "2022-05-06",
          "2022-05-09",
          "2022-05-10",
          "2022-05-11",
          "2022-05-12",
          "2022-05-13",
          "2022-05-16",
          "2022-05-17",
          "2022-05-18",
          "2022-05-19",
          "2022-05-20",
          "2022-05-23",
          "2022-05-24",
          "2022-05-25",
          "2022-05-26",
          "2022-05-27",
          "2022-05-31",
          "2022-06-01",
          "2022-06-02",
          "2022-06-03",
          "2022-06-06",
          "2022-06-07",
          "2022-06-08",
          "2022-06-09",
          "2022-06-10",
          "2022-06-13",
          "2022-06-14",
          "2022-06-15",
          "2022-06-16",
          "2022-06-17",
          "2022-06-21",
          "2022-06-22",
          "2022-06-23",
          "2022-06-24",
          "2022-06-27",
          "2022-06-28",
          "2022-06-29"
         ],
         "y": [
          30,
          30,
          30,
          30,
          30,
          30,
          30,
          30,
          30,
          30,
          30,
          30,
          30,
          30,
          30,
          30,
          30,
          30,
          30,
          30,
          30,
          30,
          30,
          30,
          30,
          30,
          30,
          30,
          30,
          30,
          30,
          30,
          30,
          30,
          30,
          30,
          30,
          30,
          30,
          30,
          30,
          30,
          30,
          30,
          30,
          30,
          30,
          30,
          30,
          30,
          30,
          30,
          30,
          30,
          30,
          30,
          30,
          30,
          30,
          30,
          30,
          30,
          30,
          30,
          30,
          30,
          30,
          30,
          30,
          30,
          30,
          30,
          30,
          30,
          30,
          30,
          30,
          30,
          30,
          30,
          30,
          30,
          30,
          30,
          30,
          30,
          30,
          30,
          30,
          30,
          30,
          30,
          30,
          30,
          30,
          30,
          30,
          30,
          30,
          30,
          30,
          30,
          30,
          30,
          30,
          30,
          30,
          30,
          30,
          30,
          30,
          30,
          30,
          30,
          30,
          30,
          30,
          30,
          30,
          30,
          30,
          30,
          30
         ],
         "yaxis": "y3"
        },
        {
         "legendgroup": "RSI(Close,14)",
         "line": {
          "color": "green",
          "width": 1
         },
         "mode": "lines",
         "name": "",
         "showlegend": true,
         "text": "",
         "type": "scatter",
         "x": [
          "2022-01-03",
          "2022-01-04",
          "2022-01-05",
          "2022-01-06",
          "2022-01-07",
          "2022-01-10",
          "2022-01-11",
          "2022-01-12",
          "2022-01-13",
          "2022-01-14",
          "2022-01-18",
          "2022-01-19",
          "2022-01-20",
          "2022-01-21",
          "2022-01-24",
          "2022-01-25",
          "2022-01-26",
          "2022-01-27",
          "2022-01-28",
          "2022-01-31",
          "2022-02-01",
          "2022-02-02",
          "2022-02-03",
          "2022-02-04",
          "2022-02-07",
          "2022-02-08",
          "2022-02-09",
          "2022-02-10",
          "2022-02-11",
          "2022-02-14",
          "2022-02-15",
          "2022-02-16",
          "2022-02-17",
          "2022-02-18",
          "2022-02-22",
          "2022-02-23",
          "2022-02-24",
          "2022-02-25",
          "2022-02-28",
          "2022-03-01",
          "2022-03-02",
          "2022-03-03",
          "2022-03-04",
          "2022-03-07",
          "2022-03-08",
          "2022-03-09",
          "2022-03-10",
          "2022-03-11",
          "2022-03-14",
          "2022-03-15",
          "2022-03-16",
          "2022-03-17",
          "2022-03-18",
          "2022-03-21",
          "2022-03-22",
          "2022-03-23",
          "2022-03-24",
          "2022-03-25",
          "2022-03-28",
          "2022-03-29",
          "2022-03-30",
          "2022-03-31",
          "2022-04-01",
          "2022-04-04",
          "2022-04-05",
          "2022-04-06",
          "2022-04-07",
          "2022-04-08",
          "2022-04-11",
          "2022-04-12",
          "2022-04-13",
          "2022-04-14",
          "2022-04-18",
          "2022-04-19",
          "2022-04-20",
          "2022-04-21",
          "2022-04-22",
          "2022-04-25",
          "2022-04-26",
          "2022-04-27",
          "2022-04-28",
          "2022-04-29",
          "2022-05-02",
          "2022-05-03",
          "2022-05-04",
          "2022-05-05",
          "2022-05-06",
          "2022-05-09",
          "2022-05-10",
          "2022-05-11",
          "2022-05-12",
          "2022-05-13",
          "2022-05-16",
          "2022-05-17",
          "2022-05-18",
          "2022-05-19",
          "2022-05-20",
          "2022-05-23",
          "2022-05-24",
          "2022-05-25",
          "2022-05-26",
          "2022-05-27",
          "2022-05-31",
          "2022-06-01",
          "2022-06-02",
          "2022-06-03",
          "2022-06-06",
          "2022-06-07",
          "2022-06-08",
          "2022-06-09",
          "2022-06-10",
          "2022-06-13",
          "2022-06-14",
          "2022-06-15",
          "2022-06-16",
          "2022-06-17",
          "2022-06-21",
          "2022-06-22",
          "2022-06-23",
          "2022-06-24",
          "2022-06-27",
          "2022-06-28",
          "2022-06-29"
         ],
         "y": [
          70,
          70,
          70,
          70,
          70,
          70,
          70,
          70,
          70,
          70,
          70,
          70,
          70,
          70,
          70,
          70,
          70,
          70,
          70,
          70,
          70,
          70,
          70,
          70,
          70,
          70,
          70,
          70,
          70,
          70,
          70,
          70,
          70,
          70,
          70,
          70,
          70,
          70,
          70,
          70,
          70,
          70,
          70,
          70,
          70,
          70,
          70,
          70,
          70,
          70,
          70,
          70,
          70,
          70,
          70,
          70,
          70,
          70,
          70,
          70,
          70,
          70,
          70,
          70,
          70,
          70,
          70,
          70,
          70,
          70,
          70,
          70,
          70,
          70,
          70,
          70,
          70,
          70,
          70,
          70,
          70,
          70,
          70,
          70,
          70,
          70,
          70,
          70,
          70,
          70,
          70,
          70,
          70,
          70,
          70,
          70,
          70,
          70,
          70,
          70,
          70,
          70,
          70,
          70,
          70,
          70,
          70,
          70,
          70,
          70,
          70,
          70,
          70,
          70,
          70,
          70,
          70,
          70,
          70,
          70,
          70,
          70,
          70
         ],
         "yaxis": "y3"
        },
        {
         "marker": {
          "color": [
           "#db4052",
           "#db4052",
           "#db4052",
           "#db4052",
           "#db4052",
           "#008000",
           "#008000",
           "#008000",
           "#db4052",
           "#008000",
           "#db4052",
           "#db4052",
           "#db4052",
           "#db4052",
           "#008000",
           "#db4052",
           "#008000",
           "#db4052",
           "#008000",
           "#008000",
           "#008000",
           "#008000",
           "#db4052",
           "#008000",
           "#db4052",
           "#008000",
           "#008000",
           "#db4052",
           "#db4052",
           "#008000",
           "#008000",
           "#008000",
           "#db4052",
           "#db4052",
           "#db4052",
           "#db4052",
           "#008000",
           "#008000",
           "#008000",
           "#db4052",
           "#008000",
           "#db4052",
           "#db4052",
           "#db4052",
           "#008000",
           "#008000",
           "#db4052",
           "#db4052",
           "#db4052",
           "#008000",
           "#008000",
           "#008000",
           "#008000",
           "#db4052",
           "#008000",
           "#db4052",
           "#008000",
           "#008000",
           "#008000",
           "#008000",
           "#db4052",
           "#db4052",
           "#008000",
           "#008000",
           "#db4052",
           "#db4052",
           "#db4052",
           "#db4052",
           "#db4052",
           "#db4052",
           "#008000",
           "#db4052",
           "#008000",
           "#008000",
           "#db4052",
           "#db4052",
           "#db4052",
           "#008000",
           "#db4052",
           "#db4052",
           "#008000",
           "#db4052",
           "#008000",
           "#008000",
           "#008000",
           "#db4052",
           "#db4052",
           "#db4052",
           "#008000",
           "#db4052",
           "#db4052",
           "#008000",
           "#db4052",
           "#008000",
           "#db4052",
           "#db4052",
           "#db4052",
           "#008000",
           "#db4052",
           "#db4052",
           "#008000",
           "#008000",
           "#008000",
           "#008000",
           "#008000",
           "#db4052",
           "#008000",
           "#008000",
           "#008000",
           "#db4052",
           "#db4052",
           "#db4052",
           "#008000",
           "#008000",
           "#db4052",
           "#008000",
           "#008000",
           "#008000",
           "#008000",
           "#008000",
           "#db4052",
           "#db4052",
           "#db4052"
          ],
          "line": {
           "color": [
            "#db4052",
            "#db4052",
            "#db4052",
            "#db4052",
            "#db4052",
            "#008000",
            "#008000",
            "#008000",
            "#db4052",
            "#008000",
            "#db4052",
            "#db4052",
            "#db4052",
            "#db4052",
            "#008000",
            "#db4052",
            "#008000",
            "#db4052",
            "#008000",
            "#008000",
            "#008000",
            "#008000",
            "#db4052",
            "#008000",
            "#db4052",
            "#008000",
            "#008000",
            "#db4052",
            "#db4052",
            "#008000",
            "#008000",
            "#008000",
            "#db4052",
            "#db4052",
            "#db4052",
            "#db4052",
            "#008000",
            "#008000",
            "#008000",
            "#db4052",
            "#008000",
            "#db4052",
            "#db4052",
            "#db4052",
            "#008000",
            "#008000",
            "#db4052",
            "#db4052",
            "#db4052",
            "#008000",
            "#008000",
            "#008000",
            "#008000",
            "#db4052",
            "#008000",
            "#db4052",
            "#008000",
            "#008000",
            "#008000",
            "#008000",
            "#db4052",
            "#db4052",
            "#008000",
            "#008000",
            "#db4052",
            "#db4052",
            "#db4052",
            "#db4052",
            "#db4052",
            "#db4052",
            "#008000",
            "#db4052",
            "#008000",
            "#008000",
            "#db4052",
            "#db4052",
            "#db4052",
            "#008000",
            "#db4052",
            "#db4052",
            "#008000",
            "#db4052",
            "#008000",
            "#008000",
            "#008000",
            "#db4052",
            "#db4052",
            "#db4052",
            "#008000",
            "#db4052",
            "#db4052",
            "#008000",
            "#db4052",
            "#008000",
            "#db4052",
            "#db4052",
            "#db4052",
            "#008000",
            "#db4052",
            "#db4052",
            "#008000",
            "#008000",
            "#008000",
            "#008000",
            "#008000",
            "#db4052",
            "#008000",
            "#008000",
            "#008000",
            "#db4052",
            "#db4052",
            "#db4052",
            "#008000",
            "#008000",
            "#db4052",
            "#008000",
            "#008000",
            "#008000",
            "#008000",
            "#008000",
            "#db4052",
            "#db4052",
            "#db4052"
           ],
           "width": 1
          }
         },
         "name": "Volume",
         "opacity": 0.8,
         "orientation": "v",
         "text": "",
         "type": "bar",
         "x": [
          "2022-01-03",
          "2022-01-04",
          "2022-01-05",
          "2022-01-06",
          "2022-01-07",
          "2022-01-10",
          "2022-01-11",
          "2022-01-12",
          "2022-01-13",
          "2022-01-14",
          "2022-01-18",
          "2022-01-19",
          "2022-01-20",
          "2022-01-21",
          "2022-01-24",
          "2022-01-25",
          "2022-01-26",
          "2022-01-27",
          "2022-01-28",
          "2022-01-31",
          "2022-02-01",
          "2022-02-02",
          "2022-02-03",
          "2022-02-04",
          "2022-02-07",
          "2022-02-08",
          "2022-02-09",
          "2022-02-10",
          "2022-02-11",
          "2022-02-14",
          "2022-02-15",
          "2022-02-16",
          "2022-02-17",
          "2022-02-18",
          "2022-02-22",
          "2022-02-23",
          "2022-02-24",
          "2022-02-25",
          "2022-02-28",
          "2022-03-01",
          "2022-03-02",
          "2022-03-03",
          "2022-03-04",
          "2022-03-07",
          "2022-03-08",
          "2022-03-09",
          "2022-03-10",
          "2022-03-11",
          "2022-03-14",
          "2022-03-15",
          "2022-03-16",
          "2022-03-17",
          "2022-03-18",
          "2022-03-21",
          "2022-03-22",
          "2022-03-23",
          "2022-03-24",
          "2022-03-25",
          "2022-03-28",
          "2022-03-29",
          "2022-03-30",
          "2022-03-31",
          "2022-04-01",
          "2022-04-04",
          "2022-04-05",
          "2022-04-06",
          "2022-04-07",
          "2022-04-08",
          "2022-04-11",
          "2022-04-12",
          "2022-04-13",
          "2022-04-14",
          "2022-04-18",
          "2022-04-19",
          "2022-04-20",
          "2022-04-21",
          "2022-04-22",
          "2022-04-25",
          "2022-04-26",
          "2022-04-27",
          "2022-04-28",
          "2022-04-29",
          "2022-05-02",
          "2022-05-03",
          "2022-05-04",
          "2022-05-05",
          "2022-05-06",
          "2022-05-09",
          "2022-05-10",
          "2022-05-11",
          "2022-05-12",
          "2022-05-13",
          "2022-05-16",
          "2022-05-17",
          "2022-05-18",
          "2022-05-19",
          "2022-05-20",
          "2022-05-23",
          "2022-05-24",
          "2022-05-25",
          "2022-05-26",
          "2022-05-27",
          "2022-05-31",
          "2022-06-01",
          "2022-06-02",
          "2022-06-03",
          "2022-06-06",
          "2022-06-07",
          "2022-06-08",
          "2022-06-09",
          "2022-06-10",
          "2022-06-13",
          "2022-06-14",
          "2022-06-15",
          "2022-06-16",
          "2022-06-17",
          "2022-06-21",
          "2022-06-22",
          "2022-06-23",
          "2022-06-24",
          "2022-06-27",
          "2022-06-28",
          "2022-06-29"
         ],
         "y": [
          1260700,
          1146400,
          2482100,
          1452500,
          970400,
          1704800,
          1175100,
          1182100,
          1328300,
          1191300,
          1369100,
          1039800,
          1096500,
          2096000,
          2757400,
          1800400,
          1981500,
          1512400,
          1525900,
          1702800,
          2560200,
          4487500,
          2846500,
          2461200,
          2230500,
          1712800,
          1431400,
          1650900,
          1940400,
          1339600,
          1328900,
          1280500,
          1548400,
          1592900,
          1945300,
          1321600,
          2158300,
          1311800,
          1483800,
          1232000,
          1198300,
          989000,
          1222300,
          1958900,
          1762500,
          1612900,
          1213300,
          1330000,
          1512700,
          1514600,
          1602900,
          1199700,
          2295000,
          1331600,
          1488800,
          1265100,
          1027200,
          963500,
          1188700,
          1433900,
          1052300,
          1475800,
          1174000,
          953800,
          962800,
          1178700,
          972400,
          821700,
          1209400,
          1150200,
          977100,
          1174200,
          745900,
          1136000,
          1130500,
          1507900,
          2320500,
          1726100,
          2469700,
          3111900,
          1839500,
          1684700,
          1514000,
          1060800,
          1661600,
          2154500,
          1765500,
          1726000,
          1557900,
          1825100,
          2073200,
          1486900,
          1164100,
          1078800,
          1399100,
          1459600,
          1879300,
          1577900,
          3019300,
          1895000,
          1514400,
          1496200,
          2565100,
          1431500,
          1373600,
          1252600,
          1189300,
          1320700,
          1127200,
          1157100,
          1566200,
          1837800,
          1274000,
          1659600,
          1765700,
          2163500,
          1950500,
          1196100,
          1235500,
          1954700,
          1642000,
          1411600,
          931400
         ],
         "yaxis": "y4"
        },
        {
         "close": [
          2901.48999,
          2888.330078,
          2753.070068,
          2751.02002,
          2740.090088,
          2771.47998,
          2800.350098,
          2832.959961,
          2782.6201170000004,
          2795.72998,
          2725.810059,
          2713.040039,
          2670.1298829999996,
          2601.840088,
          2607.439941,
          2534.709961,
          2584.800049,
          2582.419922,
          2665.790039,
          2713.969971,
          2757.570068,
          2960.72998,
          2853.01001,
          2860.320068,
          2778.76001,
          2784.26001,
          2829.060059,
          2772.050049,
          2682.600098,
          2706,
          2728.51001,
          2749.75,
          2646.169922,
          2609.350098,
          2588.050049,
          2551.699951,
          2653.469971,
          2690.389893,
          2697.820068,
          2683.360107,
          2695.030029,
          2686.159912,
          2642.439941,
          2529.290039,
          2545.570068,
          2677.320068,
          2653.639893,
          2609.51001,
          2534.820068,
          2593.209961,
          2673.810059,
          2692.01001,
          2736.030029,
          2729.570068,
          2805.550049,
          2770.070068,
          2826.23999,
          2830.429932,
          2839,
          2865,
          2852.889893,
          2792.98999,
          2814,
          2872.850098,
          2821.26001,
          2743.52002,
          2729.300049,
          2680.209961,
          2595.929932,
          2567.48999,
          2605.719971,
          2545.060059,
          2559.219971,
          2610.6201170000004,
          2564.909912,
          2498.75,
          2392.280029,
          2465,
          2390.1201170000004,
          2300.409912,
          2388.22998,
          2299.330078,
          2343.139893,
          2362.590088,
          2451.5,
          2334.929932,
          2313.199951,
          2261.679932,
          2291.689941,
          2279.219971,
          2263.219971,
          2330.310059,
          2295.850098,
          2334.030029,
          2248.02002,
          2214.909912,
          2186.26001,
          2233.330078,
          2118.52002,
          2116.790039,
          2165.919922,
          2255.97998,
          2280.780029,
          2282.73999,
          2354.919922,
          2291.280029,
          2340.209961,
          2344.590088,
          2344.76001,
          2298.360107,
          2228.550049,
          2137.530029,
          2143.8798829999996,
          2207.810059,
          2132.719971,
          2157.310059,
          2240.300049,
          2240.679932,
          2253.689941,
          2370.76001,
          2332.449951,
          2251.429932,
          2245.1298829999996
         ],
         "decreasing": {
          "line": {
           "color": "#db4052"
          }
         },
         "high": [
          2911,
          2932.199951,
          2885.959961,
          2793.719971,
          2765.094971,
          2772.800049,
          2806.590088,
          2856.284912,
          2863.709961,
          2824.01001,
          2747.830078,
          2767.98999,
          2758.23999,
          2695.209961,
          2615.570068,
          2586.77002,
          2656.149902,
          2652.198975,
          2667.409912,
          2716.8701170000004,
          2764,
          3042,
          2982.354004,
          2890.705078,
          2876.929932,
          2796.741943,
          2843.51001,
          2828.6201170000004,
          2785.665039,
          2723.330078,
          2758,
          2758.919922,
          2736.790039,
          2676.47998,
          2638.014893,
          2634.97998,
          2660.73999,
          2707.780029,
          2712.810059,
          2722.219971,
          2712.310059,
          2734.275879,
          2683.97998,
          2638.080078,
          2624.929932,
          2683.969971,
          2670.77002,
          2684,
          2620.52002,
          2610.344971,
          2675.419922,
          2694.790039,
          2738.27002,
          2751.649902,
          2830,
          2800.5,
          2827.929932,
          2839.189941,
          2839.530029,
          2883.25,
          2869.610107,
          2852.889893,
          2819,
          2880.875,
          2871.800049,
          2796.969971,
          2754.030029,
          2725,
          2658.783936,
          2648.469971,
          2613.11499,
          2614.205078,
          2574.23999,
          2618.074951,
          2638.469971,
          2606.149902,
          2509.040039,
          2465.560059,
          2455,
          2350,
          2408.77002,
          2379.199951,
          2346.790039,
          2386,
          2462.860107,
          2424.665039,
          2349.969971,
          2311.258057,
          2333.820068,
          2333.419922,
          2297.1298829999996,
          2361.699951,
          2332.149902,
          2344.550049,
          2313.913086,
          2271.75,
          2251,
          2240.110107,
          2127.899902,
          2130.894043,
          2179.10498,
          2257.360107,
          2328.669922,
          2347.97998,
          2357.959961,
          2327.290039,
          2387.969971,
          2354.9729,
          2372.919922,
          2367,
          2269.939941,
          2184.3701170000004,
          2169.149902,
          2241.26001,
          2185.810059,
          2184.98999,
          2253.459961,
          2275.389893,
          2263.929932,
          2372.75,
          2385,
          2357.1298829999996,
          2273.290039
         ],
         "increasing": {
          "line": {
           "color": "#008000"
          }
         },
         "low": [
          2870.050049,
          2876.322998,
          2750.469971,
          2735.27002,
          2715.780029,
          2662.810059,
          2736.27002,
          2822.23999,
          2778.280029,
          2750,
          2712.340088,
          2710,
          2662.889893,
          2600.02002,
          2492.839111,
          2527.560059,
          2543.070068,
          2578.899902,
          2573.889893,
          2645.47998,
          2691.36499,
          2911.149902,
          2844.100098,
          2796.350098,
          2773.97998,
          2737.459961,
          2807.540039,
          2761,
          2665.77002,
          2666.040039,
          2710.790039,
          2696.4729,
          2644.040039,
          2606.1411129999997,
          2554.820068,
          2550.070068,
          2495.290039,
          2635.300049,
          2656.5048829999996,
          2667.570068,
          2668.649902,
          2668.6201170000004,
          2608.169922,
          2528.199951,
          2517.215088,
          2601.76001,
          2628.02002,
          2605.929932,
          2528.26001,
          2531.360107,
          2584.02002,
          2654.3798829999996,
          2658.639893,
          2692.22998,
          2730,
          2763.330078,
          2760.788086,
          2793.98999,
          2796.5629879999997,
          2849.679932,
          2843.360107,
          2792.3798829999996,
          2775.939941,
          2816.48999,
          2818.8701170000004,
          2728.362061,
          2697.14502,
          2675.050049,
          2592.350098,
          2551.52002,
          2568.771973,
          2542.22998,
          2531.569092,
          2549.030029,
          2557.881104,
          2493,
          2382.810059,
          2375.38501,
          2383.237061,
          2262.485107,
          2302.87793,
          2293.8798829999996,
          2267.98999,
          2332.540039,
          2314.77002,
          2303.649902,
          2282.860107,
          2251.030029,
          2267.666016,
          2273,
          2202.27002,
          2280,
          2286.699951,
          2306.75,
          2242.840088,
          2209.360107,
          2127.459961,
          2183.084961,
          2044.160034,
          2084.225098,
          2109.76001,
          2191,
          2251.449951,
          2271.01001,
          2266.159912,
          2273.360107,
          2330.565918,
          2302.51001,
          2333.935059,
          2297.340088,
          2217.219971,
          2131.760986,
          2127.040039,
          2162.375,
          2115.850098,
          2112.571045,
          2185.8701170000004,
          2214.486084,
          2220.580078,
          2272.060059,
          2320.014893,
          2248.8798829999996,
          2231.080078
         ],
         "name": "GOOG",
         "open": [
          2889.51001,
          2911.01001,
          2883.6201170000004,
          2749.949951,
          2758.100098,
          2701.97998,
          2763.610107,
          2831.090088,
          2836.810059,
          2750,
          2732,
          2738.77002,
          2730.280029,
          2660.23999,
          2520.550049,
          2568.709961,
          2611.850098,
          2627.219971,
          2600,
          2683.959961,
          2756.699951,
          3037.27002,
          2905.899902,
          2860.340088,
          2874.179932,
          2779.824951,
          2816.9951170000004,
          2790,
          2775,
          2667.310059,
          2749.429932,
          2728.610107,
          2723,
          2660.75,
          2599.699951,
          2621.570068,
          2500,
          2670.51001,
          2665.689941,
          2689.600098,
          2692.165039,
          2719.570068,
          2667.649902,
          2638.080078,
          2525.01001,
          2628,
          2629.25,
          2679.98999,
          2611.459961,
          2554.830078,
          2620,
          2666.419922,
          2677.679932,
          2736.949951,
          2730,
          2782.77002,
          2785.449951,
          2835.080078,
          2813.689941,
          2863.209961,
          2857.399902,
          2848.969971,
          2800.199951,
          2816.48999,
          2867.98999,
          2783.22998,
          2732.360107,
          2725,
          2658,
          2648.469971,
          2572.530029,
          2612.98999,
          2548.199951,
          2561.540039,
          2625.679932,
          2587,
          2500,
          2388.590088,
          2455,
          2287.459961,
          2342.300049,
          2351.560059,
          2278.1298829999996,
          2335.300049,
          2360.070068,
          2404.409912,
          2310.3798829999996,
          2266.070068,
          2320.810059,
          2274.209961,
          2238.76001,
          2296.909912,
          2307.679932,
          2344.550049,
          2304.75,
          2236.820068,
          2241.709961,
          2202.080078,
          2127.550049,
          2102.840088,
          2121.01001,
          2195.77002,
          2261.580078,
          2298.6298829999996,
          2283.76001,
          2319.850098,
          2334.850098,
          2312.959961,
          2337.530029,
          2326.830078,
          2255.625,
          2148.919922,
          2137.800049,
          2177.98999,
          2162.98999,
          2130.699951,
          2194.040039,
          2223.26001,
          2259,
          2272.060059,
          2378.699951,
          2327.02002,
          2242.969971
         ],
         "showlegend": true,
         "type": "candlestick",
         "x": [
          "2022-01-03",
          "2022-01-04",
          "2022-01-05",
          "2022-01-06",
          "2022-01-07",
          "2022-01-10",
          "2022-01-11",
          "2022-01-12",
          "2022-01-13",
          "2022-01-14",
          "2022-01-18",
          "2022-01-19",
          "2022-01-20",
          "2022-01-21",
          "2022-01-24",
          "2022-01-25",
          "2022-01-26",
          "2022-01-27",
          "2022-01-28",
          "2022-01-31",
          "2022-02-01",
          "2022-02-02",
          "2022-02-03",
          "2022-02-04",
          "2022-02-07",
          "2022-02-08",
          "2022-02-09",
          "2022-02-10",
          "2022-02-11",
          "2022-02-14",
          "2022-02-15",
          "2022-02-16",
          "2022-02-17",
          "2022-02-18",
          "2022-02-22",
          "2022-02-23",
          "2022-02-24",
          "2022-02-25",
          "2022-02-28",
          "2022-03-01",
          "2022-03-02",
          "2022-03-03",
          "2022-03-04",
          "2022-03-07",
          "2022-03-08",
          "2022-03-09",
          "2022-03-10",
          "2022-03-11",
          "2022-03-14",
          "2022-03-15",
          "2022-03-16",
          "2022-03-17",
          "2022-03-18",
          "2022-03-21",
          "2022-03-22",
          "2022-03-23",
          "2022-03-24",
          "2022-03-25",
          "2022-03-28",
          "2022-03-29",
          "2022-03-30",
          "2022-03-31",
          "2022-04-01",
          "2022-04-04",
          "2022-04-05",
          "2022-04-06",
          "2022-04-07",
          "2022-04-08",
          "2022-04-11",
          "2022-04-12",
          "2022-04-13",
          "2022-04-14",
          "2022-04-18",
          "2022-04-19",
          "2022-04-20",
          "2022-04-21",
          "2022-04-22",
          "2022-04-25",
          "2022-04-26",
          "2022-04-27",
          "2022-04-28",
          "2022-04-29",
          "2022-05-02",
          "2022-05-03",
          "2022-05-04",
          "2022-05-05",
          "2022-05-06",
          "2022-05-09",
          "2022-05-10",
          "2022-05-11",
          "2022-05-12",
          "2022-05-13",
          "2022-05-16",
          "2022-05-17",
          "2022-05-18",
          "2022-05-19",
          "2022-05-20",
          "2022-05-23",
          "2022-05-24",
          "2022-05-25",
          "2022-05-26",
          "2022-05-27",
          "2022-05-31",
          "2022-06-01",
          "2022-06-02",
          "2022-06-03",
          "2022-06-06",
          "2022-06-07",
          "2022-06-08",
          "2022-06-09",
          "2022-06-10",
          "2022-06-13",
          "2022-06-14",
          "2022-06-15",
          "2022-06-16",
          "2022-06-17",
          "2022-06-21",
          "2022-06-22",
          "2022-06-23",
          "2022-06-24",
          "2022-06-27",
          "2022-06-28",
          "2022-06-29"
         ],
         "yaxis": "y2"
        }
       ],
       "layout": {
        "legend": {
         "bgcolor": "#F5F6F9",
         "font": {
          "color": "#4D5663"
         }
        },
        "margin": {
         "b": 30,
         "l": 30,
         "r": 30,
         "t": 30
        },
        "paper_bgcolor": "#F5F6F9",
        "plot_bgcolor": "#F5F6F9",
        "showlegend": true,
        "template": {
         "data": {
          "bar": [
           {
            "error_x": {
             "color": "#2a3f5f"
            },
            "error_y": {
             "color": "#2a3f5f"
            },
            "marker": {
             "line": {
              "color": "#E5ECF6",
              "width": 0.5
             },
             "pattern": {
              "fillmode": "overlay",
              "size": 10,
              "solidity": 0.2
             }
            },
            "type": "bar"
           }
          ],
          "barpolar": [
           {
            "marker": {
             "line": {
              "color": "#E5ECF6",
              "width": 0.5
             },
             "pattern": {
              "fillmode": "overlay",
              "size": 10,
              "solidity": 0.2
             }
            },
            "type": "barpolar"
           }
          ],
          "carpet": [
           {
            "aaxis": {
             "endlinecolor": "#2a3f5f",
             "gridcolor": "white",
             "linecolor": "white",
             "minorgridcolor": "white",
             "startlinecolor": "#2a3f5f"
            },
            "baxis": {
             "endlinecolor": "#2a3f5f",
             "gridcolor": "white",
             "linecolor": "white",
             "minorgridcolor": "white",
             "startlinecolor": "#2a3f5f"
            },
            "type": "carpet"
           }
          ],
          "choropleth": [
           {
            "colorbar": {
             "outlinewidth": 0,
             "ticks": ""
            },
            "type": "choropleth"
           }
          ],
          "contour": [
           {
            "colorbar": {
             "outlinewidth": 0,
             "ticks": ""
            },
            "colorscale": [
             [
              0,
              "#0d0887"
             ],
             [
              0.1111111111111111,
              "#46039f"
             ],
             [
              0.2222222222222222,
              "#7201a8"
             ],
             [
              0.3333333333333333,
              "#9c179e"
             ],
             [
              0.4444444444444444,
              "#bd3786"
             ],
             [
              0.5555555555555556,
              "#d8576b"
             ],
             [
              0.6666666666666666,
              "#ed7953"
             ],
             [
              0.7777777777777778,
              "#fb9f3a"
             ],
             [
              0.8888888888888888,
              "#fdca26"
             ],
             [
              1,
              "#f0f921"
             ]
            ],
            "type": "contour"
           }
          ],
          "contourcarpet": [
           {
            "colorbar": {
             "outlinewidth": 0,
             "ticks": ""
            },
            "type": "contourcarpet"
           }
          ],
          "heatmap": [
           {
            "colorbar": {
             "outlinewidth": 0,
             "ticks": ""
            },
            "colorscale": [
             [
              0,
              "#0d0887"
             ],
             [
              0.1111111111111111,
              "#46039f"
             ],
             [
              0.2222222222222222,
              "#7201a8"
             ],
             [
              0.3333333333333333,
              "#9c179e"
             ],
             [
              0.4444444444444444,
              "#bd3786"
             ],
             [
              0.5555555555555556,
              "#d8576b"
             ],
             [
              0.6666666666666666,
              "#ed7953"
             ],
             [
              0.7777777777777778,
              "#fb9f3a"
             ],
             [
              0.8888888888888888,
              "#fdca26"
             ],
             [
              1,
              "#f0f921"
             ]
            ],
            "type": "heatmap"
           }
          ],
          "heatmapgl": [
           {
            "colorbar": {
             "outlinewidth": 0,
             "ticks": ""
            },
            "colorscale": [
             [
              0,
              "#0d0887"
             ],
             [
              0.1111111111111111,
              "#46039f"
             ],
             [
              0.2222222222222222,
              "#7201a8"
             ],
             [
              0.3333333333333333,
              "#9c179e"
             ],
             [
              0.4444444444444444,
              "#bd3786"
             ],
             [
              0.5555555555555556,
              "#d8576b"
             ],
             [
              0.6666666666666666,
              "#ed7953"
             ],
             [
              0.7777777777777778,
              "#fb9f3a"
             ],
             [
              0.8888888888888888,
              "#fdca26"
             ],
             [
              1,
              "#f0f921"
             ]
            ],
            "type": "heatmapgl"
           }
          ],
          "histogram": [
           {
            "marker": {
             "pattern": {
              "fillmode": "overlay",
              "size": 10,
              "solidity": 0.2
             }
            },
            "type": "histogram"
           }
          ],
          "histogram2d": [
           {
            "colorbar": {
             "outlinewidth": 0,
             "ticks": ""
            },
            "colorscale": [
             [
              0,
              "#0d0887"
             ],
             [
              0.1111111111111111,
              "#46039f"
             ],
             [
              0.2222222222222222,
              "#7201a8"
             ],
             [
              0.3333333333333333,
              "#9c179e"
             ],
             [
              0.4444444444444444,
              "#bd3786"
             ],
             [
              0.5555555555555556,
              "#d8576b"
             ],
             [
              0.6666666666666666,
              "#ed7953"
             ],
             [
              0.7777777777777778,
              "#fb9f3a"
             ],
             [
              0.8888888888888888,
              "#fdca26"
             ],
             [
              1,
              "#f0f921"
             ]
            ],
            "type": "histogram2d"
           }
          ],
          "histogram2dcontour": [
           {
            "colorbar": {
             "outlinewidth": 0,
             "ticks": ""
            },
            "colorscale": [
             [
              0,
              "#0d0887"
             ],
             [
              0.1111111111111111,
              "#46039f"
             ],
             [
              0.2222222222222222,
              "#7201a8"
             ],
             [
              0.3333333333333333,
              "#9c179e"
             ],
             [
              0.4444444444444444,
              "#bd3786"
             ],
             [
              0.5555555555555556,
              "#d8576b"
             ],
             [
              0.6666666666666666,
              "#ed7953"
             ],
             [
              0.7777777777777778,
              "#fb9f3a"
             ],
             [
              0.8888888888888888,
              "#fdca26"
             ],
             [
              1,
              "#f0f921"
             ]
            ],
            "type": "histogram2dcontour"
           }
          ],
          "mesh3d": [
           {
            "colorbar": {
             "outlinewidth": 0,
             "ticks": ""
            },
            "type": "mesh3d"
           }
          ],
          "parcoords": [
           {
            "line": {
             "colorbar": {
              "outlinewidth": 0,
              "ticks": ""
             }
            },
            "type": "parcoords"
           }
          ],
          "pie": [
           {
            "automargin": true,
            "type": "pie"
           }
          ],
          "scatter": [
           {
            "fillpattern": {
             "fillmode": "overlay",
             "size": 10,
             "solidity": 0.2
            },
            "type": "scatter"
           }
          ],
          "scatter3d": [
           {
            "line": {
             "colorbar": {
              "outlinewidth": 0,
              "ticks": ""
             }
            },
            "marker": {
             "colorbar": {
              "outlinewidth": 0,
              "ticks": ""
             }
            },
            "type": "scatter3d"
           }
          ],
          "scattercarpet": [
           {
            "marker": {
             "colorbar": {
              "outlinewidth": 0,
              "ticks": ""
             }
            },
            "type": "scattercarpet"
           }
          ],
          "scattergeo": [
           {
            "marker": {
             "colorbar": {
              "outlinewidth": 0,
              "ticks": ""
             }
            },
            "type": "scattergeo"
           }
          ],
          "scattergl": [
           {
            "marker": {
             "colorbar": {
              "outlinewidth": 0,
              "ticks": ""
             }
            },
            "type": "scattergl"
           }
          ],
          "scattermapbox": [
           {
            "marker": {
             "colorbar": {
              "outlinewidth": 0,
              "ticks": ""
             }
            },
            "type": "scattermapbox"
           }
          ],
          "scatterpolar": [
           {
            "marker": {
             "colorbar": {
              "outlinewidth": 0,
              "ticks": ""
             }
            },
            "type": "scatterpolar"
           }
          ],
          "scatterpolargl": [
           {
            "marker": {
             "colorbar": {
              "outlinewidth": 0,
              "ticks": ""
             }
            },
            "type": "scatterpolargl"
           }
          ],
          "scatterternary": [
           {
            "marker": {
             "colorbar": {
              "outlinewidth": 0,
              "ticks": ""
             }
            },
            "type": "scatterternary"
           }
          ],
          "surface": [
           {
            "colorbar": {
             "outlinewidth": 0,
             "ticks": ""
            },
            "colorscale": [
             [
              0,
              "#0d0887"
             ],
             [
              0.1111111111111111,
              "#46039f"
             ],
             [
              0.2222222222222222,
              "#7201a8"
             ],
             [
              0.3333333333333333,
              "#9c179e"
             ],
             [
              0.4444444444444444,
              "#bd3786"
             ],
             [
              0.5555555555555556,
              "#d8576b"
             ],
             [
              0.6666666666666666,
              "#ed7953"
             ],
             [
              0.7777777777777778,
              "#fb9f3a"
             ],
             [
              0.8888888888888888,
              "#fdca26"
             ],
             [
              1,
              "#f0f921"
             ]
            ],
            "type": "surface"
           }
          ],
          "table": [
           {
            "cells": {
             "fill": {
              "color": "#EBF0F8"
             },
             "line": {
              "color": "white"
             }
            },
            "header": {
             "fill": {
              "color": "#C8D4E3"
             },
             "line": {
              "color": "white"
             }
            },
            "type": "table"
           }
          ]
         },
         "layout": {
          "annotationdefaults": {
           "arrowcolor": "#2a3f5f",
           "arrowhead": 0,
           "arrowwidth": 1
          },
          "autotypenumbers": "strict",
          "coloraxis": {
           "colorbar": {
            "outlinewidth": 0,
            "ticks": ""
           }
          },
          "colorscale": {
           "diverging": [
            [
             0,
             "#8e0152"
            ],
            [
             0.1,
             "#c51b7d"
            ],
            [
             0.2,
             "#de77ae"
            ],
            [
             0.3,
             "#f1b6da"
            ],
            [
             0.4,
             "#fde0ef"
            ],
            [
             0.5,
             "#f7f7f7"
            ],
            [
             0.6,
             "#e6f5d0"
            ],
            [
             0.7,
             "#b8e186"
            ],
            [
             0.8,
             "#7fbc41"
            ],
            [
             0.9,
             "#4d9221"
            ],
            [
             1,
             "#276419"
            ]
           ],
           "sequential": [
            [
             0,
             "#0d0887"
            ],
            [
             0.1111111111111111,
             "#46039f"
            ],
            [
             0.2222222222222222,
             "#7201a8"
            ],
            [
             0.3333333333333333,
             "#9c179e"
            ],
            [
             0.4444444444444444,
             "#bd3786"
            ],
            [
             0.5555555555555556,
             "#d8576b"
            ],
            [
             0.6666666666666666,
             "#ed7953"
            ],
            [
             0.7777777777777778,
             "#fb9f3a"
            ],
            [
             0.8888888888888888,
             "#fdca26"
            ],
            [
             1,
             "#f0f921"
            ]
           ],
           "sequentialminus": [
            [
             0,
             "#0d0887"
            ],
            [
             0.1111111111111111,
             "#46039f"
            ],
            [
             0.2222222222222222,
             "#7201a8"
            ],
            [
             0.3333333333333333,
             "#9c179e"
            ],
            [
             0.4444444444444444,
             "#bd3786"
            ],
            [
             0.5555555555555556,
             "#d8576b"
            ],
            [
             0.6666666666666666,
             "#ed7953"
            ],
            [
             0.7777777777777778,
             "#fb9f3a"
            ],
            [
             0.8888888888888888,
             "#fdca26"
            ],
            [
             1,
             "#f0f921"
            ]
           ]
          },
          "colorway": [
           "#636efa",
           "#EF553B",
           "#00cc96",
           "#ab63fa",
           "#FFA15A",
           "#19d3f3",
           "#FF6692",
           "#B6E880",
           "#FF97FF",
           "#FECB52"
          ],
          "font": {
           "color": "#2a3f5f"
          },
          "geo": {
           "bgcolor": "white",
           "lakecolor": "white",
           "landcolor": "#E5ECF6",
           "showlakes": true,
           "showland": true,
           "subunitcolor": "white"
          },
          "hoverlabel": {
           "align": "left"
          },
          "hovermode": "closest",
          "mapbox": {
           "style": "light"
          },
          "paper_bgcolor": "white",
          "plot_bgcolor": "#E5ECF6",
          "polar": {
           "angularaxis": {
            "gridcolor": "white",
            "linecolor": "white",
            "ticks": ""
           },
           "bgcolor": "#E5ECF6",
           "radialaxis": {
            "gridcolor": "white",
            "linecolor": "white",
            "ticks": ""
           }
          },
          "scene": {
           "xaxis": {
            "backgroundcolor": "#E5ECF6",
            "gridcolor": "white",
            "gridwidth": 2,
            "linecolor": "white",
            "showbackground": true,
            "ticks": "",
            "zerolinecolor": "white"
           },
           "yaxis": {
            "backgroundcolor": "#E5ECF6",
            "gridcolor": "white",
            "gridwidth": 2,
            "linecolor": "white",
            "showbackground": true,
            "ticks": "",
            "zerolinecolor": "white"
           },
           "zaxis": {
            "backgroundcolor": "#E5ECF6",
            "gridcolor": "white",
            "gridwidth": 2,
            "linecolor": "white",
            "showbackground": true,
            "ticks": "",
            "zerolinecolor": "white"
           }
          },
          "shapedefaults": {
           "line": {
            "color": "#2a3f5f"
           }
          },
          "ternary": {
           "aaxis": {
            "gridcolor": "white",
            "linecolor": "white",
            "ticks": ""
           },
           "baxis": {
            "gridcolor": "white",
            "linecolor": "white",
            "ticks": ""
           },
           "bgcolor": "#E5ECF6",
           "caxis": {
            "gridcolor": "white",
            "linecolor": "white",
            "ticks": ""
           }
          },
          "title": {
           "x": 0.05
          },
          "xaxis": {
           "automargin": true,
           "gridcolor": "white",
           "linecolor": "white",
           "ticks": "",
           "title": {
            "standoff": 15
           },
           "zerolinecolor": "white",
           "zerolinewidth": 2
          },
          "yaxis": {
           "automargin": true,
           "gridcolor": "white",
           "linecolor": "white",
           "ticks": "",
           "title": {
            "standoff": 15
           },
           "zerolinecolor": "white",
           "zerolinewidth": 2
          }
         }
        },
        "title": {
         "font": {
          "color": "#4D5663"
         },
         "text": "GOOG 2022"
        },
        "xaxis": {
         "anchor": "y2",
         "gridcolor": "#E1E5ED",
         "rangeselector": {
          "bgcolor": "rgba(150, 200, 250, 1)",
          "buttons": [
           {
            "count": 1,
            "label": "1m",
            "step": "month",
            "stepmode": "backward"
           },
           {
            "count": 1,
            "label": "1y",
            "step": "year",
            "stepmode": "backward"
           }
          ],
          "font": {
           "size": 13
          },
          "visible": false,
          "x": 0,
          "y": 0.9
         },
         "rangeslider": {
          "visible": false
         },
         "showgrid": true,
         "tickfont": {
          "color": "#4D5663"
         },
         "title": {
          "font": {
           "color": "#4D5663"
          },
          "text": ""
         },
         "zerolinecolor": "#E1E5ED"
        },
        "yaxis": {
         "gridcolor": "#E1E5ED",
         "showgrid": true,
         "showticklabels": false,
         "tickfont": {
          "color": "#4D5663"
         },
         "title": {
          "font": {
           "color": "#4D5663"
          },
          "text": ""
         },
         "zerolinecolor": "#E1E5ED"
        },
        "yaxis2": {
         "domain": [
          0.46,
          0.9
         ],
         "gridcolor": "#E1E5ED",
         "showgrid": true,
         "tickfont": {
          "color": "#4D5663"
         },
         "title": {
          "font": {
           "color": "#4D5663"
          },
          "text": ""
         },
         "zerolinecolor": "#E1E5ED"
        },
        "yaxis3": {
         "domain": [
          0.23,
          0.38
         ],
         "gridcolor": "#E1E5ED",
         "showgrid": true,
         "tickfont": {
          "color": "#4D5663"
         },
         "title": {
          "font": {
           "color": "#4D5663"
          },
          "text": ""
         },
         "zerolinecolor": "#E1E5ED"
        },
        "yaxis4": {
         "domain": [
          0,
          0.15
         ],
         "gridcolor": "#E1E5ED",
         "showgrid": true,
         "tickfont": {
          "color": "#4D5663"
         },
         "title": {
          "font": {
           "color": "#4D5663"
          },
          "text": ""
         },
         "zerolinecolor": "#E1E5ED"
        }
       }
      },
      "text/html": [
       "<div>                            <div id=\"976264ba-bcfc-46ec-805f-1453d0a8386a\" class=\"plotly-graph-div\" style=\"height:525px; width:100%;\"></div>            <script type=\"text/javascript\">                require([\"plotly\"], function(Plotly) {                    window.PLOTLYENV=window.PLOTLYENV || {};\n",
       "                    window.PLOTLYENV.BASE_URL='https://plot.ly';                                    if (document.getElementById(\"976264ba-bcfc-46ec-805f-1453d0a8386a\")) {                    Plotly.newPlot(                        \"976264ba-bcfc-46ec-805f-1453d0a8386a\",                        [{\"legendgroup\":\"RSI(Close,14)\",\"line\":{\"color\":\"rgba(219, 64, 82, 1.0)\",\"dash\":\"solid\",\"shape\":\"linear\",\"width\":1.3},\"mode\":\"lines\",\"name\":\"RSI(Close,14)\",\"showlegend\":true,\"text\":\"\",\"x\":[\"2022-01-03\",\"2022-01-04\",\"2022-01-05\",\"2022-01-06\",\"2022-01-07\",\"2022-01-10\",\"2022-01-11\",\"2022-01-12\",\"2022-01-13\",\"2022-01-14\",\"2022-01-18\",\"2022-01-19\",\"2022-01-20\",\"2022-01-21\",\"2022-01-24\",\"2022-01-25\",\"2022-01-26\",\"2022-01-27\",\"2022-01-28\",\"2022-01-31\",\"2022-02-01\",\"2022-02-02\",\"2022-02-03\",\"2022-02-04\",\"2022-02-07\",\"2022-02-08\",\"2022-02-09\",\"2022-02-10\",\"2022-02-11\",\"2022-02-14\",\"2022-02-15\",\"2022-02-16\",\"2022-02-17\",\"2022-02-18\",\"2022-02-22\",\"2022-02-23\",\"2022-02-24\",\"2022-02-25\",\"2022-02-28\",\"2022-03-01\",\"2022-03-02\",\"2022-03-03\",\"2022-03-04\",\"2022-03-07\",\"2022-03-08\",\"2022-03-09\",\"2022-03-10\",\"2022-03-11\",\"2022-03-14\",\"2022-03-15\",\"2022-03-16\",\"2022-03-17\",\"2022-03-18\",\"2022-03-21\",\"2022-03-22\",\"2022-03-23\",\"2022-03-24\",\"2022-03-25\",\"2022-03-28\",\"2022-03-29\",\"2022-03-30\",\"2022-03-31\",\"2022-04-01\",\"2022-04-04\",\"2022-04-05\",\"2022-04-06\",\"2022-04-07\",\"2022-04-08\",\"2022-04-11\",\"2022-04-12\",\"2022-04-13\",\"2022-04-14\",\"2022-04-18\",\"2022-04-19\",\"2022-04-20\",\"2022-04-21\",\"2022-04-22\",\"2022-04-25\",\"2022-04-26\",\"2022-04-27\",\"2022-04-28\",\"2022-04-29\",\"2022-05-02\",\"2022-05-03\",\"2022-05-04\",\"2022-05-05\",\"2022-05-06\",\"2022-05-09\",\"2022-05-10\",\"2022-05-11\",\"2022-05-12\",\"2022-05-13\",\"2022-05-16\",\"2022-05-17\",\"2022-05-18\",\"2022-05-19\",\"2022-05-20\",\"2022-05-23\",\"2022-05-24\",\"2022-05-25\",\"2022-05-26\",\"2022-05-27\",\"2022-05-31\",\"2022-06-01\",\"2022-06-02\",\"2022-06-03\",\"2022-06-06\",\"2022-06-07\",\"2022-06-08\",\"2022-06-09\",\"2022-06-10\",\"2022-06-13\",\"2022-06-14\",\"2022-06-15\",\"2022-06-16\",\"2022-06-17\",\"2022-06-21\",\"2022-06-22\",\"2022-06-23\",\"2022-06-24\",\"2022-06-27\",\"2022-06-28\",\"2022-06-29\"],\"y\":[\"\",\"\",\"\",\"\",\"\",\"\",\"\",\"\",\"\",\"\",\"\",\"\",\"\",20.71497149698432,21.573394900010157,19.345283363543757,32.88580036898523,32.86373482401652,43.41754697290752,45.052218717185404,46.41046696627058,58.33518612940168,54.27211363022369,53.947904474596875,53.191024178122696,54.33000721158678,59.64042806893764,60.4678852936136,54.19018173140353,60.10524608152905,58.76333478709237,59.97425321758421,48.85799419037287,43.828900488910584,39.73053894366689,18.944651142056628,34.711920828905434,37.545610243588925,43.34463132995454,41.82387716982496,38.523055762067635,41.98442111782295,45.90235962331235,34.76086607966026,34.05224183166534,44.70595664185675,50.61820091695524,50.01307581126288,45.99696394536559,53.02150320404752,51.52763002865428,50.12519836731667,52.79471984446779,53.41987021879815,57.46837709824496,55.47337869529312,61.79748588248579,72.47246300313311,72.15201442824457,66.86071529102274,68.28016038202612,66.35994506652982,77.52820287651903,77.54857887163232,65.40655146468751,54.78655224216429,49.337952298119205,45.52004958706228,31.257149217349067,31.655677699222906,29.360569669342908,25.844369918405278,26.53954396805885,29.54093660927525,28.026197950182492,27.760992254252514,21.772434224569793,23.19844160314365,22.509440622221703,22.170999914727545,30.392191785677,29.06195072958191,35.45628718613031,38.0883241432317,41.533446271464484,39.131239661255094,37.373749748052404,32.09387974255394,35.74990109292261,37.87086662982958,42.07734448637776,41.67419227745854,43.866224521853916,52.34476097741119,40.19661398599649,43.59793745455338,37.82291311645289,40.37929046732331,26.13663155672998,31.286471313996884,37.93261404221943,49.56071767227927,49.152391279802,50.278016197758625,56.65225120883113,47.15437366220123,53.167386248444544,50.79225006886797,58.33075083475355,57.02549557245884,53.32955821039049,42.94570995978517,52.222367672025705,57.19230461567525,47.479964752791844,41.6839510745017,46.893038232239554,46.763913252645764,41.43120835223023,56.16965521302091,49.387529046042395,43.44072028780325,43.04521408549604],\"yaxis\":\"y3\",\"type\":\"scatter\"},{\"legendgroup\":\"RSI(Close,14)\",\"line\":{\"color\":\"red\",\"width\":1},\"mode\":\"lines\",\"name\":\"\",\"showlegend\":true,\"text\":\"\",\"x\":[\"2022-01-03\",\"2022-01-04\",\"2022-01-05\",\"2022-01-06\",\"2022-01-07\",\"2022-01-10\",\"2022-01-11\",\"2022-01-12\",\"2022-01-13\",\"2022-01-14\",\"2022-01-18\",\"2022-01-19\",\"2022-01-20\",\"2022-01-21\",\"2022-01-24\",\"2022-01-25\",\"2022-01-26\",\"2022-01-27\",\"2022-01-28\",\"2022-01-31\",\"2022-02-01\",\"2022-02-02\",\"2022-02-03\",\"2022-02-04\",\"2022-02-07\",\"2022-02-08\",\"2022-02-09\",\"2022-02-10\",\"2022-02-11\",\"2022-02-14\",\"2022-02-15\",\"2022-02-16\",\"2022-02-17\",\"2022-02-18\",\"2022-02-22\",\"2022-02-23\",\"2022-02-24\",\"2022-02-25\",\"2022-02-28\",\"2022-03-01\",\"2022-03-02\",\"2022-03-03\",\"2022-03-04\",\"2022-03-07\",\"2022-03-08\",\"2022-03-09\",\"2022-03-10\",\"2022-03-11\",\"2022-03-14\",\"2022-03-15\",\"2022-03-16\",\"2022-03-17\",\"2022-03-18\",\"2022-03-21\",\"2022-03-22\",\"2022-03-23\",\"2022-03-24\",\"2022-03-25\",\"2022-03-28\",\"2022-03-29\",\"2022-03-30\",\"2022-03-31\",\"2022-04-01\",\"2022-04-04\",\"2022-04-05\",\"2022-04-06\",\"2022-04-07\",\"2022-04-08\",\"2022-04-11\",\"2022-04-12\",\"2022-04-13\",\"2022-04-14\",\"2022-04-18\",\"2022-04-19\",\"2022-04-20\",\"2022-04-21\",\"2022-04-22\",\"2022-04-25\",\"2022-04-26\",\"2022-04-27\",\"2022-04-28\",\"2022-04-29\",\"2022-05-02\",\"2022-05-03\",\"2022-05-04\",\"2022-05-05\",\"2022-05-06\",\"2022-05-09\",\"2022-05-10\",\"2022-05-11\",\"2022-05-12\",\"2022-05-13\",\"2022-05-16\",\"2022-05-17\",\"2022-05-18\",\"2022-05-19\",\"2022-05-20\",\"2022-05-23\",\"2022-05-24\",\"2022-05-25\",\"2022-05-26\",\"2022-05-27\",\"2022-05-31\",\"2022-06-01\",\"2022-06-02\",\"2022-06-03\",\"2022-06-06\",\"2022-06-07\",\"2022-06-08\",\"2022-06-09\",\"2022-06-10\",\"2022-06-13\",\"2022-06-14\",\"2022-06-15\",\"2022-06-16\",\"2022-06-17\",\"2022-06-21\",\"2022-06-22\",\"2022-06-23\",\"2022-06-24\",\"2022-06-27\",\"2022-06-28\",\"2022-06-29\"],\"y\":[30,30,30,30,30,30,30,30,30,30,30,30,30,30,30,30,30,30,30,30,30,30,30,30,30,30,30,30,30,30,30,30,30,30,30,30,30,30,30,30,30,30,30,30,30,30,30,30,30,30,30,30,30,30,30,30,30,30,30,30,30,30,30,30,30,30,30,30,30,30,30,30,30,30,30,30,30,30,30,30,30,30,30,30,30,30,30,30,30,30,30,30,30,30,30,30,30,30,30,30,30,30,30,30,30,30,30,30,30,30,30,30,30,30,30,30,30,30,30,30,30,30,30],\"yaxis\":\"y3\",\"type\":\"scatter\"},{\"legendgroup\":\"RSI(Close,14)\",\"line\":{\"color\":\"green\",\"width\":1},\"mode\":\"lines\",\"name\":\"\",\"showlegend\":true,\"text\":\"\",\"x\":[\"2022-01-03\",\"2022-01-04\",\"2022-01-05\",\"2022-01-06\",\"2022-01-07\",\"2022-01-10\",\"2022-01-11\",\"2022-01-12\",\"2022-01-13\",\"2022-01-14\",\"2022-01-18\",\"2022-01-19\",\"2022-01-20\",\"2022-01-21\",\"2022-01-24\",\"2022-01-25\",\"2022-01-26\",\"2022-01-27\",\"2022-01-28\",\"2022-01-31\",\"2022-02-01\",\"2022-02-02\",\"2022-02-03\",\"2022-02-04\",\"2022-02-07\",\"2022-02-08\",\"2022-02-09\",\"2022-02-10\",\"2022-02-11\",\"2022-02-14\",\"2022-02-15\",\"2022-02-16\",\"2022-02-17\",\"2022-02-18\",\"2022-02-22\",\"2022-02-23\",\"2022-02-24\",\"2022-02-25\",\"2022-02-28\",\"2022-03-01\",\"2022-03-02\",\"2022-03-03\",\"2022-03-04\",\"2022-03-07\",\"2022-03-08\",\"2022-03-09\",\"2022-03-10\",\"2022-03-11\",\"2022-03-14\",\"2022-03-15\",\"2022-03-16\",\"2022-03-17\",\"2022-03-18\",\"2022-03-21\",\"2022-03-22\",\"2022-03-23\",\"2022-03-24\",\"2022-03-25\",\"2022-03-28\",\"2022-03-29\",\"2022-03-30\",\"2022-03-31\",\"2022-04-01\",\"2022-04-04\",\"2022-04-05\",\"2022-04-06\",\"2022-04-07\",\"2022-04-08\",\"2022-04-11\",\"2022-04-12\",\"2022-04-13\",\"2022-04-14\",\"2022-04-18\",\"2022-04-19\",\"2022-04-20\",\"2022-04-21\",\"2022-04-22\",\"2022-04-25\",\"2022-04-26\",\"2022-04-27\",\"2022-04-28\",\"2022-04-29\",\"2022-05-02\",\"2022-05-03\",\"2022-05-04\",\"2022-05-05\",\"2022-05-06\",\"2022-05-09\",\"2022-05-10\",\"2022-05-11\",\"2022-05-12\",\"2022-05-13\",\"2022-05-16\",\"2022-05-17\",\"2022-05-18\",\"2022-05-19\",\"2022-05-20\",\"2022-05-23\",\"2022-05-24\",\"2022-05-25\",\"2022-05-26\",\"2022-05-27\",\"2022-05-31\",\"2022-06-01\",\"2022-06-02\",\"2022-06-03\",\"2022-06-06\",\"2022-06-07\",\"2022-06-08\",\"2022-06-09\",\"2022-06-10\",\"2022-06-13\",\"2022-06-14\",\"2022-06-15\",\"2022-06-16\",\"2022-06-17\",\"2022-06-21\",\"2022-06-22\",\"2022-06-23\",\"2022-06-24\",\"2022-06-27\",\"2022-06-28\",\"2022-06-29\"],\"y\":[70,70,70,70,70,70,70,70,70,70,70,70,70,70,70,70,70,70,70,70,70,70,70,70,70,70,70,70,70,70,70,70,70,70,70,70,70,70,70,70,70,70,70,70,70,70,70,70,70,70,70,70,70,70,70,70,70,70,70,70,70,70,70,70,70,70,70,70,70,70,70,70,70,70,70,70,70,70,70,70,70,70,70,70,70,70,70,70,70,70,70,70,70,70,70,70,70,70,70,70,70,70,70,70,70,70,70,70,70,70,70,70,70,70,70,70,70,70,70,70,70,70,70],\"yaxis\":\"y3\",\"type\":\"scatter\"},{\"marker\":{\"color\":[\"#db4052\",\"#db4052\",\"#db4052\",\"#db4052\",\"#db4052\",\"#008000\",\"#008000\",\"#008000\",\"#db4052\",\"#008000\",\"#db4052\",\"#db4052\",\"#db4052\",\"#db4052\",\"#008000\",\"#db4052\",\"#008000\",\"#db4052\",\"#008000\",\"#008000\",\"#008000\",\"#008000\",\"#db4052\",\"#008000\",\"#db4052\",\"#008000\",\"#008000\",\"#db4052\",\"#db4052\",\"#008000\",\"#008000\",\"#008000\",\"#db4052\",\"#db4052\",\"#db4052\",\"#db4052\",\"#008000\",\"#008000\",\"#008000\",\"#db4052\",\"#008000\",\"#db4052\",\"#db4052\",\"#db4052\",\"#008000\",\"#008000\",\"#db4052\",\"#db4052\",\"#db4052\",\"#008000\",\"#008000\",\"#008000\",\"#008000\",\"#db4052\",\"#008000\",\"#db4052\",\"#008000\",\"#008000\",\"#008000\",\"#008000\",\"#db4052\",\"#db4052\",\"#008000\",\"#008000\",\"#db4052\",\"#db4052\",\"#db4052\",\"#db4052\",\"#db4052\",\"#db4052\",\"#008000\",\"#db4052\",\"#008000\",\"#008000\",\"#db4052\",\"#db4052\",\"#db4052\",\"#008000\",\"#db4052\",\"#db4052\",\"#008000\",\"#db4052\",\"#008000\",\"#008000\",\"#008000\",\"#db4052\",\"#db4052\",\"#db4052\",\"#008000\",\"#db4052\",\"#db4052\",\"#008000\",\"#db4052\",\"#008000\",\"#db4052\",\"#db4052\",\"#db4052\",\"#008000\",\"#db4052\",\"#db4052\",\"#008000\",\"#008000\",\"#008000\",\"#008000\",\"#008000\",\"#db4052\",\"#008000\",\"#008000\",\"#008000\",\"#db4052\",\"#db4052\",\"#db4052\",\"#008000\",\"#008000\",\"#db4052\",\"#008000\",\"#008000\",\"#008000\",\"#008000\",\"#008000\",\"#db4052\",\"#db4052\",\"#db4052\"],\"line\":{\"color\":[\"#db4052\",\"#db4052\",\"#db4052\",\"#db4052\",\"#db4052\",\"#008000\",\"#008000\",\"#008000\",\"#db4052\",\"#008000\",\"#db4052\",\"#db4052\",\"#db4052\",\"#db4052\",\"#008000\",\"#db4052\",\"#008000\",\"#db4052\",\"#008000\",\"#008000\",\"#008000\",\"#008000\",\"#db4052\",\"#008000\",\"#db4052\",\"#008000\",\"#008000\",\"#db4052\",\"#db4052\",\"#008000\",\"#008000\",\"#008000\",\"#db4052\",\"#db4052\",\"#db4052\",\"#db4052\",\"#008000\",\"#008000\",\"#008000\",\"#db4052\",\"#008000\",\"#db4052\",\"#db4052\",\"#db4052\",\"#008000\",\"#008000\",\"#db4052\",\"#db4052\",\"#db4052\",\"#008000\",\"#008000\",\"#008000\",\"#008000\",\"#db4052\",\"#008000\",\"#db4052\",\"#008000\",\"#008000\",\"#008000\",\"#008000\",\"#db4052\",\"#db4052\",\"#008000\",\"#008000\",\"#db4052\",\"#db4052\",\"#db4052\",\"#db4052\",\"#db4052\",\"#db4052\",\"#008000\",\"#db4052\",\"#008000\",\"#008000\",\"#db4052\",\"#db4052\",\"#db4052\",\"#008000\",\"#db4052\",\"#db4052\",\"#008000\",\"#db4052\",\"#008000\",\"#008000\",\"#008000\",\"#db4052\",\"#db4052\",\"#db4052\",\"#008000\",\"#db4052\",\"#db4052\",\"#008000\",\"#db4052\",\"#008000\",\"#db4052\",\"#db4052\",\"#db4052\",\"#008000\",\"#db4052\",\"#db4052\",\"#008000\",\"#008000\",\"#008000\",\"#008000\",\"#008000\",\"#db4052\",\"#008000\",\"#008000\",\"#008000\",\"#db4052\",\"#db4052\",\"#db4052\",\"#008000\",\"#008000\",\"#db4052\",\"#008000\",\"#008000\",\"#008000\",\"#008000\",\"#008000\",\"#db4052\",\"#db4052\",\"#db4052\"],\"width\":1}},\"name\":\"Volume\",\"opacity\":0.8,\"orientation\":\"v\",\"text\":\"\",\"x\":[\"2022-01-03\",\"2022-01-04\",\"2022-01-05\",\"2022-01-06\",\"2022-01-07\",\"2022-01-10\",\"2022-01-11\",\"2022-01-12\",\"2022-01-13\",\"2022-01-14\",\"2022-01-18\",\"2022-01-19\",\"2022-01-20\",\"2022-01-21\",\"2022-01-24\",\"2022-01-25\",\"2022-01-26\",\"2022-01-27\",\"2022-01-28\",\"2022-01-31\",\"2022-02-01\",\"2022-02-02\",\"2022-02-03\",\"2022-02-04\",\"2022-02-07\",\"2022-02-08\",\"2022-02-09\",\"2022-02-10\",\"2022-02-11\",\"2022-02-14\",\"2022-02-15\",\"2022-02-16\",\"2022-02-17\",\"2022-02-18\",\"2022-02-22\",\"2022-02-23\",\"2022-02-24\",\"2022-02-25\",\"2022-02-28\",\"2022-03-01\",\"2022-03-02\",\"2022-03-03\",\"2022-03-04\",\"2022-03-07\",\"2022-03-08\",\"2022-03-09\",\"2022-03-10\",\"2022-03-11\",\"2022-03-14\",\"2022-03-15\",\"2022-03-16\",\"2022-03-17\",\"2022-03-18\",\"2022-03-21\",\"2022-03-22\",\"2022-03-23\",\"2022-03-24\",\"2022-03-25\",\"2022-03-28\",\"2022-03-29\",\"2022-03-30\",\"2022-03-31\",\"2022-04-01\",\"2022-04-04\",\"2022-04-05\",\"2022-04-06\",\"2022-04-07\",\"2022-04-08\",\"2022-04-11\",\"2022-04-12\",\"2022-04-13\",\"2022-04-14\",\"2022-04-18\",\"2022-04-19\",\"2022-04-20\",\"2022-04-21\",\"2022-04-22\",\"2022-04-25\",\"2022-04-26\",\"2022-04-27\",\"2022-04-28\",\"2022-04-29\",\"2022-05-02\",\"2022-05-03\",\"2022-05-04\",\"2022-05-05\",\"2022-05-06\",\"2022-05-09\",\"2022-05-10\",\"2022-05-11\",\"2022-05-12\",\"2022-05-13\",\"2022-05-16\",\"2022-05-17\",\"2022-05-18\",\"2022-05-19\",\"2022-05-20\",\"2022-05-23\",\"2022-05-24\",\"2022-05-25\",\"2022-05-26\",\"2022-05-27\",\"2022-05-31\",\"2022-06-01\",\"2022-06-02\",\"2022-06-03\",\"2022-06-06\",\"2022-06-07\",\"2022-06-08\",\"2022-06-09\",\"2022-06-10\",\"2022-06-13\",\"2022-06-14\",\"2022-06-15\",\"2022-06-16\",\"2022-06-17\",\"2022-06-21\",\"2022-06-22\",\"2022-06-23\",\"2022-06-24\",\"2022-06-27\",\"2022-06-28\",\"2022-06-29\"],\"y\":[1260700,1146400,2482100,1452500,970400,1704800,1175100,1182100,1328300,1191300,1369100,1039800,1096500,2096000,2757400,1800400,1981500,1512400,1525900,1702800,2560200,4487500,2846500,2461200,2230500,1712800,1431400,1650900,1940400,1339600,1328900,1280500,1548400,1592900,1945300,1321600,2158300,1311800,1483800,1232000,1198300,989000,1222300,1958900,1762500,1612900,1213300,1330000,1512700,1514600,1602900,1199700,2295000,1331600,1488800,1265100,1027200,963500,1188700,1433900,1052300,1475800,1174000,953800,962800,1178700,972400,821700,1209400,1150200,977100,1174200,745900,1136000,1130500,1507900,2320500,1726100,2469700,3111900,1839500,1684700,1514000,1060800,1661600,2154500,1765500,1726000,1557900,1825100,2073200,1486900,1164100,1078800,1399100,1459600,1879300,1577900,3019300,1895000,1514400,1496200,2565100,1431500,1373600,1252600,1189300,1320700,1127200,1157100,1566200,1837800,1274000,1659600,1765700,2163500,1950500,1196100,1235500,1954700,1642000,1411600,931400],\"yaxis\":\"y4\",\"type\":\"bar\"},{\"close\":[2901.48999,2888.330078,2753.070068,2751.02002,2740.090088,2771.47998,2800.350098,2832.959961,2782.6201170000004,2795.72998,2725.810059,2713.040039,2670.1298829999996,2601.840088,2607.439941,2534.709961,2584.800049,2582.419922,2665.790039,2713.969971,2757.570068,2960.72998,2853.01001,2860.320068,2778.76001,2784.26001,2829.060059,2772.050049,2682.600098,2706.0,2728.51001,2749.75,2646.169922,2609.350098,2588.050049,2551.699951,2653.469971,2690.389893,2697.820068,2683.360107,2695.030029,2686.159912,2642.439941,2529.290039,2545.570068,2677.320068,2653.639893,2609.51001,2534.820068,2593.209961,2673.810059,2692.01001,2736.030029,2729.570068,2805.550049,2770.070068,2826.23999,2830.429932,2839.0,2865.0,2852.889893,2792.98999,2814.0,2872.850098,2821.26001,2743.52002,2729.300049,2680.209961,2595.929932,2567.48999,2605.719971,2545.060059,2559.219971,2610.6201170000004,2564.909912,2498.75,2392.280029,2465.0,2390.1201170000004,2300.409912,2388.22998,2299.330078,2343.139893,2362.590088,2451.5,2334.929932,2313.199951,2261.679932,2291.689941,2279.219971,2263.219971,2330.310059,2295.850098,2334.030029,2248.02002,2214.909912,2186.26001,2233.330078,2118.52002,2116.790039,2165.919922,2255.97998,2280.780029,2282.73999,2354.919922,2291.280029,2340.209961,2344.590088,2344.76001,2298.360107,2228.550049,2137.530029,2143.8798829999996,2207.810059,2132.719971,2157.310059,2240.300049,2240.679932,2253.689941,2370.76001,2332.449951,2251.429932,2245.1298829999996],\"decreasing\":{\"line\":{\"color\":\"#db4052\"}},\"high\":[2911.0,2932.199951,2885.959961,2793.719971,2765.094971,2772.800049,2806.590088,2856.284912,2863.709961,2824.01001,2747.830078,2767.98999,2758.23999,2695.209961,2615.570068,2586.77002,2656.149902,2652.198975,2667.409912,2716.8701170000004,2764.0,3042.0,2982.354004,2890.705078,2876.929932,2796.741943,2843.51001,2828.6201170000004,2785.665039,2723.330078,2758.0,2758.919922,2736.790039,2676.47998,2638.014893,2634.97998,2660.73999,2707.780029,2712.810059,2722.219971,2712.310059,2734.275879,2683.97998,2638.080078,2624.929932,2683.969971,2670.77002,2684.0,2620.52002,2610.344971,2675.419922,2694.790039,2738.27002,2751.649902,2830.0,2800.5,2827.929932,2839.189941,2839.530029,2883.25,2869.610107,2852.889893,2819.0,2880.875,2871.800049,2796.969971,2754.030029,2725.0,2658.783936,2648.469971,2613.11499,2614.205078,2574.23999,2618.074951,2638.469971,2606.149902,2509.040039,2465.560059,2455.0,2350.0,2408.77002,2379.199951,2346.790039,2386.0,2462.860107,2424.665039,2349.969971,2311.258057,2333.820068,2333.419922,2297.1298829999996,2361.699951,2332.149902,2344.550049,2313.913086,2271.75,2251.0,2240.110107,2127.899902,2130.894043,2179.10498,2257.360107,2328.669922,2347.97998,2357.959961,2327.290039,2387.969971,2354.9729,2372.919922,2367.0,2269.939941,2184.3701170000004,2169.149902,2241.26001,2185.810059,2184.98999,2253.459961,2275.389893,2263.929932,2372.75,2385.0,2357.1298829999996,2273.290039],\"increasing\":{\"line\":{\"color\":\"#008000\"}},\"low\":[2870.050049,2876.322998,2750.469971,2735.27002,2715.780029,2662.810059,2736.27002,2822.23999,2778.280029,2750.0,2712.340088,2710.0,2662.889893,2600.02002,2492.839111,2527.560059,2543.070068,2578.899902,2573.889893,2645.47998,2691.36499,2911.149902,2844.100098,2796.350098,2773.97998,2737.459961,2807.540039,2761.0,2665.77002,2666.040039,2710.790039,2696.4729,2644.040039,2606.1411129999997,2554.820068,2550.070068,2495.290039,2635.300049,2656.5048829999996,2667.570068,2668.649902,2668.6201170000004,2608.169922,2528.199951,2517.215088,2601.76001,2628.02002,2605.929932,2528.26001,2531.360107,2584.02002,2654.3798829999996,2658.639893,2692.22998,2730.0,2763.330078,2760.788086,2793.98999,2796.5629879999997,2849.679932,2843.360107,2792.3798829999996,2775.939941,2816.48999,2818.8701170000004,2728.362061,2697.14502,2675.050049,2592.350098,2551.52002,2568.771973,2542.22998,2531.569092,2549.030029,2557.881104,2493.0,2382.810059,2375.38501,2383.237061,2262.485107,2302.87793,2293.8798829999996,2267.98999,2332.540039,2314.77002,2303.649902,2282.860107,2251.030029,2267.666016,2273.0,2202.27002,2280.0,2286.699951,2306.75,2242.840088,2209.360107,2127.459961,2183.084961,2044.160034,2084.225098,2109.76001,2191.0,2251.449951,2271.01001,2266.159912,2273.360107,2330.565918,2302.51001,2333.935059,2297.340088,2217.219971,2131.760986,2127.040039,2162.375,2115.850098,2112.571045,2185.8701170000004,2214.486084,2220.580078,2272.060059,2320.014893,2248.8798829999996,2231.080078],\"name\":\"GOOG\",\"open\":[2889.51001,2911.01001,2883.6201170000004,2749.949951,2758.100098,2701.97998,2763.610107,2831.090088,2836.810059,2750.0,2732.0,2738.77002,2730.280029,2660.23999,2520.550049,2568.709961,2611.850098,2627.219971,2600.0,2683.959961,2756.699951,3037.27002,2905.899902,2860.340088,2874.179932,2779.824951,2816.9951170000004,2790.0,2775.0,2667.310059,2749.429932,2728.610107,2723.0,2660.75,2599.699951,2621.570068,2500.0,2670.51001,2665.689941,2689.600098,2692.165039,2719.570068,2667.649902,2638.080078,2525.01001,2628.0,2629.25,2679.98999,2611.459961,2554.830078,2620.0,2666.419922,2677.679932,2736.949951,2730.0,2782.77002,2785.449951,2835.080078,2813.689941,2863.209961,2857.399902,2848.969971,2800.199951,2816.48999,2867.98999,2783.22998,2732.360107,2725.0,2658.0,2648.469971,2572.530029,2612.98999,2548.199951,2561.540039,2625.679932,2587.0,2500.0,2388.590088,2455.0,2287.459961,2342.300049,2351.560059,2278.1298829999996,2335.300049,2360.070068,2404.409912,2310.3798829999996,2266.070068,2320.810059,2274.209961,2238.76001,2296.909912,2307.679932,2344.550049,2304.75,2236.820068,2241.709961,2202.080078,2127.550049,2102.840088,2121.01001,2195.77002,2261.580078,2298.6298829999996,2283.76001,2319.850098,2334.850098,2312.959961,2337.530029,2326.830078,2255.625,2148.919922,2137.800049,2177.98999,2162.98999,2130.699951,2194.040039,2223.26001,2259.0,2272.060059,2378.699951,2327.02002,2242.969971],\"showlegend\":true,\"x\":[\"2022-01-03\",\"2022-01-04\",\"2022-01-05\",\"2022-01-06\",\"2022-01-07\",\"2022-01-10\",\"2022-01-11\",\"2022-01-12\",\"2022-01-13\",\"2022-01-14\",\"2022-01-18\",\"2022-01-19\",\"2022-01-20\",\"2022-01-21\",\"2022-01-24\",\"2022-01-25\",\"2022-01-26\",\"2022-01-27\",\"2022-01-28\",\"2022-01-31\",\"2022-02-01\",\"2022-02-02\",\"2022-02-03\",\"2022-02-04\",\"2022-02-07\",\"2022-02-08\",\"2022-02-09\",\"2022-02-10\",\"2022-02-11\",\"2022-02-14\",\"2022-02-15\",\"2022-02-16\",\"2022-02-17\",\"2022-02-18\",\"2022-02-22\",\"2022-02-23\",\"2022-02-24\",\"2022-02-25\",\"2022-02-28\",\"2022-03-01\",\"2022-03-02\",\"2022-03-03\",\"2022-03-04\",\"2022-03-07\",\"2022-03-08\",\"2022-03-09\",\"2022-03-10\",\"2022-03-11\",\"2022-03-14\",\"2022-03-15\",\"2022-03-16\",\"2022-03-17\",\"2022-03-18\",\"2022-03-21\",\"2022-03-22\",\"2022-03-23\",\"2022-03-24\",\"2022-03-25\",\"2022-03-28\",\"2022-03-29\",\"2022-03-30\",\"2022-03-31\",\"2022-04-01\",\"2022-04-04\",\"2022-04-05\",\"2022-04-06\",\"2022-04-07\",\"2022-04-08\",\"2022-04-11\",\"2022-04-12\",\"2022-04-13\",\"2022-04-14\",\"2022-04-18\",\"2022-04-19\",\"2022-04-20\",\"2022-04-21\",\"2022-04-22\",\"2022-04-25\",\"2022-04-26\",\"2022-04-27\",\"2022-04-28\",\"2022-04-29\",\"2022-05-02\",\"2022-05-03\",\"2022-05-04\",\"2022-05-05\",\"2022-05-06\",\"2022-05-09\",\"2022-05-10\",\"2022-05-11\",\"2022-05-12\",\"2022-05-13\",\"2022-05-16\",\"2022-05-17\",\"2022-05-18\",\"2022-05-19\",\"2022-05-20\",\"2022-05-23\",\"2022-05-24\",\"2022-05-25\",\"2022-05-26\",\"2022-05-27\",\"2022-05-31\",\"2022-06-01\",\"2022-06-02\",\"2022-06-03\",\"2022-06-06\",\"2022-06-07\",\"2022-06-08\",\"2022-06-09\",\"2022-06-10\",\"2022-06-13\",\"2022-06-14\",\"2022-06-15\",\"2022-06-16\",\"2022-06-17\",\"2022-06-21\",\"2022-06-22\",\"2022-06-23\",\"2022-06-24\",\"2022-06-27\",\"2022-06-28\",\"2022-06-29\"],\"yaxis\":\"y2\",\"type\":\"candlestick\"}],                        {\"legend\":{\"bgcolor\":\"#F5F6F9\",\"font\":{\"color\":\"#4D5663\"}},\"margin\":{\"b\":30,\"l\":30,\"r\":30,\"t\":30},\"paper_bgcolor\":\"#F5F6F9\",\"plot_bgcolor\":\"#F5F6F9\",\"showlegend\":true,\"template\":{\"data\":{\"barpolar\":[{\"marker\":{\"line\":{\"color\":\"#E5ECF6\",\"width\":0.5},\"pattern\":{\"fillmode\":\"overlay\",\"size\":10,\"solidity\":0.2}},\"type\":\"barpolar\"}],\"bar\":[{\"error_x\":{\"color\":\"#2a3f5f\"},\"error_y\":{\"color\":\"#2a3f5f\"},\"marker\":{\"line\":{\"color\":\"#E5ECF6\",\"width\":0.5},\"pattern\":{\"fillmode\":\"overlay\",\"size\":10,\"solidity\":0.2}},\"type\":\"bar\"}],\"carpet\":[{\"aaxis\":{\"endlinecolor\":\"#2a3f5f\",\"gridcolor\":\"white\",\"linecolor\":\"white\",\"minorgridcolor\":\"white\",\"startlinecolor\":\"#2a3f5f\"},\"baxis\":{\"endlinecolor\":\"#2a3f5f\",\"gridcolor\":\"white\",\"linecolor\":\"white\",\"minorgridcolor\":\"white\",\"startlinecolor\":\"#2a3f5f\"},\"type\":\"carpet\"}],\"choropleth\":[{\"colorbar\":{\"outlinewidth\":0,\"ticks\":\"\"},\"type\":\"choropleth\"}],\"contourcarpet\":[{\"colorbar\":{\"outlinewidth\":0,\"ticks\":\"\"},\"type\":\"contourcarpet\"}],\"contour\":[{\"colorbar\":{\"outlinewidth\":0,\"ticks\":\"\"},\"colorscale\":[[0.0,\"#0d0887\"],[0.1111111111111111,\"#46039f\"],[0.2222222222222222,\"#7201a8\"],[0.3333333333333333,\"#9c179e\"],[0.4444444444444444,\"#bd3786\"],[0.5555555555555556,\"#d8576b\"],[0.6666666666666666,\"#ed7953\"],[0.7777777777777778,\"#fb9f3a\"],[0.8888888888888888,\"#fdca26\"],[1.0,\"#f0f921\"]],\"type\":\"contour\"}],\"heatmapgl\":[{\"colorbar\":{\"outlinewidth\":0,\"ticks\":\"\"},\"colorscale\":[[0.0,\"#0d0887\"],[0.1111111111111111,\"#46039f\"],[0.2222222222222222,\"#7201a8\"],[0.3333333333333333,\"#9c179e\"],[0.4444444444444444,\"#bd3786\"],[0.5555555555555556,\"#d8576b\"],[0.6666666666666666,\"#ed7953\"],[0.7777777777777778,\"#fb9f3a\"],[0.8888888888888888,\"#fdca26\"],[1.0,\"#f0f921\"]],\"type\":\"heatmapgl\"}],\"heatmap\":[{\"colorbar\":{\"outlinewidth\":0,\"ticks\":\"\"},\"colorscale\":[[0.0,\"#0d0887\"],[0.1111111111111111,\"#46039f\"],[0.2222222222222222,\"#7201a8\"],[0.3333333333333333,\"#9c179e\"],[0.4444444444444444,\"#bd3786\"],[0.5555555555555556,\"#d8576b\"],[0.6666666666666666,\"#ed7953\"],[0.7777777777777778,\"#fb9f3a\"],[0.8888888888888888,\"#fdca26\"],[1.0,\"#f0f921\"]],\"type\":\"heatmap\"}],\"histogram2dcontour\":[{\"colorbar\":{\"outlinewidth\":0,\"ticks\":\"\"},\"colorscale\":[[0.0,\"#0d0887\"],[0.1111111111111111,\"#46039f\"],[0.2222222222222222,\"#7201a8\"],[0.3333333333333333,\"#9c179e\"],[0.4444444444444444,\"#bd3786\"],[0.5555555555555556,\"#d8576b\"],[0.6666666666666666,\"#ed7953\"],[0.7777777777777778,\"#fb9f3a\"],[0.8888888888888888,\"#fdca26\"],[1.0,\"#f0f921\"]],\"type\":\"histogram2dcontour\"}],\"histogram2d\":[{\"colorbar\":{\"outlinewidth\":0,\"ticks\":\"\"},\"colorscale\":[[0.0,\"#0d0887\"],[0.1111111111111111,\"#46039f\"],[0.2222222222222222,\"#7201a8\"],[0.3333333333333333,\"#9c179e\"],[0.4444444444444444,\"#bd3786\"],[0.5555555555555556,\"#d8576b\"],[0.6666666666666666,\"#ed7953\"],[0.7777777777777778,\"#fb9f3a\"],[0.8888888888888888,\"#fdca26\"],[1.0,\"#f0f921\"]],\"type\":\"histogram2d\"}],\"histogram\":[{\"marker\":{\"pattern\":{\"fillmode\":\"overlay\",\"size\":10,\"solidity\":0.2}},\"type\":\"histogram\"}],\"mesh3d\":[{\"colorbar\":{\"outlinewidth\":0,\"ticks\":\"\"},\"type\":\"mesh3d\"}],\"parcoords\":[{\"line\":{\"colorbar\":{\"outlinewidth\":0,\"ticks\":\"\"}},\"type\":\"parcoords\"}],\"pie\":[{\"automargin\":true,\"type\":\"pie\"}],\"scatter3d\":[{\"line\":{\"colorbar\":{\"outlinewidth\":0,\"ticks\":\"\"}},\"marker\":{\"colorbar\":{\"outlinewidth\":0,\"ticks\":\"\"}},\"type\":\"scatter3d\"}],\"scattercarpet\":[{\"marker\":{\"colorbar\":{\"outlinewidth\":0,\"ticks\":\"\"}},\"type\":\"scattercarpet\"}],\"scattergeo\":[{\"marker\":{\"colorbar\":{\"outlinewidth\":0,\"ticks\":\"\"}},\"type\":\"scattergeo\"}],\"scattergl\":[{\"marker\":{\"colorbar\":{\"outlinewidth\":0,\"ticks\":\"\"}},\"type\":\"scattergl\"}],\"scattermapbox\":[{\"marker\":{\"colorbar\":{\"outlinewidth\":0,\"ticks\":\"\"}},\"type\":\"scattermapbox\"}],\"scatterpolargl\":[{\"marker\":{\"colorbar\":{\"outlinewidth\":0,\"ticks\":\"\"}},\"type\":\"scatterpolargl\"}],\"scatterpolar\":[{\"marker\":{\"colorbar\":{\"outlinewidth\":0,\"ticks\":\"\"}},\"type\":\"scatterpolar\"}],\"scatter\":[{\"fillpattern\":{\"fillmode\":\"overlay\",\"size\":10,\"solidity\":0.2},\"type\":\"scatter\"}],\"scatterternary\":[{\"marker\":{\"colorbar\":{\"outlinewidth\":0,\"ticks\":\"\"}},\"type\":\"scatterternary\"}],\"surface\":[{\"colorbar\":{\"outlinewidth\":0,\"ticks\":\"\"},\"colorscale\":[[0.0,\"#0d0887\"],[0.1111111111111111,\"#46039f\"],[0.2222222222222222,\"#7201a8\"],[0.3333333333333333,\"#9c179e\"],[0.4444444444444444,\"#bd3786\"],[0.5555555555555556,\"#d8576b\"],[0.6666666666666666,\"#ed7953\"],[0.7777777777777778,\"#fb9f3a\"],[0.8888888888888888,\"#fdca26\"],[1.0,\"#f0f921\"]],\"type\":\"surface\"}],\"table\":[{\"cells\":{\"fill\":{\"color\":\"#EBF0F8\"},\"line\":{\"color\":\"white\"}},\"header\":{\"fill\":{\"color\":\"#C8D4E3\"},\"line\":{\"color\":\"white\"}},\"type\":\"table\"}]},\"layout\":{\"annotationdefaults\":{\"arrowcolor\":\"#2a3f5f\",\"arrowhead\":0,\"arrowwidth\":1},\"autotypenumbers\":\"strict\",\"coloraxis\":{\"colorbar\":{\"outlinewidth\":0,\"ticks\":\"\"}},\"colorscale\":{\"diverging\":[[0,\"#8e0152\"],[0.1,\"#c51b7d\"],[0.2,\"#de77ae\"],[0.3,\"#f1b6da\"],[0.4,\"#fde0ef\"],[0.5,\"#f7f7f7\"],[0.6,\"#e6f5d0\"],[0.7,\"#b8e186\"],[0.8,\"#7fbc41\"],[0.9,\"#4d9221\"],[1,\"#276419\"]],\"sequential\":[[0.0,\"#0d0887\"],[0.1111111111111111,\"#46039f\"],[0.2222222222222222,\"#7201a8\"],[0.3333333333333333,\"#9c179e\"],[0.4444444444444444,\"#bd3786\"],[0.5555555555555556,\"#d8576b\"],[0.6666666666666666,\"#ed7953\"],[0.7777777777777778,\"#fb9f3a\"],[0.8888888888888888,\"#fdca26\"],[1.0,\"#f0f921\"]],\"sequentialminus\":[[0.0,\"#0d0887\"],[0.1111111111111111,\"#46039f\"],[0.2222222222222222,\"#7201a8\"],[0.3333333333333333,\"#9c179e\"],[0.4444444444444444,\"#bd3786\"],[0.5555555555555556,\"#d8576b\"],[0.6666666666666666,\"#ed7953\"],[0.7777777777777778,\"#fb9f3a\"],[0.8888888888888888,\"#fdca26\"],[1.0,\"#f0f921\"]]},\"colorway\":[\"#636efa\",\"#EF553B\",\"#00cc96\",\"#ab63fa\",\"#FFA15A\",\"#19d3f3\",\"#FF6692\",\"#B6E880\",\"#FF97FF\",\"#FECB52\"],\"font\":{\"color\":\"#2a3f5f\"},\"geo\":{\"bgcolor\":\"white\",\"lakecolor\":\"white\",\"landcolor\":\"#E5ECF6\",\"showlakes\":true,\"showland\":true,\"subunitcolor\":\"white\"},\"hoverlabel\":{\"align\":\"left\"},\"hovermode\":\"closest\",\"mapbox\":{\"style\":\"light\"},\"paper_bgcolor\":\"white\",\"plot_bgcolor\":\"#E5ECF6\",\"polar\":{\"angularaxis\":{\"gridcolor\":\"white\",\"linecolor\":\"white\",\"ticks\":\"\"},\"bgcolor\":\"#E5ECF6\",\"radialaxis\":{\"gridcolor\":\"white\",\"linecolor\":\"white\",\"ticks\":\"\"}},\"scene\":{\"xaxis\":{\"backgroundcolor\":\"#E5ECF6\",\"gridcolor\":\"white\",\"gridwidth\":2,\"linecolor\":\"white\",\"showbackground\":true,\"ticks\":\"\",\"zerolinecolor\":\"white\"},\"yaxis\":{\"backgroundcolor\":\"#E5ECF6\",\"gridcolor\":\"white\",\"gridwidth\":2,\"linecolor\":\"white\",\"showbackground\":true,\"ticks\":\"\",\"zerolinecolor\":\"white\"},\"zaxis\":{\"backgroundcolor\":\"#E5ECF6\",\"gridcolor\":\"white\",\"gridwidth\":2,\"linecolor\":\"white\",\"showbackground\":true,\"ticks\":\"\",\"zerolinecolor\":\"white\"}},\"shapedefaults\":{\"line\":{\"color\":\"#2a3f5f\"}},\"ternary\":{\"aaxis\":{\"gridcolor\":\"white\",\"linecolor\":\"white\",\"ticks\":\"\"},\"baxis\":{\"gridcolor\":\"white\",\"linecolor\":\"white\",\"ticks\":\"\"},\"bgcolor\":\"#E5ECF6\",\"caxis\":{\"gridcolor\":\"white\",\"linecolor\":\"white\",\"ticks\":\"\"}},\"title\":{\"x\":0.05},\"xaxis\":{\"automargin\":true,\"gridcolor\":\"white\",\"linecolor\":\"white\",\"ticks\":\"\",\"title\":{\"standoff\":15},\"zerolinecolor\":\"white\",\"zerolinewidth\":2},\"yaxis\":{\"automargin\":true,\"gridcolor\":\"white\",\"linecolor\":\"white\",\"ticks\":\"\",\"title\":{\"standoff\":15},\"zerolinecolor\":\"white\",\"zerolinewidth\":2}}},\"title\":{\"font\":{\"color\":\"#4D5663\"},\"text\":\"GOOG 2022\"},\"xaxis\":{\"anchor\":\"y2\",\"gridcolor\":\"#E1E5ED\",\"rangeselector\":{\"bgcolor\":\"rgba(150, 200, 250, 1)\",\"buttons\":[{\"count\":1,\"label\":\"1m\",\"step\":\"month\",\"stepmode\":\"backward\"},{\"count\":1,\"label\":\"1y\",\"step\":\"year\",\"stepmode\":\"backward\"}],\"font\":{\"size\":13},\"visible\":false,\"x\":0,\"y\":0.9},\"rangeslider\":{\"visible\":false},\"showgrid\":true,\"tickfont\":{\"color\":\"#4D5663\"},\"title\":{\"font\":{\"color\":\"#4D5663\"},\"text\":\"\"},\"zerolinecolor\":\"#E1E5ED\"},\"yaxis\":{\"gridcolor\":\"#E1E5ED\",\"showgrid\":true,\"showticklabels\":false,\"tickfont\":{\"color\":\"#4D5663\"},\"title\":{\"font\":{\"color\":\"#4D5663\"},\"text\":\"\"},\"zerolinecolor\":\"#E1E5ED\"},\"yaxis3\":{\"domain\":[0.23,0.38],\"gridcolor\":\"#E1E5ED\",\"showgrid\":true,\"tickfont\":{\"color\":\"#4D5663\"},\"title\":{\"font\":{\"color\":\"#4D5663\"},\"text\":\"\"},\"zerolinecolor\":\"#E1E5ED\"},\"yaxis4\":{\"domain\":[0.0,0.15],\"gridcolor\":\"#E1E5ED\",\"showgrid\":true,\"tickfont\":{\"color\":\"#4D5663\"},\"title\":{\"font\":{\"color\":\"#4D5663\"},\"text\":\"\"},\"zerolinecolor\":\"#E1E5ED\"},\"yaxis2\":{\"domain\":[0.46,0.9],\"gridcolor\":\"#E1E5ED\",\"showgrid\":true,\"tickfont\":{\"color\":\"#4D5663\"},\"title\":{\"font\":{\"color\":\"#4D5663\"},\"text\":\"\"},\"zerolinecolor\":\"#E1E5ED\"}},                        {\"showLink\": true, \"linkText\": \"Export to plot.ly\", \"plotlyServerURL\": \"https://plot.ly\", \"responsive\": true}                    ).then(function(){\n",
       "                            \n",
       "var gd = document.getElementById('976264ba-bcfc-46ec-805f-1453d0a8386a');\n",
       "var x = new MutationObserver(function (mutations, observer) {{\n",
       "        var display = window.getComputedStyle(gd).display;\n",
       "        if (!display || display === 'none') {{\n",
       "            console.log([gd, 'removed!']);\n",
       "            Plotly.purge(gd);\n",
       "            observer.disconnect();\n",
       "        }}\n",
       "}});\n",
       "\n",
       "// Listen for the removal of the full notebook cells\n",
       "var notebookContainer = gd.closest('#notebook-container');\n",
       "if (notebookContainer) {{\n",
       "    x.observe(notebookContainer, {childList: true});\n",
       "}}\n",
       "\n",
       "// Listen for the clearing of the current output cell\n",
       "var outputEl = gd.closest('.output');\n",
       "if (outputEl) {{\n",
       "    x.observe(outputEl, {childList: true});\n",
       "}}\n",
       "\n",
       "                        })                };                });            </script>        </div>"
      ]
     },
     "metadata": {},
     "output_type": "display_data"
    }
   ],
   "source": [
    "# simplified example\n",
    "\n",
    "qf = cf.QuantFig(df, title='GOOG 2022', name='GOOG',\n",
    "                up_color = 'green',\n",
    "                down_color = 'red')\n",
    "\n",
    "# add a 14-day moving average\n",
    "# qf.add_sma(periods = [20, 50], column = 'Close', color = ['blue', 'green'])\n",
    "\n",
    "qf.add_rsi(periods = 14, color = 'red')\n",
    "qf.add_volume()\n",
    "\n",
    "qf.iplot()"
   ]
  },
  {
   "cell_type": "markdown",
   "metadata": {},
   "source": [
    "You can also plot Candlestick Chart using bqplot. Bqplot is a python library developed by the Bloomberg developers team. But I'm going to skip that one here b/c it looks a lot like matplotlib IMO. "
   ]
  },
  {
   "cell_type": "markdown",
   "metadata": {},
   "source": [
    "## Conclusion\n",
    "Just to restate, this was all code I learned from this article:\n",
    "https://levelup.gitconnected.com/creating-candlestick-plots-for-stocks-50c35b1573aa\n",
    "So my hats off to the author!\n",
    "\n",
    "For me personally, I found cufflinks to be the easiest to use. That said, I liked how plotly gave me a range slider for free. But pound for pound, I'd have to go with cufflinks as the go-to for this use case (i.e., the ohlc or \"candlestick\" chart)!\n",
    "\n",
    "That's it for now! I will be continuing to grow my python skills over time so that I may better study the financial markets, which I am fascinated with. As of now, I am trying to learn the basics of python for finance, but over time I will be using these skills to do something useful like event studies or allowing me to be alerted when technical trends shift and offer profit opportunities."
   ]
  },
  {
   "cell_type": "code",
   "execution_count": null,
   "metadata": {},
   "outputs": [],
   "source": []
  }
 ],
 "metadata": {
  "kernelspec": {
   "display_name": "Python 3",
   "language": "python",
   "name": "python3"
  },
  "language_info": {
   "codemirror_mode": {
    "name": "ipython",
    "version": 3
   },
   "file_extension": ".py",
   "mimetype": "text/x-python",
   "name": "python",
   "nbconvert_exporter": "python",
   "pygments_lexer": "ipython3",
   "version": "3.8.5"
  }
 },
 "nbformat": 4,
 "nbformat_minor": 4
}
